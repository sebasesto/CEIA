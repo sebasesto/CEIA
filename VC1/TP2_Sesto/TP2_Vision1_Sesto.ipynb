{
 "cells": [
  {
   "cell_type": "code",
   "execution_count": 5,
   "id": "8ec9d4ce",
   "metadata": {},
   "outputs": [
    {
     "name": "stdout",
     "output_type": "stream",
     "text": [
      "Using matplotlib backend: Qt5Agg\n"
     ]
    }
   ],
   "source": [
    "%matplotlib inline\n",
    "# %matplotlib\n",
    "\n",
    "import numpy as np\n",
    "import cv2 as cv\n",
    "import matplotlib.pyplot as plt\n",
    "import time"
   ]
  },
  {
   "cell_type": "code",
   "execution_count": 6,
   "id": "c05df758",
   "metadata": {},
   "outputs": [
    {
     "data": {
      "text/plain": [
       "<function matplotlib.pyplot.show(*args, **kw)>"
      ]
     },
     "execution_count": 6,
     "metadata": {},
     "output_type": "execute_result"
    }
   ],
   "source": [
    "img = cv.imread('metalgrid.jpg')\n",
    "imGray = cv.cvtColor(img, cv.COLOR_BGR2GRAY)\n",
    "# Suavizado Gaussiano para reducir el ruido solo donde no hay bordes\n",
    "#===================================================================\n",
    "imGray = cv.GaussianBlur(imGray,(7,7),0)\n",
    "# Dado el gran ruido de la imagen fue necesario agrandar\n",
    "# el kernel a 7*7\n",
    "\n",
    "plt.imshow(imGray, cmap='gray')\n",
    "plt.show"
   ]
  },
  {
   "cell_type": "markdown",
   "id": "ba0f28c7",
   "metadata": {},
   "source": [
    "Aplicamos Sobel en x e y para luego calcular el módulo y las direcciones"
   ]
  },
  {
   "cell_type": "code",
   "execution_count": 7,
   "id": "7445fff1",
   "metadata": {},
   "outputs": [],
   "source": [
    "# Aplicamos Sobelx en 'float32' y luego convertimos de nuevo a 8-bit para evitar overflow\n",
    "sobelx_64 = cv.Sobel(imGray,cv.CV_32F,1,0,ksize=3)\n",
    "absx_64 = np.absolute(sobelx_64)\n",
    "sobelx_8u1 = absx_64/absx_64.max()*255\n",
    "sobelx_8u = np.uint8(sobelx_8u1)\n",
    "\n",
    "# De igual modo para Sobely\n",
    "sobely_64 = cv.Sobel(imGray,cv.CV_32F,0,1,ksize=3)\n",
    "absy_64 = np.absolute(sobely_64)\n",
    "sobely_8u1 = absy_64/absy_64.max()*255\n",
    "sobely_8u = np.uint8(sobely_8u1)\n",
    "\n",
    "# De los gradiente calculamos Magnitud y lo pasamos a 8-bit (Opcional)\n",
    "mag = np.hypot(sobelx_8u, sobely_8u)\n",
    "mag = mag/mag.max()*255\n",
    "mag = np.uint8(mag)\n",
    "\n",
    "# Encontramos la Dirección y la pasamos a grados\n",
    "theta = np.arctan2(sobely_64, sobelx_64)\n",
    "angle = np.rad2deg(theta)\n",
    "\n",
    "# Mostramos la imagen de magnitudes con un threshold determinado\n",
    "# mask = mag < 20\n",
    "# th_mag = mag\n",
    "# th_mag[mask] = 0\n",
    "# th_mag = np.uint8(th_mag)\n",
    "\n",
    "plt.imshow(mag, 'gray')\n",
    "plt.title(\"Magnitudes con threshold de 100\")\n",
    "plt.show()\n",
    "plt.figure()\n",
    "plt.imshow(angle, 'gray')\n",
    "plt.title(\"Orientaciones\")\n",
    "plt.show()"
   ]
  },
  {
   "cell_type": "code",
   "execution_count": 8,
   "id": "36c6e54e",
   "metadata": {},
   "outputs": [
    {
     "name": "stdout",
     "output_type": "stream",
     "text": [
      "No-máximos\n",
      "Histéresis\n",
      "Armado imagen bordes\n",
      "Terminó\n"
     ]
    }
   ],
   "source": [
    "# Supresión de no-máximos\n",
    "#========================\n",
    "\n",
    "# Encontramos los píxels vecinos (b,c) en la dirección (redondeadea) del gradiente y aplicamos la supresión de no-máximos\n",
    "M, N = mag.shape\n",
    "Non_max = np.zeros((M,N), dtype= np.uint8)\n",
    "\n",
    "for i in range(1,M-1):\n",
    "    for j in range(1,N-1):\n",
    "        # Guardo en b y c los elementos vecinos para despues hacer la supresión.\n",
    "       # Horizontal 0\n",
    "        #if (-22.5 <= angle[i,j] < 22.5) or (157.5 <= angle[i,j] < -157.5):\n",
    "        if (0 <= angle[i,j] < 22.5) or (157.5 <= angle[i,j] <= 180) or (-22.5 <= angle[i,j] < 0) or (-180 <= angle[i,j] < -157.5):\n",
    "            b = mag[i, j+1]\n",
    "            c = mag[i, j-1]\n",
    "        # Diagonal 45\n",
    "        elif (22.5 <= angle[i,j] < 67.5) or (-157.5 <= angle[i,j] < -112.5):\n",
    "            b = mag[i+1, j+1]\n",
    "            c = mag[i-1, j-1]\n",
    "        # Vertical 90\n",
    "        elif (67.5 <= angle[i,j] < 112.5) or (-112.5 <= angle[i,j] < -67.5):\n",
    "            b = mag[i+1, j]\n",
    "            c = mag[i-1, j]\n",
    "        # Diagonal 135\n",
    "        elif (112.5 <= angle[i,j] < 157.5) or (-67.5 <= angle[i,j] < -22.5):\n",
    "            b = mag[i+1, j-1]\n",
    "            c = mag[i-1, j+1]           \n",
    "            \n",
    "        # Supresión de no-máximos\n",
    "        if (mag[i,j] >= b) and (mag[i,j] >= c):\n",
    "            Non_max[i,j] = mag[i,j]\n",
    "        else:\n",
    "            Non_max[i,j] = 0\n",
    "\n",
    "print('No-máximos')\n",
    "\n",
    "# Umbralizado por histéresis\n",
    "#===========================\n",
    "UmbralAlto = 21\n",
    "UmbralBajo = 15\n",
    "\n",
    "M, N = Non_max.shape\n",
    "out = np.zeros((M,N), dtype= np.uint8)\n",
    "\n",
    "# Si la intensidad de un borde es mayor a 'UmbralAlto' es seguro un umbral, debajo de 'UmbralBajo' seguro no es\n",
    "strong_i, strong_j = np.where(Non_max >= UmbralAlto)\n",
    "zeros_i, zeros_j = np.where(Non_max < UmbralBajo)\n",
    "\n",
    "# Bordes débiles\n",
    "weak_i, weak_j = np.where((Non_max <= UmbralAlto) & (Non_max >= UmbralBajo))\n",
    "\n",
    "# Setear el mismo valor a todos los tipos de píxel\n",
    "out[strong_i, strong_j] = 255\n",
    "out[zeros_i, zeros_j ] = 0\n",
    "out[weak_i, weak_j] = 75\n",
    "\n",
    "print('Histéresis')\n",
    "\n",
    "# Armo la imagen de bordes\n",
    "#=========================\n",
    "M, N = out.shape\n",
    "for i in range(1, M-1):\n",
    "    for j in range(1, N-1):\n",
    "        if (out[i,j] == 75):\n",
    "            if 255 in [out[i+1, j-1],out[i+1, j],out[i+1, j+1],out[i, j-1],out[i, j+1],out[i-1, j-1],out[i-1, j],out[i-1, j+1]]:\n",
    "                out[i, j] = 255\n",
    "            else:\n",
    "                out[i, j] = 0\n",
    "\n",
    "print('Armado imagen bordes')\n",
    "\n",
    "# Muestro la imagen\n",
    "#==================\n",
    "cv.imshow(\"Canny\",out)\n",
    "print(\"Terminó\")"
   ]
  },
  {
   "cell_type": "code",
   "execution_count": 9,
   "id": "4daee955",
   "metadata": {},
   "outputs": [
    {
     "name": "stdout",
     "output_type": "stream",
     "text": [
      "Termino\n"
     ]
    }
   ],
   "source": [
    "# Colorear los bordes\n",
    "#====================\n",
    "M, N, l = img.shape\n",
    "img2= cv.imread('metalgrid.jpg')\n",
    "img2 = cv.cvtColor(img2, cv.COLOR_BGR2RGB)\n",
    "\n",
    "for i in range(1,M-1):\n",
    "    for j in range(1, N-1):\n",
    "        # Si, el angulo en angle[i,j] es X pintar el pixel ij en X color\n",
    "        if (out[i,j] == 255):\n",
    "            # Diagonal 45 - Rojo\n",
    "            if((22.5 <= angle[i,j] < 67.5) or (-157.5 <= angle[i,j] < -112.5)):\n",
    "                img2[i,j, :] = [255, 0, 0]                \n",
    "            # Diagonal 135 - Verde\n",
    "            elif (112.5 <= angle[i,j] < 157.5) or (-67.5 <= angle[i,j] < -22.5):\n",
    "                img2[i,j, :] = [0, 255, 0]\n",
    "            # Horizontal 0 - Azul\n",
    "            elif (67.5 <= angle[i,j] < 112.5) or (-112.5 <= angle[i,j] < -67.5):\n",
    "                img2[i,j, :] = [0, 0, 255]\n",
    "            # Vertical 90 - Amarillo\n",
    "            elif (0 <= angle[i,j] < 22.5) or (157.5 <= angle[i,j] <= 180) or (-22.5 <= angle[i,j] < 0) or (-180 <= angle[i,j] < -157.5):\n",
    "                img2[i,j, :] = [255, 255, 0]\n",
    "            \n",
    "plt.figure()\n",
    "plt.title(\"Bordes identificados\")\n",
    "plt.imshow(img2)\n",
    "print(\"Termino\")"
   ]
  },
  {
   "cell_type": "code",
   "execution_count": null,
   "id": "5d7a5c7d",
   "metadata": {},
   "outputs": [],
   "source": []
  }
 ],
 "metadata": {
  "kernelspec": {
   "display_name": "Python 3",
   "language": "python",
   "name": "python3"
  },
  "language_info": {
   "codemirror_mode": {
    "name": "ipython",
    "version": 3
   },
   "file_extension": ".py",
   "mimetype": "text/x-python",
   "name": "python",
   "nbconvert_exporter": "python",
   "pygments_lexer": "ipython3",
   "version": "3.7.10"
  }
 },
 "nbformat": 4,
 "nbformat_minor": 5
}
