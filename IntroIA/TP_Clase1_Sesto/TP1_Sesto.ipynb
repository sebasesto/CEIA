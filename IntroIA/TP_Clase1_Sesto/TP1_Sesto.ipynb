{
 "cells": [
  {
   "cell_type": "markdown",
   "id": "ee08cc60",
   "metadata": {},
   "source": [
    "## Ejercicios clase 1 "
   ]
  },
  {
   "cell_type": "code",
   "execution_count": 17,
   "id": "caa57f66",
   "metadata": {},
   "outputs": [],
   "source": [
    "import numpy as np"
   ]
  },
  {
   "cell_type": "markdown",
   "id": "86470ed6",
   "metadata": {},
   "source": [
    "### Ejercicio 1 "
   ]
  },
  {
   "cell_type": "code",
   "execution_count": 21,
   "id": "da62d864",
   "metadata": {},
   "outputs": [
    {
     "name": "stdout",
     "output_type": "stream",
     "text": [
      "Matriz random: \n",
      "[[0.79842065 0.1614764  0.15391292]\n",
      " [0.22604947 0.24110864 0.93581906]\n",
      " [0.97561966 0.14881256 0.98608671]]\n",
      "Norma l0:\n",
      "          [3 3 3]\n",
      "Norma l1:\n",
      "          [1.11380997 1.40297717 2.11051893]\n",
      "Norma l2:\n",
      "          [0.82899901 0.99246615 1.39511501]\n",
      "Norma infinito:\n",
      "          [0.79842065 0.93581906 0.98608671]\n"
     ]
    }
   ],
   "source": [
    "def vector_norm_l0(matrix):\n",
    "    mask = matrix > 0\n",
    "    return np.sum(mask, axis=1)\n",
    "\n",
    "def vector_norm_lx(matrix, p):\n",
    "    return np.sum(np.abs(matrix)**p, axis=1)**(1/p)\n",
    "\n",
    "def vector_norm_inf(m):\n",
    "    return np.max(m, axis=1)\n",
    "\n",
    "# Matriz random\n",
    "X = np.random.random((3,3))\n",
    "\n",
    "print(\"Matriz random: \")\n",
    "print(X)\n",
    "print(\"Norma l0:\")\n",
    "print(\"         \",vector_norm_l0(X))\n",
    "print(\"Norma l1:\")\n",
    "print(\"         \",vector_norm_lx(X, 1))\n",
    "print(\"Norma l2:\")\n",
    "print(\"         \",vector_norm_lx(X, 2))\n",
    "print(\"Norma infinito:\")\n",
    "print(\"         \",vector_norm_inf(X))"
   ]
  },
  {
   "cell_type": "markdown",
   "id": "9c7b834b",
   "metadata": {},
   "source": [
    "### Ejercicio 2 "
   ]
  },
  {
   "cell_type": "code",
   "execution_count": 22,
   "id": "6fddb274",
   "metadata": {},
   "outputs": [
    {
     "name": "stdout",
     "output_type": "stream",
     "text": [
      "X: [[0.39869553 0.90601511 0.26361902]\n",
      " [0.4197178  0.89817675 0.18871703]\n",
      " [0.11188725 0.71729296 0.55719546]]\n",
      "Indexes: [2 1 0]\n",
      "[[0.11188725 0.71729296 0.55719546]\n",
      " [0.4197178  0.89817675 0.18871703]\n",
      " [0.39869553 0.90601511 0.26361902]]\n"
     ]
    }
   ],
   "source": [
    "x = np.random.random((3,3))\n",
    "print(\"X: \" + str(x))\n",
    "\n",
    "p_norms = vector_norm_lx(X, 2)\n",
    "indexes = np.argsort(p_norms * -1)\n",
    "\n",
    "print(\"Indexes: \" + str(indexes))\n",
    "print(x[indexes])"
   ]
  },
  {
   "cell_type": "markdown",
   "id": "8d52817d",
   "metadata": {},
   "source": [
    "### Ejercicio 3"
   ]
  },
  {
   "cell_type": "code",
   "execution_count": 24,
   "id": "7a41bec7",
   "metadata": {},
   "outputs": [
    {
     "name": "stdout",
     "output_type": "stream",
     "text": [
      "Indice del usuario 15:  5\n",
      "Indice del usuario 10:  2\n",
      "Indice del usuario 6 (no existente):  -1\n",
      "Usuario del indice 0:  1\n",
      "Usuario del indice 4:  14\n"
     ]
    }
   ],
   "source": [
    "class index(object):\n",
    "    def __init__(self, usr_id):\n",
    "        unique_id = np.unique(usr_id)\n",
    "        id2idx = np.ones(unique_id.max() + 1, dtype=np.int64) * -1\n",
    "        id2idx[unique_id] = np.arange(unique_id.size)\n",
    "        self.id2idx = id2idx\n",
    "        self.idx2id = unique_id\n",
    "    \n",
    "    def get_user_idx(self, ids):\n",
    "        ids = self.id2idx[ids]\n",
    "        return ids\n",
    "    \n",
    "    def get_user_id(self, idxs):\n",
    "        return self.idx2id[idxs]\n",
    "\n",
    "idxManager = index([15, 12, 14, 10, 1, 2, 1])\n",
    "\n",
    "print(\"Indice del usuario 15: \",idxManager.get_user_idx(15))\n",
    "print(\"Indice del usuario 10: \",idxManager.get_user_idx(10))\n",
    "print(\"Indice del usuario 6 (no existente): \",idxManager.get_user_idx(6))\n",
    "\n",
    "print(\"Usuario del indice 0: \",idxManager.get_user_id(0))\n",
    "print(\"Usuario del indice 4: \",idxManager.get_user_id(4))"
   ]
  },
  {
   "cell_type": "markdown",
   "id": "21611854",
   "metadata": {},
   "source": [
    "### Ejercicio 4"
   ]
  },
  {
   "cell_type": "code",
   "execution_count": 26,
   "id": "145070f9",
   "metadata": {},
   "outputs": [
    {
     "name": "stdout",
     "output_type": "stream",
     "text": [
      "Precision: 0.5\n",
      "Recall: 0.5\n",
      "Accuracy: 0.4\n"
     ]
    }
   ],
   "source": [
    "truth = np.array([1,1,0,1,1,1,0,0,0,1])\n",
    "prediction = np.array([1,1,1,1,0,0,1,1,0,0])\n",
    "\n",
    "#Bitwise operations\n",
    "TP = np.sum((truth == True) & (prediction == True))\n",
    "TN = np.sum((truth == False) & (prediction == False))\n",
    "FN = np.sum((truth == True) & (prediction == False))\n",
    "FP = np.sum((truth == False) & (prediction == True))\n",
    "\n",
    "precision = TP / (TP + FP)\n",
    "recall = TP / (TP + FN)\n",
    "accuracy = (TP + TN) / (TP + TN + FP + FN)\n",
    "\n",
    "print(\"Precision: \" + str(precision))\n",
    "print(\"Recall: \" + str(recall))\n",
    "print(\"Accuracy: \" + str(accuracy))"
   ]
  },
  {
   "cell_type": "markdown",
   "id": "69dfe33c",
   "metadata": {},
   "source": [
    "### Ejercicio 5"
   ]
  },
  {
   "cell_type": "code",
   "execution_count": 30,
   "id": "09bfca71",
   "metadata": {},
   "outputs": [
    {
     "name": "stdout",
     "output_type": "stream",
     "text": [
      "Precision for id 0: [0.5]\n",
      "Precision for id 1: [1.]\n",
      "Precision for id 2: [0.]\n",
      "Precision for id 3: [0.5]\n",
      "Average query precision: 0.5\n"
     ]
    }
   ],
   "source": [
    "q_Id            = np.array([1, 1, 1, 1, 2, 2, 2, 3, 3, 3, 3, 3, 4, 4, 4, 4])\n",
    "truth_Relevance = np.array([True, False, True, False, True, True, True, False, False, False, False, False, True, False, False, True])\n",
    "\n",
    "q_precision = np.zeros((4,1))\n",
    "\n",
    "for i in range(4):\n",
    "    q_precision[i] = truth_Relevance[q_Id == (i+1)].mean()\n",
    "    print(\"Precision for id \" + str(i) + \": \" + str(q_precision[i]))\n",
    "\n",
    "print(\"Average query precision: \" + str(q_precision.mean()))"
   ]
  },
  {
   "cell_type": "markdown",
   "id": "e8a7419c",
   "metadata": {},
   "source": [
    "### Ejercicio 6"
   ]
  },
  {
   "cell_type": "code",
   "execution_count": 43,
   "id": "0a6e9581",
   "metadata": {},
   "outputs": [
    {
     "name": "stdout",
     "output_type": "stream",
     "text": [
      "[[[ 0 -2 -3]\n",
      "  [-3 -5 -6]\n",
      "  [-6 -8 -9]]\n",
      "\n",
      " [[-1 -1 -2]\n",
      "  [-4 -4 -5]\n",
      "  [-7 -7 -8]]]\n",
      "[[ 6.70820393  9.64365076 11.22497216]\n",
      " [ 8.1240384   8.1240384   9.64365076]]\n"
     ]
    }
   ],
   "source": [
    "X = np.array([[1,2,3],[4,5,6],[7,8,9]])\n",
    "C = np.array([[1,0,0],[0,1,1]])\n",
    "\n",
    "C_exp = C[:, np.newaxis]\n",
    "\n",
    "diff = C_exp - X\n",
    "\n",
    "distance = vector_norm_lx(diff, 2)\n",
    "\n",
    "print(diff)\n",
    "print(distance)\n"
   ]
  },
  {
   "cell_type": "markdown",
   "id": "fdf04e8e",
   "metadata": {},
   "source": [
    "### Ejercicio 7"
   ]
  },
  {
   "cell_type": "code",
   "execution_count": 44,
   "id": "52b767e5",
   "metadata": {},
   "outputs": [
    {
     "name": "stdout",
     "output_type": "stream",
     "text": [
      "[0 1 1]\n"
     ]
    }
   ],
   "source": [
    "min_distance = np.argmin(distance, axis=0)\n",
    "\n",
    "print(min_distance)"
   ]
  },
  {
   "cell_type": "markdown",
   "id": "c5d126a6",
   "metadata": {},
   "source": [
    "### Ejercicio 10"
   ]
  },
  {
   "cell_type": "code",
   "execution_count": null,
   "id": "84e3034b",
   "metadata": {},
   "outputs": [],
   "source": [
    "# dataset link: https://www.kaggle.com/rounakbanik/the-movies-dataset/data?select=ratings.csv\n",
    "import pickle\n",
    "import csv\n",
    "\n",
    "class MovieRatings:\n",
    "    \n",
    "    instance = None\n",
    "    data = None\n",
    "    \n",
    "    def __new__(cls, fname):\n",
    "        if MovieRatings.instance is None:\n",
    "            print(\"Creating new MovieRatings instance\")\n",
    "            MovieRatings.instance = super(MovieRatings, cls).__new__(cls)\n",
    "            return MovieRatings.instance\n",
    "        else:\n",
    "            return MovieRatings.instance\n",
    "        \n",
    "    def __init__(self, fname):\n",
    "        print(\"Initialising MovieRatings\")\n",
    "        \n",
    "        try:\n",
    "            with open(fname + '.pkl','rb') as pkl_file:\n",
    "                self.data = pickle.load(pkl_file)\n",
    "        except FileNotFoundError:\n",
    "            print(\"CSV file found. Building PKL file...\")\n",
    "            try:\n",
    "                with open(fname + '.csv') as csv_file:\n",
    "                    with open(fname + '.pkl','wb') as pkl_file:\n",
    "                        \n",
    "                        csv_reader = csv.reader(csv_file, delimiter=',')\n",
    "\n",
    "                        def generator(csv_reader):\n",
    "                            first_skipped = False\n",
    "                            for line in csv_reader:\n",
    "                                if not first_skipped:\n",
    "                                    first_skipped = True\n",
    "                                    continue\n",
    "                                yield(line[0],line[1],line[2],line[3])\n",
    "                        \n",
    "                        gen = generator(csv_reader)     \n",
    "                        \n",
    "                        structure = [('userId', np.int32),\n",
    "                                    ('movieId', np.int32),\n",
    "                                    ('rating', np.float32),\n",
    "                                    ('timestamp', np.int64)]\n",
    "                        \n",
    "                        array = np.fromiter(gen, dtype=structure)\n",
    "                        \n",
    "                        pickle.dump(array, pkl_file, protocol=pickle.HIGHEST_PROTOCOL)\n",
    "                        \n",
    "                    pkl_file.close()\n",
    "                \n",
    "                with open(fname + '.pkl','rb') as pkl_file:\n",
    "                    self.data = pickle.load(pkl_file)\n",
    "            except FileNotFoundError:\n",
    "                print(\"No PKL or CSV named \" + fname + \" was found.\")\n",
    "            finally:\n",
    "                csv_file.close()\n",
    "        finally:\n",
    "            pkl_file.close()\n",
    "\n",
    "obj = MovieRatings('ratings')\n",
    "print(obj.data[1])\n",
    "obj2 = MovieRatings('ratings')"
   ]
  }
 ],
 "metadata": {
  "kernelspec": {
   "display_name": "Python 3",
   "language": "python",
   "name": "python3"
  },
  "language_info": {
   "codemirror_mode": {
    "name": "ipython",
    "version": 3
   },
   "file_extension": ".py",
   "mimetype": "text/x-python",
   "name": "python",
   "nbconvert_exporter": "python",
   "pygments_lexer": "ipython3",
   "version": "3.7.10"
  }
 },
 "nbformat": 4,
 "nbformat_minor": 5
}
