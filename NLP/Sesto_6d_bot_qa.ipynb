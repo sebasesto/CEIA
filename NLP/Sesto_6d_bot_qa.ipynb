{
  "nbformat": 4,
  "nbformat_minor": 0,
  "metadata": {
    "colab": {
      "name": "Sesto_6d - bot_qa.ipynb",
      "provenance": [],
      "collapsed_sections": [],
      "include_colab_link": true
    },
    "kernelspec": {
      "name": "python3",
      "display_name": "Python 3"
    },
    "language_info": {
      "name": "python"
    },
    "accelerator": "GPU"
  },
  "cells": [
    {
      "cell_type": "markdown",
      "metadata": {
        "id": "view-in-github",
        "colab_type": "text"
      },
      "source": [
        "<a href=\"https://colab.research.google.com/github/sebasesto/CEIA/blob/master/NLP/Sesto_6d_bot_qa.ipynb\" target=\"_parent\"><img src=\"https://colab.research.google.com/assets/colab-badge.svg\" alt=\"Open In Colab\"/></a>"
      ]
    },
    {
      "cell_type": "markdown",
      "metadata": {
        "id": "pfa39F4lsLf3"
      },
      "source": [
        "<a href=\"https://www.inove.com.ar\"><img src=\"https://github.com/hernancontigiani/ceia_memorias_especializacion/raw/master/Figures/logoFIUBA.jpg\" width=\"500\" align=\"center\"></a>\n",
        "\n",
        "\n",
        "# Procesamiento de lenguaje natural\n",
        "## LSTM Bot QA"
      ]
    },
    {
      "cell_type": "markdown",
      "metadata": {
        "id": "ZqO0PRcFsPTe"
      },
      "source": [
        "### Datos\n",
        "El objecto es utilizar datos disponibles de convai de conversaciones en ingleś. Se construirá un BOT para responder a preguntas del usuario (QA).\\\n",
        "[LINK](http://convai.io/data/)"
      ]
    },
    {
      "cell_type": "code",
      "metadata": {
        "id": "cq3YXak9sGHd"
      },
      "source": [
        "import re\n",
        "\n",
        "import numpy as np\n",
        "import pandas as pd\n",
        "\n",
        "import keras\n",
        "from keras.preprocessing.text import one_hot\n",
        "from keras.preprocessing.sequence import pad_sequences\n",
        "from keras.models import Sequential\n",
        "from keras.layers.core import Activation, Dropout, Dense\n",
        "from keras.layers import Flatten, LSTM, SimpleRNN\n",
        "from keras.models import Model\n",
        "from keras.layers.embeddings import Embedding\n",
        "from sklearn.model_selection import train_test_split\n",
        "from keras.preprocessing.text import Tokenizer\n",
        "from keras.layers import Input\n",
        "from keras.layers.merge import Concatenate\n",
        "from keras.layers import Bidirectional"
      ],
      "execution_count": 1,
      "outputs": []
    },
    {
      "cell_type": "code",
      "metadata": {
        "id": "RHNkUaPp6aYq",
        "colab": {
          "base_uri": "https://localhost:8080/"
        },
        "outputId": "1715d503-dbe8-4e4f-dfab-19c7251635de"
      },
      "source": [
        "# Descargar la carpeta de dataset\n",
        "import os\n",
        "import gdown\n",
        "if os.access('data_volunteers.json', os.F_OK) is False:\n",
        "    url = 'https://drive.google.com/uc?id=1QPYxMTBSGNmbyGhknznuO3YWLBOJnhUQ&export=download'\n",
        "    output = 'data_volunteers.json'\n",
        "    gdown.download(url, output, quiet=False)\n",
        "else:\n",
        "    print(\"El dataset ya se encuentra descargado\")"
      ],
      "execution_count": 2,
      "outputs": [
        {
          "output_type": "stream",
          "name": "stderr",
          "text": [
            "Downloading...\n",
            "From: https://drive.google.com/uc?id=1QPYxMTBSGNmbyGhknznuO3YWLBOJnhUQ&export=download\n",
            "To: /content/data_volunteers.json\n",
            "100%|██████████| 2.58M/2.58M [00:00<00:00, 116MB/s]\n"
          ]
        }
      ]
    },
    {
      "cell_type": "code",
      "metadata": {
        "id": "WZy1-wgG-Rp7"
      },
      "source": [
        "# dataset_file\n",
        "import json\n",
        "\n",
        "text_file = \"data_volunteers.json\"\n",
        "with open(text_file) as f:\n",
        "    data = json.load(f)"
      ],
      "execution_count": 3,
      "outputs": []
    },
    {
      "cell_type": "code",
      "metadata": {
        "id": "ue5qd54S-eew",
        "colab": {
          "base_uri": "https://localhost:8080/"
        },
        "outputId": "2d6c45ab-518c-43d0-dd6c-af7382b77d92"
      },
      "source": [
        "# Observar los campos disponibles en cada linea del dataset\n",
        "data[0].keys()"
      ],
      "execution_count": 4,
      "outputs": [
        {
          "output_type": "execute_result",
          "data": {
            "text/plain": [
              "dict_keys(['dialog', 'start_time', 'end_time', 'bot_profile', 'user_profile', 'eval_score', 'profile_match', 'participant1_id', 'participant2_id'])"
            ]
          },
          "metadata": {},
          "execution_count": 4
        }
      ]
    },
    {
      "cell_type": "code",
      "metadata": {
        "id": "jHBRAXPl-3dz",
        "colab": {
          "base_uri": "https://localhost:8080/"
        },
        "outputId": "9ac75b6d-aecf-4fe9-9d88-4505b18a03dd"
      },
      "source": [
        "chat_in = []\n",
        "chat_out = []\n",
        "\n",
        "input_sentences = []\n",
        "output_sentences = []\n",
        "output_sentences_inputs = []\n",
        "max_len = 30\n",
        "\n",
        "def clean_text(txt):\n",
        "    txt = txt.lower()    \n",
        "    txt.replace(\"\\'d\", \" had\")\n",
        "    txt.replace(\"\\'s\", \" is\")\n",
        "    txt.replace(\"\\'m\", \" am\")\n",
        "    txt.replace(\"don't\", \"do not\")\n",
        "    txt = re.sub(r'\\W+', ' ', txt)\n",
        "    \n",
        "    return txt\n",
        "\n",
        "for line in data:\n",
        "    for i in range(len(line['dialog'])-1):\n",
        "        chat_in = clean_text(line['dialog'][i]['text'])\n",
        "        chat_out = clean_text(line['dialog'][i+1]['text'])\n",
        "\n",
        "        if len(chat_in) >= max_len or len(chat_out) >= max_len:\n",
        "            continue\n",
        "\n",
        "        input_sentence, output = chat_in, chat_out\n",
        "        \n",
        "        # output sentence (decoder_output) tiene <eos>\n",
        "        output_sentence = output + ' <eos>'\n",
        "        # output sentence input (decoder_input) tiene <sos>\n",
        "        output_sentence_input = '<sos> ' + output\n",
        "\n",
        "        input_sentences.append(input_sentence)\n",
        "        output_sentences.append(output_sentence)\n",
        "        output_sentences_inputs.append(output_sentence_input)\n",
        "\n",
        "print(\"Cantidad de rows utilizadas:\", len(input_sentences))"
      ],
      "execution_count": 5,
      "outputs": [
        {
          "output_type": "stream",
          "name": "stdout",
          "text": [
            "Cantidad de rows utilizadas: 6033\n"
          ]
        }
      ]
    },
    {
      "cell_type": "code",
      "metadata": {
        "id": "07L1qj8pC_l6",
        "colab": {
          "base_uri": "https://localhost:8080/"
        },
        "outputId": "f053a746-8509-411e-a118-606a7b85ff75"
      },
      "source": [
        "input_sentences[1], output_sentences[1], output_sentences_inputs[1]"
      ],
      "execution_count": 6,
      "outputs": [
        {
          "output_type": "execute_result",
          "data": {
            "text/plain": [
              "('hi how are you ', 'not bad and you  <eos>', '<sos> not bad and you ')"
            ]
          },
          "metadata": {},
          "execution_count": 6
        }
      ]
    },
    {
      "cell_type": "markdown",
      "metadata": {
        "id": "8P-ynUNP5xp6"
      },
      "source": [
        "### 2 - Preprocesamiento\n",
        "Realizar el preprocesamiento necesario para obtener:\n",
        "- word2idx_inputs, max_input_len\n",
        "- word2idx_outputs, max_out_len, num_words_output\n",
        "- encoder_input_sequences, decoder_output_sequences, decoder_targets"
      ]
    },
    {
      "cell_type": "code",
      "metadata": {
        "id": "0lEa6V4roSjV"
      },
      "source": [
        "# Definir el tamaño máximo del vocabulario\n",
        "MAX_VOCAB_SIZE = 8000"
      ],
      "execution_count": 7,
      "outputs": []
    },
    {
      "cell_type": "code",
      "metadata": {
        "colab": {
          "base_uri": "https://localhost:8080/"
        },
        "id": "Yd6kquDnoSmJ",
        "outputId": "c3bb4bf9-89b9-471f-c0a6-22c886ef2258"
      },
      "source": [
        "# Tokenizar las palabras con el Tokenizer de Keras\n",
        "# Definir una máxima cantidad de palabras a utilizar:\n",
        "# - num_words --> the maximum number of words to keep, based on word frequency.\n",
        "# - Only the most common num_words-1 words will be kept.\n",
        "from keras.preprocessing.text import Tokenizer\n",
        "input_tokenizer = Tokenizer(num_words=MAX_VOCAB_SIZE)\n",
        "input_tokenizer.fit_on_texts(input_sentences)\n",
        "input_integer_seq = input_tokenizer.texts_to_sequences(input_sentences)\n",
        "\n",
        "word2idx_inputs = input_tokenizer.word_index\n",
        "print(\"Palabras en el vocabulario:\", len(word2idx_inputs))\n",
        "\n",
        "max_input_len = max(len(sen) for sen in input_integer_seq)\n",
        "print(\"Sentencia de entrada más larga:\", max_input_len)"
      ],
      "execution_count": 8,
      "outputs": [
        {
          "output_type": "stream",
          "name": "stdout",
          "text": [
            "Palabras en el vocabulario: 1799\n",
            "Sentencia de entrada más larga: 9\n"
          ]
        }
      ]
    },
    {
      "cell_type": "code",
      "metadata": {
        "colab": {
          "base_uri": "https://localhost:8080/"
        },
        "id": "Jzl5RZ3soSo_",
        "outputId": "cfdd3d2b-0996-4642-e5aa-709eb2f8d0fe"
      },
      "source": [
        "# A los filtros de símbolos del Tokenizer agregamos el \"¿\",\n",
        "# sacamos los \"<>\" para que no afectar nuestros tokens\n",
        "output_tokenizer = Tokenizer(num_words=MAX_VOCAB_SIZE, filters='!\"#$%&()*+,-./:;=¿?@[\\\\]^_`{|}~\\t\\n')\n",
        "output_tokenizer.fit_on_texts([\"<sos>\", \"<eos>\"] + output_sentences)\n",
        "output_integer_seq = output_tokenizer.texts_to_sequences(output_sentences)\n",
        "output_input_integer_seq = output_tokenizer.texts_to_sequences(output_sentences_inputs)\n",
        "\n",
        "word2idx_outputs = output_tokenizer.word_index\n",
        "print(\"Palabras en el vocabulario:\", len(word2idx_outputs))\n",
        "\n",
        "num_words_output = min(len(word2idx_outputs) + 1, MAX_VOCAB_SIZE) # Se suma 1 por el primer <sos>\n",
        "max_out_len = max(len(sen) for sen in output_integer_seq)\n",
        "print(\"Sentencia de salida más larga:\", max_out_len)"
      ],
      "execution_count": 9,
      "outputs": [
        {
          "output_type": "stream",
          "name": "stdout",
          "text": [
            "Palabras en el vocabulario: 1806\n",
            "Sentencia de salida más larga: 10\n"
          ]
        }
      ]
    },
    {
      "cell_type": "code",
      "metadata": {
        "id": "IP7uP7a-oSrm"
      },
      "source": [
        "max_input_len = 9\n",
        "max_out_len = 10"
      ],
      "execution_count": 10,
      "outputs": []
    },
    {
      "cell_type": "code",
      "metadata": {
        "id": "pTFDfp4toSuT",
        "colab": {
          "base_uri": "https://localhost:8080/"
        },
        "outputId": "1d46dc16-1ebf-4ffd-d540-24ec1ae0f95c"
      },
      "source": [
        "print(\"Cantidad de rows del dataset:\", len(input_integer_seq))\n",
        "\n",
        "encoder_input_sequences = pad_sequences(input_integer_seq, maxlen=max_input_len)\n",
        "print(\"encoder_input_sequences shape:\", encoder_input_sequences.shape)\n",
        "\n",
        "decoder_input_sequences = pad_sequences(output_input_integer_seq, maxlen=max_out_len, padding='post')\n",
        "print(\"decoder_input_sequences shape:\", decoder_input_sequences.shape)"
      ],
      "execution_count": 11,
      "outputs": [
        {
          "output_type": "stream",
          "name": "stdout",
          "text": [
            "Cantidad de rows del dataset: 6033\n",
            "encoder_input_sequences shape: (6033, 9)\n",
            "decoder_input_sequences shape: (6033, 10)\n"
          ]
        }
      ]
    },
    {
      "cell_type": "code",
      "metadata": {
        "colab": {
          "base_uri": "https://localhost:8080/"
        },
        "id": "TKI8Pyz2qJFB",
        "outputId": "01b0befe-aad0-4b4d-f4b1-bf55f088e586"
      },
      "source": [
        "from keras.utils.np_utils import to_categorical\n",
        "decoder_output_sequences = pad_sequences(output_integer_seq, maxlen=max_out_len, padding='post')\n",
        "decoder_targets = to_categorical(decoder_output_sequences, num_classes=num_words_output)\n",
        "decoder_targets.shape"
      ],
      "execution_count": 12,
      "outputs": [
        {
          "output_type": "execute_result",
          "data": {
            "text/plain": [
              "(6033, 10, 1807)"
            ]
          },
          "metadata": {},
          "execution_count": 12
        }
      ]
    },
    {
      "cell_type": "markdown",
      "metadata": {
        "id": "_CJIsLBbj6rg"
      },
      "source": [
        "### 3 - Preparar los embeddings\n",
        "Utilizar los embeddings de Glove o FastText para transformar los tokens de entrada en vectores"
      ]
    },
    {
      "cell_type": "code",
      "metadata": {
        "colab": {
          "base_uri": "https://localhost:8080/"
        },
        "id": "Jf_CxxEeqfd_",
        "outputId": "728d13f2-52b0-401d-f4b2-58a1b7bde5c0"
      },
      "source": [
        "# Descargar los embeddings desde un gogle drive (es la forma más rápida)\n",
        "# NOTA: No hay garantía de que estos links perduren, en caso de que no estén\n",
        "# disponibles descargar de la página oficial como se explica en el siguiente bloque\n",
        "import os\n",
        "import gdown\n",
        "if os.access('gloveembedding.pkl', os.F_OK) is False:\n",
        "    url = 'https://drive.google.com/uc?id=1wlDBOrxPq2-3htQ6ryVo7K1XnzLcfh4r&export=download'\n",
        "    output = 'gloveembedding.pkl'\n",
        "    gdown.download(url, output, quiet=False)\n",
        "else:\n",
        "    print(\"Los embeddings gloveembedding.pkl ya están descargados\")"
      ],
      "execution_count": 13,
      "outputs": [
        {
          "output_type": "stream",
          "name": "stderr",
          "text": [
            "Downloading...\n",
            "From: https://drive.google.com/uc?id=1wlDBOrxPq2-3htQ6ryVo7K1XnzLcfh4r&export=download\n",
            "To: /content/gloveembedding.pkl\n",
            "100%|██████████| 525M/525M [00:02<00:00, 182MB/s]\n"
          ]
        }
      ]
    },
    {
      "cell_type": "code",
      "metadata": {
        "id": "V-3oLJ0MqfhD"
      },
      "source": [
        "import logging\n",
        "import os\n",
        "from pathlib import Path\n",
        "from io import StringIO\n",
        "import pickle\n",
        "\n",
        "class WordsEmbeddings(object):\n",
        "    logger = logging.getLogger(__name__)\n",
        "\n",
        "    def __init__(self):\n",
        "        # load the embeddings\n",
        "        words_embedding_pkl = Path(self.PKL_PATH)\n",
        "        if not words_embedding_pkl.is_file():\n",
        "            words_embedding_txt = Path(self.WORD_TO_VEC_MODEL_TXT_PATH)\n",
        "            assert words_embedding_txt.is_file(), 'Words embedding not available'\n",
        "            embeddings = self.convert_model_to_pickle()\n",
        "        else:\n",
        "            embeddings = self.load_model_from_pickle()\n",
        "        self.embeddings = embeddings\n",
        "        # build the vocabulary hashmap\n",
        "        index = np.arange(self.embeddings.shape[0])\n",
        "        # Dicctionarios para traducir de embedding a IDX de la palabra\n",
        "        self.word2idx = dict(zip(self.embeddings['word'], index))\n",
        "        self.idx2word = dict(zip(index, self.embeddings['word']))\n",
        "\n",
        "    def get_words_embeddings(self, words):\n",
        "        words_idxs = self.words2idxs(words)\n",
        "        return self.embeddings[words_idxs]['embedding']\n",
        "\n",
        "    def words2idxs(self, words):\n",
        "        return np.array([self.word2idx.get(word, -1) for word in words])\n",
        "\n",
        "    def idxs2words(self, idxs):\n",
        "        return np.array([self.idx2word.get(idx, '-1') for idx in idxs])\n",
        "\n",
        "    def load_model_from_pickle(self):\n",
        "        self.logger.debug(\n",
        "            'loading words embeddings from pickle {}'.format(\n",
        "                self.PKL_PATH\n",
        "            )\n",
        "        )\n",
        "        max_bytes = 2**28 - 1 # 256MB\n",
        "        bytes_in = bytearray(0)\n",
        "        input_size = os.path.getsize(self.PKL_PATH)\n",
        "        with open(self.PKL_PATH, 'rb') as f_in:\n",
        "            for _ in range(0, input_size, max_bytes):\n",
        "                bytes_in += f_in.read(max_bytes)\n",
        "        embeddings = pickle.loads(bytes_in)\n",
        "        self.logger.debug('words embeddings loaded')\n",
        "        return embeddings\n",
        "\n",
        "    def convert_model_to_pickle(self):\n",
        "        # create a numpy strctured array:\n",
        "        # word     embedding\n",
        "        # U50      np.float32[]\n",
        "        # word_1   a, b, c\n",
        "        # word_2   d, e, f\n",
        "        # ...\n",
        "        # word_n   g, h, i\n",
        "        self.logger.debug(\n",
        "            'converting and loading words embeddings from text file {}'.format(\n",
        "                self.WORD_TO_VEC_MODEL_TXT_PATH\n",
        "            )\n",
        "        )\n",
        "        structure = [('word', np.dtype('U' + str(self.WORD_MAX_SIZE))),\n",
        "                     ('embedding', np.float32, (self.N_FEATURES,))]\n",
        "        structure = np.dtype(structure)\n",
        "        # load numpy array from disk using a generator\n",
        "        with open(self.WORD_TO_VEC_MODEL_TXT_PATH, encoding=\"utf8\") as words_embeddings_txt:\n",
        "            embeddings_gen = (\n",
        "                (line.split()[0], line.split()[1:]) for line in words_embeddings_txt\n",
        "                if len(line.split()[1:]) == self.N_FEATURES\n",
        "            )\n",
        "            embeddings = np.fromiter(embeddings_gen, structure)\n",
        "        # add a null embedding\n",
        "        null_embedding = np.array(\n",
        "            [('null_embedding', np.zeros((self.N_FEATURES,), dtype=np.float32))],\n",
        "            dtype=structure\n",
        "        )\n",
        "        embeddings = np.concatenate([embeddings, null_embedding])\n",
        "        # dump numpy array to disk using pickle\n",
        "        max_bytes = 2**28 - 1 # # 256MB\n",
        "        bytes_out = pickle.dumps(embeddings, protocol=pickle.HIGHEST_PROTOCOL)\n",
        "        with open(self.PKL_PATH, 'wb') as f_out:\n",
        "            for idx in range(0, len(bytes_out), max_bytes):\n",
        "                f_out.write(bytes_out[idx:idx+max_bytes])\n",
        "        self.logger.debug('words embeddings loaded')\n",
        "        return embeddings\n",
        "\n",
        "\n",
        "class GloveEmbeddings(WordsEmbeddings):\n",
        "    WORD_TO_VEC_MODEL_TXT_PATH = 'glove.twitter.27B.50d.txt'\n",
        "    PKL_PATH = 'gloveembedding.pkl'\n",
        "    N_FEATURES = 50\n",
        "    WORD_MAX_SIZE = 60\n",
        "\n",
        "class FasttextEmbeddings(WordsEmbeddings):\n",
        "    WORD_TO_VEC_MODEL_TXT_PATH = 'cc.en.300.vec'\n",
        "    PKL_PATH = 'fasttext.pkl'\n",
        "    N_FEATURES = 300\n",
        "    WORD_MAX_SIZE = 60"
      ],
      "execution_count": 14,
      "outputs": []
    },
    {
      "cell_type": "code",
      "metadata": {
        "id": "ZccM50Gkq3An"
      },
      "source": [
        "# Por una cuestion de RAM se utilizará los embeddings de Glove de dimension 50\n",
        "model_embeddings = GloveEmbeddings()"
      ],
      "execution_count": 15,
      "outputs": []
    },
    {
      "cell_type": "code",
      "metadata": {
        "colab": {
          "base_uri": "https://localhost:8080/"
        },
        "id": "TKrRcL2bqfkB",
        "outputId": "71e1efcd-7158-40a6-f2c8-8cdd5cd37f51"
      },
      "source": [
        "# Crear la Embedding matrix de las secuencias\n",
        "# en ingles\n",
        "\n",
        "print('preparing embedding matrix...')\n",
        "embed_dim = model_embeddings.N_FEATURES\n",
        "words_not_found = []\n",
        "\n",
        "# word_index provieen del tokenizer\n",
        "\n",
        "nb_words = min(MAX_VOCAB_SIZE, len(word2idx_inputs)) # vocab_size\n",
        "embedding_matrix = np.zeros((nb_words, embed_dim))\n",
        "for word, i in word2idx_inputs.items():\n",
        "    if i >= nb_words:\n",
        "        continue\n",
        "    embedding_vector = model_embeddings.get_words_embeddings(word)[0]\n",
        "    if (embedding_vector is not None) and len(embedding_vector) > 0:\n",
        "        \n",
        "        embedding_matrix[i] = embedding_vector\n",
        "    else:\n",
        "        # words not found in embedding index will be all-zeros.\n",
        "        words_not_found.append(word)\n",
        "\n",
        "print('number of null word embeddings:', np.sum(np.sum(embedding_matrix, axis=1) == 0))"
      ],
      "execution_count": 16,
      "outputs": [
        {
          "output_type": "stream",
          "name": "stdout",
          "text": [
            "preparing embedding matrix...\n",
            "number of null word embeddings: 38\n"
          ]
        }
      ]
    },
    {
      "cell_type": "code",
      "metadata": {
        "colab": {
          "base_uri": "https://localhost:8080/"
        },
        "id": "CgRAjHvqqfmg",
        "outputId": "ee82166c-69ba-449d-d446-b2595c85e203"
      },
      "source": [
        "# Dimensión de los embeddings de la secuencia en ingles\n",
        "embedding_matrix.shape"
      ],
      "execution_count": 17,
      "outputs": [
        {
          "output_type": "execute_result",
          "data": {
            "text/plain": [
              "(1799, 50)"
            ]
          },
          "metadata": {},
          "execution_count": 17
        }
      ]
    },
    {
      "cell_type": "markdown",
      "metadata": {
        "id": "3vKbhjtIwPgM"
      },
      "source": [
        "### 4 - Entrenar el modelo\n",
        "Entrenar un modelo basado en el esquema encoder-decoder utilizando los datos generados en los puntos anteriores. Utilce como referencias los ejemplos vistos en clase."
      ]
    },
    {
      "cell_type": "code",
      "metadata": {
        "colab": {
          "base_uri": "https://localhost:8080/"
        },
        "id": "MK84Zg8uqgtp",
        "outputId": "1c43c7b5-68bd-4d7c-85c8-2c94949634f5"
      },
      "source": [
        "from keras.models import Model\n",
        "from keras.layers import Input, LSTM, Dense\n",
        "\n",
        "n_units = 128\n",
        "\n",
        "# define training encoder\n",
        "encoder_inputs = Input(shape=(max_input_len))\n",
        "\n",
        "#encoder_embedding_layer = Embedding(num_words, EMBEDDING_SIZE, weights=[embedding_matrix], input_length=max_input_len)\n",
        "\n",
        "encoder_embedding_layer = Embedding(\n",
        "          input_dim=nb_words,  # definido en el Tokenizador\n",
        "          output_dim=embed_dim,  # dimensión de los embeddings utilizados\n",
        "          input_length=max_input_len, # máxima sentencia de entrada\n",
        "          weights=[embedding_matrix],  # matrix de embeddings\n",
        "          trainable=False)      # marcar como layer no entrenable\n",
        "\n",
        "encoder_inputs_x = encoder_embedding_layer(encoder_inputs)\n",
        "\n",
        "encoder = LSTM(n_units, return_state=True)\n",
        "encoder_outputs, state_h, state_c = encoder(encoder_inputs_x)\n",
        "encoder_states = [state_h, state_c]\n",
        "\n",
        "# define training decoder\n",
        "decoder_inputs = Input(shape=(max_out_len))\n",
        "decoder_embedding_layer = Embedding(input_dim=num_words_output, output_dim=n_units, input_length=max_out_len)\n",
        "decoder_inputs_x = decoder_embedding_layer(decoder_inputs)\n",
        "\n",
        "decoder_lstm = LSTM(n_units, return_sequences=True, return_state=True)\n",
        "decoder_outputs, _, _ = decoder_lstm(decoder_inputs_x, initial_state=encoder_states)\n",
        "\n",
        "# Dense\n",
        "decoder_dense = Dense(num_words_output, activation='softmax')\n",
        "decoder_outputs = decoder_dense(decoder_outputs)\n",
        "model = Model([encoder_inputs, decoder_inputs], decoder_outputs)\n",
        "\n",
        "model.compile(loss='categorical_crossentropy', optimizer=\"Adam\", metrics=['accuracy'])\n",
        "model.summary()"
      ],
      "execution_count": 18,
      "outputs": [
        {
          "output_type": "stream",
          "name": "stdout",
          "text": [
            "Model: \"model\"\n",
            "__________________________________________________________________________________________________\n",
            "Layer (type)                    Output Shape         Param #     Connected to                     \n",
            "==================================================================================================\n",
            "input_1 (InputLayer)            [(None, 9)]          0                                            \n",
            "__________________________________________________________________________________________________\n",
            "input_2 (InputLayer)            [(None, 10)]         0                                            \n",
            "__________________________________________________________________________________________________\n",
            "embedding (Embedding)           (None, 9, 50)        89950       input_1[0][0]                    \n",
            "__________________________________________________________________________________________________\n",
            "embedding_1 (Embedding)         (None, 10, 128)      231296      input_2[0][0]                    \n",
            "__________________________________________________________________________________________________\n",
            "lstm (LSTM)                     [(None, 128), (None, 91648       embedding[0][0]                  \n",
            "__________________________________________________________________________________________________\n",
            "lstm_1 (LSTM)                   [(None, 10, 128), (N 131584      embedding_1[0][0]                \n",
            "                                                                 lstm[0][1]                       \n",
            "                                                                 lstm[0][2]                       \n",
            "__________________________________________________________________________________________________\n",
            "dense (Dense)                   (None, 10, 1807)     233103      lstm_1[0][0]                     \n",
            "==================================================================================================\n",
            "Total params: 777,581\n",
            "Trainable params: 687,631\n",
            "Non-trainable params: 89,950\n",
            "__________________________________________________________________________________________________\n"
          ]
        }
      ]
    },
    {
      "cell_type": "code",
      "metadata": {
        "colab": {
          "base_uri": "https://localhost:8080/",
          "height": 388
        },
        "id": "iGRjx_H-qgwl",
        "outputId": "6197f035-0aff-4644-dc62-2886c368858b"
      },
      "source": [
        "# Modelo completo (encoder+decoder) para poder entrenar\n",
        "from keras.utils.vis_utils import plot_model\n",
        "plot_model(model, to_file='model_plot.png', show_shapes=True, show_layer_names=True)"
      ],
      "execution_count": 19,
      "outputs": [
        {
          "output_type": "execute_result",
          "data": {
            "image/png": "[encoded data removed]",
            "text/plain": [
              "<IPython.core.display.Image object>"
            ]
          },
          "metadata": {},
          "execution_count": 19
        }
      ]
    },
    {
      "cell_type": "code",
      "metadata": {
        "colab": {
          "base_uri": "https://localhost:8080/",
          "height": 312
        },
        "id": "XVQjMDj3srPS",
        "outputId": "916ef323-ebcc-48fd-c0e1-77b2d0898a8f"
      },
      "source": [
        "# Modelo solo encoder\n",
        "\n",
        "# define inference encoder\n",
        "encoder_model = Model(encoder_inputs, encoder_states)\n",
        "\n",
        "from keras.utils.vis_utils import plot_model\n",
        "plot_model(encoder_model, to_file='encoder_plot.png', show_shapes=True, show_layer_names=True)"
      ],
      "execution_count": 20,
      "outputs": [
        {
          "output_type": "execute_result",
          "data": {
            "image/png": "[encoded data removed]",
            "text/plain": [
              "<IPython.core.display.Image object>"
            ]
          },
          "metadata": {},
          "execution_count": 20
        }
      ]
    },
    {
      "cell_type": "code",
      "metadata": {
        "colab": {
          "base_uri": "https://localhost:8080/",
          "height": 270
        },
        "id": "bv70NCrusrST",
        "outputId": "adbf0bb8-1f98-4117-e183-06dd73454b2d"
      },
      "source": [
        "# Modelo solo decoder (para realizar inferencia)\n",
        "from keras.utils.vis_utils import plot_model\n",
        "\n",
        "# define inference decoder\n",
        "decoder_state_input_h = Input(shape=(n_units,))\n",
        "decoder_state_input_c = Input(shape=(n_units,))\n",
        "decoder_states_inputs = [decoder_state_input_h, decoder_state_input_c]\n",
        "\n",
        "# EN cada predicción habrá una sola palabra de entrada al decoder,\n",
        "# que es la realimentación de la palabra anterior\n",
        "# por lo que hay que modificar el input shup de la layer de Embedding\n",
        "decoder_inputs_single = Input(shape=(1,))\n",
        "decoder_inputs_single_x = decoder_embedding_layer(decoder_inputs_single)\n",
        "\n",
        "decoder_outputs, state_h, state_c = decoder_lstm(decoder_inputs_single_x, initial_state=decoder_states_inputs)\n",
        "decoder_states = [state_h, state_c]\n",
        "decoder_outputs = decoder_dense(decoder_outputs)\n",
        "decoder_model = Model([decoder_inputs_single] + decoder_states_inputs, [decoder_outputs] + decoder_states)\n",
        "\n",
        "plot_model(decoder_model, to_file='decoder_plot.png', show_shapes=True, show_layer_names=True)"
      ],
      "execution_count": 21,
      "outputs": [
        {
          "output_type": "execute_result",
          "data": {
            "image/png": "[encoded data removed]",
            "text/plain": [
              "<IPython.core.display.Image object>"
            ]
          },
          "metadata": {},
          "execution_count": 21
        }
      ]
    },
    {
      "cell_type": "code",
      "metadata": {
        "colab": {
          "base_uri": "https://localhost:8080/"
        },
        "id": "R25XxiA8srU9",
        "outputId": "abcd9b73-3039-412b-93ec-57e8eebd79d0"
      },
      "source": [
        "hist = model.fit(\n",
        "    [encoder_input_sequences, decoder_input_sequences],\n",
        "    decoder_targets,\n",
        "    epochs=50, \n",
        "    validation_split=0.1)"
      ],
      "execution_count": 22,
      "outputs": [
        {
          "output_type": "stream",
          "name": "stdout",
          "text": [
            "Epoch 1/50\n",
            "170/170 [==============================] - 12s 22ms/step - loss: 2.9726 - accuracy: 0.5349 - val_loss: 2.2447 - val_accuracy: 0.6220\n",
            "Epoch 2/50\n",
            "170/170 [==============================] - 3s 16ms/step - loss: 2.0391 - accuracy: 0.6321 - val_loss: 2.0310 - val_accuracy: 0.6666\n",
            "Epoch 3/50\n",
            "170/170 [==============================] - 3s 17ms/step - loss: 1.7943 - accuracy: 0.6880 - val_loss: 1.8675 - val_accuracy: 0.6869\n",
            "Epoch 4/50\n",
            "170/170 [==============================] - 3s 16ms/step - loss: 1.6445 - accuracy: 0.7102 - val_loss: 1.7777 - val_accuracy: 0.7026\n",
            "Epoch 5/50\n",
            "170/170 [==============================] - 3s 16ms/step - loss: 1.5419 - accuracy: 0.7222 - val_loss: 1.7078 - val_accuracy: 0.7099\n",
            "Epoch 6/50\n",
            "170/170 [==============================] - 3s 16ms/step - loss: 1.4665 - accuracy: 0.7307 - val_loss: 1.6651 - val_accuracy: 0.7189\n",
            "Epoch 7/50\n",
            "170/170 [==============================] - 3s 16ms/step - loss: 1.4067 - accuracy: 0.7371 - val_loss: 1.6320 - val_accuracy: 0.7182\n",
            "Epoch 8/50\n",
            "170/170 [==============================] - 3s 16ms/step - loss: 1.3578 - accuracy: 0.7396 - val_loss: 1.6068 - val_accuracy: 0.7245\n",
            "Epoch 9/50\n",
            "170/170 [==============================] - 3s 16ms/step - loss: 1.3155 - accuracy: 0.7457 - val_loss: 1.5866 - val_accuracy: 0.7285\n",
            "Epoch 10/50\n",
            "170/170 [==============================] - 3s 16ms/step - loss: 1.2790 - accuracy: 0.7490 - val_loss: 1.5762 - val_accuracy: 0.7333\n",
            "Epoch 11/50\n",
            "170/170 [==============================] - 3s 16ms/step - loss: 1.2481 - accuracy: 0.7525 - val_loss: 1.5671 - val_accuracy: 0.7318\n",
            "Epoch 12/50\n",
            "170/170 [==============================] - 3s 16ms/step - loss: 1.2193 - accuracy: 0.7560 - val_loss: 1.5594 - val_accuracy: 0.7341\n",
            "Epoch 13/50\n",
            "170/170 [==============================] - 3s 16ms/step - loss: 1.1924 - accuracy: 0.7598 - val_loss: 1.5493 - val_accuracy: 0.7369\n",
            "Epoch 14/50\n",
            "170/170 [==============================] - 3s 16ms/step - loss: 1.1686 - accuracy: 0.7619 - val_loss: 1.5503 - val_accuracy: 0.7392\n",
            "Epoch 15/50\n",
            "170/170 [==============================] - 3s 17ms/step - loss: 1.1455 - accuracy: 0.7645 - val_loss: 1.5462 - val_accuracy: 0.7399\n",
            "Epoch 16/50\n",
            "170/170 [==============================] - 3s 17ms/step - loss: 1.1240 - accuracy: 0.7674 - val_loss: 1.5352 - val_accuracy: 0.7425\n",
            "Epoch 17/50\n",
            "170/170 [==============================] - 3s 16ms/step - loss: 1.1034 - accuracy: 0.7696 - val_loss: 1.5399 - val_accuracy: 0.7439\n",
            "Epoch 18/50\n",
            "170/170 [==============================] - 3s 16ms/step - loss: 1.0844 - accuracy: 0.7714 - val_loss: 1.5415 - val_accuracy: 0.7429\n",
            "Epoch 19/50\n",
            "170/170 [==============================] - 3s 17ms/step - loss: 1.0662 - accuracy: 0.7733 - val_loss: 1.5426 - val_accuracy: 0.7442\n",
            "Epoch 20/50\n",
            "170/170 [==============================] - 3s 16ms/step - loss: 1.0491 - accuracy: 0.7768 - val_loss: 1.5407 - val_accuracy: 0.7450\n",
            "Epoch 21/50\n",
            "170/170 [==============================] - 3s 16ms/step - loss: 1.0324 - accuracy: 0.7779 - val_loss: 1.5442 - val_accuracy: 0.7464\n",
            "Epoch 22/50\n",
            "170/170 [==============================] - 3s 17ms/step - loss: 1.0160 - accuracy: 0.7801 - val_loss: 1.5436 - val_accuracy: 0.7464\n",
            "Epoch 23/50\n",
            "170/170 [==============================] - 3s 16ms/step - loss: 1.0008 - accuracy: 0.7812 - val_loss: 1.5496 - val_accuracy: 0.7445\n",
            "Epoch 24/50\n",
            "170/170 [==============================] - 3s 16ms/step - loss: 0.9868 - accuracy: 0.7833 - val_loss: 1.5486 - val_accuracy: 0.7445\n",
            "Epoch 25/50\n",
            "170/170 [==============================] - 3s 16ms/step - loss: 0.9715 - accuracy: 0.7859 - val_loss: 1.5535 - val_accuracy: 0.7450\n",
            "Epoch 26/50\n",
            "170/170 [==============================] - 3s 17ms/step - loss: 0.9581 - accuracy: 0.7877 - val_loss: 1.5547 - val_accuracy: 0.7464\n",
            "Epoch 27/50\n",
            "170/170 [==============================] - 3s 16ms/step - loss: 0.9448 - accuracy: 0.7899 - val_loss: 1.5610 - val_accuracy: 0.7469\n",
            "Epoch 28/50\n",
            "170/170 [==============================] - 3s 16ms/step - loss: 0.9322 - accuracy: 0.7924 - val_loss: 1.5680 - val_accuracy: 0.7487\n",
            "Epoch 29/50\n",
            "170/170 [==============================] - 3s 17ms/step - loss: 0.9192 - accuracy: 0.7944 - val_loss: 1.5664 - val_accuracy: 0.7472\n",
            "Epoch 30/50\n",
            "170/170 [==============================] - 3s 17ms/step - loss: 0.9072 - accuracy: 0.7955 - val_loss: 1.5726 - val_accuracy: 0.7488\n",
            "Epoch 31/50\n",
            "170/170 [==============================] - 3s 17ms/step - loss: 0.8959 - accuracy: 0.7986 - val_loss: 1.5799 - val_accuracy: 0.7485\n",
            "Epoch 32/50\n",
            "170/170 [==============================] - 3s 17ms/step - loss: 0.8848 - accuracy: 0.7989 - val_loss: 1.5828 - val_accuracy: 0.7474\n",
            "Epoch 33/50\n",
            "170/170 [==============================] - 3s 17ms/step - loss: 0.8744 - accuracy: 0.8018 - val_loss: 1.5880 - val_accuracy: 0.7502\n",
            "Epoch 34/50\n",
            "170/170 [==============================] - 3s 16ms/step - loss: 0.8640 - accuracy: 0.8022 - val_loss: 1.5944 - val_accuracy: 0.7497\n",
            "Epoch 35/50\n",
            "170/170 [==============================] - 3s 16ms/step - loss: 0.8544 - accuracy: 0.8044 - val_loss: 1.5944 - val_accuracy: 0.7482\n",
            "Epoch 36/50\n",
            "170/170 [==============================] - 3s 16ms/step - loss: 0.8448 - accuracy: 0.8057 - val_loss: 1.6034 - val_accuracy: 0.7465\n",
            "Epoch 37/50\n",
            "170/170 [==============================] - 3s 16ms/step - loss: 0.8350 - accuracy: 0.8067 - val_loss: 1.6106 - val_accuracy: 0.7475\n",
            "Epoch 38/50\n",
            "170/170 [==============================] - 3s 16ms/step - loss: 0.8267 - accuracy: 0.8080 - val_loss: 1.6155 - val_accuracy: 0.7488\n",
            "Epoch 39/50\n",
            "170/170 [==============================] - 3s 16ms/step - loss: 0.8187 - accuracy: 0.8094 - val_loss: 1.6229 - val_accuracy: 0.7485\n",
            "Epoch 40/50\n",
            "170/170 [==============================] - 3s 17ms/step - loss: 0.8097 - accuracy: 0.8099 - val_loss: 1.6306 - val_accuracy: 0.7483\n",
            "Epoch 41/50\n",
            "170/170 [==============================] - 3s 17ms/step - loss: 0.8015 - accuracy: 0.8119 - val_loss: 1.6350 - val_accuracy: 0.7497\n",
            "Epoch 42/50\n",
            "170/170 [==============================] - 3s 17ms/step - loss: 0.7943 - accuracy: 0.8129 - val_loss: 1.6360 - val_accuracy: 0.7469\n",
            "Epoch 43/50\n",
            "170/170 [==============================] - 3s 16ms/step - loss: 0.7865 - accuracy: 0.8142 - val_loss: 1.6445 - val_accuracy: 0.7464\n",
            "Epoch 44/50\n",
            "170/170 [==============================] - 3s 16ms/step - loss: 0.7781 - accuracy: 0.8158 - val_loss: 1.6518 - val_accuracy: 0.7488\n",
            "Epoch 45/50\n",
            "170/170 [==============================] - 3s 16ms/step - loss: 0.7712 - accuracy: 0.8169 - val_loss: 1.6634 - val_accuracy: 0.7478\n",
            "Epoch 46/50\n",
            "170/170 [==============================] - 3s 16ms/step - loss: 0.7634 - accuracy: 0.8180 - val_loss: 1.6629 - val_accuracy: 0.7483\n",
            "Epoch 47/50\n",
            "170/170 [==============================] - 3s 16ms/step - loss: 0.7566 - accuracy: 0.8190 - val_loss: 1.6726 - val_accuracy: 0.7475\n",
            "Epoch 48/50\n",
            "170/170 [==============================] - 3s 16ms/step - loss: 0.7499 - accuracy: 0.8201 - val_loss: 1.6832 - val_accuracy: 0.7465\n",
            "Epoch 49/50\n",
            "170/170 [==============================] - 3s 17ms/step - loss: 0.7429 - accuracy: 0.8210 - val_loss: 1.6847 - val_accuracy: 0.7478\n",
            "Epoch 50/50\n",
            "170/170 [==============================] - 3s 16ms/step - loss: 0.7364 - accuracy: 0.8233 - val_loss: 1.6892 - val_accuracy: 0.7477\n"
          ]
        }
      ]
    },
    {
      "cell_type": "code",
      "metadata": {
        "colab": {
          "base_uri": "https://localhost:8080/",
          "height": 265
        },
        "id": "UZRf44HssrXj",
        "outputId": "0c536900-8001-4810-cc89-39c6e52006e8"
      },
      "source": [
        "import matplotlib.pyplot as plt\n",
        "import seaborn as sns\n",
        "\n",
        "# Entrenamiento\n",
        "epoch_count = range(1, len(hist.history['accuracy']) + 1)\n",
        "sns.lineplot(x=epoch_count,  y=hist.history['accuracy'], label='train')\n",
        "sns.lineplot(x=epoch_count,  y=hist.history['val_accuracy'], label='valid')\n",
        "plt.show()"
      ],
      "execution_count": 24,
      "outputs": [
        {
          "output_type": "display_data",
          "data": {
            "image/png": "[encoded data removed]",
            "text/plain": [
              "<Figure size 432x288 with 1 Axes>"
            ]
          },
          "metadata": {
            "needs_background": "light"
          }
        }
      ]
    },
    {
      "cell_type": "markdown",
      "metadata": {
        "id": "Zbwn0ekDy_s2"
      },
      "source": [
        "### 5 - Inferencia\n",
        "Experimentar el funcionamiento de su modelo. Recuerde que debe realizar la inferencia de los modelos por separado de encoder y decoder."
      ]
    },
    {
      "cell_type": "code",
      "metadata": {
        "id": "UlyZUxEZqgzc"
      },
      "source": [
        "# Armar lo conversores de indice a palabra:\n",
        "idx2word_input = {v:k for k, v in word2idx_inputs.items()}\n",
        "idx2word_target = {v:k for k, v in word2idx_outputs.items()}"
      ],
      "execution_count": 25,
      "outputs": []
    },
    {
      "cell_type": "code",
      "metadata": {
        "id": "rjR7AUW9qg2L"
      },
      "source": [
        "\n",
        "def questio_to_answer(input_seq):\n",
        "    # Se transforma la sequencia de entrada a los stados \"h\" y \"c\" de la LSTM\n",
        "    # para enviar la primera vez al decoder\"\n",
        "    states_value = encoder_model.predict(input_seq)\n",
        "\n",
        "    # Se inicializa la secuencia de entrada al decoder como \"<sos>\"\n",
        "    target_seq = np.zeros((1, 1))\n",
        "    target_seq[0, 0] = word2idx_outputs['<sos>']\n",
        "\n",
        "    # Se obtiene el indice que finaliza la inferencia\n",
        "    eos = word2idx_outputs['<eos>']\n",
        "    \n",
        "    output_sentence = []\n",
        "    for _ in range(max_out_len):\n",
        "        # Predicción del próximo elemento\n",
        "        output_tokens, h, c = decoder_model.predict([target_seq] + states_value)\n",
        "        idx = np.argmax(output_tokens[0, 0, :])\n",
        "\n",
        "        # Si es \"end of sentece <eos>\" se acaba\n",
        "        if eos == idx:\n",
        "            break\n",
        "\n",
        "        # Transformar ídx a palabra\n",
        "        word = ''        \n",
        "        if idx > 0:\n",
        "            word = idx2word_target[idx]\n",
        "            output_sentence.append(word)\n",
        "\n",
        "        # Actualizar los estados dado la ultimo prediccion\n",
        "        states_value = [h, c]\n",
        "\n",
        "        # Actualizar secuencia de entrada con la salida (re-alimentacion)\n",
        "        target_seq[0, 0] = idx\n",
        "\n",
        "    return ' '.join(output_sentence)"
      ],
      "execution_count": 28,
      "outputs": []
    },
    {
      "cell_type": "code",
      "metadata": {
        "colab": {
          "base_uri": "https://localhost:8080/"
        },
        "id": "d4jEZ1r4qg5F",
        "outputId": "049e9568-0d02-4525-d585-73b6db174367"
      },
      "source": [
        "i = np.random.choice(len(input_sentences))\n",
        "input_seq = encoder_input_sequences[i:i+1]\n",
        "translation = questio_to_answer(input_seq)\n",
        "print('-')\n",
        "print('Input:', input_sentences[i])\n",
        "print('Response:', translation)"
      ],
      "execution_count": 29,
      "outputs": [
        {
          "output_type": "stream",
          "name": "stdout",
          "text": [
            "-\n",
            "Input: yes he is my best friend \n",
            "Response: what do you do for a living\n"
          ]
        }
      ]
    },
    {
      "cell_type": "code",
      "metadata": {
        "colab": {
          "base_uri": "https://localhost:8080/"
        },
        "id": "dw_qO6IcRRGV",
        "outputId": "7890043d-67d6-4810-b925-05f3fb843f11"
      },
      "source": [
        "usr_input = input('User: ')\n",
        "while usr_input !='':\n",
        "  index_seq = input_tokenizer.texts_to_sequences([usr_input])[0]\n",
        "  encoder_sequence = pad_sequences([index_seq], maxlen=max_input_len)\n",
        "  translation = questio_to_answer(encoder_sequence)\n",
        "  print('Bot : ',translation)\n",
        "  usr_input = input('User: ')\n"
      ],
      "execution_count": 41,
      "outputs": [
        {
          "name": "stdout",
          "output_type": "stream",
          "text": [
            "User: Hi\n",
            "Bot :  hello how are you\n",
            "User: Find and you?\n",
            "Bot :  i am doing well how are you\n",
            "User: What's your name\n",
            "Bot :  what do you do for a living\n",
            "User: I work as developer\n",
            "Bot :  i like to play video games\n",
            "User: Me too!\n",
            "Bot :  what do you do for a living\n",
            "User: Are you joking with me?\n",
            "Bot :  i like to play video games\n",
            "User: I like to do sports\n",
            "Bot :  i like to go to the beach\n",
            "User: Do you have a family?\n",
            "Bot :  no i am not sure what you mean\n",
            "User: Doesn't matter!\n",
            "Bot :  i love to read\n",
            "User: \n"
          ]
        }
      ]
    },
    {
      "cell_type": "markdown",
      "metadata": {
        "id": "OE265fZOcyhq"
      },
      "source": [
        "**Conlusión:**\n",
        "se obtuvo un accuracy elevado pero al realizar el test se puede apreciar el overfitting, lo ideal sería utilizar un dataset mucho mayor.\n",
        "Al realizar una conversación vemos que las respuestas tienen coherencia gramatical y tienden a seguir el hilo de la coversación aunque no me coherente."
      ]
    }
  ]
}