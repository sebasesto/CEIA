{
 "cells": [
  {
   "cell_type": "markdown",
   "id": "258a12ea",
   "metadata": {},
   "source": [
    "## Ejercicios clase 1 "
   ]
  },
  {
   "cell_type": "code",
   "execution_count": 17,
   "id": "d17a44f5",
   "metadata": {},
   "outputs": [],
   "source": [
    "import numpy as np"
   ]
  },
  {
   "cell_type": "markdown",
   "id": "2641b1f7",
   "metadata": {},
   "source": [
    "### Ejercicio 1 "
   ]
  },
  {
   "cell_type": "code",
   "execution_count": 18,
   "id": "c4cd9eab",
   "metadata": {},
   "outputs": [
    {
     "name": "stdout",
     "output_type": "stream",
     "text": [
      "Matriz random: \n",
      "[[0.92621264 0.76587879 0.61571239]\n",
      " [0.03361936 0.93579151 0.06927298]\n",
      " [0.92318722 0.19234325 0.68904664]]\n",
      "Norma l0:\n",
      "          [3 3 3]\n",
      "Norma l1:\n",
      "          [2.30780382 1.03868385 1.80457711]\n",
      "Norma l2:\n",
      "          [1.35038584 0.93895408 1.16792801]\n",
      "Norma infinito:\n",
      "          [0.92621264 0.93579151 0.92318722]\n"
     ]
    }
   ],
   "source": [
    "def vector_norm_l0(matrix):\n",
    "    mask = matrix > 0\n",
    "    return np.sum(mask, axis=1)\n",
    "\n",
    "def vector_norm_lx(matrix, p):\n",
    "    return np.sum(np.abs(matrix)**p, axis=1)**(1/p)\n",
    "\n",
    "def vector_norm_inf(m):\n",
    "    return np.max(m, axis=1)\n",
    "\n",
    "# Matriz random\n",
    "X = np.random.random((3,3))\n",
    "\n",
    "print(\"Matriz random: \")\n",
    "print(X)\n",
    "print(\"Norma l0:\")\n",
    "print(\"         \",vector_norm_l0(X))\n",
    "print(\"Norma l1:\")\n",
    "print(\"         \",vector_norm_lx(X, 1))\n",
    "print(\"Norma l2:\")\n",
    "print(\"         \",vector_norm_lx(X, 2))\n",
    "print(\"Norma infinito:\")\n",
    "print(\"         \",vector_norm_inf(X))"
   ]
  },
  {
   "cell_type": "markdown",
   "id": "39cc97ea",
   "metadata": {},
   "source": [
    "### Ejercicio 2 "
   ]
  },
  {
   "cell_type": "code",
   "execution_count": null,
   "id": "3d9eb2fd",
   "metadata": {},
   "outputs": [],
   "source": []
  }
 ],
 "metadata": {
  "kernelspec": {
   "display_name": "Python 3",
   "language": "python",
   "name": "python3"
  },
  "language_info": {
   "codemirror_mode": {
    "name": "ipython",
    "version": 3
   },
   "file_extension": ".py",
   "mimetype": "text/x-python",
   "name": "python",
   "nbconvert_exporter": "python",
   "pygments_lexer": "ipython3",
   "version": "3.7.10"
  }
 },
 "nbformat": 4,
 "nbformat_minor": 5
}
