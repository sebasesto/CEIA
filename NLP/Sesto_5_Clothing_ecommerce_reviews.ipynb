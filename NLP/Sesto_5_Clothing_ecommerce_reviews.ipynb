{
  "nbformat": 4,
  "nbformat_minor": 0,
  "metadata": {
    "colab": {
      "name": "Sesto-5d - clothing_ecommerce_reviews.ipynb",
      "provenance": [],
      "collapsed_sections": [],
      "include_colab_link": true
    },
    "kernelspec": {
      "name": "python3",
      "display_name": "Python 3"
    },
    "language_info": {
      "name": "python"
    },
    "accelerator": "GPU"
  },
  "cells": [
    {
      "cell_type": "markdown",
      "metadata": {
        "id": "view-in-github",
        "colab_type": "text"
      },
      "source": [
        "<a href=\"https://colab.research.google.com/github/sebasesto/CEIA/blob/master/NLP/Sesto_5_Clothing_ecommerce_reviews.ipynb\" target=\"_parent\"><img src=\"https://colab.research.google.com/assets/colab-badge.svg\" alt=\"Open In Colab\"/></a>"
      ]
    },
    {
      "cell_type": "markdown",
      "metadata": {
        "id": "kBLpTr7plguX"
      },
      "source": [
        "<a href=\"https://www.inove.com.ar\"><img src=\"https://github.com/hernancontigiani/ceia_memorias_especializacion/raw/master/Figures/logoFIUBA.jpg\" width=\"500\" align=\"center\"></a>\n",
        "\n",
        "\n",
        "# Procesamiento de lenguaje natural\n",
        "## Sentiment analysis con Embeddings + LSTM"
      ]
    },
    {
      "cell_type": "markdown",
      "metadata": {
        "id": "9W6nuajhlqZD"
      },
      "source": [
        "### Objetivo\n",
        "El objetivo es utilizar las críticas de compradores de ropa para que el sistema determine la evaluación del comprador y su crítica (cuantas estrellas le asigna al producto)."
      ]
    },
    {
      "cell_type": "code",
      "metadata": {
        "id": "hCpOVzJdl8_p"
      },
      "source": [
        "import numpy as np\n",
        "import random\n",
        "import io\n",
        "import pickle\n",
        "import pandas as pd\n",
        "\n",
        "import matplotlib.pyplot as plt\n",
        "import seaborn as sns\n",
        "\n",
        "from tensorflow import keras\n",
        "from tensorflow.keras import layers\n",
        "\n",
        "from keras.utils.np_utils import to_categorical\n",
        "from keras.preprocessing.sequence import pad_sequences\n",
        "from keras.models import Sequential\n",
        "from keras.layers import Dense\n",
        "from keras.layers import LSTM\n",
        "from keras.layers import Embedding"
      ],
      "execution_count": 1,
      "outputs": []
    },
    {
      "cell_type": "markdown",
      "metadata": {
        "id": "8UPeRkrAmbF3"
      },
      "source": [
        "### Datos\n",
        "Utilizaremos como dataset críticas de compradores de ropa (eCommerce) los cuales puntuaron a cada prenda con un puntaje de 1 a 5 estrellas.\\\n",
        "Referencia del dataset: [LINK](https://www.kaggle.com/nicapotato/womens-ecommerce-clothing-reviews/version/1)"
      ]
    },
    {
      "cell_type": "code",
      "metadata": {
        "id": "C7jLvTU3lSyL",
        "colab": {
          "base_uri": "https://localhost:8080/"
        },
        "outputId": "66361e32-d511-4d9f-beae-27ff341409cc"
      },
      "source": [
        "# Descargar la carpeta de dataset\n",
        "import os\n",
        "import gdown\n",
        "if os.access('clothing_ecommerce_reviews.csv', os.F_OK) is False:\n",
        "    url = 'https://drive.google.com/uc?id=1k2Dz4oY5uxI3JEaT6m-L2T2HvLkECYIP'\n",
        "    output = 'clothing_ecommerce_reviews.csv'\n",
        "    gdown.download(url, output, quiet=False)\n",
        "else:\n",
        "    print(\"El dataset ya se encuentra descargado\")"
      ],
      "execution_count": 2,
      "outputs": [
        {
          "output_type": "stream",
          "name": "stderr",
          "text": [
            "Downloading...\n",
            "From: https://drive.google.com/uc?id=1k2Dz4oY5uxI3JEaT6m-L2T2HvLkECYIP\n",
            "To: /content/clothing_ecommerce_reviews.csv\n",
            "100%|██████████| 8.48M/8.48M [00:00<00:00, 44.7MB/s]\n"
          ]
        }
      ]
    },
    {
      "cell_type": "code",
      "metadata": {
        "id": "o-SV1P3dnD1J",
        "colab": {
          "base_uri": "https://localhost:8080/",
          "height": 400
        },
        "outputId": "fb2f0670-d8eb-4065-cf70-55972704e263"
      },
      "source": [
        "# Armar el dataset\n",
        "df = pd.read_csv('clothing_ecommerce_reviews.csv')\n",
        "df.drop(columns = ['Unnamed: 0'], inplace = True)\n",
        "df.head().T"
      ],
      "execution_count": 4,
      "outputs": [
        {
          "output_type": "execute_result",
          "data": {
            "text/html": [
              "<div>\n",
              "<style scoped>\n",
              "    .dataframe tbody tr th:only-of-type {\n",
              "        vertical-align: middle;\n",
              "    }\n",
              "\n",
              "    .dataframe tbody tr th {\n",
              "        vertical-align: top;\n",
              "    }\n",
              "\n",
              "    .dataframe thead th {\n",
              "        text-align: right;\n",
              "    }\n",
              "</style>\n",
              "<table border=\"1\" class=\"dataframe\">\n",
              "  <thead>\n",
              "    <tr style=\"text-align: right;\">\n",
              "      <th></th>\n",
              "      <th>0</th>\n",
              "      <th>1</th>\n",
              "      <th>2</th>\n",
              "      <th>3</th>\n",
              "      <th>4</th>\n",
              "    </tr>\n",
              "  </thead>\n",
              "  <tbody>\n",
              "    <tr>\n",
              "      <th>Clothing ID</th>\n",
              "      <td>767</td>\n",
              "      <td>1080</td>\n",
              "      <td>1077</td>\n",
              "      <td>1049</td>\n",
              "      <td>847</td>\n",
              "    </tr>\n",
              "    <tr>\n",
              "      <th>Age</th>\n",
              "      <td>33</td>\n",
              "      <td>34</td>\n",
              "      <td>60</td>\n",
              "      <td>50</td>\n",
              "      <td>47</td>\n",
              "    </tr>\n",
              "    <tr>\n",
              "      <th>Title</th>\n",
              "      <td>NaN</td>\n",
              "      <td>NaN</td>\n",
              "      <td>Some major design flaws</td>\n",
              "      <td>My favorite buy!</td>\n",
              "      <td>Flattering shirt</td>\n",
              "    </tr>\n",
              "    <tr>\n",
              "      <th>Review Text</th>\n",
              "      <td>Absolutely wonderful - silky and sexy and comf...</td>\n",
              "      <td>Love this dress!  it's sooo pretty.  i happene...</td>\n",
              "      <td>I had such high hopes for this dress and reall...</td>\n",
              "      <td>I love, love, love this jumpsuit. it's fun, fl...</td>\n",
              "      <td>This shirt is very flattering to all due to th...</td>\n",
              "    </tr>\n",
              "    <tr>\n",
              "      <th>Rating</th>\n",
              "      <td>4</td>\n",
              "      <td>5</td>\n",
              "      <td>3</td>\n",
              "      <td>5</td>\n",
              "      <td>5</td>\n",
              "    </tr>\n",
              "    <tr>\n",
              "      <th>Recommended IND</th>\n",
              "      <td>1</td>\n",
              "      <td>1</td>\n",
              "      <td>0</td>\n",
              "      <td>1</td>\n",
              "      <td>1</td>\n",
              "    </tr>\n",
              "    <tr>\n",
              "      <th>Positive Feedback Count</th>\n",
              "      <td>0</td>\n",
              "      <td>4</td>\n",
              "      <td>0</td>\n",
              "      <td>0</td>\n",
              "      <td>6</td>\n",
              "    </tr>\n",
              "    <tr>\n",
              "      <th>Division Name</th>\n",
              "      <td>Initmates</td>\n",
              "      <td>General</td>\n",
              "      <td>General</td>\n",
              "      <td>General Petite</td>\n",
              "      <td>General</td>\n",
              "    </tr>\n",
              "    <tr>\n",
              "      <th>Department Name</th>\n",
              "      <td>Intimate</td>\n",
              "      <td>Dresses</td>\n",
              "      <td>Dresses</td>\n",
              "      <td>Bottoms</td>\n",
              "      <td>Tops</td>\n",
              "    </tr>\n",
              "    <tr>\n",
              "      <th>Class Name</th>\n",
              "      <td>Intimates</td>\n",
              "      <td>Dresses</td>\n",
              "      <td>Dresses</td>\n",
              "      <td>Pants</td>\n",
              "      <td>Blouses</td>\n",
              "    </tr>\n",
              "  </tbody>\n",
              "</table>\n",
              "</div>"
            ],
            "text/plain": [
              "                                                                         0  ...                                                  4\n",
              "Clothing ID                                                            767  ...                                                847\n",
              "Age                                                                     33  ...                                                 47\n",
              "Title                                                                  NaN  ...                                   Flattering shirt\n",
              "Review Text              Absolutely wonderful - silky and sexy and comf...  ...  This shirt is very flattering to all due to th...\n",
              "Rating                                                                   4  ...                                                  5\n",
              "Recommended IND                                                          1  ...                                                  1\n",
              "Positive Feedback Count                                                  0  ...                                                  6\n",
              "Division Name                                                    Initmates  ...                                            General\n",
              "Department Name                                                   Intimate  ...                                               Tops\n",
              "Class Name                                                       Intimates  ...                                            Blouses\n",
              "\n",
              "[10 rows x 5 columns]"
            ]
          },
          "metadata": {},
          "execution_count": 4
        }
      ]
    },
    {
      "cell_type": "markdown",
      "metadata": {
        "id": "q-OwSePKm-FK"
      },
      "source": [
        "### 1 - Limpieza de datos\n",
        "Alumno:\n",
        "- Del dataset unicamente utilizar las columnas \"Review Text\" y \"Rating.\n",
        "- Tranformar el rating 1-5 a una escala numérica de 0 a 4.\n",
        "\n"
      ]
    },
    {
      "cell_type": "code",
      "metadata": {
        "id": "-hc7-AmYnPC3",
        "colab": {
          "base_uri": "https://localhost:8080/",
          "height": 200
        },
        "outputId": "23e41131-f39e-4824-c42c-7c3cce89bd92"
      },
      "source": [
        "df_reviews = df.loc[:, ['Review Text', 'Rating']].dropna()\n",
        "df_reviews['Rating'] = df_reviews['Rating'] - 1\n",
        "df_reviews.head()"
      ],
      "execution_count": 11,
      "outputs": [
        {
          "output_type": "execute_result",
          "data": {
            "text/html": [
              "<div>\n",
              "<style scoped>\n",
              "    .dataframe tbody tr th:only-of-type {\n",
              "        vertical-align: middle;\n",
              "    }\n",
              "\n",
              "    .dataframe tbody tr th {\n",
              "        vertical-align: top;\n",
              "    }\n",
              "\n",
              "    .dataframe thead th {\n",
              "        text-align: right;\n",
              "    }\n",
              "</style>\n",
              "<table border=\"1\" class=\"dataframe\">\n",
              "  <thead>\n",
              "    <tr style=\"text-align: right;\">\n",
              "      <th></th>\n",
              "      <th>Review Text</th>\n",
              "      <th>Rating</th>\n",
              "    </tr>\n",
              "  </thead>\n",
              "  <tbody>\n",
              "    <tr>\n",
              "      <th>0</th>\n",
              "      <td>Absolutely wonderful - silky and sexy and comf...</td>\n",
              "      <td>3</td>\n",
              "    </tr>\n",
              "    <tr>\n",
              "      <th>1</th>\n",
              "      <td>Love this dress!  it's sooo pretty.  i happene...</td>\n",
              "      <td>4</td>\n",
              "    </tr>\n",
              "    <tr>\n",
              "      <th>2</th>\n",
              "      <td>I had such high hopes for this dress and reall...</td>\n",
              "      <td>2</td>\n",
              "    </tr>\n",
              "    <tr>\n",
              "      <th>3</th>\n",
              "      <td>I love, love, love this jumpsuit. it's fun, fl...</td>\n",
              "      <td>4</td>\n",
              "    </tr>\n",
              "    <tr>\n",
              "      <th>4</th>\n",
              "      <td>This shirt is very flattering to all due to th...</td>\n",
              "      <td>4</td>\n",
              "    </tr>\n",
              "  </tbody>\n",
              "</table>\n",
              "</div>"
            ],
            "text/plain": [
              "                                         Review Text  Rating\n",
              "0  Absolutely wonderful - silky and sexy and comf...       3\n",
              "1  Love this dress!  it's sooo pretty.  i happene...       4\n",
              "2  I had such high hopes for this dress and reall...       2\n",
              "3  I love, love, love this jumpsuit. it's fun, fl...       4\n",
              "4  This shirt is very flattering to all due to th...       4"
            ]
          },
          "metadata": {},
          "execution_count": 11
        }
      ]
    },
    {
      "cell_type": "code",
      "metadata": {
        "id": "sZtvASVOn3ty",
        "colab": {
          "base_uri": "https://localhost:8080/",
          "height": 392
        },
        "outputId": "0bdaa6f9-9ae0-46d3-8611-d3acf41af316"
      },
      "source": [
        "# Alumno: Observar como está distribuido el dataset respecto a la columna Rating\n",
        "# es decir, observar que tan balanceado se encuentra respecot a cada clase\n",
        "print(df_reviews['Rating'].value_counts())\n",
        "sns.countplot(x='Rating', data=df_reviews)"
      ],
      "execution_count": 18,
      "outputs": [
        {
          "output_type": "stream",
          "name": "stdout",
          "text": [
            "4    12540\n",
            "3     4908\n",
            "2     2823\n",
            "1     1549\n",
            "0      821\n",
            "Name: Rating, dtype: int64\n"
          ]
        },
        {
          "output_type": "execute_result",
          "data": {
            "text/plain": [
              "<matplotlib.axes._subplots.AxesSubplot at 0x7f1b691b2d90>"
            ]
          },
          "metadata": {},
          "execution_count": 18
        },
        {
          "output_type": "display_data",
          "data": {
            "image/png": "[encoded data removed]",
            "text/plain": [
              "<Figure size 432x288 with 1 Axes>"
            ]
          },
          "metadata": {
            "needs_background": "light"
          }
        }
      ]
    },
    {
      "cell_type": "code",
      "metadata": {
        "id": "gVJ_RVi4o1h3",
        "colab": {
          "base_uri": "https://localhost:8080/"
        },
        "outputId": "8b3d3574-a232-4d0c-83eb-399c5edf913f"
      },
      "source": [
        "# Alumno: tomar la columna de las review y almacenarlo todo en un vector numpy de reviews\n",
        "text_sequences = df_reviews['Review Text'].values\n",
        "text_sequences.shape   #CAMBIAR text_sequences POR reviews OALGO ASI"
      ],
      "execution_count": 19,
      "outputs": [
        {
          "output_type": "execute_result",
          "data": {
            "text/plain": [
              "(22641,)"
            ]
          },
          "metadata": {},
          "execution_count": 19
        }
      ]
    },
    {
      "cell_type": "code",
      "metadata": {
        "id": "4nT5Un_co65Q",
        "colab": {
          "base_uri": "https://localhost:8080/"
        },
        "outputId": "69cbb5b5-954a-415b-f5c8-e071847061cd"
      },
      "source": [
        "# Alumno: Cuantas reviews (rows) hay para evaluar?\n",
        "len(text_sequences)"
      ],
      "execution_count": 20,
      "outputs": [
        {
          "output_type": "execute_result",
          "data": {
            "text/plain": [
              "22641"
            ]
          },
          "metadata": {},
          "execution_count": 20
        }
      ]
    },
    {
      "cell_type": "code",
      "metadata": {
        "id": "HP5uN9tqpHu_"
      },
      "source": [
        "# Alumno: Concatenar todas las reviews para armar el corpus\n",
        "corpus = ' '.join(text_sequences)"
      ],
      "execution_count": 21,
      "outputs": []
    },
    {
      "cell_type": "code",
      "metadata": {
        "id": "FEzmePgdpf74",
        "colab": {
          "base_uri": "https://localhost:8080/"
        },
        "outputId": "f5b4bf2c-1e86-4c95-eaad-54cb8ad30878"
      },
      "source": [
        "# Alumno: ¿Cuál es la longitud de ese corpus?\n",
        "len(corpus)"
      ],
      "execution_count": 22,
      "outputs": [
        {
          "output_type": "execute_result",
          "data": {
            "text/plain": [
              "7011643"
            ]
          },
          "metadata": {},
          "execution_count": 22
        }
      ]
    },
    {
      "cell_type": "code",
      "metadata": {
        "id": "MYeJLdDmpvOe"
      },
      "source": [
        "# Alumno: Utilizar \"text_to_word_sequence\" para separar las palabras en tokens\n",
        "# recordar que text_to_word_sequence automaticamente quita los signos de puntuacion y pasa el texto a lowercase\n",
        "from keras.preprocessing.text import text_to_word_sequence\n",
        "tokens = text_to_word_sequence(corpus)"
      ],
      "execution_count": 25,
      "outputs": []
    },
    {
      "cell_type": "code",
      "metadata": {
        "id": "M6L-fnWAp_lA",
        "colab": {
          "base_uri": "https://localhost:8080/"
        },
        "outputId": "a463489d-7ec3-44fc-f6b1-124f95cadcbc"
      },
      "source": [
        "# Alumno: Dar un vistazo a los primeros 20 tokens/palabras\n",
        "tokens[:20]"
      ],
      "execution_count": 27,
      "outputs": [
        {
          "output_type": "execute_result",
          "data": {
            "text/plain": [
              "['absolutely',\n",
              " 'wonderful',\n",
              " 'silky',\n",
              " 'and',\n",
              " 'sexy',\n",
              " 'and',\n",
              " 'comfortable',\n",
              " 'love',\n",
              " 'this',\n",
              " 'dress',\n",
              " \"it's\",\n",
              " 'sooo',\n",
              " 'pretty',\n",
              " 'i',\n",
              " 'happened',\n",
              " 'to',\n",
              " 'find',\n",
              " 'it',\n",
              " 'in',\n",
              " 'a']"
            ]
          },
          "metadata": {},
          "execution_count": 27
        }
      ]
    },
    {
      "cell_type": "code",
      "metadata": {
        "id": "-8QgwwMUqG0d",
        "colab": {
          "base_uri": "https://localhost:8080/"
        },
        "outputId": "fabbb40b-e30e-4812-97c6-8ee888884422"
      },
      "source": [
        "# Alumno: ¿Cuántos tokens/palabras hay?\n",
        "len(tokens) # text_to_word_sequence ya hace la funcion de unique"
      ],
      "execution_count": 28,
      "outputs": [
        {
          "output_type": "execute_result",
          "data": {
            "text/plain": [
              "1372203"
            ]
          },
          "metadata": {},
          "execution_count": 28
        }
      ]
    },
    {
      "cell_type": "code",
      "metadata": {
        "id": "TFukNZdOsZ8_"
      },
      "source": [
        "# Alumno: Tokenizar las palabras con el Tokenizer de Keras\n",
        "# Definir una máxima cantidad de palabras a utilizar:\n",
        "# num_words --> the maximum number of words to keep, based on word frequency.\n",
        "# Only the most common num_words-1 words will be kept.\n",
        "from keras.preprocessing.text import Tokenizer\n",
        "num_words = 2000\n",
        "vocab_size = num_words\n",
        "tok = Tokenizer(num_words=2000) \n",
        "tok.fit_on_texts(tokens)"
      ],
      "execution_count": 30,
      "outputs": []
    },
    {
      "cell_type": "code",
      "metadata": {
        "id": "JnR1tlqZy94X",
        "colab": {
          "base_uri": "https://localhost:8080/"
        },
        "outputId": "f70d25f3-3b25-44de-d05b-a189fb652f11"
      },
      "source": [
        "# Alumno: Obtener el diccionario de palabra (word) a índice\n",
        "# y observar la cantidad total del vocabulario\n",
        "word_index = tok.word_index\n",
        "len(word_index)"
      ],
      "execution_count": 31,
      "outputs": [
        {
          "output_type": "execute_result",
          "data": {
            "text/plain": [
              "14847"
            ]
          },
          "metadata": {},
          "execution_count": 31
        }
      ]
    },
    {
      "cell_type": "code",
      "metadata": {
        "id": "AvWzzSretQXf",
        "colab": {
          "base_uri": "https://localhost:8080/"
        },
        "outputId": "f3eb394c-f9cd-4023-cc60-05af6f7ed88f"
      },
      "source": [
        "# Alumno: Convertir las palabras/tokens a números\n",
        "sequences = tok.texts_to_sequences(text_sequences)\n",
        "sequences[0][:10] # Para secuencia max de 10 palabras"
      ],
      "execution_count": 35,
      "outputs": [
        {
          "output_type": "execute_result",
          "data": {
            "text/plain": [
              "[253, 532, 917, 3, 662, 3, 68]"
            ]
          },
          "metadata": {},
          "execution_count": 35
        }
      ]
    },
    {
      "cell_type": "code",
      "metadata": {
        "id": "za73M5SRtbrP",
        "colab": {
          "base_uri": "https://localhost:8080/"
        },
        "outputId": "d8acc01a-f072-4793-f284-567c1d944174"
      },
      "source": [
        "# Alumno: Determinar cual es la oración más larga\n",
        "max(len(s) for s in sequences)"
      ],
      "execution_count": 36,
      "outputs": [
        {
          "output_type": "execute_result",
          "data": {
            "text/plain": [
              "115"
            ]
          },
          "metadata": {},
          "execution_count": 36
        }
      ]
    },
    {
      "cell_type": "code",
      "metadata": {
        "id": "oCkO9Wc9tls1"
      },
      "source": [
        "# Alumno: Realizar padding de las sentencias al mismo tamaño\n",
        "# tomando de referencia la máxima sentencia\n",
        "from keras.preprocessing.sequence import pad_sequences\n",
        "maxlen = 115\n",
        "\n",
        "# Al realizar padding obtener la variable \"X\" (input)\n",
        "X = pad_sequences(sequences, padding='pre', maxlen=maxlen)"
      ],
      "execution_count": 38,
      "outputs": []
    },
    {
      "cell_type": "code",
      "metadata": {
        "id": "kGHHabVdt_aa",
        "colab": {
          "base_uri": "https://localhost:8080/"
        },
        "outputId": "ea21427a-7a4a-401c-89b8-75624621d178"
      },
      "source": [
        "# Alumno: Observar las dimensiones de la variable input\n",
        "X.shape"
      ],
      "execution_count": 39,
      "outputs": [
        {
          "output_type": "execute_result",
          "data": {
            "text/plain": [
              "(22641, 115)"
            ]
          },
          "metadata": {},
          "execution_count": 39
        }
      ]
    },
    {
      "cell_type": "code",
      "metadata": {
        "id": "llVM-tzQo9_F",
        "colab": {
          "base_uri": "https://localhost:8080/"
        },
        "outputId": "bf589e51-c467-4776-88d2-82d4ad58cada"
      },
      "source": [
        "# Alumno tomar la columna rating y alcemacenarla en una variable \"y\" transformada a oneHotEncoding\n",
        "# Su shape debe ser equivalente la cantidad de rows del corpus y a la máxima\n",
        "# cantidad de palabras definidas para el vocabulario (vocab_size)\n",
        "#y = df_reviews['Raiting'].values\n",
        "y = to_categorical(df_reviews['Rating'])\n",
        "print(y.shape)"
      ],
      "execution_count": 42,
      "outputs": [
        {
          "output_type": "stream",
          "name": "stdout",
          "text": [
            "(22641, 5)\n"
          ]
        }
      ]
    },
    {
      "cell_type": "markdown",
      "metadata": {
        "id": "JhuWN7UkIHDV"
      },
      "source": [
        "Se puede verificar como las rows son iguales a la cantidad de rows del corpus y las columnas coinciden con la clasificaciónes de las reviews, 5."
      ]
    },
    {
      "cell_type": "code",
      "metadata": {
        "id": "Rmz9A6n4uK4V"
      },
      "source": [
        "# Alumno: Dividir los datos en train y test\n",
        "from sklearn.model_selection import train_test_split\n",
        "X_train, X_test, y_train, y_test = train_test_split(X, y, test_size=0.2, random_state=42)"
      ],
      "execution_count": 54,
      "outputs": []
    },
    {
      "cell_type": "code",
      "metadata": {
        "id": "EcDPlhEouQ9E",
        "colab": {
          "base_uri": "https://localhost:8080/"
        },
        "outputId": "63266012-780e-457d-96c5-0e1270bd3638"
      },
      "source": [
        "# Alumno: determinar la dimensiones de entrada y salida\n",
        "in_shape = X_train.shape[1] # max input sentence len\n",
        "out_shape = 5 # multicategorical classification\n",
        "print(\"in_shape\", in_shape, \", out_shape\", out_shape)"
      ],
      "execution_count": 62,
      "outputs": [
        {
          "output_type": "stream",
          "name": "stdout",
          "text": [
            "in_shape 115 , out_shape 5\n"
          ]
        }
      ]
    },
    {
      "cell_type": "markdown",
      "metadata": {
        "id": "NpbQHExL6OTu"
      },
      "source": [
        "### 2 - Entrenar el modelo con Embeddings + LSTM"
      ]
    },
    {
      "cell_type": "code",
      "metadata": {
        "id": "NUkuWBsM6cx3"
      },
      "source": [
        "# Alumno: Entrene su modelo con LSTM entrenando sus propios embeddings\n",
        "# o utilizando embeddings pre-entrenados.\n",
        "from keras.layers import LSTM\n",
        "from keras.layers import Embedding\n",
        "from keras.layers import Dropout"
      ],
      "execution_count": 63,
      "outputs": []
    },
    {
      "cell_type": "code",
      "metadata": {
        "colab": {
          "base_uri": "https://localhost:8080/"
        },
        "id": "eotyi9muLRIp",
        "outputId": "776af4c3-00c7-43d5-e2a5-0f6f5391b766"
      },
      "source": [
        "model = Sequential()\n",
        "# input_dim = vocab_size (max n_words)\n",
        "# input_length = setencias con padding a 200\n",
        "# output_dim = 50 --> crear embeddings de tamaño 50\n",
        "model.add(Embedding(input_dim=vocab_size+1, output_dim=100, input_length=in_shape))\n",
        "model.add(LSTM(units=64, return_sequences=True))\n",
        "model.add(Dropout(0.2))\n",
        "model.add(LSTM(units=64)) # La última capa LSTM no lleva return_sequences\n",
        "\n",
        "model.add(Dense(units=128, activation='relu'))\n",
        "model.add(Dropout(rate=0.2))\n",
        "model.add(Dense(units=out_shape, activation='softmax'))\n",
        "\n",
        "model.compile(optimizer=\"adam\",\n",
        "              loss='binary_crossentropy',\n",
        "              metrics=['accuracy'])\n",
        "\n",
        "model.summary()"
      ],
      "execution_count": 75,
      "outputs": [
        {
          "output_type": "stream",
          "name": "stdout",
          "text": [
            "Model: \"sequential_3\"\n",
            "_________________________________________________________________\n",
            "Layer (type)                 Output Shape              Param #   \n",
            "=================================================================\n",
            "embedding_3 (Embedding)      (None, 115, 100)          200100    \n",
            "_________________________________________________________________\n",
            "lstm_6 (LSTM)                (None, 115, 64)           42240     \n",
            "_________________________________________________________________\n",
            "dropout_6 (Dropout)          (None, 115, 64)           0         \n",
            "_________________________________________________________________\n",
            "lstm_7 (LSTM)                (None, 64)                33024     \n",
            "_________________________________________________________________\n",
            "dense_6 (Dense)              (None, 128)               8320      \n",
            "_________________________________________________________________\n",
            "dropout_7 (Dropout)          (None, 128)               0         \n",
            "_________________________________________________________________\n",
            "dense_7 (Dense)              (None, 5)                 645       \n",
            "=================================================================\n",
            "Total params: 284,329\n",
            "Trainable params: 284,329\n",
            "Non-trainable params: 0\n",
            "_________________________________________________________________\n"
          ]
        }
      ]
    },
    {
      "cell_type": "code",
      "metadata": {
        "colab": {
          "base_uri": "https://localhost:8080/",
          "height": 865
        },
        "id": "Wf-b2rcDLkCX",
        "outputId": "3c7402fd-5991-490b-c91e-ce3104ba5ba5"
      },
      "source": [
        "from keras.utils.vis_utils import plot_model\n",
        "plot_model(model, to_file='model_plot.png', show_shapes=True, show_layer_names=True)"
      ],
      "execution_count": 76,
      "outputs": [
        {
          "output_type": "execute_result",
          "data": {
            "image/png": "[encoded data removed]",
            "text/plain": [
              "<IPython.core.display.Image object>"
            ]
          },
          "metadata": {},
          "execution_count": 76
        }
      ]
    },
    {
      "cell_type": "code",
      "metadata": {
        "colab": {
          "base_uri": "https://localhost:8080/"
        },
        "id": "0CDEtZ7_Ndr0",
        "outputId": "b3ccb95b-b452-4c4b-df25-9d564cafad32"
      },
      "source": [
        "y_train.shape"
      ],
      "execution_count": 77,
      "outputs": [
        {
          "output_type": "execute_result",
          "data": {
            "text/plain": [
              "(18112, 5)"
            ]
          },
          "metadata": {},
          "execution_count": 77
        }
      ]
    },
    {
      "cell_type": "code",
      "metadata": {
        "colab": {
          "base_uri": "https://localhost:8080/"
        },
        "id": "3yYQEGm2LkFH",
        "outputId": "5eb193cd-0481-445e-bb3b-185b72c46248"
      },
      "source": [
        "hist = model.fit(X_train, y_train, epochs=50, validation_split=0.2)"
      ],
      "execution_count": 78,
      "outputs": [
        {
          "output_type": "stream",
          "name": "stdout",
          "text": [
            "Epoch 1/50\n",
            "453/453 [==============================] - 30s 60ms/step - loss: 0.3894 - accuracy: 0.5594 - val_loss: 0.3365 - val_accuracy: 0.5976\n",
            "Epoch 2/50\n",
            "453/453 [==============================] - 26s 58ms/step - loss: 0.3182 - accuracy: 0.6125 - val_loss: 0.3143 - val_accuracy: 0.6150\n",
            "Epoch 3/50\n",
            "453/453 [==============================] - 26s 58ms/step - loss: 0.2952 - accuracy: 0.6399 - val_loss: 0.3126 - val_accuracy: 0.6139\n",
            "Epoch 4/50\n",
            "453/453 [==============================] - 26s 58ms/step - loss: 0.2807 - accuracy: 0.6575 - val_loss: 0.3123 - val_accuracy: 0.6158\n",
            "Epoch 5/50\n",
            "453/453 [==============================] - 26s 58ms/step - loss: 0.2686 - accuracy: 0.6720 - val_loss: 0.3205 - val_accuracy: 0.6249\n",
            "Epoch 6/50\n",
            "453/453 [==============================] - 26s 58ms/step - loss: 0.2557 - accuracy: 0.6840 - val_loss: 0.3160 - val_accuracy: 0.6285\n",
            "Epoch 7/50\n",
            "453/453 [==============================] - 26s 57ms/step - loss: 0.2453 - accuracy: 0.7046 - val_loss: 0.3246 - val_accuracy: 0.6056\n",
            "Epoch 8/50\n",
            "453/453 [==============================] - 26s 58ms/step - loss: 0.2342 - accuracy: 0.7192 - val_loss: 0.3401 - val_accuracy: 0.6139\n",
            "Epoch 9/50\n",
            "453/453 [==============================] - 26s 57ms/step - loss: 0.2213 - accuracy: 0.7411 - val_loss: 0.3489 - val_accuracy: 0.6039\n",
            "Epoch 10/50\n",
            "453/453 [==============================] - 26s 58ms/step - loss: 0.2108 - accuracy: 0.7600 - val_loss: 0.3587 - val_accuracy: 0.5978\n",
            "Epoch 11/50\n",
            "453/453 [==============================] - 26s 58ms/step - loss: 0.2013 - accuracy: 0.7772 - val_loss: 0.3809 - val_accuracy: 0.6034\n",
            "Epoch 12/50\n",
            "453/453 [==============================] - 26s 58ms/step - loss: 0.1914 - accuracy: 0.7930 - val_loss: 0.3907 - val_accuracy: 0.6059\n",
            "Epoch 13/50\n",
            "453/453 [==============================] - 26s 58ms/step - loss: 0.1785 - accuracy: 0.8101 - val_loss: 0.3980 - val_accuracy: 0.5876\n",
            "Epoch 14/50\n",
            "453/453 [==============================] - 26s 58ms/step - loss: 0.1696 - accuracy: 0.8236 - val_loss: 0.4017 - val_accuracy: 0.5705\n",
            "Epoch 15/50\n",
            "453/453 [==============================] - 26s 58ms/step - loss: 0.1602 - accuracy: 0.8389 - val_loss: 0.4177 - val_accuracy: 0.5896\n",
            "Epoch 16/50\n",
            "453/453 [==============================] - 26s 58ms/step - loss: 0.1504 - accuracy: 0.8487 - val_loss: 0.4418 - val_accuracy: 0.5774\n",
            "Epoch 17/50\n",
            "453/453 [==============================] - 26s 58ms/step - loss: 0.1453 - accuracy: 0.8593 - val_loss: 0.4497 - val_accuracy: 0.5879\n",
            "Epoch 18/50\n",
            "453/453 [==============================] - 26s 58ms/step - loss: 0.1333 - accuracy: 0.8763 - val_loss: 0.4936 - val_accuracy: 0.5744\n",
            "Epoch 19/50\n",
            "453/453 [==============================] - 26s 58ms/step - loss: 0.1267 - accuracy: 0.8806 - val_loss: 0.5155 - val_accuracy: 0.5824\n",
            "Epoch 20/50\n",
            "453/453 [==============================] - 27s 59ms/step - loss: 0.1239 - accuracy: 0.8839 - val_loss: 0.4950 - val_accuracy: 0.5849\n",
            "Epoch 21/50\n",
            "453/453 [==============================] - 26s 58ms/step - loss: 0.1101 - accuracy: 0.8997 - val_loss: 0.5686 - val_accuracy: 0.5711\n",
            "Epoch 22/50\n",
            "453/453 [==============================] - 26s 58ms/step - loss: 0.1027 - accuracy: 0.9096 - val_loss: 0.5783 - val_accuracy: 0.5766\n",
            "Epoch 23/50\n",
            "453/453 [==============================] - 27s 59ms/step - loss: 0.0978 - accuracy: 0.9137 - val_loss: 0.5758 - val_accuracy: 0.5827\n",
            "Epoch 24/50\n",
            "453/453 [==============================] - 27s 59ms/step - loss: 0.0933 - accuracy: 0.9197 - val_loss: 0.6481 - val_accuracy: 0.5852\n",
            "Epoch 25/50\n",
            "453/453 [==============================] - 26s 58ms/step - loss: 0.0810 - accuracy: 0.9324 - val_loss: 0.6770 - val_accuracy: 0.5871\n",
            "Epoch 26/50\n",
            "453/453 [==============================] - 26s 58ms/step - loss: 0.0841 - accuracy: 0.9285 - val_loss: 0.6230 - val_accuracy: 0.5791\n",
            "Epoch 27/50\n",
            "453/453 [==============================] - 26s 57ms/step - loss: 0.0887 - accuracy: 0.9251 - val_loss: 0.5825 - val_accuracy: 0.5871\n",
            "Epoch 28/50\n",
            "453/453 [==============================] - 26s 58ms/step - loss: 0.0791 - accuracy: 0.9353 - val_loss: 0.6900 - val_accuracy: 0.5909\n",
            "Epoch 29/50\n",
            "453/453 [==============================] - 26s 58ms/step - loss: 0.0708 - accuracy: 0.9405 - val_loss: 0.7102 - val_accuracy: 0.5849\n",
            "Epoch 30/50\n",
            "453/453 [==============================] - 26s 58ms/step - loss: 0.0633 - accuracy: 0.9478 - val_loss: 0.7490 - val_accuracy: 0.5818\n",
            "Epoch 31/50\n",
            "453/453 [==============================] - 27s 59ms/step - loss: 0.0621 - accuracy: 0.9491 - val_loss: 0.7046 - val_accuracy: 0.5774\n",
            "Epoch 32/50\n",
            "453/453 [==============================] - 26s 58ms/step - loss: 0.0602 - accuracy: 0.9509 - val_loss: 0.7820 - val_accuracy: 0.5769\n",
            "Epoch 33/50\n",
            "453/453 [==============================] - 26s 58ms/step - loss: 0.0586 - accuracy: 0.9527 - val_loss: 0.7693 - val_accuracy: 0.5749\n",
            "Epoch 34/50\n",
            "453/453 [==============================] - 26s 58ms/step - loss: 0.0555 - accuracy: 0.9540 - val_loss: 0.7433 - val_accuracy: 0.5849\n",
            "Epoch 35/50\n",
            "453/453 [==============================] - 26s 58ms/step - loss: 0.0529 - accuracy: 0.9561 - val_loss: 0.8215 - val_accuracy: 0.5725\n",
            "Epoch 36/50\n",
            "453/453 [==============================] - 26s 58ms/step - loss: 0.0543 - accuracy: 0.9559 - val_loss: 0.8131 - val_accuracy: 0.5758\n",
            "Epoch 37/50\n",
            "453/453 [==============================] - 26s 58ms/step - loss: 0.0489 - accuracy: 0.9598 - val_loss: 0.8782 - val_accuracy: 0.5716\n",
            "Epoch 38/50\n",
            "453/453 [==============================] - 26s 58ms/step - loss: 0.0442 - accuracy: 0.9642 - val_loss: 0.7811 - val_accuracy: 0.5771\n",
            "Epoch 39/50\n",
            "453/453 [==============================] - 26s 58ms/step - loss: 0.0455 - accuracy: 0.9618 - val_loss: 0.8590 - val_accuracy: 0.5791\n",
            "Epoch 40/50\n",
            "453/453 [==============================] - 26s 58ms/step - loss: 0.0435 - accuracy: 0.9646 - val_loss: 0.8467 - val_accuracy: 0.5807\n",
            "Epoch 41/50\n",
            "453/453 [==============================] - 26s 58ms/step - loss: 0.0382 - accuracy: 0.9683 - val_loss: 0.9133 - val_accuracy: 0.5807\n",
            "Epoch 42/50\n",
            "453/453 [==============================] - 26s 58ms/step - loss: 0.0344 - accuracy: 0.9717 - val_loss: 1.0011 - val_accuracy: 0.5656\n",
            "Epoch 43/50\n",
            "453/453 [==============================] - 26s 58ms/step - loss: 0.0351 - accuracy: 0.9695 - val_loss: 0.9387 - val_accuracy: 0.5661\n",
            "Epoch 44/50\n",
            "453/453 [==============================] - 27s 59ms/step - loss: 0.0387 - accuracy: 0.9671 - val_loss: 0.9326 - val_accuracy: 0.5725\n",
            "Epoch 45/50\n",
            "453/453 [==============================] - 27s 59ms/step - loss: 0.0321 - accuracy: 0.9734 - val_loss: 1.0143 - val_accuracy: 0.5722\n",
            "Epoch 46/50\n",
            "453/453 [==============================] - 27s 59ms/step - loss: 0.0283 - accuracy: 0.9762 - val_loss: 1.0701 - val_accuracy: 0.5730\n",
            "Epoch 47/50\n",
            "453/453 [==============================] - 27s 59ms/step - loss: 0.0263 - accuracy: 0.9783 - val_loss: 1.0239 - val_accuracy: 0.5802\n",
            "Epoch 48/50\n",
            "453/453 [==============================] - 27s 59ms/step - loss: 0.0288 - accuracy: 0.9772 - val_loss: 1.0768 - val_accuracy: 0.5716\n",
            "Epoch 49/50\n",
            "453/453 [==============================] - 27s 59ms/step - loss: 0.0282 - accuracy: 0.9771 - val_loss: 1.0314 - val_accuracy: 0.5633\n",
            "Epoch 50/50\n",
            "453/453 [==============================] - 27s 59ms/step - loss: 0.0250 - accuracy: 0.9806 - val_loss: 1.0863 - val_accuracy: 0.5758\n"
          ]
        }
      ]
    },
    {
      "cell_type": "code",
      "metadata": {
        "id": "PxwC3YrERfjp"
      },
      "source": [
        "import matplotlib.pyplot as plt\n",
        "import seaborn as sns"
      ],
      "execution_count": 72,
      "outputs": []
    },
    {
      "cell_type": "markdown",
      "metadata": {
        "id": "LbvwxDW-Q_8_"
      },
      "source": [
        "### Caso 1:\n",
        "Parámetros utilizados:\n",
        "* 10 Epochs\n",
        "* Embeddings de tamaño 50\n",
        "\n",
        "Resultados:\n",
        "- Valdation Loss: 0.35026976466178894\n",
        "- Accuracy: 0.6197836399078369"
      ]
    },
    {
      "cell_type": "code",
      "metadata": {
        "colab": {
          "base_uri": "https://localhost:8080/"
        },
        "id": "_tggxuk1Qgkr",
        "outputId": "922f868c-8d7a-4142-d4f1-71af23e68a20"
      },
      "source": [
        "model.evaluate(X_test, y_test)"
      ],
      "execution_count": 73,
      "outputs": [
        {
          "output_type": "stream",
          "name": "stdout",
          "text": [
            "142/142 [==============================] - 3s 19ms/step - loss: 0.3503 - accuracy: 0.6198\n"
          ]
        },
        {
          "output_type": "execute_result",
          "data": {
            "text/plain": [
              "[0.35026976466178894, 0.6197836399078369]"
            ]
          },
          "metadata": {},
          "execution_count": 73
        }
      ]
    },
    {
      "cell_type": "code",
      "metadata": {
        "colab": {
          "base_uri": "https://localhost:8080/",
          "height": 267
        },
        "id": "j-g-UMoSLkH3",
        "outputId": "3776349d-1edb-4880-a3b6-c453224ce030"
      },
      "source": [
        "epoch_count = range(1, len(hist.history['accuracy']) + 1)\n",
        "sns.lineplot(x=epoch_count,  y=hist.history['accuracy'], label='train')\n",
        "sns.lineplot(x=epoch_count,  y=hist.history['val_accuracy'], label='valid')\n",
        "plt.show()"
      ],
      "execution_count": 74,
      "outputs": [
        {
          "output_type": "display_data",
          "data": {
            "image/png": "[encoded data removed]",
            "text/plain": [
              "<Figure size 432x288 with 1 Axes>"
            ]
          },
          "metadata": {
            "needs_background": "light"
          }
        }
      ]
    },
    {
      "cell_type": "markdown",
      "metadata": {
        "id": "CRdmbvyTQwkQ"
      },
      "source": [
        "### Caso 2:\n",
        "Parámetros utilizados:\n",
        "* 50 Epochs\n",
        "* Embeddings de tamaño 100\n",
        "\n",
        "Resultados:\n",
        "- Valdation Loss: 1.0381869077682495\n",
        "- Accuracy: 0.5842349529266357\n",
        "\n"
      ]
    },
    {
      "cell_type": "code",
      "metadata": {
        "colab": {
          "base_uri": "https://localhost:8080/"
        },
        "id": "Z92zeE7ZLkNZ",
        "outputId": "69b89183-9863-43c8-ad28-8a67ea4418b0"
      },
      "source": [
        "model.evaluate(X_test, y_test)"
      ],
      "execution_count": 79,
      "outputs": [
        {
          "output_type": "stream",
          "name": "stdout",
          "text": [
            "142/142 [==============================] - 3s 19ms/step - loss: 1.0382 - accuracy: 0.5842\n"
          ]
        },
        {
          "output_type": "execute_result",
          "data": {
            "text/plain": [
              "[1.0381869077682495, 0.5842349529266357]"
            ]
          },
          "metadata": {},
          "execution_count": 79
        }
      ]
    },
    {
      "cell_type": "code",
      "metadata": {
        "colab": {
          "base_uri": "https://localhost:8080/",
          "height": 268
        },
        "id": "vOeEoY0eLkQe",
        "outputId": "c4c90960-0856-492e-baeb-2eced8401f1a"
      },
      "source": [
        "epoch_count = range(1, len(hist.history['accuracy']) + 1)\n",
        "sns.lineplot(x=epoch_count,  y=hist.history['accuracy'], label='train')\n",
        "sns.lineplot(x=epoch_count,  y=hist.history['val_accuracy'], label='valid')\n",
        "plt.show()"
      ],
      "execution_count": 80,
      "outputs": [
        {
          "output_type": "display_data",
          "data": {
            "image/png": "[encoded data removed]",
            "text/plain": [
              "<Figure size 432x288 with 1 Axes>"
            ]
          },
          "metadata": {
            "needs_background": "light"
          }
        }
      ]
    },
    {
      "cell_type": "markdown",
      "metadata": {
        "id": "Td9E4d7iYvf0"
      },
      "source": [
        "## **Conclusiones**\n",
        "Podemos preciar como al aumentar el tamaño de los embeddings y principalmente la cantidad de epoch, el entrenamiento logra mayor accuracy, a costa de aumentar casi el triple el tiempo de entrenamiento.\n",
        "Igualmente en ambos casos nos encontramos con mucho overfitting por lo que sería recomendable probar con un modelo más complejo."
      ]
    },
    {
      "cell_type": "code",
      "metadata": {
        "id": "klY4pdFsZ5ZI"
      },
      "source": [
        ""
      ],
      "execution_count": null,
      "outputs": []
    }
  ]
}