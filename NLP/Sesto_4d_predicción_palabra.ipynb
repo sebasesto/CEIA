{
  "nbformat": 4,
  "nbformat_minor": 0,
  "metadata": {
    "colab": {
      "name": "Sesto-4d - predicción_palabra.ipynb",
      "provenance": [],
      "collapsed_sections": [],
      "include_colab_link": true
    },
    "kernelspec": {
      "name": "python3",
      "display_name": "Python 3"
    },
    "language_info": {
      "name": "python"
    },
    "accelerator": "GPU"
  },
  "cells": [
    {
      "cell_type": "markdown",
      "metadata": {
        "id": "view-in-github",
        "colab_type": "text"
      },
      "source": [
        "<a href=\"https://colab.research.google.com/github/sebasesto/CEIA/blob/master/NLP/Sesto_4d_predicci%C3%B3n_palabra.ipynb\" target=\"_parent\"><img src=\"https://colab.research.google.com/assets/colab-badge.svg\" alt=\"Open In Colab\"/></a>"
      ]
    },
    {
      "cell_type": "markdown",
      "metadata": {
        "id": "g3yeJGnCYxuF"
      },
      "source": [
        "<a href=\"https://www.inove.com.ar\"><img src=\"https://github.com/hernancontigiani/ceia_memorias_especializacion/raw/master/Figures/logoFIUBA.jpg\" width=\"500\" align=\"center\"></a>\n",
        "\n",
        "\n",
        "# Procesamiento de lenguaje natural\n",
        "## Predicción de próxima palabra"
      ]
    },
    {
      "cell_type": "markdown",
      "metadata": {
        "id": "Iv5PEwGzZA9-"
      },
      "source": [
        "### Objetivo\n",
        "El objetivo es utilizar documentos / corpus para crear embeddings de palabras basado en ese contexto utilizando la layer Embedding de Keras. Se utilizará esos embeddings junto con layers LSTM para predeccir la próxima posible palabra."
      ]
    },
    {
      "cell_type": "code",
      "metadata": {
        "id": "Y-QdFbHZYj7C"
      },
      "source": [
        "import random\n",
        "import io\n",
        "import pickle\n",
        "\n",
        "import numpy as np\n",
        "import pandas as pd\n",
        "\n",
        "from tensorflow import keras\n",
        "from tensorflow.keras import layers\n",
        "from keras.utils.np_utils import to_categorical\n",
        "from keras.models import Sequential\n",
        "from keras.layers import Dense, LSTM, Embedding, Dropout\n",
        "from keras.preprocessing.text import Tokenizer # equivalente a ltokenizer de nltk\n",
        "from keras.preprocessing.text import text_to_word_sequence # equivalente a word_teokenize de nltk\n",
        "from keras.preprocessing.sequence import pad_sequences # se utilizará para padding\n"
      ],
      "execution_count": 7,
      "outputs": []
    },
    {
      "cell_type": "markdown",
      "metadata": {
        "id": "xTvXlEKQZdqx"
      },
      "source": [
        "### Datos\n",
        "Utilizaremos como dataset canciones de bandas de habla inglés."
      ]
    },
    {
      "cell_type": "code",
      "metadata": {
        "id": "IkdPfrQJZdB5",
        "colab": {
          "base_uri": "https://localhost:8080/"
        },
        "outputId": "24359029-adb6-4916-f3b0-f266ae87a73e"
      },
      "source": [
        "# Descargar la carpeta de dataset\n",
        "import os\n",
        "import gdown\n",
        "if os.access('./songs_dataset', os.F_OK) is False:\n",
        "    if os.access('simpsons_dataset.zip', os.F_OK) is False:\n",
        "        url = 'https://drive.google.com/uc?id=1VLVgb3fD02XrF2V5OruKvQTOT91juXcs&export=download'\n",
        "        output = 'songs_dataset.zip'\n",
        "        gdown.download(url, output, quiet=False)\n",
        "    !unzip -q songs_dataset.zip\n",
        "else:\n",
        "    print(\"El dataset ya se encuentra descargado\")"
      ],
      "execution_count": 8,
      "outputs": [
        {
          "output_type": "stream",
          "name": "stdout",
          "text": [
            "El dataset ya se encuentra descargado\n"
          ]
        }
      ]
    },
    {
      "cell_type": "code",
      "metadata": {
        "id": "6j-3nQ4lZjfb",
        "colab": {
          "base_uri": "https://localhost:8080/"
        },
        "outputId": "3a2933dc-893e-4475-ee4b-d6bc8758bd6b"
      },
      "source": [
        "# Posibles bandas\n",
        "os.listdir(\"./songs_dataset/\")"
      ],
      "execution_count": 9,
      "outputs": [
        {
          "output_type": "execute_result",
          "data": {
            "text/plain": [
              "['notorious_big.txt',\n",
              " 'drake.txt',\n",
              " 'bob-marley.txt',\n",
              " 'michael-jackson.txt',\n",
              " 'bruce-springsteen.txt',\n",
              " 'bruno-mars.txt',\n",
              " 'alicia-keys.txt',\n",
              " 'bob-dylan.txt',\n",
              " 'amy-winehouse.txt',\n",
              " 'Lil_Wayne.txt',\n",
              " 'dr-seuss.txt',\n",
              " 'dj-khaled.txt',\n",
              " 'britney-spears.txt',\n",
              " 'al-green.txt',\n",
              " 'bjork.txt',\n",
              " 'nursery_rhymes.txt',\n",
              " 'ludacris.txt',\n",
              " 'johnny-cash.txt',\n",
              " 'notorious-big.txt',\n",
              " 'nicki-minaj.txt',\n",
              " 'cake.txt',\n",
              " 'beatles.txt',\n",
              " 'r-kelly.txt',\n",
              " 'lin-manuel-miranda.txt',\n",
              " 'nirvana.txt',\n",
              " 'janisjoplin.txt',\n",
              " 'rihanna.txt',\n",
              " 'lorde.txt',\n",
              " 'dickinson.txt',\n",
              " 'adele.txt',\n",
              " 'paul-simon.txt',\n",
              " 'patti-smith.txt',\n",
              " 'radiohead.txt',\n",
              " 'leonard-cohen.txt',\n",
              " 'jimi-hendrix.txt',\n",
              " 'disney.txt',\n",
              " 'nickelback.txt',\n",
              " 'missy-elliott.txt',\n",
              " 'blink-182.txt',\n",
              " 'Kanye_West.txt',\n",
              " 'lil-wayne.txt',\n",
              " 'kanye.txt',\n",
              " 'eminem.txt',\n",
              " 'bieber.txt',\n",
              " 'kanye-west.txt',\n",
              " 'joni-mitchell.txt',\n",
              " 'lady-gaga.txt',\n",
              " 'prince.txt',\n",
              " 'dolly-parton.txt']"
            ]
          },
          "metadata": {},
          "execution_count": 9
        }
      ]
    },
    {
      "cell_type": "code",
      "metadata": {
        "id": "Gb39v3PaZmRH",
        "colab": {
          "base_uri": "https://localhost:8080/",
          "height": 403
        },
        "outputId": "e63a4125-c000-4484-a3fa-73bf003b786d"
      },
      "source": [
        "# Armar el dataset utilizando salto de línea para separar las oraciones/docs\n",
        "df = pd.read_csv('songs_dataset/disney.txt', sep='/n', header=None)\n",
        "df.head(10)"
      ],
      "execution_count": 10,
      "outputs": [
        {
          "output_type": "stream",
          "name": "stderr",
          "text": [
            "/usr/local/lib/python3.7/dist-packages/ipykernel_launcher.py:2: ParserWarning: Falling back to the 'python' engine because the 'c' engine does not support regex separators (separators > 1 char and different from '\\s+' are interpreted as regex); you can avoid this warning by specifying engine='python'.\n",
            "  \n"
          ]
        },
        {
          "output_type": "execute_result",
          "data": {
            "text/html": [
              "<div>\n",
              "<style scoped>\n",
              "    .dataframe tbody tr th:only-of-type {\n",
              "        vertical-align: middle;\n",
              "    }\n",
              "\n",
              "    .dataframe tbody tr th {\n",
              "        vertical-align: top;\n",
              "    }\n",
              "\n",
              "    .dataframe thead th {\n",
              "        text-align: right;\n",
              "    }\n",
              "</style>\n",
              "<table border=\"1\" class=\"dataframe\">\n",
              "  <thead>\n",
              "    <tr style=\"text-align: right;\">\n",
              "      <th></th>\n",
              "      <th>0</th>\n",
              "    </tr>\n",
              "  </thead>\n",
              "  <tbody>\n",
              "    <tr>\n",
              "      <th>0</th>\n",
              "      <td>When somebody loved me</td>\n",
              "    </tr>\n",
              "    <tr>\n",
              "      <th>1</th>\n",
              "      <td>Everything was beautiful</td>\n",
              "    </tr>\n",
              "    <tr>\n",
              "      <th>2</th>\n",
              "      <td>Every hour we spent together</td>\n",
              "    </tr>\n",
              "    <tr>\n",
              "      <th>3</th>\n",
              "      <td>Lives within my heart And when she was sad</td>\n",
              "    </tr>\n",
              "    <tr>\n",
              "      <th>4</th>\n",
              "      <td>I was there to dry her tears</td>\n",
              "    </tr>\n",
              "    <tr>\n",
              "      <th>5</th>\n",
              "      <td>And when she was happy so was I</td>\n",
              "    </tr>\n",
              "    <tr>\n",
              "      <th>6</th>\n",
              "      <td>When she loved me Through the summer and the fall</td>\n",
              "    </tr>\n",
              "    <tr>\n",
              "      <th>7</th>\n",
              "      <td>We had each other that was all</td>\n",
              "    </tr>\n",
              "    <tr>\n",
              "      <th>8</th>\n",
              "      <td>Just she and I together</td>\n",
              "    </tr>\n",
              "    <tr>\n",
              "      <th>9</th>\n",
              "      <td>Like it was meant to be And when she was lonely</td>\n",
              "    </tr>\n",
              "  </tbody>\n",
              "</table>\n",
              "</div>"
            ],
            "text/plain": [
              "                                                   0\n",
              "0                             When somebody loved me\n",
              "1                           Everything was beautiful\n",
              "2                       Every hour we spent together\n",
              "3         Lives within my heart And when she was sad\n",
              "4                       I was there to dry her tears\n",
              "5                    And when she was happy so was I\n",
              "6  When she loved me Through the summer and the fall\n",
              "7                     We had each other that was all\n",
              "8                            Just she and I together\n",
              "9    Like it was meant to be And when she was lonely"
            ]
          },
          "metadata": {},
          "execution_count": 10
        }
      ]
    },
    {
      "cell_type": "code",
      "metadata": {
        "id": "riT898QlZnmF",
        "colab": {
          "base_uri": "https://localhost:8080/"
        },
        "outputId": "43c77b01-b567-4ad0-8a8f-78309da9f22f"
      },
      "source": [
        "print(\"Cantidad de documentos:\", df.shape[0])"
      ],
      "execution_count": 11,
      "outputs": [
        {
          "output_type": "stream",
          "name": "stdout",
          "text": [
            "Cantidad de documentos: 2499\n"
          ]
        }
      ]
    },
    {
      "cell_type": "markdown",
      "metadata": {
        "id": "RDoouHp7Zp6D"
      },
      "source": [
        "### 1 - Ejemplo de Preprocesamiento\n",
        "- Hay que transformar las oraciones en tokens.\n",
        "- Dichas oraciones hay que ajustarlas al tamaño fijo de nuestra sentencia de entrada al modelo.\n",
        "- Hay que separar las palabras objetivos (target) que el modelo debe predecir en cada sentencia armada."
      ]
    },
    {
      "cell_type": "code",
      "metadata": {
        "id": "Zf3O7eK6ZpP8",
        "colab": {
          "base_uri": "https://localhost:8080/",
          "height": 35
        },
        "outputId": "66cf3c91-6402-45ec-f6a3-ba4d45a0642c"
      },
      "source": [
        "# largo de la secuencia, incluye seq input + word output\n",
        "train_len = 4\n",
        "# Ejemplo de como transformar una oración a tokens usando keras\n",
        "text = df.loc[3,0]\n",
        "text"
      ],
      "execution_count": 34,
      "outputs": [
        {
          "output_type": "execute_result",
          "data": {
            "application/vnd.google.colaboratory.intrinsic+json": {
              "type": "string"
            },
            "text/plain": [
              "'Lives within my heart And when she was sad'"
            ]
          },
          "metadata": {},
          "execution_count": 34
        }
      ]
    },
    {
      "cell_type": "code",
      "metadata": {
        "id": "AOv67Sj7aeFH",
        "colab": {
          "base_uri": "https://localhost:8080/"
        },
        "outputId": "641e4a96-d231-44c3-a1a9-7c71d00eb4ea"
      },
      "source": [
        "tokens = text_to_word_sequence(text) # entran oraciones -> salen vectores de N posiciones (tokens)\n",
        "tokens"
      ],
      "execution_count": 35,
      "outputs": [
        {
          "output_type": "execute_result",
          "data": {
            "text/plain": [
              "['lives', 'within', 'my', 'heart', 'and', 'when', 'she', 'was', 'sad']"
            ]
          },
          "metadata": {},
          "execution_count": 35
        }
      ]
    },
    {
      "cell_type": "markdown",
      "metadata": {
        "id": "ZrlyqkoiaymK"
      },
      "source": [
        "1.1 - Transformar las oraciones en secuencias (tokens) de palabras"
      ]
    },
    {
      "cell_type": "code",
      "metadata": {
        "id": "XH_L14Wjaowe"
      },
      "source": [
        "# Recorrer todas las filas y transformar las oraciones\n",
        "# en secuencias de palabras\n",
        "sentence_tokens = []\n",
        "for _, row in df[:None].iterrows():\n",
        "    sentence_tokens.append(text_to_word_sequence(row[0]))"
      ],
      "execution_count": 36,
      "outputs": []
    },
    {
      "cell_type": "code",
      "metadata": {
        "id": "KASzU4CdaxbZ",
        "colab": {
          "base_uri": "https://localhost:8080/"
        },
        "outputId": "13e21e56-242f-4d0a-b0cc-f57a7d5dd0ad"
      },
      "source": [
        "# Demos un vistazo\n",
        "sentence_tokens[:5]"
      ],
      "execution_count": 37,
      "outputs": [
        {
          "output_type": "execute_result",
          "data": {
            "text/plain": [
              "[['when', 'somebody', 'loved', 'me'],\n",
              " ['everything', 'was', 'beautiful'],\n",
              " ['every', 'hour', 'we', 'spent', 'together'],\n",
              " ['lives', 'within', 'my', 'heart', 'and', 'when', 'she', 'was', 'sad'],\n",
              " ['i', 'was', 'there', 'to', 'dry', 'her', 'tears']]"
            ]
          },
          "metadata": {},
          "execution_count": 37
        }
      ]
    },
    {
      "cell_type": "code",
      "metadata": {
        "id": "A659lswTbIIB",
        "colab": {
          "base_uri": "https://localhost:8080/"
        },
        "outputId": "db9597f3-1290-49c0-ed48-798faa378056"
      },
      "source": [
        "# Código para hacer el desfazaje de las palabras\n",
        "# según el train_len\n",
        "text_sequences = []\n",
        "print(train_len)\n",
        "print(len(tokens))\n",
        "\n",
        "for i in range(train_len, len(tokens)):\n",
        "  seq = tokens[i-train_len:i]\n",
        "  text_sequences.append(seq)\n"
      ],
      "execution_count": 39,
      "outputs": [
        {
          "output_type": "stream",
          "name": "stdout",
          "text": [
            "4\n",
            "9\n"
          ]
        }
      ]
    },
    {
      "cell_type": "code",
      "metadata": {
        "id": "01JEoPPnbgRF",
        "colab": {
          "base_uri": "https://localhost:8080/"
        },
        "outputId": "311e48e6-e966-467e-c224-62deda6b6b3b"
      },
      "source": [
        "# Demos un vistazo a nuestros vectores para entrenar el modelo\n",
        "text_sequences "
      ],
      "execution_count": 40,
      "outputs": [
        {
          "output_type": "execute_result",
          "data": {
            "text/plain": [
              "[['lives', 'within', 'my', 'heart'],\n",
              " ['within', 'my', 'heart', 'and'],\n",
              " ['my', 'heart', 'and', 'when'],\n",
              " ['heart', 'and', 'when', 'she'],\n",
              " ['and', 'when', 'she', 'was']]"
            ]
          },
          "metadata": {},
          "execution_count": 40
        }
      ]
    },
    {
      "cell_type": "markdown",
      "metadata": {
        "id": "4B0gHnKVa4W_"
      },
      "source": [
        "1.2 - Crear los vectores de palabras (word2vec)\n",
        "\n",
        "Ahora necesitamos pasarlos a números para que lo entienda la red y separar input de output.\n",
        "- El Input seran integers (word2vec)\n",
        "- Mientras que el output será one hot encodeado (labels) del tamaño del vocabulario"
      ]
    },
    {
      "cell_type": "code",
      "metadata": {
        "id": "fkPNvXeQcS0U"
      },
      "source": [
        "tok = Tokenizer() \n",
        "\n",
        "# El tokeinzer \"aprende\" las palabras que se usaran\n",
        "# Se construye (fit) una vez por proyecto, se aplica N veces (tal cual un encoder)\n",
        "tok.fit_on_texts(text_sequences) \n",
        "\n",
        "# Convertimos las palabras a números\n",
        "# entran palabras -> salen números\n",
        "sequences = tok.texts_to_sequences(text_sequences)"
      ],
      "execution_count": 41,
      "outputs": []
    },
    {
      "cell_type": "code",
      "metadata": {
        "id": "4SIc44IocyQb",
        "colab": {
          "base_uri": "https://localhost:8080/"
        },
        "outputId": "3e17eb69-a6f7-4b0d-eb66-4aa9fd775bee"
      },
      "source": [
        "# Ahora sequences tiene los números \"ID\", largo 4\n",
        "sequences"
      ],
      "execution_count": 42,
      "outputs": [
        {
          "output_type": "execute_result",
          "data": {
            "text/plain": [
              "[[7, 5, 3, 1], [5, 3, 1, 2], [3, 1, 2, 4], [1, 2, 4, 6], [2, 4, 6, 8]]"
            ]
          },
          "metadata": {},
          "execution_count": 42
        }
      ]
    },
    {
      "cell_type": "code",
      "metadata": {
        "id": "3ro81yCQc1oX",
        "colab": {
          "base_uri": "https://localhost:8080/"
        },
        "outputId": "fc286f62-b3fd-495a-b69c-f16cd68490b7"
      },
      "source": [
        "# Cantidad de casos (doc) de entrada\n",
        "print(tok.document_count)"
      ],
      "execution_count": 43,
      "outputs": [
        {
          "output_type": "stream",
          "name": "stdout",
          "text": [
            "5\n"
          ]
        }
      ]
    },
    {
      "cell_type": "code",
      "metadata": {
        "id": "nzAWNfroc4u1",
        "colab": {
          "base_uri": "https://localhost:8080/"
        },
        "outputId": "2b66ae09-ca18-43ff-b5c6-f14b8bf48186"
      },
      "source": [
        "# Cantidad de veces que aparece cada palabra\n",
        "print(len(tok.word_counts))"
      ],
      "execution_count": 44,
      "outputs": [
        {
          "output_type": "stream",
          "name": "stdout",
          "text": [
            "8\n"
          ]
        }
      ]
    },
    {
      "cell_type": "code",
      "metadata": {
        "id": "spTBxmFQc6h8",
        "colab": {
          "base_uri": "https://localhost:8080/"
        },
        "outputId": "40f9d960-bae9-4b39-d4b7-144130a15236"
      },
      "source": [
        "# El índice para cada palabra\n",
        "# El sistema las ordena de las más populares a las menos populares\n",
        "print(tok.word_index)"
      ],
      "execution_count": 45,
      "outputs": [
        {
          "output_type": "stream",
          "name": "stdout",
          "text": [
            "{'heart': 1, 'and': 2, 'my': 3, 'when': 4, 'within': 5, 'she': 6, 'lives': 7, 'was': 8}\n"
          ]
        }
      ]
    },
    {
      "cell_type": "code",
      "metadata": {
        "id": "nUDkjy80c77h",
        "colab": {
          "base_uri": "https://localhost:8080/"
        },
        "outputId": "8d6f9e47-e0f1-4b37-9b56-0e4e83de245e"
      },
      "source": [
        "# Cantidad de veces quea aparece cada palabra en cada \"documento\"\n",
        "# (1 documento = 1 caso de entrada)\n",
        "print(tok.word_docs)"
      ],
      "execution_count": 46,
      "outputs": [
        {
          "output_type": "stream",
          "name": "stdout",
          "text": [
            "defaultdict(<class 'int'>, {'my': 3, 'heart': 4, 'lives': 1, 'within': 2, 'and': 4, 'when': 3, 'she': 2, 'was': 1})\n"
          ]
        }
      ]
    },
    {
      "cell_type": "markdown",
      "metadata": {
        "id": "ohS5Tao1d2KB"
      },
      "source": [
        "### 2 - Preprocesamiento completo\n",
        "Debemos realizar los mismos pasos que en el ejemplo anterior, pero antes de eso debemos transformar ese dataset de filas de oraciones en un texto completo continuo para poder extraer el vocabulario."
      ]
    },
    {
      "cell_type": "code",
      "metadata": {
        "id": "63Z2-Se2t27r",
        "colab": {
          "base_uri": "https://localhost:8080/"
        },
        "outputId": "dd790de7-3f7a-40a2-c122-e50508443581"
      },
      "source": [
        "# Vistazo a las primeras filas\n",
        "df.loc[:15,0]"
      ],
      "execution_count": 47,
      "outputs": [
        {
          "output_type": "execute_result",
          "data": {
            "text/plain": [
              "0                                When somebody loved me\n",
              "1                              Everything was beautiful\n",
              "2                          Every hour we spent together\n",
              "3            Lives within my heart And when she was sad\n",
              "4                          I was there to dry her tears\n",
              "5                       And when she was happy so was I\n",
              "6     When she loved me Through the summer and the fall\n",
              "7                        We had each other that was all\n",
              "8                               Just she and I together\n",
              "9       Like it was meant to be And when she was lonely\n",
              "10                           I was there to comfort her\n",
              "11    And I knew that she loved me So the years went by\n",
              "12                                    I stayed the same\n",
              "13                              She began to drift away\n",
              "14          I was left alone Still I waited for the day\n",
              "15                                       When she'd say\n",
              "Name: 0, dtype: object"
            ]
          },
          "metadata": {},
          "execution_count": 47
        }
      ]
    },
    {
      "cell_type": "code",
      "metadata": {
        "id": "kILsSoxTuHEr",
        "colab": {
          "base_uri": "https://localhost:8080/",
          "height": 165
        },
        "outputId": "7cb224eb-7d11-4ae1-f937-2eba2efe84d0"
      },
      "source": [
        "# Concatenamos todos los rows en un solo valor\n",
        "corpus = df.apply(lambda row: ' '.join(row.values.astype(str)), axis=0)[0]\n",
        "corpus"
      ],
      "execution_count": 48,
      "outputs": [
        {
          "output_type": "execute_result",
          "data": {
            "application/vnd.google.colaboratory.intrinsic+json": {
              "type": "string"
            },
            "text/plain": [
              "'When somebody loved me Everything was beautiful Every hour we spent together Lives within my heart And when she was sad I was there to dry her tears And when she was happy so was I When she loved me Through the summer and the fall We had each other that was all Just she and I together Like it was meant to be And when she was lonely I was there to comfort her And I knew that she loved me So the years went by I stayed the same She began to drift away I was left alone Still I waited for the day When she\\'d say I will always love you Lonely and forgotten Never thought she\\'d look my way She smiled at me and held me Just like she used to do Like she loved me When she loved me When somebody loved me Everything was beautiful Every hour we spent together Lives within my heart When she loved me, hey Sentimentos são Fáceis de mudar Mesmo entre quem Não vê que alguém Pode ser seu par Basta um olhar Que o outro não espera Para assustar e até perturbar Mesmo a bela e a fera Sentimento assim Sempre é uma surpresa Quando ele vem Nada o detém É uma chama acesa Sentimentos vêm Para nos trazer Novas sensações Doces emoções E um novo prazer E numa estação Como a primavera Sentimentos são Como uma canção Para a bela e a fera Sentimentos são Como uma canção Para a bela e a fera Para a bela e a fera Tale as old as time True as it can be Barely even friends Then somebody bends Unexpectedly. Just a little change Small to say the least Both a little scared Neither one prepared Beauty and the Beast Ever just the same Ever a surprise Ever as before Ever just as sure As the sun will rise Tale as old as time Tune as old as song Bittersweet and strange Finding you can change Learning you were wrong Certain as the sun Rising in the east Tale as old as time Song as old as rhyme Beauty and the Beast Tale as old as time Song as old as rhyme Beauty and the Beast Look at this stuff, isn\\'t it neat? Wouldn\\'t you think my collection\\'s complete? Wouldn\\'t you think I\\'m the girl The girl who has everything? Look at this trove, treasures untold How many wonders can one cavern hold? Lookin\\' around here you\\'d think Sure, she\\'s got everything I\\'ve got gadgets and gizmos aplenty I\\'ve got whooz-its and whatz-its galore You want thingamabobs? I got twenty But who cares? No big deal I want more I want to be where the people are I want to see Want to see \\'em dancing Walking around on those Whadd\\'ya call \\'em? Oh, feet Flipping your fins you don\\'t get too far Legs are required for jumping, dancing Strolling along down a What\\'s that word again? Street Up where they walk Up where they run Up where they stay all day in the sun Wandering free Wish I could be Part of that world What would I give If I could live Out of these waters? What would I pay To spend a day Warm on the sand? Betcha on land They understand That they don\\'t reprimand their daughters Bright young women Sick of swimming Ready to stand And I\\'m ready to know what the people know Ask \\'em my questions And get some answers What\\'s a fire and why does it What\\'s the word? Burn? When\\'s it my turn? Wouldn\\'t I love Love to explore that shore above? Out of the sea Wish I could be Part of that world Out of the sea Wish I could be Part of your world You think I\\'m an ignorant savage And you\\'ve been so many places I guess it must be so But still I cannot see If the savage one is me How can there be so much that you don\\'t know You don\\'t know You think you own whatever land you land on The Earth is just a dead thing you can claim But I know every rock and tree and creature Has a life, has a spirit, has a name You think the only people who are people Are the people who look and think like you But if you walk the footsteps of a stranger You\\'ll learn things you never knew, you never knew Have you ever heard the wolf cry to the blue corn moon Or asked the grinning bobcat why he grinned Can you sing with all the voices of the mountains Can you paint with all the colors of the wind Can you paint with all the colors of the wind Come run the hidden pine trails of the forest Come taste the sun sweet berries of the Earth Come roll in all the riches all around you And for once, never wonder what they\\'re worth The rainstorm and the river are my brothers The heron and the otter are my friends And we are all connected to each other In a circle, in a hoop that never ends How high will the sycamore grow If you cut it down, then you\\'ll never know And you\\'ll never hear the wolf cry to the blue corn moon For whether we are white or copper skinned We need to sing with all the voices of the mountains We need to paint with all the colors of the wind You can own the Earth and still All you\\'ll own is Earth until You can paint with all the colors of the wind It\\'s a small world, it\\'s a small world It\\'s a small world, it\\'s a small world It\\'s a world of laughter, a world of tears It\\'s a world of hope and a world of fears There\\'s so much that we share, that it\\'s time we\\'re aware It\\'s a small world after all (Everybody now) it\\'s a small world after all, it\\'s a small world after all (Everybody now) it\\'s a small world after all, it\\'s a small, small, small, small world There is just one moon and one golden sun And a smile means friendship to everyone Though the mountains be wide and the oceans are wide It\\'s a small world after all (Come on, come on) (Everybody now) it\\'s a small world after all (can you hear me now) it\\'s a small world after all (Everybody now) it\\'s a small world after all, it\\'s a small, small, small, small world It\\'s a small world after all, no matter if you\\'re big or small Come on everybody let\\'s bounce to this Let\\'s play some love with a little twist It\\'s a small world, it\\'s a small world It\\'s a world of laughter, a world of tears It\\'s a world of hope and a world of fears There\\'s so much that we share, that it\\'s time we\\'re aware It\\'s a small world after all, it\\'s a small world (Everybody now) it\\'s a small world after all, it\\'s a small world after all (Everybody now) it\\'s a small world after all, it\\'s a small, small, small, small world (can you hear me now?) It\\'s a small world after all (come on, come on) It\\'s a small, small, small, small world (come on, come on) It\\'s a small world, after all (can you hear me now?) It\\'s a small world after all (come on, come on) It\\'s a small world after all It\\'s a small, small, small, small world (pretty small eh) It\\'s a small world after all, it\\'s a small world after all It\\'s a small world after all, it\\'s a small, small, small, small world It\\'s a small world after all, it\\'s a small world after all It\\'s a small world after all, it\\'s a small, small, small, small world A dream is a wish your heart makes When you\\'re fast asleep In dreams you will loose your heartache Whatever you wish for, you keep Have faith in your dreams and someday Your rainbow will come smiling through No matter how your heart is grieving If you keep on believing The dream that you wish will come true Oh, that clock! Oh, killjoy I hear you, come on, get up you say Time to start another day Even he orders me around Well, there\\'s one thing They can\\'t order me to stop dreaming And perhaps someday The dreams that I wish will come true No matter how your heart is grieving If you keep on believing The dream that you wish will come true I\\'ve been staring at the edge of the water Long as I can remember Never really knowing why I wish I could be the perfect daughter But I come back to the water No matter how hard I try Every turn I take Every trail I track Every path I make Every road leads back to the place I know Where I cannot go Where I long to be See the line where the sky meets the sea It calls me And no one knows how far it goes If the wind in my sail on the sea stays behind me One day I\\'ll know If I go there\\'s just no telling how far I\\'ll go I know everybody on this island Seems so happy on this island Everything is by design I know everybody on this island Has a role on this island So maybe I can roll with mine I can lead with pride I can make us strong I\\'ll be satisfied if I play along But the voice inside sings a different song What is wrong with me See the light as it shines on the sea It\\'s blinding But no one knows how deep it goes And it seems like it\\'s calling out to me So come find me And let me know What\\'s beyond that line Will I cross that line The line where the sky meets the sea It calls me And no one knows how far it goes If the wind in my sail on the sea stays behind me One day I\\'ll know How far I\\'ll go Look at me I will never pass for a perfect bride Or a perfect daughter Can it be I\\'m not meant to play this part? Now I see That if I were truly to be myself I would break my fam\\'ly\\'s heart Who is that girl I see Staring straight Back at me? Why is my reflection someone I don\\'t know? Somehow I cannot hide Who I am Though I\\'ve tried When will my reflection show Who I am inside? When will my reflection show Who I am inside? When you wish upon a star Makes no difference who you are Anything your heart desires Will come to you If your heart is in your dream No request is too extreme When you wish upon a star As dreamers do Fate is kind She brings to those to love The sweet fulfillment of Their secret longing Like a bolt out of the blue Fate steps in and sees you through When you wish upon a star Your dreams come true Belle: There\\'s something sweet and almost kind But he was mean and he was coarse and unrefined And now he\\'s dear and so unsure I wonder why I didn\\'t see it there before Beast: She glanced this way, I thought I saw And when we touched she didn\\'t shudder at my paw No it can\\'t be, I\\'ll just ignore But then she\\'s never looked at me that way before Belle: New and a bit alarming Who\\'d have ever thought that this could be? True that he\\'s no Prince Charming But there\\'s something in him that I simply didn\\'t see Lumiere: Well, who\\'d have thought? Mrs Potts: Well, bless my soul Cogsworth: Well, who\\'d have known? Mrs Potts: Well, who indeed? Lumiere: And who\\'d have guessed they\\'d come together on their own? Mrs Potts: It\\'s so peculiar, Wait and see. All three: We\\'ll wait and see A few days more There may be something there that wasn\\'t there before Cogsworth: Well here\\'s a thought, perhaps there\\'s something there that wasn\\'t there before Chip: What mama? Mrs Potts: There may be something there that wasn\\'t there before If there\\'s a prize for rotten judgment I guess I\\'ve already won that No man is worth the aggravation That\\'s ancient history, been there, done that Who d\\'you think you\\'re kidding He\\'s the earth and heaven to you Try to keep it hidden Honey we can see right through you (Oh no) Girl, you can\\'t conceal it We know how you\\'re feeling Who you thinking of? No chance, no way, I won\\'t say it, no, no You swoon, you sigh, why deny it, oh, oh It\\'s too cliché, I won\\'t say I\\'m in love I thought my heart had learned its lesson It feels so good when you start out My head is screaming \"get a grip, girl\" \"Unless you\\'re dying to cry your heart out\" Girl, you can\\'t deny it Who you are and how you\\'re feeling Baby we\\'re not buying Hon we saw you hit the ceiling Face it like a grown-up When you gonna own up that you got, got, got it bad? No chance, no way, I won\\'t say it, no no Give up, give in, check the grin, you\\'re in love This scene won\\'t play, I won\\'t say I\\'m in love We\\'ll do it until you admit you\\'re in love You\\'re way off base, I won\\'t say it Get off my case, I won\\'t say it Girl don\\'t be proud, it\\'s okay you\\'re in love At least out loud I won\\'t say I\\'m in love Tale as old as time True as it can be Barely even friends Then somebody bends Unexpectedly. Just a little change Small to say the least Both a little scared Neither one prepared Beauty and the Beast Ever just the same Ever a surprise Ever as before Ever just as sure As the sun will rise Tale as old as time Tune as old as song Bittersweet and strange Finding you can change Learning you were wrong Certain as the sun Rising in the east Tale as old as time Song as old as rhyme Beauty and the Beast Tale as old as time Song as old as rhyme Beauty and the Beast Little town It\\'s a quiet village Every day Like the one before Little town Full of little people Waking up to say Bonjour Bonjour Bonjour Bonjour Bonjour There goes the baker with his tray, like always The same old bread and rolls to sell Every morning just the same Since the morning that we came To this poor provincial town Good Morning, Belle \\'Morning, Monsieur Where are you off to The bookshop. I just finished the most wonderful story about a beanstalk and an ogre and a That\\'s nice. Marie, the baguettes hurry up Look there she goes that girl is strange, no question Dazed and distracted, can\\'t you tell Never part of any crowd \\'Cause her head\\'s up on some cloud No denying she\\'s a funny girl that Belle Bonjour Good day How is your family Bonjour Good day How is your wife I need six eggs That\\'s too expensive There must be more than this provincial life Ah, Belle Good Morning. I\\'ve come to return the book I borrowed Finished already Oh, I couldn\\'t put it down. Have you got anything new Ha Ha! Not since yesterday That\\'s all right. I\\'ll borrow, this one That one? But you\\'ve read it twice Well, it\\'s my favorite! Far off places, daring sword fights magic spells, a prince in disguise If you like it all that much, it\\'s yours But sir I insist Well, thank you. Thank you very much Look there she goes that girl is so peculiar I wonder if she\\'s feeling well With a dreamy far-off look And her nose stuck in a book What a puzzle to the rest of us is Belle Oh, isn\\'t this amazing? It\\'s my favorite part because you\\'ll see Here\\'s where she meets Prince Charming But she won\\'t discover that it\\'s him \\'til chapter three Now it\\'s no wonder that her name means \"beauty\" Her looks have got no parallel But behind that fair facade I\\'m afraid she\\'s rather odd Very diff\\'rent from the rest of us She\\'s nothing like the rest of us Yes, diff\\'rent from the rest of us is Belle Wow! You didn\\'t miss a shot, Gaston, You\\'re the greatest hunter in the whole world! I know. No beast alive stands a chance against you. Ha ha ha and no girl, for that matter. It\\'s true, LeFou. And I\\'ve got my sights set on that one Hmm the inventor\\'s daughter She\\'s the one - the lucky girl I\\'m going to marry But she\\'s The most beautiful girl in town. I know, but That makes her the best. And don\\'t I deserve the best Well, of course! I mean you do, but Right from the moment when I met her, saw her I said she\\'s gorgeous and I fell Here in town there\\'s only she Who is beautiful as me So I\\'m making plans to woo and marry Belle Look there he goes Isn\\'t he dreamy Monsieur Gaston Oh he\\'s so cute Be still my heart I\\'m hardly breathing He\\'s such a tall, dark, strong and handsome brute Bonjour Pardon Good day Mais oui You call this bacon What lovely grapes Some cheese Ten yards One pound \\'Scuse me I\\'ll get the knife Please let me through This bread Those fish It\\'s stale They smell Madame\\'s mistaken There must be more than this provincial life Just watch, I\\'m going to make Belle my wife Look there she goes a girl who\\'s strange but special A most peculiar mademoiselle It\\'s a pity and a sin She doesn\\'t quite fit in \\'Cause she really is a funny girl A beauty but a funny girl She really is a funny girl That Belle Master, I don\\'t think you quite realize what you got here! So, why don\\'t you just ruminate, Whilst I illuminate the possibilities! Well, Ali Baba had them forty thieves, Scheherazade had a thousand tales. But master you\\'re in luck, \\'cause up your sleeves You\\'ve got a brand of magic never fails You\\'ve got some power in your corner now! Some heavy ammunition in your camp! You got some punch, pizzaz, yahoo and how... See, all you gotta do is rub that lamp, and I\\'ll say: Chorus: \"Mr. Aladdin, sir, what will your pleasure be? Let me take your order, jot it down?\" You ain\\'t never had friend like me Life is your restaurant and I\\'m your maitre\\'d Come on whisper what it is you want; You ain\\'t never had friend like me! Yes sir, we pride ourselves on service. You\\'re the boss, the king, the shah. Say what you wish; it\\'s yours, true dish. How \\'bout a little more baklava? Have some of column A try All of column B, I\\'m in the mood to help you, dude. You ain\\'t never had friend like me Oh my. No no. My my my. Can your friends do this? Can your friends do that? Can your friends pull this Out their little hat? Can your friends go poof? Well looky here! Can your friends go abracadabra, let her rip, And then make the sucker disappear? So don\\'t just sit there slack-jawed, buggy-eyed, I\\'m here to answer all your midnight prayers, You\\'ve got me bona fide certified; You\\'ve got a genie for charge d\\'affaires. I\\'ve got a powerful urge to help you out, So what you wish, I really wanna know? You\\'ve got a list that\\'s three miles long, no doubt, Well all you\\'ve gotta do is rub like so, and oh \\xad- Mr. Aladdin, sir, have a wish or two or three. I\\'m on the job you big nabob! You ain\\'t never had a friend, never had a friend, You ain\\'t never had a friend, never had a friend, You ain\\'t never had a friend like me. You ain\\'t never had a friend like me The seaweed is always greener In somebody else\\'s lake You dream about going up there But that is a big mistake Just look at the world around you Right here on the ocean floor Such wonderful things surround you What more is you lookin\\' for? Under the sea Under the sea Darling it\\'s better Down where it\\'s wetter Take it from me Up on the shore they work all day Out in the sun they slave away While we devotin\\' Full time to floatin\\' Under the sea Down here all the fish is happy As off through the waves they roll The fish on the land ain\\'t happy They sad \\'cause they in their bowl But fish in the bowl is lucky They in for a worser fate One day when the boss get hungry Guess who\\'s gon\\' be on the plate? Under the sea Under the sea Nobody beat us Fry us and eat us In fricassee We what the land folks loves to cook Under the sea we off the hook We got no troubles Life is the bubbles Under the sea (Under the sea) Under the sea (Under the sea) Since life is sweet here We got the beat here Naturally (Naturally) Even the sturgeon an\\' the ray They get the urge \\'n\\' start to play We got the spirit You got to hear it Under the sea The newt play the flute The carp play the harp The plaice play the bass And they soundin\\' sharp The bass play the brass The chub play the tub The fluke is the duke of soul (Yeah) The ray he can play The lings on the strings The trout rockin\\' out The blackfish she sings The smelt and the sprat They know where it\\'s at An\\' oh that blowfish blow Yeah, under the sea (Under the sea) Under the sea (Under the sea) When the sardine Begin the beguine It\\'s music to me (It\\'s music to me) What do they got? A lot of sand We got a hot crustacean band Each little clam here Know how to jam here Under the sea Each little slug here Cuttin\\' a rug here Under the sea Each little snail here Know how to wail here That\\'s why it\\'s hotter Under the water Ya we in luck here Down in the muck here Under the sea [Gramma Tala:] I know a girl from an island She stands apart from the crowd She loves the sea and her people She makes her whole family proud Sometimes the world seems against you The journey may leave a scar But scars can heal and reveal just Where you are The people you love will change you The things you have learned will guide you And nothing on earth can silence The quiet voice still inside you And when that voice starts to whisper Moana you\\'ve come so far Moana listen Do you know who you are? [Moana:] Who am I? I am a girl who loves my island I\\'m the girl who loves the sea It calls me I am the daughter of the village chief We are descended from voyagers Who found their way across the world They call me I\\'ve delivered us to where we are I have journeyed farther I am everything I\\'ve learned and more Still it calls me And the call isn\\'t out there at all, it\\'s inside me It\\'s like the tide; always falling and rising I will carry you here in my heart you\\'ll remind me That come what may I know the way I am Moana! The only way to get what you want is to become a human yourself Can you do that? My dear, sweet child, that\\'s what I do It\\'s what I live for To help unfortunate merfolk like yourself Poor souls with no one else to turn to I admit that in the past I\\'ve been a nasty They weren\\'t kidding when they called me, well, a witch But you\\'ll find that nowadays I\\'ve mended all my ways Repented, seen the light, and made a switch To this And I fortunately know a little magic It\\'s a talent that I always have possessed And dear lady, please don\\'t laugh I use it on behalf Of the miserable, the lonely, and depressed (Pathetic) Poor unfortunate souls In pain, in need This one longing to be thinner That one wants to get the girl And do I help them? Yes, indeed Those poor unfortunate souls So sad, so true They come flocking to my cauldron Crying, \"Spells, Ursula, please!\" And I help them Yes I do Now it\\'s happened once or twice Someone couldn\\'t pay the price And I\\'m afraid I had to rake \\'em \\'cross the coals Yes I\\'ve had the odd complaint But on the whole I\\'ve been a saint To those poor unfortunate souls Have we got a deal? If I become human, I\\'ll never be with my father or sisters again But you\\'ll have your man Life\\'s full of tough choices, isn\\'t it? Oh, and there is one more thing We haven\\'t discussed the subject of payment But I don\\'t have- I\\'m not asking much, just a token really, a trifle What I want from you is your voice But without my voice, how can I- You\\'ll have your looks, your pretty face And don\\'t underestimate the importance of body language, ha! The men up there don\\'t like a lot of blabber They think a girl who gossips is a bore Yet on land it\\'s much preferred for ladies not to say a word And after all dear, what is idle babble for? Come on, they\\'re not all that impressed with conversation True gentlemen avoid it when they can But they dote and swoon and fawn On a lady who\\'s withdrawn It\\'s she who holds her tongue who gets a man Come on you poor unfortunate soul Go ahead Make your choice I\\'m a very busy woman and I haven\\'t got all day It won\\'t cost much Just your voice! You poor unfortunate soul It\\'s sad but true If you want to cross the bridge, my sweet You\\'ve got the pay the toll Take a gulp and take a breath And go ahead and sign the scroll Flotsam, Jetsam, now I\\'ve got her, boys The boss is on a roll This poor unfortunate soul Beluga sevruga Come winds of the Caspian Sea Larengix glaucitis Et max laryngitis La voce to me Now, sing Aa-aa-aah, a-aa-aah Keep singing! Aa-aa-aah, a-aa-aah (Spoken) Mama, I don\\'t have time for dancing (Sung) That\\'s just gonna have to wait a while Ain\\'t got time for messing around And it\\'s not my style This old town can slow you down People taking the easy way But I know exactly where I\\'m going I\\'m getting closer and closer everyday And I\\'m almost there I\\'m almost there People \\'round here think I\\'m crazy But I don\\'t care Trials and tribulations I\\'ve had my share But there ain\\'t nothing gonna stop me now Cause I\\'m almost there I remember daddy told me \"Fairy tales can come true But you gotta make it happen It all depends on you\" So I work real hard each and everyday Now things for sure are going my way Just doing what I do Look out boys I\\'m coming through And I\\'m almost there I\\'m almost there People gonna come here from everywhere And I\\'m almost there I\\'m almost there There\\'s been trials and tribulations You know I\\'ve had my share But I\\'ve climbed a mountain, I\\'ve crossed a river And I\\'m almost there I\\'m almost there I\\'m almost there I know you I walked with you Once Upon a dream I know you That gleam in your eyes Is so familiar a gleam Yet I know it\\'s true That visions are seldom what they seem But if I know you I know what you do You\\'ll love me at once The way you did once upon a dream La da la da la ahahahahah But if I know you I know what you do You\\'ll love me at once The way you did once upon a dream I know you I walked with you Once Upon a dream I know you That gleam in your eyes Is so familiar a gleam Yet I know it\\'s true That visions are seldom what they seem But if I know you I know what you do You\\'ll love me at once The way you did once upon a dream The King and his men stole the queen from her bed, and bound her in her bones. The seas be ours, and by the powers; where we will, we\\'ll roam. Yo ho, all hands, hoist the colors high. Heave ho, thieves and beggars; never shall we die. Now, some have died and some are alive and others sail on the sea. With the keys to the cage and the devil to pay, we lay to the fiddler\\'s green. Yo ho haul together, hoist the colors high. Heave ho, thieves and beggars; never shall we die. The bell has been raised from its watery grave, hear its sepulchral tone. A call to all; pay heed the squall, and turn your sails to home. Yo ho, haul together, hoist the colors high. Heave ho, thieves and beggars; never shall we die. Yo ho, haul together, hoist the colors high. Heave ho, thieves and beggars; never shall we die. Yo ho, haul together, hoist the colors high. Heave ho, thieves and beggars; never shall we die. The king and his men stole the queen from her bed, and bound her in her bones. The seas be ours, and by the powers; where we will; we\\'ll roam. So many times out there I\\'ve watched a happy pair of lovers walking in the night They had a kind of glow around them It almost looked like heaven\\'s light I knew I\\'d never know that warm and loving glow Though I might wish with all my might No face as hideous as my face Was ever meant for heaven\\'s light But suddenly an angel has smiled at me And kissed my cheek without a trace of fright I dare to dream that she might even care for me And as I ring these bells tonight My cold dark tower seems so bright I swear it must be Heaven\\'s light Confiteor deo omnipotenti (I confess to God almighty) Beatae Mariae semper virgini (To blessed Mary ever virgin) Beato Michaeli archangelo (To the blessed Archangel Michael) Sanctis apostolis omnibus sanctis (To the Holy Apostles, to all the saints) Beata Maria, you know I am a righteous man Of my virtue I am justly proud Et tibit Pater (And to you, Father) Beata Maria, you know I\\'m so much purer than The common, vulgar, weak, licentious crowd Quia peccavi nimis (That I have sinned) Then tell me, Maria, why I see her dancing there? Why her smold\\'ring eyes still scorch my soul Cogitatione (In thought) I feel her, I see her, the sun caught in her raven hair Is blazing in me out of all control Verbo et opere (In word and deed) Like fire, Hellfire This fire in my skin This burning desire Is turning me to sin It\\'s not my fault Mea culpa (Through my fault) I\\'m not to blame Mea culpa (Through my fault) It is the gypsy girl The witch who sent this flame Mea maxima culpa (Through my most grievous fault) It\\'s not my fault Mea culpa (Through my fault) If in God\\'s plan Mea culpa (Through my fault) He made the devil so much Stronger than a man Mea maxima culpa (Through my most grievous fault) Protect me, Maria Don\\'t let this siren cast her spell Don\\'t let her fire sear my flesh and bone Destroy Esmeralda And let her taste the fires of hell Or else let her be mine and mine alone Minister Frollo, the gypsy has escaped What? No longer in the cathedral, she\\'s gone But how? Never mind, get out, you idiot I\\'ll find her, I\\'ll find her if I have to burn down all of Paris Hellfire, dark fire Now gypsy, it\\'s your turn Choose me or your pyre Be mine or you will burn Kyrie Eleison (Lord, have mercy) God, have mercy on her Kyrie Eleison (Lord, have mercy) God, have mercy on me Kyrie Eleison (Lord, have mercy) But she will be mine Or she will burn I\\'m gonna be a mighty king So enemies beware! Well, I\\'ve never seen a king of beasts With quite so little hair I\\'m gonna be the mane event Like no king was before I\\'m brushing up on looking down I\\'m working on my ROAR Thus far, a rather uninspiring thing Oh, I just can\\'t wait to be king! (You\\'ve rather a long way to go, young master if you think) No one saying do this (Now when I said that, I) No one saying be there (What I meant was) No one saying stop that (Look, what you don\\'t realize) No one saying see here (Now see here!) Free to run around all day (Well, that\\'s definitely out) Free to do it all my way! I think it\\'s time that you and I Arranged a heart to heart Kings don\\'t need advice From little hornbills for a start If this is where the monarchy is headed Count me out! Out of service, out of Africa I wouldn\\'t hang about This child is getting wildly out of wing Oh, I just can\\'t wait to be king! Everybody look left Everybody look right Everywhere you look I\\'m Standing in spotlight! Not yet! Let every creature go for broke and sing Let\\'s hear it in the herd and on the wing It\\'s gonna be King Simba\\'s finest fling Oh, I just can\\'t wait to be king! Oh, I just can\\'t wait to be king! Oh, I just can\\'t wait to be king! A word\\'s just a word \\'Til you mean what you say And love isn\\'t love \\'Til you give it away We\\'ve all got a gift Yeah, something to give To make a change Send it on, on and on Just one hand can heal another Be a part, reach a heart Just one spark starts a fire With one little action The chain reaction will never stop Make it strong Shine a light, and send it on Just smile, and the world Will smile along with you That small act of love Is meant for one who become two If we take the chances To change circumstances Imagine all we can do If we send it on, on and on Just one hand can heal another Be a part, reach a heart Just one spark starts a fire With one little action The chain reaction will never stop Make it strong Shine a light, and send it on Send it on, ooh, send it on There\\'s power in all Of the choices we make So I\\'m starting now There\\'s not a moment to waste A word\\'s just word \\'Til you mean what you say And love isn\\'t love \\'Til you give it away Send it on, on and on Just one hand can heal another Be a part, reach a heart Just one spark starts a fire With one little action The chain reaction will never stop Make it strong Shine a light, and send it on Send it on, on and on Just one hand can heal another Be a part, reach a heart Just one spark starts a fire With one little action The chain reaction will help things start Make it strong Shine a light, and send it on Shine a light, and send it on Shine a light, and send it on Every time she\\'d find a minute That\\'s the time that they begin it Cinderelly, Cinderelly (Cinderella!) Cinderelly, Cinderelly Night and day it\\'s Cinderelly Make the fire, fix the breakfast Wash the dishes, do the mopping And the sweeping and the dusting They always keep her hopping She goes around in circles till she\\'s very, very dizzy Still they holler \"Keep a-busy, Cinderelly!\" We can do it, we can do it We can help our Cinderelly We can make her dress so pretty There\\'s nothing to it, really We\\'ll tie a sash around it Put a ribbon through it When dancing at the ball she\\'ll be more beautiful than all In the lovely dress we\\'ll make for Cinderelly! Hurry, hurry, hurry, hurry Gonna help our Cinderelly Got no time to dilly-dally We gotta get a-goin\\' I\\'ll cut it with these scissors! And I can do the sewing! Leave the sewing to the women You go get some trimmin\\' And we\\'ll make a lovely dress for Cinderelly, whoo! We\\'ll make a lovely dress for Cinderelly! Morning in Paris, the city awakes To the bells of Notre Dame The fisherman fishes, the bakerman bakes To the bells of Notre Dame To the big bells as loud as the thunder To the little bells soft as a psalm And some say the soul of the city is The toll of the bells The bells of Notre Dame Dark was the night when our tale was begun On the docks near Notre Dame Four frightened gypsies slid silently under The docks near Notre Dame But a trap had been laid for the gypsies And they gazed up in fear and alarm At a figure whose clutches Were iron as much as the bells The bells of Notre Dame (Kyrie Eleison) Judge Claude Frollo longed To purge the world Of vice and sin (Kyrie Eleison) And he saw corruption Ev\\'rywhere Except within Dies irae, dies illa (Dies irae, dies illa) Dies irae, dies illa (Dies irae, dies illa) Solvet saeclum in favilla Teste David cum sibylla Quantus tremor est futurus Quando Judex est venturus See there the innocent blood you have spilt On the steps of Notre Dame Now you would add this child\\'s blood to your guilt On the steps of Notre Dame You can lie to yourself and your minions You can claim that you haven\\'t a qualm But you never can run from Nor hide what you\\'ve done from the eyes The very eyes of Notre Dame (Kyrie Eleison) And for one time in his live Of power and control (Kyrie Eleison) Frollo felt a twinge of fear For his immortal soul Just so he\\'s kept locked away Where no one else can see Even this foul creature may Yet prove one day to be Of use to me Now here is a riddle to guess if you can Sing the bells of Notre Dame Who is the monster and who is the man Sing the bells, bells, bells, bells Bells, bells, bells, bells Bells of Notre Dame I can show you the world Shining, shimmering, splendid Tell me, princess, now when did You last let your heart decide? I can open your eyes Take you wonder by wonder Over, sideways and under On a magic carpet ride A whole new world A new fantastic point of view No one to tell us no or where to go Or say we\\'re only dreaming A whole new world A dazzling place I never knew But when I\\'m way up here, it\\'s crystal clear That now I\\'m in a whole new world with you Now I\\'m in a whole new world with you Unbelievable sights Indescribable feeling Soaring, tumbling, freewheeling Through an endless diamond sky A whole new world Don\\'t you dare close your eyes A hundred thousand things to see (Hold your breath, it gets better) I\\'m like a shooting star I\\'ve come so far I can\\'t go back To where I used to be A whole new world Every turn a surprise With new horizons to pursue Every moment red-letter I\\'ll chase them anywhere There\\'s time to spare Let me share this whole new world with you A whole new world That\\'s where we\\'ll be A thrilling chase A wondrous place For you and me Somewhere out there, Beneath the pale moonlight, Someone\\'s thinking of me, And loving me tonight. Somewhere out there, Someone\\'s saying a prayer, That we\\'ll find one another, In that big somewhere out there. And even though I know how very far apart we are, It helps to think we might be wishing on the same bright star, And when the night wind starts to sing a lonesome lullaby, It helps to think we\\'re sleeping underneath the same big sky! Somewhere out there, If love can see us through, Then we\\'ll be together, Somewhere out there, Out where dreams Come true... There you see her Sitting there across the way She don\\'t got a lot to say But there\\'s something about her And you don\\'t know why But you\\'re dying to try You wanna kiss the girl Yes, you want her Look at her, you know you do Possible she wants you too There is one way to ask her It don\\'t take a word Not a single word Go on and kiss the girl Sing with me now Sha la la la la la My oh my Look like the boy too shy Ain\\'t gonna kiss the girl Sha la la la la la Ain\\'t that sad? Ain\\'t it a shame? Too bad, he gonna miss the girl Now\\'s your moment Floating in a blue lagoon Boy, you better do it soon No time will be better She don\\'t say a word And she won\\'t say a word Until you kiss the girl Sha la la la la la Don\\'t be scared You got the mood prepared Go on and kiss the girl Sha la la la la la Don\\'t stop now Don\\'t try to hide it how You want to kiss the girl Sha la la la la la Float along And listen to the song The song say kiss the girl Sha la la la la la The music play Do what the music say You got to kiss the girl You\\'ve got to kiss the girl You wanna kiss the girl You\\'ve gotta kiss the girl Go on and kiss the girl Zip-a-dee-doo-dah, zip-a-dee-ay My, oh, my, what a wonderful day Plenty of sunshine headin\\' my way Zip-a-dee-doo-dah, zip-a-dee-ay! Mister Bluebird\\'s on my shoulder It\\'s the truth, it\\'s \"actch\\'ll\" Everything is \"satisfactch\\'ll\" Zip-a-dee-doo-dah, zip-a-dee-ay Wonderful feeling, wonderful day! Yes, sir Zip-a-dee-doo-dah, zip-a-dee-ay My, oh, my, what a wonderful day Plenty of sunshine headin\\' my way Zip-a-dee-doo-dah, zip-a-dee-ay! Mister Bluebird\\'s on my shoulder It\\'s the truth, it\\'s \"actch\\'ll\" Everything is \"satisfactch\\'ll\" Zip-a-dee-doo-dah, zip-a-dee-ay Wonderful feeling, feeling this way! Mister Bluebird\\'s on my shoulder It is the truth, it\\'s \"actch\\'ll\", hm? Where is that bluebird? Everything is \"satisfactch\\'ll\" Zip-a-dee-doo-dah, zip-a-dee-ay Wonderful feeling, wonderful day! Bless my soul Herc was on a roll Person of the week in every Greek opinion poll What a pro! Herc could stop a show Point him at a monster and you\\'re talking S.R.O. He was a no one A zero, zero Now he a hot shot He\\'s a hero He was a kid with his act down pat From zero to hero in no time flat Zero to hero, just like that! When he smiled the girls went wild With oohs and ahhs And they slapped his face on ev\\'ry vase (On every vahse) From appearance fees and royalties Our Herc had cash to burn Now nouveau riche and famous He could tell you what\\'s a Grecian \"earn\"! Say \"Amen\" There he goes again Sweet and undefeated And an awesome 10 for 10 Folks lined up Just to watch him flex And this perfect package packed a pair of pretty pecs Hercie, he comes, he sees, he conquers Honey, the crowds were going bonkers He showed the moxie, brains, and spunk From zero to hero A major hunk Zero to hero And who\\'d have thunk? Who put the \"glad\" in \"gladiator\"? Hercules! Whose daring deeds are great theater? Hercules! Is he bold? No one braver! Is he sweet? Our favorite flavor! Hercules, Hercules Hercules, Hercules Hercules, Hercules Bless my soul Herc was on a roll Undefeated Riding high And the nicest guy Not conceited He was a nothin\\' A zero, zero Now he\\'s a hot-shot He\\'s our hero He hit the heights at breakneck speed! From zero to hero Herc is a hero Now he\\'s a hero Yes indeed! Tale as old as time True as it can be Barely even friends Then somebody bends Unexpectedly. Just a little change Small to say the least Both a little scared Neither one prepared Beauty and the Beast Ever just the same Ever a surprise Ever as before Ever just as sure As the sun will rise Tale as old as time Tune as old as song Bittersweet and strange Finding you can change Learning you were wrong Certain as the sun Rising in the east Tale as old as time Song as old as rhyme Beauty and the Beast Tale as old as time Song as old as rhyme Beauty and the Beast Think of a wonderful thought Any merry little thought Think of Christmas, think of snow Think of sleigh bells off you go Like reindeer in the sky You can fly You can fly You can fly Think of the happiest things It\\'s the same as having wings Take the path that moonbeams make If the moon is still awake You\\'ll see him wink his eye You can fly You can fly You can fly Up you go with a height and ho To the stars beyond the blue There\\'s a Never Land waiting for you Where all your happy dreams come true Every dream that you dream will come true When there\\'s a smile in your heart There\\'s no better time to start Think of all the joy you\\'ll find When you leave the world behind And bid your cares goodbye You can fly You can fly You can fly You can fly You can fly When there\\'s a smile in your heart There\\'s no better time to start Think of all the joy you\\'ll find When you leave the world behind And bid your cares goodbye You can fly You can fly You can fly You can fly You can fly I\\'ve been standing at the edge of the water Long as I can remember Never really knowing why I wish I could be the perfect daughter But I come back to the water No matter how hard I try Every turn I take Every trail I track Every path I make Every road leads back to the place I know Where I cannot go Where I long to be See the light where the sky meets the sea It calls me No one knows how far it goes If the wind in my sail on the sea stays behind me One day I\\'ll know If I go there\\'s just no telling how far I\\'ll go I know everybody on this island Seems so happy on this island Everything is by design I know everybody on this island Has a role on this island So maybe I can roll with mine I can lead with pride I can make us strong I\\'ll be satisfied if I play along But the voice inside sings a different song What is wrong with me See the light as it shines on the sea It\\'s blinding But no one knows how deep it goes And it seems like it\\'s calling out to me So come find me And let me know What\\'s beyond that line Will I cross that line See the light where the sky meets the sea It calls me And no one knows how far it goes If the wind in my sail on the sea stays behind me One day I\\'ll know How far I\\'ll go Well Tamatoa hasn\\'t always been this glam I was a drab little crab once Now I know I can be happy as a clam Because I\\'m beautiful baby Did your granny say listen to your heart? Be who you are on the inside? I need three words to tear her argument apart: your granny lied I\\'d rather be shiny Like a treasure from a sunken pirate wreck Scrub the deck and make it look shiny I will sparkle like a wealthy woman\\'s neck Just a sec, don\\'t ya know Fish are dumb, dumb, dumb They chase anything that glitters, beginners Oh and here they come, come, come to the brightest thing that glitters Mmm fish dinners I just love free food (free food) and you look like sea food (sea food) Well, well, well Little Maui\\'s havin\\' trouble with his look You little semi, demi, mini god Ouch what a terrible performance get the hook Get it? You don\\'t swing it like you used to, man Yet I have to give you credit from my start And your tattoos on the outside For just like you I made myself a work of art I\\'ll never hide I can\\'t I\\'m too shiny Watch me dazzle like a diamond in the rough Strut my stuff, my stuff is so shiny Send your armies but they\\'ll never be enough My shell\\'s too tough, Maui man You can try, try, try but you can\\'t expect a demigod to beat a decapod Look it up You will die, die, die now it\\'s time for me to take apart your achin\\' heart Far from the ones who abandoned you Chasin\\' the love of the humans who made you feel wanted You tried to be tough but your armor\\'s just not hard enough Maui, now it\\'s time to kick your heiney Ever seen someone so shiny Soak it in \\'cause it\\'s the last you\\'ll ever see C\\'est la vie, mon ami I\\'m so shiny Now I\\'ll eat you so prepare your final plea just for me You\\'ll never be quite as shiny You wish you were nice and shiny What I love most about rivers is You can\\'t step in the same river twice The water\\'s always changing, always flowing But people, I guess, can\\'t live like that We all must pay a price To be safe, we lose our chance of ever knowing What\\'s around the river bend Waiting just around the river bend I look once more just around the river bend Beyond the shore where the gulls fly free Don\\'t know what for what I dream the day might send Just around the river bend for me, coming for me I feel it there beyond those trees Or right behind these waterfalls Can I ignore that sound of distant drumming? For a handsome sturdy husband who builds handsome sturdy walls And never dreams that something might be coming? Just around the river bend Just around the river bend I look once more just around the river bend Beyond the shore somewhere past the sea Don\\'t know what for why do all my dreams extend Just around the river bend, just around the river bend Should I choose the smoothest course Steady as the beating drum? Should I marry Kocoum? Is all my dreaming at an end? Or do you still wait for me, dream giver Just around the river bend? In every job that must be done There is an element of fun You find the fun and snap! The job\\'s a game And every task you undertake Becomes a piece of cake A lark! A spree! It\\'s very clear to see that A spoonful of sugar helps the medicine go down The medicine go down, the medicine go down Just a spoonful of sugar helps the medicine go down In a most delightful way A robin feathering his nest has very little time to rest While gathering his bits of twine and twig Though quite intent in his pursuit He has a merry tune to toot He knows a song will move the job along For a spoonful of sugar helps the medicine go down The medicine go down, the medicine go down Just a spoonful of sugar helps the medicine go down In a most delightful way The honey bee that fetch the nectar from the flowers to the comb Never tired of ever buzzing to and fro Because they take a little nip from every flower that they sip And hence (And hence) They find (They find) Their task is not a grind Ah, ah, ah! Ma chere Mademoiselle, it is with deepest pride and greatest pleasure that we welcome you tonight, And now we invite you to relax, let us pull up a chair as the dining room proudly presents your dinner! Be our guest! Be our guest! Put our service to the test Tie your napkin \\'round your neck, cherie and we provide the rest soup du jour, hot hors d\\'oeuvres why, we only live to serve try the grey stuff, it\\'s delicious don\\'t believe me? ask the dishes they can sing, they can dance after all, Miss, this is France and dinner here is never second best go on, unfold your menu, take a glance then you\\'ll be our guest, oui, our guest, be our guest beef ragout, cheese soufflé pie and pudding en flambé we`ll prepare and serve with flair a culinary cabaret! you\\'re alone, and you\\'re scared but the banquet\\'s all prepared no one\\'s gloomy or complaining while the flatware\\'s entertaining we tell jokes! I do tricks with my fellow candlesticks and it\\'s all in perfect taste that you can bet come on and lift your glass, you\\'ve won your own free pass to be our guest, if you\\'re stressed its fine dining we suggest, be our guest, be our guest, be our guest! life is so unnerving for a servant who\\'s not serving he\\'s not whole without a soul to wait upon as, those good old days when we were useful... suddenly those good old days are gone ten years we\\'ve been rusting needing so much more than dusting needing exercise, a chance to use our skills! most days we just lay around the castle flabby, fat, and lazy, you walked in and oops-a-daisy it\\'s a guest it\\'s a guest sakes alive, we\\'ll be blessed wines been poured and thank the Lord I\\'ve had the napkins freshly pressed with dessert, she\\'ll want tea and my dear that fine with me while the cups do their soft-shoein\\' I\\'ll be bubbling, I\\'ll be brewing I\\'ll get warm, piping hot heaven\\'s sakes! is that a spot clean it up! we want the company impressed we\\'ve got a lot to do, is it one lump or two for you our guest, she\\'s our guest, she\\'s our guest, she\\'s our guest be our guest! be our guest! be our guest Be our guest! be our guest! our command is your request it\\'s been years since we\\'ve had anybody here and were obsessed, with you meal, with your ease yes, indeed, we aim to please while the candlelight\\'s still glowing let us help you, well keep going course by course, one by one till you shout, enough I\\'m done then well sing you off to sleep as you digest tonight you\\'ll prop your feet up, but for now, let\\'s eat up Be our guest! Be our guest! Be our guest! Please, be our guest! Yo ho, yo ho, a pirate\\'s life for me We pillage, we plunder, we rifle, and loot Drink up, me \\'earties, yo ho We kidnap and ravage and don\\'t give a hoot Drink up me \\'earties, yo ho Yo ho, yo ho, a pirate\\'s life for me We extort, we pilfer, we filch, and sack Drink up, me \\'earties, yo ho Maraud and embezzle, and even high-jack Drink up, me \\'earties, yo ho Yo ho, yo ho, a pirate\\'s life for me We kindle and char, inflame and ignite Drink up, me \\'earties, yo ho We burn up the city, we\\'re really a fright Drink up, me \\'earties, yo ho We\\'re rascals, scoundrels, villans, and knaves Drink up, me \\'earties, yo ho We\\'re devils and black sheep, really bad eggs Drink up, me \\'earties, yo ho Yo ho, yo ho, a pirate\\'s life for me We\\'re beggars and blighters, ne\\'er-do-well cads Drink up, me \\'earties, yo ho Aye, but we\\'re loved by our mommies and dads Drink up, me \\'earties, yo ho Let it snow, let it snow, let it snow Oh, the weather outside is frightful But the fire is so delightful And since we\\'ve no place to go Let it snow, let it snow, let it snow It doesn\\'t show signs of stopping And I\\'ve bought some corn for popping The lights are turned way down low Let it snow, let it snow, let it snow When we finally kiss goodnight How I hate going out in the storm But if you\\'ll really hold me tight All the way home I\\'ll be warm The fire is slowly dying And my dear, we\\'re still goodbying But as long as you love me so Let it snow, let it snow, let it snow Let it snow, let it snow, let it snow When we finally kiss goodnight How I hate going out in the storm But if you\\'ll really hold me tight All the way home I\\'ll be warm The fire is slowly dying And, my dear, we\\'re still goodbying But as long as you love me so Let it snow, let it snow, let it snow As long as you love me so Let it snow, let it snow, let it snow Let it snow, let it snow, let it snow Let it snow, let it snow Salagadoola mechicka boola Bibbidi-bobbidi-boo Put them together and what have you got Bibbidi-bobbidi-boo Salagadoola mechicka boola Bibbidi-bobbidi-boo It\\'ll do magic, believe it or not Bibbidi-bobbidi-boo Yes, salagadoola means Mechicka booleroo But the thing mabob that does the job Is bibbidi-bobbidi-boo I got myself a notion And one I know that you\\'ll understand To set the world in motion by reaching out for each other\\'s hand Maybe we\\'ll discover What we shoulda known all along One way or another, together\\'s where we both belong If we listen to each other\\'s heart We\\'ll find we\\'re never too far apart And maybe love is a reason why For the first time ever, we\\'re seein\\' it eye to eye If a wall should come between us Too high to climb, too hard to break through I know that love\\'ll lead us And find a way to bring me to you So don\\'t be in a hurry Think before you count us out You don\\'t have to worry I won\\'t ever let you drown (Nothing\\'s gonna stop us now) If we listen to each other\\'s heart We\\'ll find we\\'re never too far apart And maybe love is a reason why For the first time ever, we\\'re seein\\' it eye to eye Love is why we\\'re seein\\' it eye to eye (Yes, we are seein\\' it eye to eye) Seein\\' it eye to (Love is why we\\'re seein\\' it) I think we\\'re seein\\' it eye to eye (eye to eye) eye to We\\'re seein\\' it eye to eye (eye to eye!) If you\\'re ever lonely, then stop! You don\\'t have to be After all, it\\'s only a beat away from you to me (Take a look inside and see) If we listen to each other\\'s heart We\\'ll find we\\'re never too far apart And maybe love is a reason why For the first time ever, we\\'re seein\\' it eye to eye Seein\\' it eye to Seein\\' it eye to eye We\\'re seein\\' it eye to eye, baby For the first time For the first time eye to eye Seein\\'t it Seein\\' it, baby Seein\\' it eye to For the first time ever Hey yeah Seein\\' it, baby We\\'re seein\\' it eye to eye Seein\\' it (C\\'mon, baby) eye to eye eye to eye eye to eye eye to eye Yeah eye to eye! Now I\\'m the king of the swingers oh The jungle VIP I\\'ve reached the top and had to stop And that\\'s what botherin\\' me I wanna be a man, mancub And stroll right into town And be just like the other men I\\'m tired of monkeyin\\' around Oh, oobee doo I wanna be like you I wanna walk like you Talk like you, too You\\'ll see it\\'s true An ape like me Can learn to be humen too (Gee, cousin Louie You\\'re doin\\' real good) Now here\\'s your part of the deal, \\'cause Lay the secret on me of man\\'s red fire But I don\\'t know how to make fire Now don\\'t try to kid me, mancub I made a deal with you What I desire is man\\'s red fire To make my dream come true Now, give me the secret, mancub C\\'mon, clue me what to do Give me the power of man\\'s red flower So I can be like you You I wanna be like you I wanna walk like you Talk like you, too You\\'ll see it\\'s true Someone like me Can learn to be Like someone like me Can learn to be Like someone like you Can learn to be Like someone like me Cruella De Vil Cruella De Vil If she doesn\\'t scare you No evil thing will To see her is to Take a sudden chill Cruella, Cruella She\\'s like a spider waiting For the kill Look out for Cruella De Vil At first you think Cruella is the devil But after time has worn Away the shock You come to realize You\\'ve seen her kind of eyes Watching you from underneath A rock! This vampire bat This inhuman beast She ought to be locked up And never released The world was such A wholesome place until Cruella, Cruella De Vil Look for the bare necessities The simple bare necessities Forget about your worries and your strife I mean the bare necessities Old Mother Nature\\'s recipes That brings the bare necessities of life Wherever I wander, wherever I roam I couldn\\'t be fonder of my big home The bees are buzzin\\' in the tree To make some honey just for me When you look under the rocks and plants And take a glance at the fancy ants Then maybe try a few The bare necessities of life will come to you They\\'ll come to you! Look for the bare necessities The simple bare necessities Forget about your worries and your strife I mean the bare necessities That\\'s why a bear can rest at ease With just the bare necessities of life Now when you pick a pawpaw Or a prickly pear And you prick a raw paw Well next time beware Don\\'t pick the prickly pear by the paw When you pick a pear Try to use the claw But you don\\'t need to use the claw When you pick a pear of the big pawpaw Have I given you a clue? The bare necessities of life will come to you They\\'ll come to you! Oh man this is really living So just try and relax, yeah cool it Fall apart in my backyard \\'Cause let me tell you something little britches If you act like that bee acts, uh uh You\\'re working too hard And don\\'t spend your time lookin\\' around For something you want that can\\'t be found When you find out you can live without it And go along not thinkin\\' about it I\\'ll tell you something true The bare necessities of life will come to you Look for the bare necessities The simple bare necessities Forget about your worries and your strife I mean the bare necessities That\\'s why a bear can rest at ease With just the bare necessities of life With just the bare necessities of life I see what\\'s happening yeah You\\'re face to face with greatness and it\\'s strange You don\\'t even know how you feel It\\'s adorable! Well, it\\'s nice to see that humans never change Open your eyes, let\\'s begin Yes, it\\'s really me It\\'s Maui, breathe it in I know its a lot; the hair, the bod When you\\'re staring at a demigod What can I say except you\\'re welcome For the tides, the sun, the sky Hey, it\\'s okay, it\\'s okay, you\\'re welcome I\\'m just an ordinary demi-guy Hey! What has two thumbs and pulled up the sky When you were waddling yay high This guy! When the nights got cold Who stole you fire from down below You\\'re lookin\\' at him, yo Oh! Also I lassoed the sun (You\\'re welcome) To stretch your days and bring you fun Also I harnessed the breeze (You\\'re welcome!) To fill your sails and shake your trees So what can I say except you\\'re welcome For the islands I pulled from the sea There\\'s no need to pray, it\\'s okay, you\\'re welcome Ha! I guess it\\'s just my way of being me You\\'re welcome! You\\'re welcome! Well, come to think of it Kid, honestly I could go on and on I could explain every natural phenomenon The tide? The grass? The ground? Oh, that was Maui just messin\\' around I killed an eel, I buried its guts Sprouted a tree, now you\\'ve got coconuts What\\'s the lesson? What is the takeaway? Don\\'t mess with Maui when he\\'s on the breakaway And the tapestry here on my skin Is a map of the victories I win Look where I\\'ve been I make everything happen Look at that mean mini Maui just tickety-tappin\\' Heh, heh, heh ,heh, heh, heh, hey! Well anyway, let me say you\\'re welcome (You\\'re welcome) For the wonderful world you know Hey, it\\'s okay, it\\'s okay, you\\'re welcome (You\\'re welcome) Well, come to think of it, I gotta go! Hey, it\\'s your day to say you\\'re welcome (You\\'re welcome) \\'Cause I\\'m gonna need that boat I\\'m sailing away, away, you\\'re welcome (You\\'re welcome) \\'Cause Maui can do anything but float! (You\\'re welcome) You\\'re welcome! (You\\'re welcome) You\\'re welcome! And thank you! Who\\'s the leader of the club, That\\'s made for you and me? M-I-C-K-E-Y M-O-U-S-E! Hey there! Hi there! Ho there! Your as welcome as can be, M-I-C-K-E-Y M-O-U-S-E! Mickey Mouse! Donald Duck! Mickey Mouse! Donald Duck! Forever man has held a banner High, high, high. high! Come along lets sing the song And join the jamberre! M-I-C-K-E-Y M-O-U-S-E! Mickey Mouse Club! Mickey Mouse Club! We\\'ll have fun, we\\'ll meet new faces. We\\'ll do things and we\\'ll go places. All around the world were marching. Who\\'s the leader of the club, That\\'s made for you and me? M-I-C-K-E-Y M-O-U-S-E! Hey there! Hi there! Ho there! Your as welcome as can be, M-I-C-K-E-Y M-O-U-S-E! Mickey Mouse! Donald Duck! Mickey Mouse! Donald Duck! Forever man has held a banner High, high, high. high! Come along lets sing the song And join the jamberre! M-I-C-K-E-Y M-O-U-S-E! Yay Mickey! Yay Mickey! Yay Mickey Mouse Club! Whale of a Tale Disney 2000 Leagues Under the Sea Got a whale of a tale to tell ya, lads A whale of a tale or two \\'Bout the flapping fish and girls I\\'ve loved On nights like this with the moon above A whale of a tale and it\\'s all true, I swear by my tatoo There was Mermaid Minnie Met her down in Madagascar She would kiss me Anytime that I would ask her Then one evening Her flame of love blew out Blow me down and pick me up, She swapped me for a trout! Got a whale of a tale to tell ya, lads A whale of a tale or two \\'Bout the flapping fish and girls I\\'ve loved On nights like this with the moon above A whale of a tale and it\\'s all true, I swear by my tatoo There was Typhoon Tessie Met her on the coast of Java When we kissed I Bubbled up like molten lava Then she gave me The scare of my young life Blow me down, and pick me up She was the captain\\'s wife! Got a whale of a tale to tell ya, lads A whale of a tale or two \\'Bout the flapping fish and girls I\\'ve loved On nights like this with the moon above A whale of a tale and it\\'s all true, I swear by my tatoo Then there was Harpoon Hannah Had a face that made you shudder Lips like Fish hooks And a nose just like a rudder If I kissed her And held her tenderly (Held her tenderly) There\\'s no sea monster big enough To ever frighten me! Got a whale of a tale to tell ya, lads A whale of a tale or two \\'Bout the flapping fish and girls I\\'ve loved On nights like this with the moon above A whale of a tale and it\\'s all true, I swear by my tatoo! With tuppence for paper and strings You can have your own set of wings With your feet on the ground You\\'re a bird in a flight With your fist holding tight To the string of your kite Oh, oh, oh! Let\\'s go fly a kite Up to the highest height! Let\\'s go fly a kite and send it soaring Up through the atmosphere Up where the air is clear Oh, let\\'s go fly a kite! When you send it flyin\\' up there All at once you\\'re lighter than air You can dance on the breeze Over \\'ouses and trees With your first \\'olding tight To the string of your kite Oh, oh, oh! Let\\'s go fly a kite Up to the highest height! Let\\'s go fly a kite and send it soaring Up through the atmosphere Up where the air is clear Oh, let\\'s go fly a kite! Want to know a secret? Promise not to tell? When you\\'re standing by a wishing well Make a wish into the well That\\'s all you have to do And if you hear it echoing Your wish will soon come true I\\'m wishing for the one I love To find me today I\\'m hoping And I\\'m dreaming of The nice things he\\'ll say I\\'m wishing for the one I love To find me today Today! Now that I\\'ve found you Hear what I have to say One Song I have but one song One song Only for you One heart Tenderly beating Ever entreating Constant and true One love That has possessed me One love Thrilling me through One song My heart keeps singing Of one love Only for you Let\\'s get down to business, to defeat the Huns Did they send me daughters, when I asked for sons? You\\'re the saddest bunch I ever met But you can bet before we\\'re through Mister, I\\'ll make a man out of you Tranquil as a forest but on fire within Once you find your center, you are sure to win You\\'re a spineless, pale, pathetic lot And you haven\\'t got a clue Somehow I\\'ll make a man out of you I\\'m never gonna catch my breath Say goodbye to those who knew me Boy, was I a fool in school for cutting gym This guy\\'s got \\'em scared to death Hope he doesn\\'t see right through me Now I really wish that I knew how to swim Be a man We must be swift as the coursing river Be a man With all the force of a great typhoon Be a man With all the strength of a raging fire Mysterious as the dark side of the moon Time is racing toward us till the Huns arrive Heed my every order and you might survive You\\'re unsuited for the rage of war So pack up, go home, you\\'re through How could I make a man out of you? Be a man We must be swift as the coursing river Be a man With all the force of a great typhoon Be a man With all the strength of a raging fire Mysterious as the dark side of the moon Be a man We must be swift as the coursing river Be a man With all the force of a great typhoon Be a man With all the strength of a raging fire Mysterious as the dark side of the moon (Ou mata e matagi) I have crossed the horizon to find you (Ou loto mamaina toa) I know your name (Manatu atu) They have stolen the heart from inside you (Taku pelepele) But this does not define you (Manatu atu) This is not who you are You know who you are Look at this stuff, isn\\'t it neat? Wouldn\\'t you think my collection\\'s complete? Wouldn\\'t you think I\\'m the girl The girl who has everything? Look at this trove, treasures untold How many wonders can one cavern hold? Lookin\\' around here you\\'d think Sure, she\\'s got everything I\\'ve got gadgets and gizmos aplenty I\\'ve got whooz-its and whatz-its galore You want thingamabobs? I got twenty But who cares? No big deal I want more I want to be where the people are I want to see Want to see \\'em dancing Walking around on those Whadd\\'ya call \\'em? Oh, feet Flipping your fins you don\\'t get too far Legs are required for jumping, dancing Strolling along down a What\\'s that word again? Street Up where they walk Up where they run Up where they stay all day in the sun Wandering free Wish I could be Part of that world What would I give If I could live Out of these waters? What would I pay To spend a day Warm on the sand? Betcha on land They understand That they don\\'t reprimand their daughters Bright young women Sick of swimming Ready to stand And I\\'m ready to know what the people know Ask \\'em my questions And get some answers What\\'s a fire and why does it What\\'s the word? Burn? When\\'s it my turn? Wouldn\\'t I love Love to explore that shore above? Out of the sea Wish I could be Part of that world Out of the sea Wish I could be Part of your world When somebody loved me Everything was beautiful Every hour we spent together Lives within my heart And when she was sad I was there to dry her tears And when she was happy so was I When she loved me Through the summer and the fall We had each other that was all Just she and I together Like it was meant to be And when she was lonely I was there to comfort her And I knew that she loved me So the years went by I stayed the same She began to drift away I was left alone Still I waited for the day When she\\'d say I will always love you Lonely and forgotten Never thought she\\'d look my way She smiled at me and held me Just like she used to do Like she loved me When she loved me When somebody loved me Everything was beautiful Every hour we spent together Lives within my heart When she loved me, hey All those days watching from the windows All those years outside looking in All that time never even knowing Just how blind I\\'ve been Now I\\'m here blinking in the starlight Now I\\'m here suddenly I see Standing here it\\'s all so clear I\\'m where I\\'m meant to be And at last I see the light And it\\'s like the fog has lifted And at last I see the light And it\\'s like the sky is new And it\\'s warm and real and bright And the world has somehow shifted All at once everything looks different Now that I see you All those days chasing down a daydream All those years living in a blur All that time never truly seeing Things, the way they were Now she\\'s here shining in the starlight Now she\\'s here suddenly I know If she\\'s here it\\'s crystal clear I\\'m where I\\'m meant to go And at last I see the light And it\\'s like the fog has lifted And at last I see the light And it\\'s like the sky is new And it\\'s warm and real and bright And the world has somehow shifted All at once everything is different Now that I see you Now that I see you Wonderful, marvelous, The man with the strength of many. Brave and bold with a heart of gold, John Henry was a mighty man. Born with a hammer right in his hand. Well, come on John, You\\'re the one that we\\'re depending on. Swing that hammer with all your might, I know you can show them how to do it right. John Henry, John Henry, John Henry is a mighty man. Born with a hammer, A ten pound hammer, A twenty pound hammer right in his hand. I heard John\\'s mama liked to sew at night, So he pulled down the moon for a little bit of light. It took a lot of cooking to keep John fed, Ten dozen eggs and eight loves of bread. John Henry, John Henry, John Henry is a mighty man. Born with a hammer, born with a hammer, Born with a hammer right in his hand. He plowed the earth so wide and deep, The seed he sowed the ground had to keep. His hammer hit the earth with such a mighty blow, Everything he planted would jump up and grow. John Henry, John Henry, John Henry is a powerful man. All our lives we\\'ve been so poor, John let me show you what we\\'re working for. Canaan Land, Canaan Land, Everybody workin\\' for the Canaan Land. Home and freedom hand in hand, Workin\\' for the Canaan Land. Oh, movin\\' on down the line, John Henry came right on time. Movin\\' on down the line, John Henry came right on time. Home and freedom hand in hand, Workin\\' for the Canaan Land. John Henry, John Henry, John Henry is a mighty man. John Henry, John Henry, John Henry is a powerful man. Steel drivin\\' man, John Henry was. Steel drivin\\' man, Oh yes he was. So proud, defiant, A gentle giant, A steel drivin\\' natural man. Well, a-come on, John, You\\'re the one that we\\'re dependin\\' on. Swing that hammer, bust that rock, Come on, give it everything you\\'ve got. John Henry, John Henry, John Henry is a mighty man. Born with a hammer, born with a hammer, Born with a hammer right in his hand. John and the drill made the valley shake, Rumblin\\' almost caused an earthquake. Thunder and lightning was everywhere, Oh, Lord, that battle was beyond compare. John Henry, John Henry, John Henry is a powerful man. Born with a hammer, born with a hammer, Born with a hammer right in his hand. No mountain too high, No valley too low, No river too wide, No place too far to go. If you believe, you can overcome. The battle is already won, Just keep on keepin\\' on. Stand tall, just like John. No matter who you are, No matter where you\\'re from, Nothing can stop you, From who you can become. Just keep on keepin\\' on, Stand tall, just like John. Just keep on keepin\\' on, Stand tall, just like John. No matter who you are, No matter where you\\'re from, Nothing can stop you, From who you can become. Just keep on keepin\\' on, Stand tall, just like John. Just keep on keepin\\' on, Stand tall, just like John. Just keep on keepin\\' on, Stand tall, just like John. Just keep on keepin\\' on, Stand tall, just like John. Do you wanna build a snowman? Come on let\\'s go and play I never see you anymore Come out the door It\\'s like you\\'ve gone away We used to be best buddies And now we\\'re not I wish you would tell me why! Do you wanna build a snowman? It doesn\\'t have to be a snowman Okay, bye Do you wanna build a snowman? Or ride our bikes around the halls I think some company is overdue I\\'ve started talking to the Pictures on the walls It gets a little lonely All these empty rooms (these empty rooms) Just watching the hours Tick by Do you wanna build a snowman? (Do you wanna build a snowman?) It doesn\\'t have to be a snowman (Don\\'t have to be a snowman) Okay, bye Elsa? Please, I know you\\'re in there (I know you\\'re in there) People are asking where you\\'ve been They say, \"have courage\" and I\\'m trying to (trying to) I\\'m right out here for you (here for you) Just let me in (just let me in) We only have each other (we only have each other) It\\'s just you and me What are we gonna do? (what are we gonna do?) Do you wanna build a snowman? Do you wanna build a snowman? It doesn\\'t have to be a snowman Okay, bye Some day my prince will come Some day we\\'ll meet again And away to his castle we\\'ll go To be happy forever I know Some day when spring is here We\\'ll find a love anew And the birds will sing And wedding bells will ring Someday when my dreams come true La la lu, La la lu Oh, my little star sweeper I\\'ll sweep the stardust for you La la lu, La la lu Little soft fluffy sleeper Here comes a pink cloud for you La la lu, La la lu Little wandering angel Fold up your wings close your eyes La la lu, La la lu And may love be your keeper La la lu, La la lu, La la lu Hakuna Matata! What a wonderful phrase Hakuna Matata! Ain\\'t no passing craze It means no worries For the rest of your days It\\'s our problem-free philosophy Hakuna Matata! Why, when he was a young warthog When I was a young wart-hoooog! Very nice! Thanks! He found his aroma lacked a certain appeal He could clear the Savannah after every meal I\\'m a sensitive soul, though I seem thick-skinned And it hurt that my friends never stood downwind And oh, the shame (He was ashamed!) Thought of changin\\' my name (Oh, what\\'s in a name?) And I got downhearted (How did you feel?) Every time that I- Pumbaa! Not in front of the kids! Oh... sorry Hakuna Matata! What a wonderful phrase Hakuna Matata! Ain\\'t no passing craze It means no worries For the rest of your days Yeah, sing it, kid! It\\'s our problem-free philosophy Hakuna Matata! Hakuna Matata Hakuna Matata Hakuna Matata Hakuna It means no worries For the rest of your days It\\'s our problem-free philosophy Hakuna Matata From the day we arrive on the planet And blinking, step into the sun There\\'s more to see than can ever be seen More to do than can ever be done There\\'s far too much to take in here More to find than can ever be found But the sun rolling high Through the sapphire sky Keeps great and small on the endless round It\\'s the circle of life And it moves us all Through despair and hope Through faith and love Till we find our place On the path unwinding In the circle The circle of life It\\'s the circle of life And it moves us all Through despair and hope Through faith and love Till we find our place On the path unwinding In the circle The circle of life Mmmmmm Mmmmmm So this is love Mmmmmm So this is love So this is what makes life divine I\\'m all aglow, mmmmmm And now I know And now I know The key to all heaven is mine My heart has wings, mmmmmm And I can fly I\\'ll touch every star in the sky So this is the miracle That I\\'ve been dreaming of Mmmmmm Mmmmmm So this is love Oh, this is the night, it\\'s a beautiful night And we call it bella notte Look at the skies, they have stars in their eyes On this lovely bella notte Side by side with your loved one You\\'ll find enchantment here The night will weave its magic spell When the one you love is near For this is the night, and the heavens are right On this lovely bella notte This is the night, it\\'s a beautiful night And we call it bella notte Look at the skies, they have stars in their eyes On this lovely bella notte Side by side with your loved one You\\'ll find enchantment here The night will weave its magic spell When the one you love is near For this is the night, and the heavens are right On this lovely bella notte Look at me, I will never pass for a perfect bride, or a perfect daughter. Can it be, I\\'m not meant to play this part? Now I see, that if I were truly to be myself, I would break my family\\'s heart. Who is that girl I see, staring straight back at me? Why is my reflection someone I don\\'t know? Somehow I cannot hide Who I am, though I\\'ve tried. When will my reflection show, who I am, inside? How I pray, that a time will come, I can free myself, from their expectations On that day, I\\'ll discover someway to be myself, and to make my family proud. They want a docile lamb, No-one knows who I am. Must there be a secret me, I\\'m forced to hide? Must I pretend that I am someone else for all time? When will my reflection show, who I am inside? When will my reflection show, who I am inside? I know you I walked with you Once Upon a dream I know you That gleam in your eyes Is so familiar a gleam Yet I know it\\'s true That visions are seldom what they seem But if I know you I know what you do You\\'ll love me at once The way you did once upon a dream La da la da la ahahahahah But if I know you I know what you do You\\'ll love me at once The way you did once upon a dream I know you I walked with you Once Upon a dream I know you That gleam in your eyes Is so familiar a gleam Yet I know it\\'s true That visions are seldom what they seem But if I know you I know what you do You\\'ll love me at once The way you did once upon a dream There\\'s a calm surrender to the rush of day When the heat of the rolling world can be turned away An enchanted moment and it sees me through It\\'s enough for this restless warrior just to be with you And can you feel the love tonight? It is where we are It\\'s enough for this wide-eyed wanderer that we got this far And can you feel the love tonight? How it\\'s laid to rest It\\'s enough to make kings and vagabonds believe the very best There\\'s a time for everyone, if they only learn That the twisting kaleidoscope moves us all in turn There\\'s a rhyme and reason to the wild outdoors When the heart of this star-crossed voyager beats in time with yours And can you feel the love tonight? It is where we are It\\'s enough for this wide-eyed wanderer that we got this far And can you feel the love tonight? How it\\'s laid to rest It\\'s enough to make kings and vagabonds believe the very best It\\'s enough to make kings and vagabonds believe the very best Ou mata e matagi Ou loto mamaina toa Manatu atu Taku pelepele Pa mai to mafanafanaga Saolotoga tenei Manatunatu Ki tamafine Maua ai te lumanai Ki tamafine Ou mata e matagi Ke manatua Faiga iena te luelue te malohi ina hiva Ke manatua Faiga iena te fiafia te malie ina hiva Hau la ke ta o kuku mai to lima Hau la ke ta o hau ta hihiva Hau la ke ta o kuku mai to lima Hau la ke ta o ko koe taku pele e fofou ai au Tamilomilo fakatamilomilo e kua ninimo toku ulu Tamilomilo fakatamilomilo toe fai toe fai ke manino Katakata mai hihiva mai fakalogo ki te pate aue ma te luelue Translation: Do you remember when we did all that the sway the energy expressed in the dance Do you remember when we did all that the joy and sweetness expressed in the dance come on let\\'s go give me your hand come on let\\'s go come let\\'s dance come on let\\'s go give me your hand come on let\\'s go you are the only one that I wish for Round and round spinning round hey my head\\'s getting dizzy Round and round spinning round do it again it\\'ll soon clear Smile my way keep on dancing listen to the pate and keep on swaying Chief Tui: Moana, make way, make way! Moana, it\\'s time you knew The village of Motunui is All you need The dancers are practising They dance to an ancient song (Who needs a new song? This old one\\'s all we need) This tradition is our mission And Moana, there\\'s so much to do (Make way!) Don\\'t trip on the taro root That\\'s all you need We share everything we make (We make) We joke and we weave our baskets (Aha!) The fishermen come back from the sea Moana: I wanna see Chief Tui: Don\\'t walk away Moana, stay on the ground now Our people will need a chief And there you are Chief Tui and Sina: There comes a day When you\\'re gonna look around And realize happiness is Where you are Chief Tui: Consider the coconut (The what?) Consider its tree We use each part of the coconut That\\'s all we need Sina: We make our nets from the fibers (We make our nets from the fibers) The water is sweet inside (The water is sweet inside) We use the leaves to build fires (We use the leaves to build fires) We cook up the meat inside (We cook up the meat inside) Chief Tui: Consider the coconuts (Consider the coconuts) The trunks and the leaves (Ha!) The island gives us what we need Moana: And no one leaves Chief Tui: That\\'s right, we stay We\\'re safe and we\\'re well provided And when we look to the future There you are You\\'ll be okay In time you\\'ll learn just as I did Chief Tui and Sina: You must find happiness right Where you are Gramma Tala: I like to dance with the water The undertow and the waves The water is mischievous Ha! I like how it misbehaves The village may think I\\'m crazy Or say that I drift too far But once you know what you like, well There you are You are your father\\'s daughter Stubbornness and pride Mind what he says but remember You may hear a voice inside And if the voice starts to whisper To follow the farthest star Moana, that voice inside is Who you are Villagers: We make our nets from the fibers (We weave our nets from the fibers) The water is sweet inside (And we taste the sweet inside) We use the leaves to build fires (We sing these songs in our choir) We cook up the meat inside (We have mouths to feed inside) Chief Tui: The village believes in us (That\\'s right!) The village believes (Ha!) The island gives us what we need And no one leaves Moana: So here I\\'ll stay My home, my people beside me And when I think of tomorrow There we are I\\'ll lead the way I\\'ll have my people to guide me We\\'ll build our future together Villagers: Where we are Moana: \\'Cause every path leads you back to Villagers: Where you are Moana: You can find happiness right - Villagers: Where you are Where you are Don\\'t you disrespect me little man Don\\'t you derogate or deride You\\'re in my world now, not your world And I got friends on the other side (He\\'s got friends on the other side) That\\'s and echo gentleman Just a little something we have here in Louisiana A little parlor trick, don\\'t worry Sit down at my table, put your mind at ease If you relax it will enable me to do anything I please I can read your future, I can change it \\'round some too I look deep into your heart and soul You do have have a soul, don\\'t you, Lawrence? Make your wildest dreams come true I got voodoo, I got voodoo I got things I didn\\'t even try And I got friends on the other side (He\\'s got friends on the other side) The cards, the cards, the cards will tell The past, the present and the future as well The cards, the cards, just take three Take a little trip into your future with me Now you, young man are from across the sea You come from two long lines of royalty I\\'m a royal myself on my mother\\'s side Your lifestyle\\'s high but your funds are low You need to marry a little honey who\\'s daddy got dough Mom and dad cut you off, huh, playboy? Now y\\'all better get hitched but hitching ties you down You just want to be free, hop from place to place But freedom takes green It\\'s the green, it\\'s the green, it\\'s the green you need And when I look into your future it\\'s the green that I see On you little man, I don\\'t want wanna waste much time You\\'ve been pushed \\'round all your life You\\'ve been pushed \\'round by your mother And your sister and your brother And if you was married you\\'d be pushed \\'round by your wife But in your future the you I see Is exactly the man you always wanted to be Shake my hand, come on boys Won\\'t you shake a poor sinner\\'s hand? Yes, are you ready? (Are you ready?) Are you ready? Transformation central Transformation central Transformation central Transformation central Transformafication central, can you feel it? You\\'re changing, you\\'re changing, you\\'re changing alright I hope you\\'re satisfied, but if you ain\\'t don\\'t blame me You can blame my friends on the other side You got what you wanted What you want\\'s what you get Hush Ain\\'t it a glorious day? Right as a mornin\\' in May I feel like I could fly Have you ever seen the grass So green, or a bluer sky? Oh it\\'s a jolly \\'oliday with Mary Mary makes your \\'eart so light! When the day is gray and ordianry Mary makes the sun shine bright! Oh, \\'appiness is bloomin\\' all around \\'er The daffodils are smilin\\' at the dove When Mary \\'olds your \\'and You feel so grand Your \\'eart starts beatin\\' like A big brass band! It\\'s a jolly \\'oliday with Mary No wonder that it\\'s Mary that we love! Oh it\\'s a jolly \\'oliday with Mary Mary makes your \\'eart so light! When the day is gray and ordianry Mary makes the sun shine bright! Oh, \\'appiness is bloomin\\' all around \\'er The daffodils are smilin\\' at the dove When Mary \\'olds your \\'and You feel so grand Your \\'eart starts beatin\\' like A big brass band! It\\'s a jolly \\'oliday with Mary No wonder that it\\'s Mary that we love! Oh, it\\'s a jolly holiday with you, Bert Gentlemen like you are few Though you\\'re just a diamond In the rough, Bert Underneath your blood is blue! You\\'d never think of pressing Your advantage Forbearance is the hallmark of your creed A lady needn\\'t fear when you are near Your sweet gentility is crystal clear! Oh, it\\'s a jolly holiday with you, Bert A jolly, jolly holiday with you! It\\'s true that Mavis and Sybil \\'ave Ways that are winning And Prudence and Gwendolyn Set your \\'eart spinning Phoebe\\'s delightful, Maude is disarming Janice, Felicia, Lydia--charming Cynthia\\'s dashing, Vivian\\'s sweet Stephanie\\'s smashing, Priscilla a treat Veronica, Millicent, Agnes, and Jane Convivial company, time and again Dorcas and Phyllis and Glynis are sorts I\\'ll agree are three jolly good sports But cream of the crop, tip of the top It\\'s Mary Poppins, and there we stop! If I never knew you If I never felt this love I would have no inkling of How precious life can be And if I never knew you I would never have a clue How at last I\\'d find in you The missing part of me In this world so full of fear Full of rage and lies I can see the truth so clear In your eyes So dry your eyes And I\\'m so grateful to you I\\'d have lived my whole life through Lost forever If I never knew you If I never knew you I\\'d be safe but half as real Never knowing I could feel A love so strong and true I\\'m so grateful to you I\\'d have lived my whole life through Lost forever If I never knew you I thought our love would be so beautiful Somehow we made the whole world bright I never knew that fear and hate could be so strong All they\\'d leave us were these whispers in the night But still my heart is singing We were right If I never knew you There\\'s no moment I regret If I never knew this love I would have no inkling of If our time has gone too fast I\\'ve lived at last How precious life can be I thought our love would be so beautiful Somehow we\\'d make the whole world bright I thought our love would be so beautiful We\\'d turn the darkness into light And still my heart is singing We were right We were right And if I never knew you I\\'d have lived my whole life through Empty as the sky Never knowing why Lost forever I know you I walked with you Once Upon a dream I know you That gleam in your eyes Is so familiar a gleam Yet I know it\\'s true That visions are seldom what they seem But if I know you I know what you do You\\'ll love me at once The way you did once upon a dream La da la da la ahahahahah But if I know you I know what you do You\\'ll love me at once The way you did once upon a dream I know you I walked with you Once Upon a dream I know you That gleam in your eyes Is so familiar a gleam Yet I know it\\'s true That visions are seldom what they seem But if I know you I know what you do You\\'ll love me at once The way you did once upon a dream You\\'ve got a friend in me You\\'ve got a friend in me When the road looks rough ahead And you\\'re miles and miles From your nice warm bed Just remember what your old pal said Boy, you\\'ve got a friend in me You\\'ve got a friend in me You\\'ve got a friend in me You\\'ve got a friend in me You\\'ve got troubles, well I\\'ve got \\'em too There isn\\'t anything I wouldn\\'t do for you We stick together and we see it through You\\'ve got a friend in me You\\'ve got a friend in me Some other folks might be A little bit smarter than I am Bigger and stronger too Maybe But none of them will ever love you the way I do It\\'s me and you And as the years go by Boys, our friendship will never die You\\'re gonna see It\\'s our destiny You\\'ve got a friend in me You\\'ve got a friend in me You\\'ve got a friend in me I have often dreamed of a far off place Where a hero\\'s welcome would be waiting for me Where the crowds would cheer, when they see my face And a voice keeps saying this is where I\\'m meant to be I\\'ll be there someday, I can go the distance I will find my way if I can be strong I know every mile would be worth my while When I go the distance, I\\'ll be right where I belong Down an unknown road to embrace my fate Though that road may wander, it will lead me to you And a thousand years would be worth the wait It might take a lifetime but somehow I\\'ll see it through And I won\\'t look back, I can go the distance And I\\'ll stay on track, no I won\\'t accept defeat It\\'s an uphill slope But I won\\'t loose hope, \\'till I go the distance And my journey is complete, oh yeah But to look beyond the glory is the hardest part For a hero\\'s strength is measured by his heart, oh Like a shooting star, I will go the distance I will search the world, I will face its harms I don\\'t care how far, I can go the distance \\'Till I find my hero\\'s welcome waiting in your arms I will search the world, I will face its harms \\'Till I find my hero\\'s welcome waiting in your arms I\\'ve got no strings To hold me down To make me fret Or make me frown I had strings But now I\\'m free There are no strings on me Hi-ho the me-ri-o That\\'s the only way to go I want the world to know Nothing ever worries me I\\'ve got no strings So I have fun I\\'m not tied up to anyone They\\'ve got strings But you can see There are no strings on me You have no strings Your arms is free To love me by the Zuider Zee Ya, ya, ya If you would woo I\\'d bust my strings for you You\\'ve got no strings Comme ci comme ca Your savoire-faire is ooh la la I\\'ve got strings But entre nous I\\'d cut my strings for you Down where the Volga flows There\\'s a Russian rendezvous Where me and Ivan go But I\\'d rather go with you, hey There are no strings on me Come stop your crying It will be alright Just take my hand And hold it tight I will protect you From all around you I will be here Don\\'t you cry For one so small, You seem so strong My arms will hold you, Keep you safe and warm This bond between us Can\\'t be broken I will be here Don\\'t you cry \\'Cause you\\'ll be in my heart Yes, you\\'ll be in my heart From this day on Now and forever more You\\'ll be in my heart No matter what they say You\\'ll be here in my heart Always Why can\\'t they understand the way we feel They just don\\'t trust what they can\\'t explain I know we\\'re different, but deep inside us We\\'re not that different at all And you\\'ll be in my heart Yes you\\'ll be in my heart From this day on Now and forever more Don\\'t listen to them \\'Cause what do they know We need each other, to have, to hold They\\'ll see in time, I know When destiny calls you, you must be strong I may not be with you But you got to hold on They\\'ll see in time, I know We\\'ll show them together \\'Cause you\\'ll be in my heart Believe me you\\'ll be in my heart I\\'ll be there from this day on Now and forever more You\\'ll be in my heart No matter what they say You\\'ll be here in my heart Always Always I\\'ll be with you I\\'ll be there for you always Always and always Just look over your shoulder Just look over your shoulder Just look over your shoulder I\\'ll be there Always'"
            ]
          },
          "metadata": {},
          "execution_count": 48
        }
      ]
    },
    {
      "cell_type": "code",
      "metadata": {
        "id": "_KlsYd7_uOez",
        "colab": {
          "base_uri": "https://localhost:8080/"
        },
        "outputId": "b9a70c5b-38b4-468e-8bdf-922a806602a6"
      },
      "source": [
        "# Transformar el corpus a tokens\n",
        "tokens=text_to_word_sequence(corpus)\n",
        "# Vistazo general de los primeros tokens\n",
        "tokens[:20]"
      ],
      "execution_count": 49,
      "outputs": [
        {
          "output_type": "execute_result",
          "data": {
            "text/plain": [
              "['when',\n",
              " 'somebody',\n",
              " 'loved',\n",
              " 'me',\n",
              " 'everything',\n",
              " 'was',\n",
              " 'beautiful',\n",
              " 'every',\n",
              " 'hour',\n",
              " 'we',\n",
              " 'spent',\n",
              " 'together',\n",
              " 'lives',\n",
              " 'within',\n",
              " 'my',\n",
              " 'heart',\n",
              " 'and',\n",
              " 'when',\n",
              " 'she',\n",
              " 'was']"
            ]
          },
          "metadata": {},
          "execution_count": 49
        }
      ]
    },
    {
      "cell_type": "code",
      "metadata": {
        "id": "GlqpZSJOJ1xQ",
        "colab": {
          "base_uri": "https://localhost:8080/"
        },
        "outputId": "ed3ccf51-378c-4727-bed2-49913f11b4f6"
      },
      "source": [
        "print(\"Cantidad de tokens en el corpus:\", len(tokens))"
      ],
      "execution_count": 50,
      "outputs": [
        {
          "output_type": "stream",
          "name": "stdout",
          "text": [
            "Cantidad de tokens en el corpus: 17542\n"
          ]
        }
      ]
    },
    {
      "cell_type": "code",
      "metadata": {
        "id": "RhQevOynuYk2"
      },
      "source": [
        "# Código para hacer el desfazaje de las palabras\n",
        "# según el train_len\n",
        "text_sequences = []\n",
        "for i in range(train_len, len(tokens)):\n",
        "  seq = tokens[i-train_len:i]\n",
        "  text_sequences.append(seq)"
      ],
      "execution_count": 51,
      "outputs": []
    },
    {
      "cell_type": "code",
      "metadata": {
        "id": "FU3FuqHSuhzq",
        "colab": {
          "base_uri": "https://localhost:8080/"
        },
        "outputId": "31844da3-bd4e-4044-aea9-e8bd593ef09a"
      },
      "source": [
        "# Demos un vistazo a nuestros vectores para entrenar el modelo\n",
        "text_sequences[:20]"
      ],
      "execution_count": 52,
      "outputs": [
        {
          "output_type": "execute_result",
          "data": {
            "text/plain": [
              "[['when', 'somebody', 'loved', 'me'],\n",
              " ['somebody', 'loved', 'me', 'everything'],\n",
              " ['loved', 'me', 'everything', 'was'],\n",
              " ['me', 'everything', 'was', 'beautiful'],\n",
              " ['everything', 'was', 'beautiful', 'every'],\n",
              " ['was', 'beautiful', 'every', 'hour'],\n",
              " ['beautiful', 'every', 'hour', 'we'],\n",
              " ['every', 'hour', 'we', 'spent'],\n",
              " ['hour', 'we', 'spent', 'together'],\n",
              " ['we', 'spent', 'together', 'lives'],\n",
              " ['spent', 'together', 'lives', 'within'],\n",
              " ['together', 'lives', 'within', 'my'],\n",
              " ['lives', 'within', 'my', 'heart'],\n",
              " ['within', 'my', 'heart', 'and'],\n",
              " ['my', 'heart', 'and', 'when'],\n",
              " ['heart', 'and', 'when', 'she'],\n",
              " ['and', 'when', 'she', 'was'],\n",
              " ['when', 'she', 'was', 'sad'],\n",
              " ['she', 'was', 'sad', 'i'],\n",
              " ['was', 'sad', 'i', 'was']]"
            ]
          },
          "metadata": {},
          "execution_count": 52
        }
      ]
    },
    {
      "cell_type": "code",
      "metadata": {
        "id": "064N2jtLvHRg",
        "colab": {
          "base_uri": "https://localhost:8080/"
        },
        "outputId": "5e4f78ad-54f1-4b48-fd47-cd759e6ddeb2"
      },
      "source": [
        "# Proceso de tokenizacion\n",
        "tok = Tokenizer() \n",
        "tok.fit_on_texts(text_sequences) \n",
        "\n",
        "# Convertimos las palabras a números\n",
        "# entran palabras -> salen números\n",
        "sequences = tok.texts_to_sequences(text_sequences)\n",
        "\n",
        "# Damos un vistazo\n",
        "sequences[:20]"
      ],
      "execution_count": 53,
      "outputs": [
        {
          "output_type": "execute_result",
          "data": {
            "text/plain": [
              "[[30, 346, 137, 8],\n",
              " [346, 137, 8, 138],\n",
              " [137, 8, 138, 61],\n",
              " [8, 138, 61, 206],\n",
              " [138, 61, 206, 95],\n",
              " [61, 206, 95, 536],\n",
              " [206, 95, 536, 18],\n",
              " [95, 536, 18, 537],\n",
              " [536, 18, 537, 165],\n",
              " [18, 537, 165, 460],\n",
              " [537, 165, 460, 403],\n",
              " [165, 460, 403, 16],\n",
              " [460, 403, 16, 63],\n",
              " [403, 16, 63, 4],\n",
              " [16, 63, 4, 30],\n",
              " [63, 4, 30, 58],\n",
              " [4, 30, 58, 61],\n",
              " [30, 58, 61, 404],\n",
              " [58, 61, 404, 5],\n",
              " [61, 404, 5, 61]]"
            ]
          },
          "metadata": {},
          "execution_count": 53
        }
      ]
    },
    {
      "cell_type": "code",
      "metadata": {
        "id": "vwsvmvDKKXSP",
        "colab": {
          "base_uri": "https://localhost:8080/"
        },
        "outputId": "97982efb-3c35-46ba-e0fb-3fc8dd0d7557"
      },
      "source": [
        "print(\"Cantidad de rows del dataset:\", len(sequences))"
      ],
      "execution_count": 54,
      "outputs": [
        {
          "output_type": "stream",
          "name": "stdout",
          "text": [
            "Cantidad de rows del dataset: 17538\n"
          ]
        }
      ]
    },
    {
      "cell_type": "markdown",
      "metadata": {
        "id": "QMVP4bj0vL2e"
      },
      "source": [
        "### 3 - Input y target"
      ]
    },
    {
      "cell_type": "code",
      "metadata": {
        "id": "mx2xwdz3KloJ",
        "colab": {
          "base_uri": "https://localhost:8080/"
        },
        "outputId": "5961760c-0c6b-4971-b9d7-29219966b24d"
      },
      "source": [
        "# Con numpy es muy fácil realizar el slicing de vectores\n",
        "ex = np.array([[1,2,3,4],[5,6,7,8]])\n",
        "ex"
      ],
      "execution_count": 55,
      "outputs": [
        {
          "output_type": "execute_result",
          "data": {
            "text/plain": [
              "array([[1, 2, 3, 4],\n",
              "       [5, 6, 7, 8]])"
            ]
          },
          "metadata": {},
          "execution_count": 55
        }
      ]
    },
    {
      "cell_type": "code",
      "metadata": {
        "id": "BEod7qghvTVt",
        "colab": {
          "base_uri": "https://localhost:8080/"
        },
        "outputId": "cd6c2159-1711-4233-d200-2ea3a6598ea9"
      },
      "source": [
        "# Con numpy es muy fácil realizar el slicing de vectores\n",
        "print(\"Dimension:\", ex.shape)\n",
        "print(\"Todos los elementos:\\n\", ex)\n",
        "print(\"Todos los elementos menos el último:\\n\", ex[:, :-1])"
      ],
      "execution_count": 58,
      "outputs": [
        {
          "output_type": "stream",
          "name": "stdout",
          "text": [
            "Dimension: (2, 4)\n",
            "Todos los elementos:\n",
            " [[1 2 3 4]\n",
            " [5 6 7 8]]\n",
            "Todos los elementos menos el último:\n",
            " [[1 2 3]\n",
            " [5 6 7]]\n"
          ]
        }
      ]
    },
    {
      "cell_type": "code",
      "metadata": {
        "id": "i95xWqtCvp8T",
        "colab": {
          "base_uri": "https://localhost:8080/"
        },
        "outputId": "47161489-7acd-49fa-bcb6-8577f6028f4a"
      },
      "source": [
        "input = ex[:,:-1] # todos los rows, menos la ultima col\n",
        "target = ex[:, -1] # última col de cada row\n",
        "\n",
        "print(\"Input:\\n\", input)\n",
        "print(\"Target:\", target)"
      ],
      "execution_count": 59,
      "outputs": [
        {
          "output_type": "stream",
          "name": "stdout",
          "text": [
            "Input:\n",
            " [[1 2 3]\n",
            " [5 6 7]]\n",
            "Target: [4 8]\n"
          ]
        }
      ]
    },
    {
      "cell_type": "code",
      "metadata": {
        "id": "e1vJTG65v4Qn",
        "colab": {
          "base_uri": "https://localhost:8080/"
        },
        "outputId": "8935e8ca-7572-43f4-f9a6-49bede41730b"
      },
      "source": [
        "arr_sequences = np.array(sequences)\n",
        "x_data = arr_sequences[:,:-1]\n",
        "y_data_int = arr_sequences[:,-1] # aún falta el oneHotEncoder\n",
        "\n",
        "print(x_data.shape)\n",
        "print(y_data_int.shape)"
      ],
      "execution_count": 60,
      "outputs": [
        {
          "output_type": "stream",
          "name": "stdout",
          "text": [
            "(17538, 3)\n",
            "(17538,)\n"
          ]
        }
      ]
    },
    {
      "cell_type": "code",
      "metadata": {
        "id": "ln6kVWVlwBBs",
        "colab": {
          "base_uri": "https://localhost:8080/"
        },
        "outputId": "35fe5248-4028-4d2d-e450-010de18e312e"
      },
      "source": [
        "# Palabras del vocabulario\n",
        "tok.index_word"
      ],
      "execution_count": 61,
      "outputs": [
        {
          "output_type": "execute_result",
          "data": {
            "text/plain": [
              "{1: 'the',\n",
              " 2: 'a',\n",
              " 3: 'you',\n",
              " 4: 'and',\n",
              " 5: 'i',\n",
              " 6: 'to',\n",
              " 7: 'of',\n",
              " 8: 'me',\n",
              " 9: 'it',\n",
              " 10: 'be',\n",
              " 11: 'on',\n",
              " 12: \"it's\",\n",
              " 13: 'in',\n",
              " 14: 'that',\n",
              " 15: 'is',\n",
              " 16: 'my',\n",
              " 17: 'your',\n",
              " 18: 'we',\n",
              " 19: 'can',\n",
              " 20: 'all',\n",
              " 21: 'just',\n",
              " 22: 'for',\n",
              " 23: 'know',\n",
              " 24: 'as',\n",
              " 25: 'with',\n",
              " 26: 'but',\n",
              " 27: 'no',\n",
              " 28: 'so',\n",
              " 29: 'what',\n",
              " 30: 'when',\n",
              " 31: 'this',\n",
              " 32: 'like',\n",
              " 33: 'world',\n",
              " 34: 'one',\n",
              " 35: 'got',\n",
              " 36: \"i'm\",\n",
              " 37: 'there',\n",
              " 38: 'are',\n",
              " 39: 'if',\n",
              " 40: 'come',\n",
              " 41: 'love',\n",
              " 42: 'never',\n",
              " 43: 'la',\n",
              " 44: 'will',\n",
              " 45: 'now',\n",
              " 46: 'do',\n",
              " 47: 'small',\n",
              " 48: 'have',\n",
              " 49: \"you're\",\n",
              " 50: 'they',\n",
              " 51: 'see',\n",
              " 52: \"don't\",\n",
              " 53: 'go',\n",
              " 54: 'at',\n",
              " 55: 'time',\n",
              " 56: 'where',\n",
              " 57: 'up',\n",
              " 58: 'she',\n",
              " 59: 'our',\n",
              " 60: 'oh',\n",
              " 61: 'was',\n",
              " 62: 'her',\n",
              " 63: 'heart',\n",
              " 64: 'who',\n",
              " 65: 'from',\n",
              " 66: 'here',\n",
              " 67: 'look',\n",
              " 68: 'way',\n",
              " 69: 'how',\n",
              " 70: 'let',\n",
              " 71: 'make',\n",
              " 72: 'out',\n",
              " 73: 'sea',\n",
              " 74: \"you'll\",\n",
              " 75: \"i'll\",\n",
              " 76: \"i've\",\n",
              " 77: 'little',\n",
              " 78: 'eye',\n",
              " 79: 'day',\n",
              " 80: 'man',\n",
              " 81: 'say',\n",
              " 82: 'girl',\n",
              " 83: 'true',\n",
              " 84: 'he',\n",
              " 85: 'john',\n",
              " 86: 'well',\n",
              " 87: 'through',\n",
              " 88: 'ever',\n",
              " 89: 'down',\n",
              " 90: \"you've\",\n",
              " 91: 'think',\n",
              " 92: 'once',\n",
              " 93: \"we're\",\n",
              " 94: 'find',\n",
              " 95: 'every',\n",
              " 96: 'around',\n",
              " 97: 'ho',\n",
              " 98: 'or',\n",
              " 99: \"there's\",\n",
              " 100: 'life',\n",
              " 101: 'not',\n",
              " 102: 'too',\n",
              " 103: 'old',\n",
              " 104: 'after',\n",
              " 105: 'us',\n",
              " 106: 'right',\n",
              " 107: 'had',\n",
              " 108: 'far',\n",
              " 109: 'why',\n",
              " 110: 'snow',\n",
              " 111: 'tale',\n",
              " 112: 'wish',\n",
              " 113: 'dream',\n",
              " 114: 'welcome',\n",
              " 115: 'by',\n",
              " 116: \"we'll\",\n",
              " 117: 'fly',\n",
              " 118: 'henry',\n",
              " 119: 'e',\n",
              " 120: 'want',\n",
              " 121: 'yo',\n",
              " 122: 'guest',\n",
              " 123: 'has',\n",
              " 124: 'inside',\n",
              " 125: \"that's\",\n",
              " 126: 'under',\n",
              " 127: 'song',\n",
              " 128: 'would',\n",
              " 129: 'fire',\n",
              " 130: 'light',\n",
              " 131: 'get',\n",
              " 132: 'some',\n",
              " 133: 'high',\n",
              " 134: 'take',\n",
              " 135: 'his',\n",
              " 136: 'bells',\n",
              " 137: 'loved',\n",
              " 138: 'everything',\n",
              " 139: 'could',\n",
              " 140: 'been',\n",
              " 141: 'keep',\n",
              " 142: 'friend',\n",
              " 143: \"she's\",\n",
              " 144: 'more',\n",
              " 145: 'need',\n",
              " 146: \"can't\",\n",
              " 147: 'upon',\n",
              " 148: 'hand',\n",
              " 149: 'knew',\n",
              " 150: 'sun',\n",
              " 151: 'people',\n",
              " 152: 'part',\n",
              " 153: \"let's\",\n",
              " 154: 'eyes',\n",
              " 155: 'send',\n",
              " 156: 'always',\n",
              " 157: 'were',\n",
              " 158: 'river',\n",
              " 159: 'am',\n",
              " 160: 'gonna',\n",
              " 161: 'whole',\n",
              " 162: \"ain't\",\n",
              " 163: 'wanna',\n",
              " 164: \"seein'\",\n",
              " 165: 'together',\n",
              " 166: 'still',\n",
              " 167: 'an',\n",
              " 168: 'new',\n",
              " 169: \"won't\",\n",
              " 170: 'yes',\n",
              " 171: 'did',\n",
              " 172: 'bare',\n",
              " 173: 'necessities',\n",
              " 174: 'hammer',\n",
              " 175: 'each',\n",
              " 176: 'friends',\n",
              " 177: 'then',\n",
              " 178: 'its',\n",
              " 179: 'free',\n",
              " 180: 'much',\n",
              " 181: 'sing',\n",
              " 182: 'play',\n",
              " 183: 'stop',\n",
              " 184: 'try',\n",
              " 185: 'sky',\n",
              " 186: 'tell',\n",
              " 187: 'feel',\n",
              " 188: 'kiss',\n",
              " 189: 'away',\n",
              " 190: 'thought',\n",
              " 191: 'o',\n",
              " 192: 'those',\n",
              " 193: 'give',\n",
              " 194: 'sweet',\n",
              " 195: 'everybody',\n",
              " 196: 'really',\n",
              " 197: \"he's\",\n",
              " 198: 'soul',\n",
              " 199: 'wonderful',\n",
              " 200: 'strings',\n",
              " 201: 'moana',\n",
              " 202: 'night',\n",
              " 203: 'mary',\n",
              " 204: 'zip',\n",
              " 205: 'dee',\n",
              " 206: 'beautiful',\n",
              " 207: 'other',\n",
              " 208: 'big',\n",
              " 209: \"what's\",\n",
              " 210: 'land',\n",
              " 211: 'must',\n",
              " 212: 'only',\n",
              " 213: 'goes',\n",
              " 214: 'almost',\n",
              " 215: \"'cause\",\n",
              " 216: 'very',\n",
              " 217: 'rest',\n",
              " 218: 'king',\n",
              " 219: 'whale',\n",
              " 220: 'side',\n",
              " 221: 'hey',\n",
              " 222: 'even',\n",
              " 223: 'beast',\n",
              " 224: 'before',\n",
              " 225: 'word',\n",
              " 226: 'their',\n",
              " 227: 'moon',\n",
              " 228: 'matter',\n",
              " 229: 'place',\n",
              " 230: 'island',\n",
              " 231: 'strong',\n",
              " 232: 'something',\n",
              " 233: 'gleam',\n",
              " 234: 'm',\n",
              " 235: 'same',\n",
              " 236: 'change',\n",
              " 237: 'beauty',\n",
              " 238: 'along',\n",
              " 239: 'things',\n",
              " 240: 'hear',\n",
              " 241: 'voice',\n",
              " 242: 'show',\n",
              " 243: 'wait',\n",
              " 244: 'may',\n",
              " 245: 'face',\n",
              " 246: 'off',\n",
              " 247: 'than',\n",
              " 248: 'fish',\n",
              " 249: 'cinderelly',\n",
              " 250: 'notre',\n",
              " 251: 'dame',\n",
              " 252: 'born',\n",
              " 253: 'build',\n",
              " 254: 'snowman',\n",
              " 255: 'lu',\n",
              " 256: 'hakuna',\n",
              " 257: 'happy',\n",
              " 258: 'meant',\n",
              " 259: 'hold',\n",
              " 260: 'warm',\n",
              " 261: 'bright',\n",
              " 262: 'turn',\n",
              " 263: 'dreams',\n",
              " 264: 'water',\n",
              " 265: 'long',\n",
              " 266: 'back',\n",
              " 267: 'star',\n",
              " 268: 'belle',\n",
              " 269: 'days',\n",
              " 270: 'good',\n",
              " 271: 'okay',\n",
              " 272: 'poor',\n",
              " 273: 'ha',\n",
              " 274: 'them',\n",
              " 275: 'chief',\n",
              " 276: 'made',\n",
              " 277: 'yet',\n",
              " 278: \"i'd\",\n",
              " 279: 'might',\n",
              " 280: 'clear',\n",
              " 281: 'enough',\n",
              " 282: 'bend',\n",
              " 283: 'drink',\n",
              " 284: \"'earties\",\n",
              " 285: 'matata',\n",
              " 286: \"isn't\",\n",
              " 287: \"'em\",\n",
              " 288: 'these',\n",
              " 289: 'stand',\n",
              " 290: 'colors',\n",
              " 291: 'wind',\n",
              " 292: 'though',\n",
              " 293: 'makes',\n",
              " 294: 'someone',\n",
              " 295: 'most',\n",
              " 296: 'about',\n",
              " 297: 'going',\n",
              " 298: 'help',\n",
              " 299: 'two',\n",
              " 300: 'yeah',\n",
              " 301: 'ya',\n",
              " 302: 'starts',\n",
              " 303: 'use',\n",
              " 304: 'die',\n",
              " 305: 'zero',\n",
              " 306: 'hero',\n",
              " 307: 'mickey',\n",
              " 308: 'forever',\n",
              " 309: 'jolly',\n",
              " 310: 'years',\n",
              " 311: \"wouldn't\",\n",
              " 312: 'dancing',\n",
              " 313: 'call',\n",
              " 314: 'earth',\n",
              " 315: 'wonder',\n",
              " 316: 'start',\n",
              " 317: 'perfect',\n",
              " 318: 'line',\n",
              " 319: 'knows',\n",
              " 320: 'behind',\n",
              " 321: 'maybe',\n",
              " 322: 'beyond',\n",
              " 323: 'somehow',\n",
              " 324: 'mean',\n",
              " 325: 'feeling',\n",
              " 326: 'bonjour',\n",
              " 327: 'tall',\n",
              " 328: 'lovely',\n",
              " 329: 'apart',\n",
              " 330: 'listen',\n",
              " 331: 'seem',\n",
              " 332: 'home',\n",
              " 333: 'tonight',\n",
              " 334: 'fault',\n",
              " 335: 'shine',\n",
              " 336: 'dies',\n",
              " 337: 'last',\n",
              " 338: 'doo',\n",
              " 339: 'hercules',\n",
              " 340: 'shiny',\n",
              " 341: 'medicine',\n",
              " 342: 'first',\n",
              " 343: 'cruella',\n",
              " 344: 'kite',\n",
              " 345: 'tui',\n",
              " 346: 'somebody',\n",
              " 347: 'lonely',\n",
              " 348: 'sure',\n",
              " 349: 'rhyme',\n",
              " 350: 'again',\n",
              " 351: 'live',\n",
              " 352: 'pay',\n",
              " 353: 'young',\n",
              " 354: 'ready',\n",
              " 355: 'burn',\n",
              " 356: 'own',\n",
              " 357: 'thing',\n",
              " 358: 'learn',\n",
              " 359: 'roll',\n",
              " 360: 'circle',\n",
              " 361: 'hope',\n",
              " 362: 'another',\n",
              " 363: 'remember',\n",
              " 364: 'daughter',\n",
              " 365: 'calls',\n",
              " 366: 'mine',\n",
              " 367: 'myself',\n",
              " 368: 'reflection',\n",
              " 369: 'dear',\n",
              " 370: 'three',\n",
              " 371: 'town',\n",
              " 372: 'magic',\n",
              " 373: 'nothing',\n",
              " 374: 'best',\n",
              " 375: 'dark',\n",
              " 376: 'please',\n",
              " 377: \"who's\",\n",
              " 378: \"doesn't\",\n",
              " 379: 'better',\n",
              " 380: 'while',\n",
              " 381: 'lot',\n",
              " 382: 'unfortunate',\n",
              " 383: 'walked',\n",
              " 384: 'green',\n",
              " 385: 'kyrie',\n",
              " 386: 'eleison',\n",
              " 387: 'mighty',\n",
              " 388: 'dah',\n",
              " 389: 'ay',\n",
              " 390: 's',\n",
              " 391: 'maui',\n",
              " 392: 'believe',\n",
              " 393: 'dance',\n",
              " 394: 'into',\n",
              " 395: 'worries',\n",
              " 396: 'mouse',\n",
              " 397: \"keepin'\",\n",
              " 398: 'round',\n",
              " 399: 'mmmmmm',\n",
              " 400: 'te',\n",
              " 401: 'ke',\n",
              " 402: 'future',\n",
              " 403: 'within',\n",
              " 404: 'sad',\n",
              " 405: 'held',\n",
              " 406: 'scared',\n",
              " 407: 'strange',\n",
              " 408: 'walk',\n",
              " 409: 'stay',\n",
              " 410: 'above',\n",
              " 411: 'guess',\n",
              " 412: 'blue',\n",
              " 413: 'share',\n",
              " 414: 'smile',\n",
              " 415: 'means',\n",
              " 416: 'wide',\n",
              " 417: 'knowing',\n",
              " 418: 'hard',\n",
              " 419: 'path',\n",
              " 420: 'seems',\n",
              " 421: 'different',\n",
              " 422: 'hide',\n",
              " 423: 'anything',\n",
              " 424: 'him',\n",
              " 425: 'baby',\n",
              " 426: 'village',\n",
              " 427: 'nice',\n",
              " 428: 'hurry',\n",
              " 429: 'put',\n",
              " 430: 'moment',\n",
              " 431: 'thieves',\n",
              " 432: 'gotta',\n",
              " 433: 'seen',\n",
              " 434: 'aa',\n",
              " 435: \"'round\",\n",
              " 436: 'familiar',\n",
              " 437: 'visions',\n",
              " 438: 'seldom',\n",
              " 439: 'da',\n",
              " 440: 'beggars',\n",
              " 441: 'mea',\n",
              " 442: 'culpa',\n",
              " 443: 'saying',\n",
              " 444: \"we've\",\n",
              " 445: 'somewhere',\n",
              " 446: 'helps',\n",
              " 447: 'sha',\n",
              " 448: 'shoulder',\n",
              " 449: 'waiting',\n",
              " 450: 'pick',\n",
              " 451: 'heh',\n",
              " 452: 'c',\n",
              " 453: 'k',\n",
              " 454: 'y',\n",
              " 455: 'u',\n",
              " 456: 'bella',\n",
              " 457: 'notte',\n",
              " 458: 'leaves',\n",
              " 459: 'distance',\n",
              " 460: 'lives',\n",
              " 461: \"she'd\",\n",
              " 462: 'used',\n",
              " 463: 'de',\n",
              " 464: 'para',\n",
              " 465: 'prepared',\n",
              " 466: 'wrong',\n",
              " 467: 'stuff',\n",
              " 468: 'many',\n",
              " 469: \"lookin'\",\n",
              " 470: 'deal',\n",
              " 471: 'run',\n",
              " 472: 'ask',\n",
              " 473: 'shore',\n",
              " 474: 'cannot',\n",
              " 475: 'name',\n",
              " 476: 'cry',\n",
              " 477: 'dreaming',\n",
              " 478: 'road',\n",
              " 479: 'meets',\n",
              " 480: 'sail',\n",
              " 481: 'lead',\n",
              " 482: 'pride',\n",
              " 483: 'deep',\n",
              " 484: 'secret',\n",
              " 485: \"didn't\",\n",
              " 486: \"who'd\",\n",
              " 487: 'done',\n",
              " 488: 'honey',\n",
              " 489: 'chance',\n",
              " 490: 'proud',\n",
              " 491: 'full',\n",
              " 492: 'morning',\n",
              " 493: 'since',\n",
              " 494: 'sir',\n",
              " 495: \"'til\",\n",
              " 496: 'rather',\n",
              " 497: 'quite',\n",
              " 498: \"'bout\",\n",
              " 499: 'loves',\n",
              " 500: 'hot',\n",
              " 501: 'leave',\n",
              " 502: 'heal',\n",
              " 503: 'found',\n",
              " 504: 'become',\n",
              " 505: 'real',\n",
              " 506: 'hoist',\n",
              " 507: 'heave',\n",
              " 508: 'shall',\n",
              " 509: 'swear',\n",
              " 510: 'lord',\n",
              " 511: 'mercy',\n",
              " 512: 'till',\n",
              " 513: 'near',\n",
              " 514: 'fear',\n",
              " 515: 'over',\n",
              " 516: 'herc',\n",
              " 517: 'girls',\n",
              " 518: 'great',\n",
              " 519: \"they'll\",\n",
              " 520: 'fun',\n",
              " 521: 'tight',\n",
              " 522: 'bibbidi',\n",
              " 523: 'bobbidi',\n",
              " 524: 'boo',\n",
              " 525: 'nights',\n",
              " 526: 'club',\n",
              " 527: 'strength',\n",
              " 528: 'ou',\n",
              " 529: 'canaan',\n",
              " 530: 'mai',\n",
              " 531: 'hau',\n",
              " 532: 'ta',\n",
              " 533: 'cards',\n",
              " 534: 'central',\n",
              " 535: \"'eart\",\n",
              " 536: 'hour',\n",
              " 537: 'spent',\n",
              " 538: 'tears',\n",
              " 539: 'alone',\n",
              " 540: 'smiled',\n",
              " 541: 'sentimentos',\n",
              " 542: 'bela',\n",
              " 543: 'fera',\n",
              " 544: 'uma',\n",
              " 545: 'least',\n",
              " 546: 'both',\n",
              " 547: 'surprise',\n",
              " 548: 'tune',\n",
              " 549: 'certain',\n",
              " 550: 'rising',\n",
              " 551: \"you'd\",\n",
              " 552: 'cares',\n",
              " 553: 'feet',\n",
              " 554: 'understand',\n",
              " 555: 'does',\n",
              " 556: 'tree',\n",
              " 557: 'paint',\n",
              " 558: 'taste',\n",
              " 559: 'worth',\n",
              " 560: 'cut',\n",
              " 561: 'until',\n",
              " 562: 'pretty',\n",
              " 563: 'someday',\n",
              " 564: 'staring',\n",
              " 565: 'stays',\n",
              " 566: 'fate',\n",
              " 567: 'kind',\n",
              " 568: 'saw',\n",
              " 569: 'prince',\n",
              " 570: 'mrs',\n",
              " 571: 'potts',\n",
              " 572: 'indeed',\n",
              " 573: 'dying',\n",
              " 574: 'funny',\n",
              " 575: 'wife',\n",
              " 576: 'ah',\n",
              " 577: 'thank',\n",
              " 578: 'looks',\n",
              " 579: 'set',\n",
              " 580: 'marry',\n",
              " 581: 'course',\n",
              " 582: 'met',\n",
              " 583: 'such',\n",
              " 584: 'ten',\n",
              " 585: 'realize',\n",
              " 586: 'power',\n",
              " 587: 'powerful',\n",
              " 588: 'job',\n",
              " 589: 'beat',\n",
              " 590: 'cook',\n",
              " 591: 'blow',\n",
              " 592: 'music',\n",
              " 593: 'souls',\n",
              " 594: 'else',\n",
              " 595: \"haven't\",\n",
              " 596: 'without',\n",
              " 597: 'men',\n",
              " 598: 'boys',\n",
              " 599: 'aah',\n",
              " 600: 'singing',\n",
              " 601: 'haul',\n",
              " 602: \"heaven's\",\n",
              " 603: 'suddenly',\n",
              " 604: 'god',\n",
              " 605: 'maria',\n",
              " 606: 'fires',\n",
              " 607: 'gone',\n",
              " 608: 'kings',\n",
              " 609: 'standing',\n",
              " 610: 'reach',\n",
              " 611: 'spark',\n",
              " 612: 'action',\n",
              " 613: 'chain',\n",
              " 614: 'reaction',\n",
              " 615: 'dress',\n",
              " 616: 'irae',\n",
              " 617: 'illa',\n",
              " 618: 'red',\n",
              " 619: 'wishing',\n",
              " 620: 'boy',\n",
              " 621: 'mister',\n",
              " 622: 'truth',\n",
              " 623: 'kid',\n",
              " 624: 'wings',\n",
              " 625: 'food',\n",
              " 626: 'changing',\n",
              " 627: 'safe',\n",
              " 628: 'spoonful',\n",
              " 629: 'sugar',\n",
              " 630: 'delightful',\n",
              " 631: 'ease',\n",
              " 632: \"pirate's\",\n",
              " 633: \"other's\",\n",
              " 634: 'reason',\n",
              " 635: 'clue',\n",
              " 636: 'vil',\n",
              " 637: 'pear',\n",
              " 638: 'yay',\n",
              " 639: 'shake',\n",
              " 640: 'ground',\n",
              " 641: 'donald',\n",
              " 642: 'duck',\n",
              " 643: 'lads',\n",
              " 644: 'flapping',\n",
              " 645: 'tatoo',\n",
              " 646: 'typhoon',\n",
              " 647: 'weave',\n",
              " 648: 'consider',\n",
              " 649: 'nets',\n",
              " 650: 'fibers',\n",
              " 651: 'villagers',\n",
              " 652: 'transformation',\n",
              " 653: \"'oliday\",\n",
              " 654: 'lived',\n",
              " 655: \"hero's\",\n",
              " 656: 'arms',\n",
              " 657: 'dry',\n",
              " 658: 'fall',\n",
              " 659: 'went',\n",
              " 660: 'drift',\n",
              " 661: 'left',\n",
              " 662: 'são',\n",
              " 663: 'como',\n",
              " 664: 'barely',\n",
              " 665: 'bends',\n",
              " 666: 'unexpectedly',\n",
              " 667: 'neither',\n",
              " 668: 'rise',\n",
              " 669: 'bittersweet',\n",
              " 670: 'finding',\n",
              " 671: 'learning',\n",
              " 672: 'east',\n",
              " 673: 'complete',\n",
              " 674: 'twenty',\n",
              " 675: 'walking',\n",
              " 676: 'wandering',\n",
              " 677: 'spend',\n",
              " 678: 'sand',\n",
              " 679: 'daughters',\n",
              " 680: 'women',\n",
              " 681: 'places',\n",
              " 682: 'rock',\n",
              " 683: 'creature',\n",
              " 684: 'corn',\n",
              " 685: 'mountains',\n",
              " 686: 'faith',\n",
              " 687: 'order',\n",
              " 688: 'track',\n",
              " 689: 'leads',\n",
              " 690: 'satisfied',\n",
              " 691: 'sings',\n",
              " 692: 'cross',\n",
              " 693: 'pass',\n",
              " 694: 'truly',\n",
              " 695: 'break',\n",
              " 696: 'tried',\n",
              " 697: 'steps',\n",
              " 698: 'sees',\n",
              " 699: 'paw',\n",
              " 700: 'bit',\n",
              " 701: 'charming',\n",
              " 702: 'bless',\n",
              " 703: 'peculiar',\n",
              " 704: 'few',\n",
              " 705: \"wasn't\",\n",
              " 706: \"here's\",\n",
              " 707: 'mama',\n",
              " 708: 'already',\n",
              " 709: 'won',\n",
              " 710: 'learned',\n",
              " 711: 'hit',\n",
              " 712: 'bad',\n",
              " 713: 'bread',\n",
              " 714: 'came',\n",
              " 715: 'provincial',\n",
              " 716: 'crowd',\n",
              " 717: 'family',\n",
              " 718: 'eggs',\n",
              " 719: \"couldn't\",\n",
              " 720: 'twice',\n",
              " 721: 'favorite',\n",
              " 722: 'yours',\n",
              " 723: 'because',\n",
              " 724: 'discover',\n",
              " 725: 'miss',\n",
              " 726: 'shot',\n",
              " 727: 'alive',\n",
              " 728: 'said',\n",
              " 729: 'handsome',\n",
              " 730: 'pound',\n",
              " 731: 'watch',\n",
              " 732: 'sin',\n",
              " 733: 'master',\n",
              " 734: 'thousand',\n",
              " 735: 'whisper',\n",
              " 736: 'service',\n",
              " 737: 'boss',\n",
              " 738: 'eyed',\n",
              " 739: 'miles',\n",
              " 740: 'work',\n",
              " 741: 'eat',\n",
              " 742: 'folks',\n",
              " 743: 'brass',\n",
              " 744: 'begin',\n",
              " 745: 'band',\n",
              " 746: 'across',\n",
              " 747: 'yourself',\n",
              " 748: 'past',\n",
              " 749: 'lady',\n",
              " 750: 'tough',\n",
              " 751: 'gets',\n",
              " 752: 'ahead',\n",
              " 753: 'breath',\n",
              " 754: 'et',\n",
              " 755: 'getting',\n",
              " 756: 'care',\n",
              " 757: 'coming',\n",
              " 758: 'everywhere',\n",
              " 759: 'crossed',\n",
              " 760: 'ahahahahah',\n",
              " 761: 'stole',\n",
              " 762: 'bed',\n",
              " 763: 'roam',\n",
              " 764: 'devil',\n",
              " 765: 'lay',\n",
              " 766: 'kissed',\n",
              " 767: 'blessed',\n",
              " 768: 'hair',\n",
              " 769: 'blame',\n",
              " 770: 'gypsy',\n",
              " 771: 'spell',\n",
              " 772: 'frollo',\n",
              " 773: 'mind',\n",
              " 774: 'working',\n",
              " 775: 'act',\n",
              " 776: 'city',\n",
              " 777: 'soft',\n",
              " 778: 'laid',\n",
              " 779: 'except',\n",
              " 780: 'blood',\n",
              " 781: 'monster',\n",
              " 782: 'crystal',\n",
              " 783: 'soaring',\n",
              " 784: 'diamond',\n",
              " 785: 'chase',\n",
              " 786: 'underneath',\n",
              " 787: 'soon',\n",
              " 788: \"bluebird's\",\n",
              " 789: \"actch'll\",\n",
              " 790: \"satisfactch'll\",\n",
              " 791: 'comes',\n",
              " 792: 'guy',\n",
              " 793: 'height',\n",
              " 794: 'stars',\n",
              " 795: 'joy',\n",
              " 796: 'goodbye',\n",
              " 797: 'dumb',\n",
              " 798: 'swing',\n",
              " 799: 'outside',\n",
              " 800: 'rough',\n",
              " 801: 'wanted',\n",
              " 802: 'trees',\n",
              " 803: 'should',\n",
              " 804: 'relax',\n",
              " 805: 'company',\n",
              " 806: 'low',\n",
              " 807: 'hate',\n",
              " 808: 'salagadoola',\n",
              " 809: 'mechicka',\n",
              " 810: 'mancub',\n",
              " 811: \"man's\",\n",
              " 812: 'watching',\n",
              " 813: 'simple',\n",
              " 814: 'forget',\n",
              " 815: 'strife',\n",
              " 816: 'pulled',\n",
              " 817: 'coconuts',\n",
              " 818: 'hi',\n",
              " 819: 'tenderly',\n",
              " 820: 'air',\n",
              " 821: 'today',\n",
              " 822: 'keeps',\n",
              " 823: 'swift',\n",
              " 824: 'coursing',\n",
              " 825: 'force',\n",
              " 826: 'raging',\n",
              " 827: 'mysterious',\n",
              " 828: 'mata',\n",
              " 829: 'matagi',\n",
              " 830: 'manatu',\n",
              " 831: 'atu',\n",
              " 832: 'taku',\n",
              " 833: \"workin'\",\n",
              " 834: 'freedom',\n",
              " 835: 'steel',\n",
              " 836: \"drivin'\",\n",
              " 837: 'bye',\n",
              " 838: 'empty',\n",
              " 839: 'problem',\n",
              " 840: 'philosophy',\n",
              " 841: 'moves',\n",
              " 842: 'vagabonds',\n",
              " 843: 'ki',\n",
              " 844: 'spinning',\n",
              " 845: 'sina',\n",
              " 846: 'happiness',\n",
              " 847: 'meat',\n",
              " 848: 'pushed',\n",
              " 849: 'holiday',\n",
              " 850: 'bert',\n",
              " 851: 'lost',\n",
              " 852: \"'till\",\n",
              " 853: 'summer',\n",
              " 854: 'comfort',\n",
              " 855: 'stayed',\n",
              " 856: 'began',\n",
              " 857: 'waited',\n",
              " 858: 'forgotten',\n",
              " 859: 'mesmo',\n",
              " 860: 'entre',\n",
              " 861: 'não',\n",
              " 862: 'que',\n",
              " 863: 'um',\n",
              " 864: 'é',\n",
              " 865: 'quando',\n",
              " 866: 'canção',\n",
              " 867: 'neat',\n",
              " 868: \"collection's\",\n",
              " 869: 'trove',\n",
              " 870: 'treasures',\n",
              " 871: 'untold',\n",
              " 872: 'wonders',\n",
              " 873: 'cavern',\n",
              " 874: 'gadgets',\n",
              " 875: 'gizmos',\n",
              " 876: 'aplenty',\n",
              " 877: 'whooz',\n",
              " 878: 'whatz',\n",
              " 879: 'galore',\n",
              " 880: 'thingamabobs',\n",
              " 881: \"whadd'ya\",\n",
              " 882: 'flipping',\n",
              " 883: 'fins',\n",
              " 884: 'legs',\n",
              " 885: 'required',\n",
              " 886: 'jumping',\n",
              " 887: 'strolling',\n",
              " 888: 'street',\n",
              " 889: 'waters',\n",
              " 890: 'betcha',\n",
              " 891: 'reprimand',\n",
              " 892: 'sick',\n",
              " 893: 'swimming',\n",
              " 894: 'questions',\n",
              " 895: 'answers',\n",
              " 896: \"when's\",\n",
              " 897: 'explore',\n",
              " 898: 'savage',\n",
              " 899: 'whatever',\n",
              " 900: 'claim',\n",
              " 901: 'spirit',\n",
              " 902: 'heard',\n",
              " 903: 'wolf',\n",
              " 904: 'asked',\n",
              " 905: 'voices',\n",
              " 906: 'hidden',\n",
              " 907: 'forest',\n",
              " 908: \"they're\",\n",
              " 909: 'grow',\n",
              " 910: 'skinned',\n",
              " 911: 'laughter',\n",
              " 912: 'fears',\n",
              " 913: 'aware',\n",
              " 914: 'friendship',\n",
              " 915: 'everyone',\n",
              " 916: 'fast',\n",
              " 917: 'loose',\n",
              " 918: 'grieving',\n",
              " 919: 'believing',\n",
              " 920: 'perhaps',\n",
              " 921: 'edge',\n",
              " 922: 'trail',\n",
              " 923: 'telling',\n",
              " 924: 'design',\n",
              " 925: 'role',\n",
              " 926: 'shines',\n",
              " 927: 'blinding',\n",
              " 928: 'calling',\n",
              " 929: 'bride',\n",
              " 930: 'straight',\n",
              " 931: 'request',\n",
              " 932: 'brings',\n",
              " 933: 'longing',\n",
              " 934: 'shudder',\n",
              " 935: 'ignore',\n",
              " 936: 'looked',\n",
              " 937: 'lumiere',\n",
              " 938: 'cogsworth',\n",
              " 939: 'known',\n",
              " 940: \"they'd\",\n",
              " 941: 'ancient',\n",
              " 942: 'kidding',\n",
              " 943: 'heaven',\n",
              " 944: 'thinking',\n",
              " 945: 'swoon',\n",
              " 946: 'deny',\n",
              " 947: 'lesson',\n",
              " 948: 'admit',\n",
              " 949: 'loud',\n",
              " 950: 'quiet',\n",
              " 951: 'monsieur',\n",
              " 952: 'finished',\n",
              " 953: 'any',\n",
              " 954: \"head's\",\n",
              " 955: 'cloud',\n",
              " 956: 'book',\n",
              " 957: 'read',\n",
              " 958: 'daring',\n",
              " 959: 'spells',\n",
              " 960: 'dreamy',\n",
              " 961: 'nose',\n",
              " 962: 'afraid',\n",
              " 963: 'odd',\n",
              " 964: \"diff'rent\",\n",
              " 965: 'gaston',\n",
              " 966: 'greatest',\n",
              " 967: 'stands',\n",
              " 968: 'against',\n",
              " 969: 'sights',\n",
              " 970: 'lucky',\n",
              " 971: 'woo',\n",
              " 972: 'oui',\n",
              " 973: 'cheese',\n",
              " 974: 'mademoiselle',\n",
              " 975: 'tales',\n",
              " 976: 'luck',\n",
              " 977: 'rub',\n",
              " 978: 'mr',\n",
              " 979: 'aladdin',\n",
              " 980: 'pleasure',\n",
              " 981: 'column',\n",
              " 982: 'mood',\n",
              " 983: 'pull',\n",
              " 984: 'sit',\n",
              " 985: 'urge',\n",
              " 986: 'waves',\n",
              " 987: 'bowl',\n",
              " 988: 'hook',\n",
              " 989: 'troubles',\n",
              " 990: 'naturally',\n",
              " 991: \"an'\",\n",
              " 992: 'ray',\n",
              " 993: 'bass',\n",
              " 994: 'trout',\n",
              " 995: 'clam',\n",
              " 996: 'gramma',\n",
              " 997: 'tala',\n",
              " 998: 'journey',\n",
              " 999: 'guide',\n",
              " 1000: 'tide',\n",
              " ...}"
            ]
          },
          "metadata": {},
          "execution_count": 61
        }
      ]
    },
    {
      "cell_type": "code",
      "metadata": {
        "id": "gJgVhq1zwEpf",
        "colab": {
          "base_uri": "https://localhost:8080/"
        },
        "outputId": "17077878-6ad3-4f7e-af57-5ff068d7982b"
      },
      "source": [
        "# Cantidad de palabras en el vocabulario\n",
        "vocab_size = len(tok.word_counts)\n",
        "vocab_size"
      ],
      "execution_count": 62,
      "outputs": [
        {
          "output_type": "execute_result",
          "data": {
            "text/plain": [
              "2552"
            ]
          },
          "metadata": {},
          "execution_count": 62
        }
      ]
    },
    {
      "cell_type": "code",
      "metadata": {
        "id": "wKV85M2uwKJ9",
        "colab": {
          "base_uri": "https://localhost:8080/",
          "height": 288
        },
        "outputId": "db3d0b3f-5595-4113-dcca-11c25003f765"
      },
      "source": [
        "# Transformar los datos a oneHotEncoding\n",
        "y_data = to_categorical(y_data_int, num_classes=vocab_size)"
      ],
      "execution_count": 63,
      "outputs": [
        {
          "output_type": "error",
          "ename": "IndexError",
          "evalue": "ignored",
          "traceback": [
            "\u001b[0;31m---------------------------------------------------------------------------\u001b[0m",
            "\u001b[0;31mIndexError\u001b[0m                                Traceback (most recent call last)",
            "\u001b[0;32m<ipython-input-63-51c0d3e0c52c>\u001b[0m in \u001b[0;36m<module>\u001b[0;34m()\u001b[0m\n\u001b[1;32m      1\u001b[0m \u001b[0;31m# Transformar los datos a oneHotEncoding\u001b[0m\u001b[0;34m\u001b[0m\u001b[0;34m\u001b[0m\u001b[0;34m\u001b[0m\u001b[0m\n\u001b[0;32m----> 2\u001b[0;31m \u001b[0my_data\u001b[0m \u001b[0;34m=\u001b[0m \u001b[0mto_categorical\u001b[0m\u001b[0;34m(\u001b[0m\u001b[0my_data_int\u001b[0m\u001b[0;34m,\u001b[0m \u001b[0mnum_classes\u001b[0m\u001b[0;34m=\u001b[0m\u001b[0mvocab_size\u001b[0m\u001b[0;34m)\u001b[0m\u001b[0;34m\u001b[0m\u001b[0;34m\u001b[0m\u001b[0m\n\u001b[0m",
            "\u001b[0;32m/usr/local/lib/python3.7/dist-packages/keras/utils/np_utils.py\u001b[0m in \u001b[0;36mto_categorical\u001b[0;34m(y, num_classes, dtype)\u001b[0m\n\u001b[1;32m     73\u001b[0m   \u001b[0mn\u001b[0m \u001b[0;34m=\u001b[0m \u001b[0my\u001b[0m\u001b[0;34m.\u001b[0m\u001b[0mshape\u001b[0m\u001b[0;34m[\u001b[0m\u001b[0;36m0\u001b[0m\u001b[0;34m]\u001b[0m\u001b[0;34m\u001b[0m\u001b[0;34m\u001b[0m\u001b[0m\n\u001b[1;32m     74\u001b[0m   \u001b[0mcategorical\u001b[0m \u001b[0;34m=\u001b[0m \u001b[0mnp\u001b[0m\u001b[0;34m.\u001b[0m\u001b[0mzeros\u001b[0m\u001b[0;34m(\u001b[0m\u001b[0;34m(\u001b[0m\u001b[0mn\u001b[0m\u001b[0;34m,\u001b[0m \u001b[0mnum_classes\u001b[0m\u001b[0;34m)\u001b[0m\u001b[0;34m,\u001b[0m \u001b[0mdtype\u001b[0m\u001b[0;34m=\u001b[0m\u001b[0mdtype\u001b[0m\u001b[0;34m)\u001b[0m\u001b[0;34m\u001b[0m\u001b[0;34m\u001b[0m\u001b[0m\n\u001b[0;32m---> 75\u001b[0;31m   \u001b[0mcategorical\u001b[0m\u001b[0;34m[\u001b[0m\u001b[0mnp\u001b[0m\u001b[0;34m.\u001b[0m\u001b[0marange\u001b[0m\u001b[0;34m(\u001b[0m\u001b[0mn\u001b[0m\u001b[0;34m)\u001b[0m\u001b[0;34m,\u001b[0m \u001b[0my\u001b[0m\u001b[0;34m]\u001b[0m \u001b[0;34m=\u001b[0m \u001b[0;36m1\u001b[0m\u001b[0;34m\u001b[0m\u001b[0;34m\u001b[0m\u001b[0m\n\u001b[0m\u001b[1;32m     76\u001b[0m   \u001b[0moutput_shape\u001b[0m \u001b[0;34m=\u001b[0m \u001b[0minput_shape\u001b[0m \u001b[0;34m+\u001b[0m \u001b[0;34m(\u001b[0m\u001b[0mnum_classes\u001b[0m\u001b[0;34m,\u001b[0m\u001b[0;34m)\u001b[0m\u001b[0;34m\u001b[0m\u001b[0;34m\u001b[0m\u001b[0m\n\u001b[1;32m     77\u001b[0m   \u001b[0mcategorical\u001b[0m \u001b[0;34m=\u001b[0m \u001b[0mnp\u001b[0m\u001b[0;34m.\u001b[0m\u001b[0mreshape\u001b[0m\u001b[0;34m(\u001b[0m\u001b[0mcategorical\u001b[0m\u001b[0;34m,\u001b[0m \u001b[0moutput_shape\u001b[0m\u001b[0;34m)\u001b[0m\u001b[0;34m\u001b[0m\u001b[0;34m\u001b[0m\u001b[0m\n",
            "\u001b[0;31mIndexError\u001b[0m: index 2552 is out of bounds for axis 1 with size 2552"
          ]
        }
      ]
    },
    {
      "cell_type": "code",
      "metadata": {
        "id": "qWjNrNx9wM1b",
        "colab": {
          "base_uri": "https://localhost:8080/"
        },
        "outputId": "caee5ae7-e57e-4eed-c239-9cf9e2de7c32"
      },
      "source": [
        "# En el caso anterior explota porque y_data_int comienza en \"1\" en vez de \"0\"\n",
        "# valor minimo:\n",
        "min(y_data_int)"
      ],
      "execution_count": 64,
      "outputs": [
        {
          "output_type": "execute_result",
          "data": {
            "text/plain": [
              "1"
            ]
          },
          "metadata": {},
          "execution_count": 64
        }
      ]
    },
    {
      "cell_type": "code",
      "metadata": {
        "id": "gIg2e2WCwXbG",
        "colab": {
          "base_uri": "https://localhost:8080/"
        },
        "outputId": "acbe5bb4-51b1-484c-bf91-7bae6f0be102"
      },
      "source": [
        "y_data_int_offset = y_data_int - 1\n",
        "y_data = to_categorical(y_data_int_offset, num_classes=vocab_size) \n",
        "y_data.shape"
      ],
      "execution_count": 65,
      "outputs": [
        {
          "output_type": "execute_result",
          "data": {
            "text/plain": [
              "(17538, 2552)"
            ]
          },
          "metadata": {},
          "execution_count": 65
        }
      ]
    },
    {
      "cell_type": "markdown",
      "metadata": {
        "id": "GmJWNyxQwfCE"
      },
      "source": [
        "### 4 - Entrenar el modelo"
      ]
    },
    {
      "cell_type": "code",
      "metadata": {
        "id": "0cOmNZT_weK2",
        "colab": {
          "base_uri": "https://localhost:8080/"
        },
        "outputId": "f4a66467-e5fa-42b4-92e9-6a6d147af193"
      },
      "source": [
        "# largo de la secuencia de entrada\n",
        "input_seq_len = x_data.shape[1] \n",
        "input_seq_len"
      ],
      "execution_count": 66,
      "outputs": [
        {
          "output_type": "execute_result",
          "data": {
            "text/plain": [
              "3"
            ]
          },
          "metadata": {},
          "execution_count": 66
        }
      ]
    },
    {
      "cell_type": "code",
      "metadata": {
        "id": "qtwITjgnwlgp",
        "colab": {
          "base_uri": "https://localhost:8080/"
        },
        "outputId": "8fca704d-66f1-4192-b8e8-234063114a3f"
      },
      "source": [
        "# Largo del vector de salida --> vocab_size\n",
        "output_size = vocab_size\n",
        "output_size"
      ],
      "execution_count": 67,
      "outputs": [
        {
          "output_type": "execute_result",
          "data": {
            "text/plain": [
              "2552"
            ]
          },
          "metadata": {},
          "execution_count": 67
        }
      ]
    },
    {
      "cell_type": "code",
      "metadata": {
        "id": "jzTZRXrrwrvi",
        "colab": {
          "base_uri": "https://localhost:8080/"
        },
        "outputId": "ae08fee2-1f53-481c-9e46-1b2b1d774c58"
      },
      "source": [
        "model = Sequential()\n",
        "\n",
        "# Embedding:\n",
        "# input_seq_len = 3 --> ingreso 3 palabras\n",
        "# input_dim = vocab_size --> 1628 palabras distintas\n",
        "# output_dim = 5 --> crear embeddings de tamaño 3 (tamaño variable y ajustable)\n",
        "model.add(Embedding(input_dim=vocab_size+1, output_dim=5, input_length=input_seq_len))\n",
        "\n",
        "model.add(LSTM(64, return_sequences=True))\n",
        "model.add(Dropout(0.2))\n",
        "model.add(LSTM(64)) # La última capa LSTM no lleva return_sequences\n",
        "model.add(Dense(32, activation='relu'))\n",
        "\n",
        "# Predicción de clasificación con softmax\n",
        "# La salida vuelve al espacio de 1628 palabras posibles\n",
        "model.add(Dense(vocab_size, activation='softmax'))\n",
        "\n",
        "# Clasificación multiple categórica --> loss = categorical_crossentropy\n",
        "model.compile(loss='categorical_crossentropy', optimizer='adam', metrics=['accuracy'])\n",
        "\n",
        "model.summary()"
      ],
      "execution_count": 68,
      "outputs": [
        {
          "output_type": "stream",
          "name": "stdout",
          "text": [
            "Model: \"sequential\"\n",
            "_________________________________________________________________\n",
            "Layer (type)                 Output Shape              Param #   \n",
            "=================================================================\n",
            "embedding (Embedding)        (None, 3, 5)              12765     \n",
            "_________________________________________________________________\n",
            "lstm (LSTM)                  (None, 3, 64)             17920     \n",
            "_________________________________________________________________\n",
            "dropout (Dropout)            (None, 3, 64)             0         \n",
            "_________________________________________________________________\n",
            "lstm_1 (LSTM)                (None, 64)                33024     \n",
            "_________________________________________________________________\n",
            "dense (Dense)                (None, 32)                2080      \n",
            "_________________________________________________________________\n",
            "dense_1 (Dense)              (None, 2552)              84216     \n",
            "=================================================================\n",
            "Total params: 150,005\n",
            "Trainable params: 150,005\n",
            "Non-trainable params: 0\n",
            "_________________________________________________________________\n"
          ]
        }
      ]
    },
    {
      "cell_type": "code",
      "metadata": {
        "id": "oQq1PHDkxDvN",
        "colab": {
          "base_uri": "https://localhost:8080/"
        },
        "outputId": "c0c448fd-2064-439f-fd0e-67a30343d411"
      },
      "source": [
        "hist = model.fit(x_data, y_data, epochs=200, validation_split=0.2)"
      ],
      "execution_count": 69,
      "outputs": [
        {
          "output_type": "stream",
          "name": "stdout",
          "text": [
            "Epoch 1/200\n",
            "439/439 [==============================] - 13s 12ms/step - loss: 6.6281 - accuracy: 0.0411 - val_loss: 6.5846 - val_accuracy: 0.0436\n",
            "Epoch 2/200\n",
            "439/439 [==============================] - 5s 10ms/step - loss: 6.2486 - accuracy: 0.0435 - val_loss: 6.7457 - val_accuracy: 0.0436\n",
            "Epoch 3/200\n",
            "439/439 [==============================] - 4s 10ms/step - loss: 6.1961 - accuracy: 0.0448 - val_loss: 6.7744 - val_accuracy: 0.0436\n",
            "Epoch 4/200\n",
            "439/439 [==============================] - 4s 10ms/step - loss: 6.1658 - accuracy: 0.0449 - val_loss: 6.9478 - val_accuracy: 0.0436\n",
            "Epoch 5/200\n",
            "439/439 [==============================] - 4s 10ms/step - loss: 6.1235 - accuracy: 0.0449 - val_loss: 7.0059 - val_accuracy: 0.0436\n",
            "Epoch 6/200\n",
            "439/439 [==============================] - 4s 10ms/step - loss: 6.0843 - accuracy: 0.0440 - val_loss: 7.0483 - val_accuracy: 0.0433\n",
            "Epoch 7/200\n",
            "439/439 [==============================] - 4s 10ms/step - loss: 6.0291 - accuracy: 0.0451 - val_loss: 7.0134 - val_accuracy: 0.0433\n",
            "Epoch 8/200\n",
            "439/439 [==============================] - 4s 10ms/step - loss: 5.9503 - accuracy: 0.0451 - val_loss: 7.0275 - val_accuracy: 0.0433\n",
            "Epoch 9/200\n",
            "439/439 [==============================] - 5s 10ms/step - loss: 5.8456 - accuracy: 0.0458 - val_loss: 7.1344 - val_accuracy: 0.0436\n",
            "Epoch 10/200\n",
            "439/439 [==============================] - 5s 10ms/step - loss: 5.7393 - accuracy: 0.0480 - val_loss: 7.4480 - val_accuracy: 0.0325\n",
            "Epoch 11/200\n",
            "439/439 [==============================] - 5s 11ms/step - loss: 5.6336 - accuracy: 0.0461 - val_loss: 7.5041 - val_accuracy: 0.0439\n",
            "Epoch 12/200\n",
            "439/439 [==============================] - 5s 10ms/step - loss: 5.5113 - accuracy: 0.0536 - val_loss: 7.5376 - val_accuracy: 0.0445\n",
            "Epoch 13/200\n",
            "439/439 [==============================] - 4s 10ms/step - loss: 5.3782 - accuracy: 0.0641 - val_loss: 7.6373 - val_accuracy: 0.0450\n",
            "Epoch 14/200\n",
            "439/439 [==============================] - 5s 10ms/step - loss: 5.2613 - accuracy: 0.0729 - val_loss: 7.8163 - val_accuracy: 0.0510\n",
            "Epoch 15/200\n",
            "439/439 [==============================] - 4s 10ms/step - loss: 5.1586 - accuracy: 0.0797 - val_loss: 7.9712 - val_accuracy: 0.0510\n",
            "Epoch 16/200\n",
            "439/439 [==============================] - 5s 10ms/step - loss: 5.0632 - accuracy: 0.0862 - val_loss: 8.1075 - val_accuracy: 0.0502\n",
            "Epoch 17/200\n",
            "439/439 [==============================] - 4s 10ms/step - loss: 4.9671 - accuracy: 0.0964 - val_loss: 8.2628 - val_accuracy: 0.0516\n",
            "Epoch 18/200\n",
            "439/439 [==============================] - 4s 10ms/step - loss: 4.8844 - accuracy: 0.1000 - val_loss: 8.2449 - val_accuracy: 0.0493\n",
            "Epoch 19/200\n",
            "439/439 [==============================] - 4s 10ms/step - loss: 4.8007 - accuracy: 0.1056 - val_loss: 8.5330 - val_accuracy: 0.0456\n",
            "Epoch 20/200\n",
            "439/439 [==============================] - 4s 10ms/step - loss: 4.7204 - accuracy: 0.1113 - val_loss: 8.6728 - val_accuracy: 0.0453\n",
            "Epoch 21/200\n",
            "439/439 [==============================] - 4s 10ms/step - loss: 4.6402 - accuracy: 0.1158 - val_loss: 8.9615 - val_accuracy: 0.0359\n",
            "Epoch 22/200\n",
            "439/439 [==============================] - 5s 11ms/step - loss: 4.5596 - accuracy: 0.1245 - val_loss: 9.0491 - val_accuracy: 0.0402\n",
            "Epoch 23/200\n",
            "439/439 [==============================] - 5s 10ms/step - loss: 4.4814 - accuracy: 0.1272 - val_loss: 9.3063 - val_accuracy: 0.0396\n",
            "Epoch 24/200\n",
            "439/439 [==============================] - 4s 10ms/step - loss: 4.4157 - accuracy: 0.1306 - val_loss: 9.6560 - val_accuracy: 0.0422\n",
            "Epoch 25/200\n",
            "439/439 [==============================] - 4s 10ms/step - loss: 4.3408 - accuracy: 0.1403 - val_loss: 9.7867 - val_accuracy: 0.0436\n",
            "Epoch 26/200\n",
            "439/439 [==============================] - 4s 10ms/step - loss: 4.2737 - accuracy: 0.1497 - val_loss: 10.1444 - val_accuracy: 0.0385\n",
            "Epoch 27/200\n",
            "439/439 [==============================] - 5s 10ms/step - loss: 4.2012 - accuracy: 0.1515 - val_loss: 10.1904 - val_accuracy: 0.0365\n",
            "Epoch 28/200\n",
            "439/439 [==============================] - 4s 10ms/step - loss: 4.1355 - accuracy: 0.1550 - val_loss: 10.5910 - val_accuracy: 0.0391\n",
            "Epoch 29/200\n",
            "439/439 [==============================] - 5s 10ms/step - loss: 4.0693 - accuracy: 0.1627 - val_loss: 10.8499 - val_accuracy: 0.0402\n",
            "Epoch 30/200\n",
            "439/439 [==============================] - 5s 10ms/step - loss: 4.0164 - accuracy: 0.1673 - val_loss: 11.0657 - val_accuracy: 0.0459\n",
            "Epoch 31/200\n",
            "439/439 [==============================] - 4s 10ms/step - loss: 3.9590 - accuracy: 0.1751 - val_loss: 11.4936 - val_accuracy: 0.0536\n",
            "Epoch 32/200\n",
            "439/439 [==============================] - 4s 10ms/step - loss: 3.8960 - accuracy: 0.1800 - val_loss: 11.6954 - val_accuracy: 0.0456\n",
            "Epoch 33/200\n",
            "439/439 [==============================] - 4s 10ms/step - loss: 3.8480 - accuracy: 0.1833 - val_loss: 11.9973 - val_accuracy: 0.0510\n",
            "Epoch 34/200\n",
            "439/439 [==============================] - 4s 10ms/step - loss: 3.7897 - accuracy: 0.1911 - val_loss: 12.3865 - val_accuracy: 0.0527\n",
            "Epoch 35/200\n",
            "439/439 [==============================] - 4s 10ms/step - loss: 3.7463 - accuracy: 0.1985 - val_loss: 12.6068 - val_accuracy: 0.0479\n",
            "Epoch 36/200\n",
            "439/439 [==============================] - 4s 10ms/step - loss: 3.7061 - accuracy: 0.2019 - val_loss: 12.6524 - val_accuracy: 0.0473\n",
            "Epoch 37/200\n",
            "439/439 [==============================] - 5s 10ms/step - loss: 3.6594 - accuracy: 0.2090 - val_loss: 12.9989 - val_accuracy: 0.0536\n",
            "Epoch 38/200\n",
            "439/439 [==============================] - 4s 10ms/step - loss: 3.6193 - accuracy: 0.2123 - val_loss: 13.2299 - val_accuracy: 0.0516\n",
            "Epoch 39/200\n",
            "439/439 [==============================] - 5s 10ms/step - loss: 3.5869 - accuracy: 0.2172 - val_loss: 13.6134 - val_accuracy: 0.0550\n",
            "Epoch 40/200\n",
            "439/439 [==============================] - 4s 10ms/step - loss: 3.5374 - accuracy: 0.2242 - val_loss: 13.5968 - val_accuracy: 0.0544\n",
            "Epoch 41/200\n",
            "439/439 [==============================] - 4s 10ms/step - loss: 3.5046 - accuracy: 0.2295 - val_loss: 13.8757 - val_accuracy: 0.0570\n",
            "Epoch 42/200\n",
            "439/439 [==============================] - 5s 10ms/step - loss: 3.4664 - accuracy: 0.2338 - val_loss: 14.0271 - val_accuracy: 0.0519\n",
            "Epoch 43/200\n",
            "439/439 [==============================] - 5s 10ms/step - loss: 3.4302 - accuracy: 0.2431 - val_loss: 14.2311 - val_accuracy: 0.0468\n",
            "Epoch 44/200\n",
            "439/439 [==============================] - 5s 11ms/step - loss: 3.4049 - accuracy: 0.2426 - val_loss: 14.3855 - val_accuracy: 0.0516\n",
            "Epoch 45/200\n",
            "439/439 [==============================] - 5s 10ms/step - loss: 3.3798 - accuracy: 0.2470 - val_loss: 14.6508 - val_accuracy: 0.0499\n",
            "Epoch 46/200\n",
            "439/439 [==============================] - 5s 10ms/step - loss: 3.3463 - accuracy: 0.2539 - val_loss: 14.7081 - val_accuracy: 0.0624\n",
            "Epoch 47/200\n",
            "439/439 [==============================] - 5s 10ms/step - loss: 3.3232 - accuracy: 0.2579 - val_loss: 14.8786 - val_accuracy: 0.0490\n",
            "Epoch 48/200\n",
            "439/439 [==============================] - 5s 10ms/step - loss: 3.2889 - accuracy: 0.2618 - val_loss: 15.3401 - val_accuracy: 0.0562\n",
            "Epoch 49/200\n",
            "439/439 [==============================] - 5s 10ms/step - loss: 3.2599 - accuracy: 0.2704 - val_loss: 15.2010 - val_accuracy: 0.0450\n",
            "Epoch 50/200\n",
            "439/439 [==============================] - 4s 10ms/step - loss: 3.2352 - accuracy: 0.2706 - val_loss: 15.5203 - val_accuracy: 0.0510\n",
            "Epoch 51/200\n",
            "439/439 [==============================] - 5s 10ms/step - loss: 3.2122 - accuracy: 0.2775 - val_loss: 15.6588 - val_accuracy: 0.0576\n",
            "Epoch 52/200\n",
            "439/439 [==============================] - 4s 10ms/step - loss: 3.1910 - accuracy: 0.2810 - val_loss: 15.7768 - val_accuracy: 0.0530\n",
            "Epoch 53/200\n",
            "439/439 [==============================] - 4s 10ms/step - loss: 3.1740 - accuracy: 0.2813 - val_loss: 15.7789 - val_accuracy: 0.0593\n",
            "Epoch 54/200\n",
            "439/439 [==============================] - 4s 10ms/step - loss: 3.1460 - accuracy: 0.2879 - val_loss: 16.1799 - val_accuracy: 0.0510\n",
            "Epoch 55/200\n",
            "439/439 [==============================] - 4s 10ms/step - loss: 3.1252 - accuracy: 0.2876 - val_loss: 16.2060 - val_accuracy: 0.0599\n",
            "Epoch 56/200\n",
            "439/439 [==============================] - 5s 10ms/step - loss: 3.0964 - accuracy: 0.2937 - val_loss: 16.4975 - val_accuracy: 0.0610\n",
            "Epoch 57/200\n",
            "439/439 [==============================] - 5s 10ms/step - loss: 3.0815 - accuracy: 0.2991 - val_loss: 16.6507 - val_accuracy: 0.0650\n",
            "Epoch 58/200\n",
            "439/439 [==============================] - 5s 10ms/step - loss: 3.0646 - accuracy: 0.2996 - val_loss: 16.6318 - val_accuracy: 0.0621\n",
            "Epoch 59/200\n",
            "439/439 [==============================] - 5s 10ms/step - loss: 3.0375 - accuracy: 0.3025 - val_loss: 16.7968 - val_accuracy: 0.0527\n",
            "Epoch 60/200\n",
            "439/439 [==============================] - 5s 10ms/step - loss: 3.0238 - accuracy: 0.3100 - val_loss: 17.0203 - val_accuracy: 0.0607\n",
            "Epoch 61/200\n",
            "439/439 [==============================] - 5s 10ms/step - loss: 3.0046 - accuracy: 0.3131 - val_loss: 17.2114 - val_accuracy: 0.0727\n",
            "Epoch 62/200\n",
            "439/439 [==============================] - 5s 10ms/step - loss: 2.9757 - accuracy: 0.3202 - val_loss: 17.0542 - val_accuracy: 0.0510\n",
            "Epoch 63/200\n",
            "439/439 [==============================] - 5s 10ms/step - loss: 2.9651 - accuracy: 0.3153 - val_loss: 17.3102 - val_accuracy: 0.0584\n",
            "Epoch 64/200\n",
            "439/439 [==============================] - 5s 10ms/step - loss: 2.9485 - accuracy: 0.3217 - val_loss: 17.3818 - val_accuracy: 0.0562\n",
            "Epoch 65/200\n",
            "439/439 [==============================] - 5s 10ms/step - loss: 2.9317 - accuracy: 0.3230 - val_loss: 17.4489 - val_accuracy: 0.0621\n",
            "Epoch 66/200\n",
            "439/439 [==============================] - 5s 10ms/step - loss: 2.9099 - accuracy: 0.3292 - val_loss: 17.7515 - val_accuracy: 0.0613\n",
            "Epoch 67/200\n",
            "439/439 [==============================] - 5s 10ms/step - loss: 2.8918 - accuracy: 0.3331 - val_loss: 17.7035 - val_accuracy: 0.0704\n",
            "Epoch 68/200\n",
            "439/439 [==============================] - 5s 11ms/step - loss: 2.8732 - accuracy: 0.3332 - val_loss: 17.8491 - val_accuracy: 0.0641\n",
            "Epoch 69/200\n",
            "439/439 [==============================] - 4s 10ms/step - loss: 2.8527 - accuracy: 0.3406 - val_loss: 17.9841 - val_accuracy: 0.0647\n",
            "Epoch 70/200\n",
            "439/439 [==============================] - 4s 10ms/step - loss: 2.8339 - accuracy: 0.3411 - val_loss: 18.1730 - val_accuracy: 0.0650\n",
            "Epoch 71/200\n",
            "439/439 [==============================] - 5s 11ms/step - loss: 2.8280 - accuracy: 0.3455 - val_loss: 18.3409 - val_accuracy: 0.0627\n",
            "Epoch 72/200\n",
            "439/439 [==============================] - 5s 10ms/step - loss: 2.8100 - accuracy: 0.3465 - val_loss: 18.3461 - val_accuracy: 0.0693\n",
            "Epoch 73/200\n",
            "439/439 [==============================] - 5s 10ms/step - loss: 2.7961 - accuracy: 0.3507 - val_loss: 18.5817 - val_accuracy: 0.0684\n",
            "Epoch 74/200\n",
            "439/439 [==============================] - 5s 10ms/step - loss: 2.7838 - accuracy: 0.3540 - val_loss: 18.6144 - val_accuracy: 0.0630\n",
            "Epoch 75/200\n",
            "439/439 [==============================] - 5s 10ms/step - loss: 2.7657 - accuracy: 0.3585 - val_loss: 18.7329 - val_accuracy: 0.0610\n",
            "Epoch 76/200\n",
            "439/439 [==============================] - 5s 10ms/step - loss: 2.7486 - accuracy: 0.3587 - val_loss: 18.8487 - val_accuracy: 0.0607\n",
            "Epoch 77/200\n",
            "439/439 [==============================] - 4s 10ms/step - loss: 2.7390 - accuracy: 0.3611 - val_loss: 18.7402 - val_accuracy: 0.0650\n",
            "Epoch 78/200\n",
            "439/439 [==============================] - 5s 10ms/step - loss: 2.7227 - accuracy: 0.3641 - val_loss: 19.1523 - val_accuracy: 0.0698\n",
            "Epoch 79/200\n",
            "439/439 [==============================] - 5s 10ms/step - loss: 2.7126 - accuracy: 0.3671 - val_loss: 19.1311 - val_accuracy: 0.0716\n",
            "Epoch 80/200\n",
            "439/439 [==============================] - 5s 11ms/step - loss: 2.6952 - accuracy: 0.3729 - val_loss: 19.1561 - val_accuracy: 0.0716\n",
            "Epoch 81/200\n",
            "439/439 [==============================] - 5s 10ms/step - loss: 2.6792 - accuracy: 0.3713 - val_loss: 19.2090 - val_accuracy: 0.0704\n",
            "Epoch 82/200\n",
            "439/439 [==============================] - 5s 10ms/step - loss: 2.6655 - accuracy: 0.3721 - val_loss: 19.4170 - val_accuracy: 0.0676\n",
            "Epoch 83/200\n",
            "439/439 [==============================] - 5s 10ms/step - loss: 2.6465 - accuracy: 0.3837 - val_loss: 19.4475 - val_accuracy: 0.0676\n",
            "Epoch 84/200\n",
            "439/439 [==============================] - 5s 10ms/step - loss: 2.6450 - accuracy: 0.3799 - val_loss: 19.5741 - val_accuracy: 0.0727\n",
            "Epoch 85/200\n",
            "439/439 [==============================] - 5s 10ms/step - loss: 2.6242 - accuracy: 0.3788 - val_loss: 19.7186 - val_accuracy: 0.0678\n",
            "Epoch 86/200\n",
            "439/439 [==============================] - 5s 10ms/step - loss: 2.6288 - accuracy: 0.3861 - val_loss: 19.8412 - val_accuracy: 0.0764\n",
            "Epoch 87/200\n",
            "439/439 [==============================] - 5s 10ms/step - loss: 2.6015 - accuracy: 0.3904 - val_loss: 19.7076 - val_accuracy: 0.0624\n",
            "Epoch 88/200\n",
            "439/439 [==============================] - 5s 10ms/step - loss: 2.5836 - accuracy: 0.3922 - val_loss: 19.8948 - val_accuracy: 0.0710\n",
            "Epoch 89/200\n",
            "439/439 [==============================] - 5s 10ms/step - loss: 2.5752 - accuracy: 0.3955 - val_loss: 20.0548 - val_accuracy: 0.0755\n",
            "Epoch 90/200\n",
            "439/439 [==============================] - 5s 11ms/step - loss: 2.5668 - accuracy: 0.3934 - val_loss: 20.0614 - val_accuracy: 0.0650\n",
            "Epoch 91/200\n",
            "439/439 [==============================] - 5s 11ms/step - loss: 2.5620 - accuracy: 0.3951 - val_loss: 20.2725 - val_accuracy: 0.0744\n",
            "Epoch 92/200\n",
            "439/439 [==============================] - 5s 11ms/step - loss: 2.5393 - accuracy: 0.3970 - val_loss: 20.1642 - val_accuracy: 0.0718\n",
            "Epoch 93/200\n",
            "439/439 [==============================] - 5s 10ms/step - loss: 2.5412 - accuracy: 0.4023 - val_loss: 20.4074 - val_accuracy: 0.0716\n",
            "Epoch 94/200\n",
            "439/439 [==============================] - 5s 10ms/step - loss: 2.5280 - accuracy: 0.4006 - val_loss: 20.3458 - val_accuracy: 0.0681\n",
            "Epoch 95/200\n",
            "439/439 [==============================] - 4s 10ms/step - loss: 2.5231 - accuracy: 0.4067 - val_loss: 20.4813 - val_accuracy: 0.0724\n",
            "Epoch 96/200\n",
            "439/439 [==============================] - 5s 10ms/step - loss: 2.5074 - accuracy: 0.4073 - val_loss: 20.5751 - val_accuracy: 0.0724\n",
            "Epoch 97/200\n",
            "439/439 [==============================] - 5s 10ms/step - loss: 2.4977 - accuracy: 0.4063 - val_loss: 20.5592 - val_accuracy: 0.0707\n",
            "Epoch 98/200\n",
            "439/439 [==============================] - 5s 10ms/step - loss: 2.4847 - accuracy: 0.4106 - val_loss: 20.7668 - val_accuracy: 0.0681\n",
            "Epoch 99/200\n",
            "439/439 [==============================] - 5s 10ms/step - loss: 2.4793 - accuracy: 0.4153 - val_loss: 20.9942 - val_accuracy: 0.0750\n",
            "Epoch 100/200\n",
            "439/439 [==============================] - 5s 11ms/step - loss: 2.4636 - accuracy: 0.4179 - val_loss: 20.9388 - val_accuracy: 0.0753\n",
            "Epoch 101/200\n",
            "439/439 [==============================] - 5s 11ms/step - loss: 2.4439 - accuracy: 0.4215 - val_loss: 20.8439 - val_accuracy: 0.0698\n",
            "Epoch 102/200\n",
            "439/439 [==============================] - 5s 11ms/step - loss: 2.4362 - accuracy: 0.4167 - val_loss: 21.0804 - val_accuracy: 0.0807\n",
            "Epoch 103/200\n",
            "439/439 [==============================] - 5s 10ms/step - loss: 2.4353 - accuracy: 0.4243 - val_loss: 20.9885 - val_accuracy: 0.0696\n",
            "Epoch 104/200\n",
            "439/439 [==============================] - 5s 10ms/step - loss: 2.4212 - accuracy: 0.4255 - val_loss: 21.1554 - val_accuracy: 0.0721\n",
            "Epoch 105/200\n",
            "439/439 [==============================] - 5s 11ms/step - loss: 2.4224 - accuracy: 0.4215 - val_loss: 21.2635 - val_accuracy: 0.0667\n",
            "Epoch 106/200\n",
            "439/439 [==============================] - 5s 11ms/step - loss: 2.4053 - accuracy: 0.4284 - val_loss: 21.3496 - val_accuracy: 0.0741\n",
            "Epoch 107/200\n",
            "439/439 [==============================] - 5s 11ms/step - loss: 2.4020 - accuracy: 0.4292 - val_loss: 21.2127 - val_accuracy: 0.0658\n",
            "Epoch 108/200\n",
            "439/439 [==============================] - 5s 11ms/step - loss: 2.3860 - accuracy: 0.4336 - val_loss: 21.3425 - val_accuracy: 0.0633\n",
            "Epoch 109/200\n",
            "439/439 [==============================] - 5s 10ms/step - loss: 2.3788 - accuracy: 0.4317 - val_loss: 21.4729 - val_accuracy: 0.0727\n",
            "Epoch 110/200\n",
            "439/439 [==============================] - 5s 10ms/step - loss: 2.3645 - accuracy: 0.4349 - val_loss: 21.5210 - val_accuracy: 0.0755\n",
            "Epoch 111/200\n",
            "439/439 [==============================] - 5s 11ms/step - loss: 2.3651 - accuracy: 0.4314 - val_loss: 21.4044 - val_accuracy: 0.0770\n",
            "Epoch 112/200\n",
            "439/439 [==============================] - 5s 11ms/step - loss: 2.3492 - accuracy: 0.4391 - val_loss: 21.6089 - val_accuracy: 0.0770\n",
            "Epoch 113/200\n",
            "439/439 [==============================] - 5s 10ms/step - loss: 2.3519 - accuracy: 0.4363 - val_loss: 21.5307 - val_accuracy: 0.0713\n",
            "Epoch 114/200\n",
            "439/439 [==============================] - 5s 11ms/step - loss: 2.3338 - accuracy: 0.4401 - val_loss: 21.8141 - val_accuracy: 0.0738\n",
            "Epoch 115/200\n",
            "439/439 [==============================] - 5s 11ms/step - loss: 2.3270 - accuracy: 0.4423 - val_loss: 21.9477 - val_accuracy: 0.0761\n",
            "Epoch 116/200\n",
            "439/439 [==============================] - 5s 10ms/step - loss: 2.3130 - accuracy: 0.4457 - val_loss: 21.6137 - val_accuracy: 0.0792\n",
            "Epoch 117/200\n",
            "439/439 [==============================] - 5s 11ms/step - loss: 2.2994 - accuracy: 0.4520 - val_loss: 21.9746 - val_accuracy: 0.0718\n",
            "Epoch 118/200\n",
            "439/439 [==============================] - 5s 10ms/step - loss: 2.2990 - accuracy: 0.4474 - val_loss: 21.9865 - val_accuracy: 0.0758\n",
            "Epoch 119/200\n",
            "439/439 [==============================] - 5s 11ms/step - loss: 2.2897 - accuracy: 0.4522 - val_loss: 21.8265 - val_accuracy: 0.0670\n",
            "Epoch 120/200\n",
            "439/439 [==============================] - 5s 10ms/step - loss: 2.2868 - accuracy: 0.4515 - val_loss: 21.9624 - val_accuracy: 0.0718\n",
            "Epoch 121/200\n",
            "439/439 [==============================] - 5s 11ms/step - loss: 2.2755 - accuracy: 0.4538 - val_loss: 22.0709 - val_accuracy: 0.0727\n",
            "Epoch 122/200\n",
            "439/439 [==============================] - 5s 11ms/step - loss: 2.2677 - accuracy: 0.4540 - val_loss: 22.0421 - val_accuracy: 0.0830\n",
            "Epoch 123/200\n",
            "439/439 [==============================] - 5s 10ms/step - loss: 2.2627 - accuracy: 0.4580 - val_loss: 22.2962 - val_accuracy: 0.0775\n",
            "Epoch 124/200\n",
            "439/439 [==============================] - 5s 11ms/step - loss: 2.2518 - accuracy: 0.4584 - val_loss: 22.4410 - val_accuracy: 0.0767\n",
            "Epoch 125/200\n",
            "439/439 [==============================] - 5s 11ms/step - loss: 2.2446 - accuracy: 0.4586 - val_loss: 22.3879 - val_accuracy: 0.0821\n",
            "Epoch 126/200\n",
            "439/439 [==============================] - 5s 11ms/step - loss: 2.2411 - accuracy: 0.4572 - val_loss: 22.5936 - val_accuracy: 0.0727\n",
            "Epoch 127/200\n",
            "439/439 [==============================] - 5s 11ms/step - loss: 2.2396 - accuracy: 0.4559 - val_loss: 22.4939 - val_accuracy: 0.0801\n",
            "Epoch 128/200\n",
            "439/439 [==============================] - 5s 11ms/step - loss: 2.2271 - accuracy: 0.4605 - val_loss: 22.5649 - val_accuracy: 0.0818\n",
            "Epoch 129/200\n",
            "439/439 [==============================] - 5s 10ms/step - loss: 2.2167 - accuracy: 0.4644 - val_loss: 22.5894 - val_accuracy: 0.0784\n",
            "Epoch 130/200\n",
            "439/439 [==============================] - 5s 10ms/step - loss: 2.2187 - accuracy: 0.4629 - val_loss: 22.5734 - val_accuracy: 0.0747\n",
            "Epoch 131/200\n",
            "439/439 [==============================] - 5s 10ms/step - loss: 2.2022 - accuracy: 0.4701 - val_loss: 22.4543 - val_accuracy: 0.0770\n",
            "Epoch 132/200\n",
            "439/439 [==============================] - 5s 10ms/step - loss: 2.1885 - accuracy: 0.4724 - val_loss: 22.7848 - val_accuracy: 0.0830\n",
            "Epoch 133/200\n",
            "439/439 [==============================] - 5s 10ms/step - loss: 2.1839 - accuracy: 0.4715 - val_loss: 22.7770 - val_accuracy: 0.0724\n",
            "Epoch 134/200\n",
            "439/439 [==============================] - 5s 10ms/step - loss: 2.1855 - accuracy: 0.4721 - val_loss: 22.7368 - val_accuracy: 0.0735\n",
            "Epoch 135/200\n",
            "439/439 [==============================] - 5s 11ms/step - loss: 2.1824 - accuracy: 0.4754 - val_loss: 22.9218 - val_accuracy: 0.0784\n",
            "Epoch 136/200\n",
            "439/439 [==============================] - 5s 11ms/step - loss: 2.1751 - accuracy: 0.4775 - val_loss: 22.6967 - val_accuracy: 0.0710\n",
            "Epoch 137/200\n",
            "439/439 [==============================] - 5s 10ms/step - loss: 2.1683 - accuracy: 0.4736 - val_loss: 22.9639 - val_accuracy: 0.0761\n",
            "Epoch 138/200\n",
            "439/439 [==============================] - 5s 11ms/step - loss: 2.1652 - accuracy: 0.4750 - val_loss: 22.7999 - val_accuracy: 0.0755\n",
            "Epoch 139/200\n",
            "439/439 [==============================] - 5s 11ms/step - loss: 2.1502 - accuracy: 0.4763 - val_loss: 22.8322 - val_accuracy: 0.0781\n",
            "Epoch 140/200\n",
            "439/439 [==============================] - 5s 11ms/step - loss: 2.1346 - accuracy: 0.4812 - val_loss: 22.9978 - val_accuracy: 0.0750\n",
            "Epoch 141/200\n",
            "439/439 [==============================] - 5s 11ms/step - loss: 2.1467 - accuracy: 0.4795 - val_loss: 23.1755 - val_accuracy: 0.0787\n",
            "Epoch 142/200\n",
            "439/439 [==============================] - 5s 11ms/step - loss: 2.1278 - accuracy: 0.4856 - val_loss: 23.1296 - val_accuracy: 0.0827\n",
            "Epoch 143/200\n",
            "439/439 [==============================] - 5s 11ms/step - loss: 2.1325 - accuracy: 0.4864 - val_loss: 22.8966 - val_accuracy: 0.0812\n",
            "Epoch 144/200\n",
            "439/439 [==============================] - 5s 10ms/step - loss: 2.1199 - accuracy: 0.4890 - val_loss: 23.2809 - val_accuracy: 0.0787\n",
            "Epoch 145/200\n",
            "439/439 [==============================] - 5s 10ms/step - loss: 2.1173 - accuracy: 0.4857 - val_loss: 23.1063 - val_accuracy: 0.0784\n",
            "Epoch 146/200\n",
            "439/439 [==============================] - 5s 11ms/step - loss: 2.1006 - accuracy: 0.4890 - val_loss: 23.3744 - val_accuracy: 0.0812\n",
            "Epoch 147/200\n",
            "439/439 [==============================] - 5s 11ms/step - loss: 2.1050 - accuracy: 0.4901 - val_loss: 23.4053 - val_accuracy: 0.0790\n",
            "Epoch 148/200\n",
            "439/439 [==============================] - 5s 10ms/step - loss: 2.0869 - accuracy: 0.4924 - val_loss: 23.2183 - val_accuracy: 0.0724\n",
            "Epoch 149/200\n",
            "439/439 [==============================] - 5s 11ms/step - loss: 2.0865 - accuracy: 0.4899 - val_loss: 23.4704 - val_accuracy: 0.0827\n",
            "Epoch 150/200\n",
            "439/439 [==============================] - 5s 11ms/step - loss: 2.0779 - accuracy: 0.4929 - val_loss: 23.2864 - val_accuracy: 0.0844\n",
            "Epoch 151/200\n",
            "439/439 [==============================] - 5s 11ms/step - loss: 2.0828 - accuracy: 0.4913 - val_loss: 23.3738 - val_accuracy: 0.0835\n",
            "Epoch 152/200\n",
            "439/439 [==============================] - 5s 11ms/step - loss: 2.0733 - accuracy: 0.4964 - val_loss: 23.4764 - val_accuracy: 0.0804\n",
            "Epoch 153/200\n",
            "439/439 [==============================] - 5s 11ms/step - loss: 2.0701 - accuracy: 0.5004 - val_loss: 23.7188 - val_accuracy: 0.0815\n",
            "Epoch 154/200\n",
            "439/439 [==============================] - 5s 11ms/step - loss: 2.0675 - accuracy: 0.4941 - val_loss: 23.6696 - val_accuracy: 0.0801\n",
            "Epoch 155/200\n",
            "439/439 [==============================] - 5s 10ms/step - loss: 2.0497 - accuracy: 0.4990 - val_loss: 23.5805 - val_accuracy: 0.0761\n",
            "Epoch 156/200\n",
            "439/439 [==============================] - 5s 10ms/step - loss: 2.0464 - accuracy: 0.5024 - val_loss: 23.5876 - val_accuracy: 0.0792\n",
            "Epoch 157/200\n",
            "439/439 [==============================] - 5s 11ms/step - loss: 2.0403 - accuracy: 0.5016 - val_loss: 23.9531 - val_accuracy: 0.0744\n",
            "Epoch 158/200\n",
            "439/439 [==============================] - 5s 11ms/step - loss: 2.0317 - accuracy: 0.5020 - val_loss: 23.9599 - val_accuracy: 0.0838\n",
            "Epoch 159/200\n",
            "439/439 [==============================] - 5s 11ms/step - loss: 2.0174 - accuracy: 0.5100 - val_loss: 23.8226 - val_accuracy: 0.0838\n",
            "Epoch 160/200\n",
            "439/439 [==============================] - 5s 11ms/step - loss: 2.0167 - accuracy: 0.5083 - val_loss: 23.9582 - val_accuracy: 0.0784\n",
            "Epoch 161/200\n",
            "439/439 [==============================] - 5s 10ms/step - loss: 2.0231 - accuracy: 0.5063 - val_loss: 24.1176 - val_accuracy: 0.0830\n",
            "Epoch 162/200\n",
            "439/439 [==============================] - 5s 11ms/step - loss: 2.0125 - accuracy: 0.5086 - val_loss: 24.1276 - val_accuracy: 0.0841\n",
            "Epoch 163/200\n",
            "439/439 [==============================] - 5s 11ms/step - loss: 2.0147 - accuracy: 0.5118 - val_loss: 23.8793 - val_accuracy: 0.0824\n",
            "Epoch 164/200\n",
            "439/439 [==============================] - 5s 11ms/step - loss: 1.9991 - accuracy: 0.5131 - val_loss: 24.2198 - val_accuracy: 0.0804\n",
            "Epoch 165/200\n",
            "439/439 [==============================] - 5s 11ms/step - loss: 1.9904 - accuracy: 0.5135 - val_loss: 23.9144 - val_accuracy: 0.0815\n",
            "Epoch 166/200\n",
            "439/439 [==============================] - 5s 11ms/step - loss: 1.9864 - accuracy: 0.5126 - val_loss: 24.1230 - val_accuracy: 0.0821\n",
            "Epoch 167/200\n",
            "439/439 [==============================] - 5s 11ms/step - loss: 1.9815 - accuracy: 0.5165 - val_loss: 23.9217 - val_accuracy: 0.0761\n",
            "Epoch 168/200\n",
            "439/439 [==============================] - 5s 11ms/step - loss: 1.9795 - accuracy: 0.5166 - val_loss: 24.1632 - val_accuracy: 0.0807\n",
            "Epoch 169/200\n",
            "439/439 [==============================] - 5s 11ms/step - loss: 1.9733 - accuracy: 0.5165 - val_loss: 24.3306 - val_accuracy: 0.0818\n",
            "Epoch 170/200\n",
            "439/439 [==============================] - 5s 11ms/step - loss: 1.9778 - accuracy: 0.5139 - val_loss: 24.3094 - val_accuracy: 0.0773\n",
            "Epoch 171/200\n",
            "439/439 [==============================] - 5s 10ms/step - loss: 1.9728 - accuracy: 0.5139 - val_loss: 24.2513 - val_accuracy: 0.0815\n",
            "Epoch 172/200\n",
            "439/439 [==============================] - 5s 11ms/step - loss: 1.9601 - accuracy: 0.5176 - val_loss: 24.3120 - val_accuracy: 0.0818\n",
            "Epoch 173/200\n",
            "439/439 [==============================] - 5s 10ms/step - loss: 1.9492 - accuracy: 0.5235 - val_loss: 24.4039 - val_accuracy: 0.0852\n",
            "Epoch 174/200\n",
            "439/439 [==============================] - 5s 11ms/step - loss: 1.9576 - accuracy: 0.5202 - val_loss: 24.4545 - val_accuracy: 0.0775\n",
            "Epoch 175/200\n",
            "439/439 [==============================] - 5s 11ms/step - loss: 1.9444 - accuracy: 0.5240 - val_loss: 24.4690 - val_accuracy: 0.0832\n",
            "Epoch 176/200\n",
            "439/439 [==============================] - 5s 11ms/step - loss: 1.9409 - accuracy: 0.5189 - val_loss: 24.5499 - val_accuracy: 0.0798\n",
            "Epoch 177/200\n",
            "439/439 [==============================] - 5s 11ms/step - loss: 1.9214 - accuracy: 0.5259 - val_loss: 24.4427 - val_accuracy: 0.0835\n",
            "Epoch 178/200\n",
            "439/439 [==============================] - 5s 11ms/step - loss: 1.9285 - accuracy: 0.5274 - val_loss: 24.3267 - val_accuracy: 0.0830\n",
            "Epoch 179/200\n",
            "439/439 [==============================] - 5s 11ms/step - loss: 1.9369 - accuracy: 0.5259 - val_loss: 24.1645 - val_accuracy: 0.0787\n",
            "Epoch 180/200\n",
            "439/439 [==============================] - 5s 11ms/step - loss: 1.9287 - accuracy: 0.5289 - val_loss: 24.3813 - val_accuracy: 0.0810\n",
            "Epoch 181/200\n",
            "439/439 [==============================] - 5s 11ms/step - loss: 1.9188 - accuracy: 0.5272 - val_loss: 24.4954 - val_accuracy: 0.0827\n",
            "Epoch 182/200\n",
            "439/439 [==============================] - 5s 11ms/step - loss: 1.9053 - accuracy: 0.5314 - val_loss: 24.5669 - val_accuracy: 0.0790\n",
            "Epoch 183/200\n",
            "439/439 [==============================] - 5s 11ms/step - loss: 1.8983 - accuracy: 0.5310 - val_loss: 24.7738 - val_accuracy: 0.0784\n",
            "Epoch 184/200\n",
            "439/439 [==============================] - 5s 11ms/step - loss: 1.8918 - accuracy: 0.5356 - val_loss: 24.8232 - val_accuracy: 0.0861\n",
            "Epoch 185/200\n",
            "439/439 [==============================] - 5s 10ms/step - loss: 1.9065 - accuracy: 0.5309 - val_loss: 24.7357 - val_accuracy: 0.0835\n",
            "Epoch 186/200\n",
            "439/439 [==============================] - 5s 11ms/step - loss: 1.9010 - accuracy: 0.5309 - val_loss: 24.7899 - val_accuracy: 0.0855\n",
            "Epoch 187/200\n",
            "439/439 [==============================] - 5s 11ms/step - loss: 1.8794 - accuracy: 0.5364 - val_loss: 24.7599 - val_accuracy: 0.0764\n",
            "Epoch 188/200\n",
            "439/439 [==============================] - 5s 11ms/step - loss: 1.8821 - accuracy: 0.5320 - val_loss: 24.7112 - val_accuracy: 0.0849\n",
            "Epoch 189/200\n",
            "439/439 [==============================] - 5s 11ms/step - loss: 1.8749 - accuracy: 0.5399 - val_loss: 24.6866 - val_accuracy: 0.0852\n",
            "Epoch 190/200\n",
            "439/439 [==============================] - 5s 11ms/step - loss: 1.8765 - accuracy: 0.5376 - val_loss: 24.8763 - val_accuracy: 0.0855\n",
            "Epoch 191/200\n",
            "439/439 [==============================] - 5s 11ms/step - loss: 1.8746 - accuracy: 0.5359 - val_loss: 24.9024 - val_accuracy: 0.0838\n",
            "Epoch 192/200\n",
            "439/439 [==============================] - 5s 11ms/step - loss: 1.8633 - accuracy: 0.5418 - val_loss: 25.0023 - val_accuracy: 0.0810\n",
            "Epoch 193/200\n",
            "439/439 [==============================] - 5s 11ms/step - loss: 1.8686 - accuracy: 0.5421 - val_loss: 25.0215 - val_accuracy: 0.0818\n",
            "Epoch 194/200\n",
            "439/439 [==============================] - 5s 11ms/step - loss: 1.8544 - accuracy: 0.5433 - val_loss: 25.2201 - val_accuracy: 0.0841\n",
            "Epoch 195/200\n",
            "439/439 [==============================] - 5s 11ms/step - loss: 1.8477 - accuracy: 0.5435 - val_loss: 24.8922 - val_accuracy: 0.0849\n",
            "Epoch 196/200\n",
            "439/439 [==============================] - 5s 11ms/step - loss: 1.8417 - accuracy: 0.5473 - val_loss: 25.0427 - val_accuracy: 0.0849\n",
            "Epoch 197/200\n",
            "439/439 [==============================] - 5s 11ms/step - loss: 1.8379 - accuracy: 0.5497 - val_loss: 25.0752 - val_accuracy: 0.0832\n",
            "Epoch 198/200\n",
            "439/439 [==============================] - 5s 11ms/step - loss: 1.8470 - accuracy: 0.5408 - val_loss: 25.1804 - val_accuracy: 0.0864\n",
            "Epoch 199/200\n",
            "439/439 [==============================] - 5s 11ms/step - loss: 1.8272 - accuracy: 0.5485 - val_loss: 25.1927 - val_accuracy: 0.0892\n",
            "Epoch 200/200\n",
            "439/439 [==============================] - 5s 11ms/step - loss: 1.8175 - accuracy: 0.5485 - val_loss: 25.1861 - val_accuracy: 0.0835\n"
          ]
        }
      ]
    },
    {
      "cell_type": "code",
      "metadata": {
        "id": "q_orBXOrCsNn",
        "colab": {
          "base_uri": "https://localhost:8080/",
          "height": 265
        },
        "outputId": "2c35153b-ed42-46b7-a919-b824043d80c4"
      },
      "source": [
        "import matplotlib.pyplot as plt\n",
        "import seaborn as sns\n",
        "\n",
        "# Entrenamiento\n",
        "epoch_count = range(1, len(hist.history['accuracy']) + 1)\n",
        "sns.lineplot(x=epoch_count,  y=hist.history['accuracy'], label='train')\n",
        "sns.lineplot(x=epoch_count,  y=hist.history['val_accuracy'], label='valid')\n",
        "plt.show()"
      ],
      "execution_count": 70,
      "outputs": [
        {
          "output_type": "display_data",
          "data": {
            "image/png": "[encoded data removed]",
            "text/plain": [
              "<Figure size 432x288 with 1 Axes>"
            ]
          },
          "metadata": {
            "needs_background": "light"
          }
        }
      ]
    },
    {
      "cell_type": "markdown",
      "metadata": {
        "id": "MhIw5IHdVaaM"
      },
      "source": [
        "Conclusion:\n",
        "Lamentablemente no se obtiene un buen entrenamiento y cuando se hace la validación es aun peor,esto puede deberse al ser un dataset muy chico."
      ]
    },
    {
      "cell_type": "markdown",
      "metadata": {
        "id": "KN6Fg_BsxJe6"
      },
      "source": [
        "### 5 - Predicción de próxima palabra"
      ]
    },
    {
      "cell_type": "code",
      "metadata": {
        "id": "iy_AXWQWzeeE"
      },
      "source": [
        "# Keras pad_sequences\n",
        "# https://www.tensorflow.org/api_docs/python/tf/keras/preprocessing/sequence/pad_sequences\n",
        "# Si la secuencia de entrada supera al input_seq_len (3) se trunca\n",
        "# Si la secuencia es más corta se agregna ceros al comienzo"
      ],
      "execution_count": 71,
      "outputs": []
    },
    {
      "cell_type": "code",
      "metadata": {
        "id": "IBvKHFPmzpy2",
        "colab": {
          "base_uri": "https://localhost:8080/"
        },
        "outputId": "11b470fe-e49b-440a-a49c-6b62367dd44f"
      },
      "source": [
        "# Se utilizará gradio para ensayar el modelo\n",
        "# Herramienta poderosa para crear interfaces rápidas para ensayar modelos\n",
        "# https://gradio.app/\n",
        "import sys\n",
        "!{sys.executable} -m pip install gradio --quiet"
      ],
      "execution_count": 72,
      "outputs": [
        {
          "output_type": "stream",
          "name": "stdout",
          "text": [
            "\u001b[K     |████████████████████████████████| 3.6 MB 11.2 MB/s \n",
            "\u001b[K     |████████████████████████████████| 206 kB 57.2 MB/s \n",
            "\u001b[K     |████████████████████████████████| 1.9 MB 32.1 MB/s \n",
            "\u001b[K     |████████████████████████████████| 3.5 MB 44.3 MB/s \n",
            "\u001b[K     |████████████████████████████████| 63 kB 2.3 MB/s \n",
            "\u001b[K     |████████████████████████████████| 961 kB 39.3 MB/s \n",
            "\u001b[?25h  Building wheel for ffmpy (setup.py) ... \u001b[?25l\u001b[?25hdone\n",
            "  Building wheel for flask-cachebuster (setup.py) ... \u001b[?25l\u001b[?25hdone\n"
          ]
        }
      ]
    },
    {
      "cell_type": "code",
      "metadata": {
        "id": "HNyBykvhzs7-",
        "colab": {
          "base_uri": "https://localhost:8080/",
          "height": 917
        },
        "outputId": "c126bc24-f8a3-40d8-b791-351d183fa986"
      },
      "source": [
        "import gradio as gr\n",
        "\n",
        "def model_response(human_text):\n",
        "\n",
        "    # Encodeamos\n",
        "    encoded = tok.texts_to_sequences([human_text])[0]\n",
        "    # Si tienen distinto largo\n",
        "    encoded = pad_sequences([encoded], maxlen=3, padding='pre')\n",
        "    \n",
        "    # Predicción softmax\n",
        "    y_hat = model.predict(encoded).argmax(axis=-1)\n",
        "\n",
        "    # Debemos buscar en el vocabulario la palabra\n",
        "    # que corresopnde al indice (y_hat) predicho por le modelo\n",
        "    out_word = ''\n",
        "    for word, index in tok.word_index.items():\n",
        "        if index == y_hat:\n",
        "            out_word = word\n",
        "            break\n",
        "\n",
        "    # Agrego la palabra a la frase predicha\n",
        "    return human_text + ' ' + out_word\n",
        "\n",
        "iface = gr.Interface(\n",
        "    fn=model_response,\n",
        "    inputs=[\"textbox\"],\n",
        "    outputs=\"text\",\n",
        "    layout=\"vertical\")\n",
        "\n",
        "iface.launch(debug=True)"
      ],
      "execution_count": 73,
      "outputs": [
        {
          "output_type": "stream",
          "name": "stdout",
          "text": [
            "Colab notebook detected. This cell will run indefinitely so that you can see errors and logs. To turn off, set debug=False in launch().\n",
            "This share link will expire in 72 hours. If you need a permanent link, visit: https://gradio.app/introducing-hosted\n",
            "Running on External URL: https://31281.gradio.app\n",
            "Interface loading below...\n"
          ]
        },
        {
          "output_type": "display_data",
          "data": {
            "text/html": [
              "\n",
              "        <iframe\n",
              "            width=\"900\"\n",
              "            height=\"500\"\n",
              "            src=\"https://31281.gradio.app\"\n",
              "            frameborder=\"0\"\n",
              "            allowfullscreen\n",
              "        ></iframe>\n",
              "        "
            ],
            "text/plain": [
              "<IPython.lib.display.IFrame at 0x7f9463bb7190>"
            ]
          },
          "metadata": {}
        },
        {
          "output_type": "error",
          "ename": "KeyboardInterrupt",
          "evalue": "ignored",
          "traceback": [
            "\u001b[0;31m---------------------------------------------------------------------------\u001b[0m",
            "\u001b[0;31mKeyboardInterrupt\u001b[0m                         Traceback (most recent call last)",
            "\u001b[0;32m<ipython-input-73-2a8fe09160a6>\u001b[0m in \u001b[0;36m<module>\u001b[0;34m()\u001b[0m\n\u001b[1;32m     28\u001b[0m     layout=\"vertical\")\n\u001b[1;32m     29\u001b[0m \u001b[0;34m\u001b[0m\u001b[0m\n\u001b[0;32m---> 30\u001b[0;31m \u001b[0miface\u001b[0m\u001b[0;34m.\u001b[0m\u001b[0mlaunch\u001b[0m\u001b[0;34m(\u001b[0m\u001b[0mdebug\u001b[0m\u001b[0;34m=\u001b[0m\u001b[0;32mTrue\u001b[0m\u001b[0;34m)\u001b[0m\u001b[0;34m\u001b[0m\u001b[0;34m\u001b[0m\u001b[0m\n\u001b[0m",
            "\u001b[0;32m/usr/local/lib/python3.7/dist-packages/gradio/interface.py\u001b[0m in \u001b[0;36mlaunch\u001b[0;34m(self, inline, inbrowser, share, debug, auth, auth_message, private_endpoint, prevent_thread_lock)\u001b[0m\n\u001b[1;32m    624\u001b[0m         \u001b[0;32mif\u001b[0m \u001b[0mdebug\u001b[0m \u001b[0;32mor\u001b[0m \u001b[0mint\u001b[0m\u001b[0;34m(\u001b[0m\u001b[0mos\u001b[0m\u001b[0;34m.\u001b[0m\u001b[0mgetenv\u001b[0m\u001b[0;34m(\u001b[0m\u001b[0;34m'GRADIO_DEBUG'\u001b[0m\u001b[0;34m,\u001b[0m \u001b[0;36m0\u001b[0m\u001b[0;34m)\u001b[0m\u001b[0;34m)\u001b[0m \u001b[0;34m==\u001b[0m \u001b[0;36m1\u001b[0m\u001b[0;34m:\u001b[0m\u001b[0;34m\u001b[0m\u001b[0;34m\u001b[0m\u001b[0m\n\u001b[1;32m    625\u001b[0m             \u001b[0;32mwhile\u001b[0m \u001b[0;32mTrue\u001b[0m\u001b[0;34m:\u001b[0m\u001b[0;34m\u001b[0m\u001b[0;34m\u001b[0m\u001b[0m\n\u001b[0;32m--> 626\u001b[0;31m                 \u001b[0msys\u001b[0m\u001b[0;34m.\u001b[0m\u001b[0mstdout\u001b[0m\u001b[0;34m.\u001b[0m\u001b[0mflush\u001b[0m\u001b[0;34m(\u001b[0m\u001b[0;34m)\u001b[0m\u001b[0;34m\u001b[0m\u001b[0;34m\u001b[0m\u001b[0m\n\u001b[0m\u001b[1;32m    627\u001b[0m                 \u001b[0mtime\u001b[0m\u001b[0;34m.\u001b[0m\u001b[0msleep\u001b[0m\u001b[0;34m(\u001b[0m\u001b[0;36m0.1\u001b[0m\u001b[0;34m)\u001b[0m\u001b[0;34m\u001b[0m\u001b[0;34m\u001b[0m\u001b[0m\n\u001b[1;32m    628\u001b[0m         is_in_interactive_mode = bool(\n",
            "\u001b[0;32m/usr/local/lib/python3.7/dist-packages/ipykernel/iostream.py\u001b[0m in \u001b[0;36mflush\u001b[0;34m(self)\u001b[0m\n\u001b[1;32m    347\u001b[0m                 \u001b[0mself\u001b[0m\u001b[0;34m.\u001b[0m\u001b[0mpub_thread\u001b[0m\u001b[0;34m.\u001b[0m\u001b[0mschedule\u001b[0m\u001b[0;34m(\u001b[0m\u001b[0mevt\u001b[0m\u001b[0;34m.\u001b[0m\u001b[0mset\u001b[0m\u001b[0;34m)\u001b[0m\u001b[0;34m\u001b[0m\u001b[0;34m\u001b[0m\u001b[0m\n\u001b[1;32m    348\u001b[0m                 \u001b[0;31m# and give a timeout to avoid\u001b[0m\u001b[0;34m\u001b[0m\u001b[0;34m\u001b[0m\u001b[0;34m\u001b[0m\u001b[0m\n\u001b[0;32m--> 349\u001b[0;31m                 \u001b[0;32mif\u001b[0m \u001b[0;32mnot\u001b[0m \u001b[0mevt\u001b[0m\u001b[0;34m.\u001b[0m\u001b[0mwait\u001b[0m\u001b[0;34m(\u001b[0m\u001b[0mself\u001b[0m\u001b[0;34m.\u001b[0m\u001b[0mflush_timeout\u001b[0m\u001b[0;34m)\u001b[0m\u001b[0;34m:\u001b[0m\u001b[0;34m\u001b[0m\u001b[0;34m\u001b[0m\u001b[0m\n\u001b[0m\u001b[1;32m    350\u001b[0m                     \u001b[0;31m# write directly to __stderr__ instead of warning because\u001b[0m\u001b[0;34m\u001b[0m\u001b[0;34m\u001b[0m\u001b[0;34m\u001b[0m\u001b[0m\n\u001b[1;32m    351\u001b[0m                     \u001b[0;31m# if this is happening sys.stderr may be the problem.\u001b[0m\u001b[0;34m\u001b[0m\u001b[0;34m\u001b[0m\u001b[0;34m\u001b[0m\u001b[0m\n",
            "\u001b[0;32m/usr/lib/python3.7/threading.py\u001b[0m in \u001b[0;36mwait\u001b[0;34m(self, timeout)\u001b[0m\n\u001b[1;32m    550\u001b[0m             \u001b[0msignaled\u001b[0m \u001b[0;34m=\u001b[0m \u001b[0mself\u001b[0m\u001b[0;34m.\u001b[0m\u001b[0m_flag\u001b[0m\u001b[0;34m\u001b[0m\u001b[0;34m\u001b[0m\u001b[0m\n\u001b[1;32m    551\u001b[0m             \u001b[0;32mif\u001b[0m \u001b[0;32mnot\u001b[0m \u001b[0msignaled\u001b[0m\u001b[0;34m:\u001b[0m\u001b[0;34m\u001b[0m\u001b[0;34m\u001b[0m\u001b[0m\n\u001b[0;32m--> 552\u001b[0;31m                 \u001b[0msignaled\u001b[0m \u001b[0;34m=\u001b[0m \u001b[0mself\u001b[0m\u001b[0;34m.\u001b[0m\u001b[0m_cond\u001b[0m\u001b[0;34m.\u001b[0m\u001b[0mwait\u001b[0m\u001b[0;34m(\u001b[0m\u001b[0mtimeout\u001b[0m\u001b[0;34m)\u001b[0m\u001b[0;34m\u001b[0m\u001b[0;34m\u001b[0m\u001b[0m\n\u001b[0m\u001b[1;32m    553\u001b[0m             \u001b[0;32mreturn\u001b[0m \u001b[0msignaled\u001b[0m\u001b[0;34m\u001b[0m\u001b[0;34m\u001b[0m\u001b[0m\n\u001b[1;32m    554\u001b[0m \u001b[0;34m\u001b[0m\u001b[0m\n",
            "\u001b[0;32m/usr/lib/python3.7/threading.py\u001b[0m in \u001b[0;36mwait\u001b[0;34m(self, timeout)\u001b[0m\n\u001b[1;32m    298\u001b[0m             \u001b[0;32melse\u001b[0m\u001b[0;34m:\u001b[0m\u001b[0;34m\u001b[0m\u001b[0;34m\u001b[0m\u001b[0m\n\u001b[1;32m    299\u001b[0m                 \u001b[0;32mif\u001b[0m \u001b[0mtimeout\u001b[0m \u001b[0;34m>\u001b[0m \u001b[0;36m0\u001b[0m\u001b[0;34m:\u001b[0m\u001b[0;34m\u001b[0m\u001b[0;34m\u001b[0m\u001b[0m\n\u001b[0;32m--> 300\u001b[0;31m                     \u001b[0mgotit\u001b[0m \u001b[0;34m=\u001b[0m \u001b[0mwaiter\u001b[0m\u001b[0;34m.\u001b[0m\u001b[0macquire\u001b[0m\u001b[0;34m(\u001b[0m\u001b[0;32mTrue\u001b[0m\u001b[0;34m,\u001b[0m \u001b[0mtimeout\u001b[0m\u001b[0;34m)\u001b[0m\u001b[0;34m\u001b[0m\u001b[0;34m\u001b[0m\u001b[0m\n\u001b[0m\u001b[1;32m    301\u001b[0m                 \u001b[0;32melse\u001b[0m\u001b[0;34m:\u001b[0m\u001b[0;34m\u001b[0m\u001b[0;34m\u001b[0m\u001b[0m\n\u001b[1;32m    302\u001b[0m                     \u001b[0mgotit\u001b[0m \u001b[0;34m=\u001b[0m \u001b[0mwaiter\u001b[0m\u001b[0;34m.\u001b[0m\u001b[0macquire\u001b[0m\u001b[0;34m(\u001b[0m\u001b[0;32mFalse\u001b[0m\u001b[0;34m)\u001b[0m\u001b[0;34m\u001b[0m\u001b[0;34m\u001b[0m\u001b[0m\n",
            "\u001b[0;31mKeyboardInterrupt\u001b[0m: "
          ]
        }
      ]
    },
    {
      "cell_type": "markdown",
      "metadata": {
        "id": "lhwuTQt3Y8L0"
      },
      "source": [
        "Conclusion:\n",
        "Ante el ingreso de \"Every road leads\" la salida \"long\" tiene sentido gramatical, este ejemplo se sacó del dataset donde estaba el documento \"Every road leads back to the place I know\""
      ]
    },
    {
      "cell_type": "markdown",
      "metadata": {
        "id": "mCeMWWupxN1-"
      },
      "source": [
        "### 6 - Generación de secuencias nuevas"
      ]
    },
    {
      "cell_type": "code",
      "metadata": {
        "id": "bwbS_pfhxvB3"
      },
      "source": [
        "def generate_seq(model, tokenizer, seed_text, max_length, n_words):\n",
        "    \"\"\"\n",
        "        Exec model sequence prediction\n",
        "\n",
        "        Args:\n",
        "            model (keras): modelo entrenado\n",
        "            tokenizer (keras tokenizer): tonenizer utilizado en el preprocesamiento\n",
        "            seed_text (string): texto de entrada (input_seq)\n",
        "            max_length (int): máxima longitud de la sequencia de entrada\n",
        "            n_words (int): números de palabras a agregar a la sequencia de entrada\n",
        "        returns:\n",
        "            output_text (string): sentencia con las \"n_words\" agregadas\n",
        "    \"\"\"\n",
        "    output_text = seed_text\n",
        "\t# generate a fixed number of words\n",
        "    for _ in range(n_words):\n",
        "\t\t# Encodeamos\n",
        "        encoded = tokenizer.texts_to_sequences([output_text])[0]\n",
        "\t\t# Si tienen distinto largo\n",
        "        encoded = pad_sequences([encoded], maxlen=max_length, padding='pre')\n",
        "\t\t\n",
        "\t\t# Predicción softmax\n",
        "        y_hat = model.predict(encoded).argmax(axis=-1)\n",
        "\t\t# Vamos concatenando las predicciones\n",
        "        out_word = ''\n",
        "\n",
        "        # Debemos buscar en el vocabulario la palabra\n",
        "        # que corresopnde al indice (y_hat) predicho por le modelo\n",
        "        for word, index in tokenizer.word_index.items():\n",
        "            if index == y_hat:\n",
        "                out_word = word\n",
        "                break\n",
        "\n",
        "\t\t# Agrego las palabras a la frase predicha\n",
        "        output_text += ' ' + out_word\n",
        "    return output_text"
      ],
      "execution_count": 74,
      "outputs": []
    },
    {
      "cell_type": "code",
      "metadata": {
        "id": "JoFqRC5pxzqS",
        "colab": {
          "base_uri": "https://localhost:8080/",
          "height": 35
        },
        "outputId": "11efbdc3-830b-45c0-bf58-c7919dd37a73"
      },
      "source": [
        "# Lives within my heart And when she was sad\n",
        "input_text='Lives within my heart And'\n",
        "generate_seq(model, tok, input_text, max_length=3, n_words=2)"
      ],
      "execution_count": 83,
      "outputs": [
        {
          "output_type": "execute_result",
          "data": {
            "application/vnd.google.colaboratory.intrinsic+json": {
              "type": "string"
            },
            "text/plain": [
              "'Lives within my heart And the jolly'"
            ]
          },
          "metadata": {},
          "execution_count": 83
        }
      ]
    },
    {
      "cell_type": "code",
      "metadata": {
        "colab": {
          "base_uri": "https://localhost:8080/",
          "height": 35
        },
        "id": "AIFrqvIwaSMm",
        "outputId": "f7008cce-c3af-4162-b223-7dd66cb51d9f"
      },
      "source": [
        "# If the wind in my sail on the sea stays behind me\n",
        "input_text='If the wind'\n",
        "generate_seq(model, tok, input_text, max_length=3, n_words=3)"
      ],
      "execution_count": 85,
      "outputs": [
        {
          "output_type": "execute_result",
          "data": {
            "application/vnd.google.colaboratory.intrinsic+json": {
              "type": "string"
            },
            "text/plain": [
              "\"If the wind it's no shimmering\""
            ]
          },
          "metadata": {},
          "execution_count": 85
        }
      ]
    },
    {
      "cell_type": "markdown",
      "metadata": {
        "id": "eRia2ws9a3W0"
      },
      "source": [
        "Si bien el desempeño es pobre, gramaticalmente tiene sentido aunque el viento no brille jajaja, pero esto se debe al ser un dataset de solo 17538 documentos con 2552 tokens, admás existen palabras en portugues dentro del dataset lo que complica su funcionamiento, se probo con 20 epochs y luego con 200 pero su resultado fue aproximadamente el mismo y hubo overfitting.\n",
        "\n",
        "Se debería limpiar el dataset del portugues para evaluar nuevamente o utilizar otro mas grande.\n",
        "\n",
        "Además es recomendable complejizar la red neuronal.\n"
      ]
    },
    {
      "cell_type": "markdown",
      "metadata": {
        "id": "T2SHmXbgxQH9"
      },
      "source": [
        "### 7 - Conclusiones\n",
        "El modelo entrenado tuvo un muy mail desempeño en el entrenamiento además de overfitting. Cuestiones que podrían mejorarse:\n",
        "- Agregar más capas o neuronaes\n",
        "- Incrementar la cantidad de épocas\n",
        "- Agregar BRNN\n",
        "\n",
        "Es importante destacar que en este ejemplo estamos entrenando nuestro propios Embeddings, y para ello se requiere mucha data. En los ejemplos que realizaremos de aquí en más utilizaremos más datos, embeddings pre-enternados o modelos pre-entrenados."
      ]
    }
  ]
}