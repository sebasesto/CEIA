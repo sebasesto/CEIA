{
 "cells": [
  {
   "cell_type": "code",
   "execution_count": 28,
   "id": "a08e447c",
   "metadata": {},
   "outputs": [
    {
     "name": "stdout",
     "output_type": "stream",
     "text": [
      "Using matplotlib backend: Qt5Agg\n"
     ]
    }
   ],
   "source": [
    "#Si queremos que las imágenes sean mostradas en una ventana emergente quitar el inline\n",
    "%matplotlib inline\n",
    "\n",
    "# OpenCV-Python utiliza NumPy para el manejo de imágenes\n",
    "import numpy as np\n",
    "# cv2 es el módulo python para acceder a OpenCV \n",
    "import cv2 as cv\n",
    "# Usamos las poderosas herramientas de graficación de matplotlib para mostrar imágenes, perfiles, histogramas, etc\n",
    "import matplotlib.pyplot as plt\n"
   ]
  },
  {
   "cell_type": "code",
   "execution_count": 50,
   "id": "e76dcc9c",
   "metadata": {},
   "outputs": [],
   "source": [
    "# Cargar una imagen en modo monocromático (un canal)\n",
    "imgOini = cv.imread('WP_O.png')\n",
    "imgBini = cv.imread('WP_B.png')\n",
    "imgRini = cv.imread('WP_R.png')\n",
    "# imgOini = cv.imread('test_green.png')\n",
    "# imgBini = cv.imread('test_blue.png')\n",
    "# imgRini = cv.imread('test_red.png')\n"
   ]
  },
  {
   "cell_type": "code",
   "execution_count": 51,
   "id": "e54aea99",
   "metadata": {},
   "outputs": [],
   "source": [
    "# Nueva figura\n",
    "fig = plt.figure()\n",
    "\n",
    "# Conversion de BGR to RGB\n",
    "imgO = cv.cvtColor(imgOini,cv.COLOR_BGR2RGB)\n",
    "imgB = cv.cvtColor(imgBini,cv.COLOR_BGR2RGB)\n",
    "imgR = cv.cvtColor(imgRini,cv.COLOR_BGR2RGB)\n",
    "\n",
    "# Imagenes convertidas\n",
    "ax1=plt.subplot(131)\n",
    "ax1.imshow(imgO)\n",
    "ax1.set_title('Verde')\n",
    "\n",
    "ax2=plt.subplot(132)\n",
    "ax2.imshow(imgB)\n",
    "ax2.set_title('Azul')\n",
    "\n",
    "ax3=plt.subplot(133)\n",
    "ax3.imshow(imgR)\n",
    "ax3.set_title('Roja')\n",
    "\n",
    "# Separación de cada imagen en sus distintos canales\n",
    "im_rO,im_gO,im_bO = cv.split(imgO)\n",
    "im_rB,im_gB,im_bB = cv.split(imgB)\n",
    "im_rR,im_gR,im_bR = cv.split(imgR)\n"
   ]
  },
  {
   "cell_type": "code",
   "execution_count": 52,
   "id": "b7678850",
   "metadata": {},
   "outputs": [],
   "source": [
    "# Vamos a determinar el máximo de cada canal y de cada ejemplo.\n",
    "r_maxO=im_rO.max()\n",
    "g_maxO=im_gO.max()\n",
    "b_maxO=im_bO.max()\n",
    "\n",
    "r_maxB=im_rB.max()\n",
    "g_maxB=im_gB.max()\n",
    "b_maxB=im_bB.max()\n",
    "\n",
    "r_maxR=im_rR.max()\n",
    "g_maxR=im_gR.max()\n",
    "b_maxR=im_bR.max()"
   ]
  },
  {
   "cell_type": "code",
   "execution_count": 53,
   "id": "4de59928",
   "metadata": {},
   "outputs": [
    {
     "data": {
      "text/plain": [
       "Text(0.5, 1.0, 'White Patch Roja')"
      ]
     },
     "execution_count": 53,
     "metadata": {},
     "output_type": "execute_result"
    }
   ],
   "source": [
    "#Aplicamos la multiplicación por una constante a cada canal y \n",
    "# aplicamos el algoritmo whit patch a la imagen original\n",
    "wp_rO=(255/r_maxO)*im_rO\n",
    "wp_gO=(255/g_maxO)*im_gO\n",
    "wp_bO=(255/b_maxO)*im_bO\n",
    "np.clip(wp_rO, 0, 255, out=wp_rO)   # Clip trunca a lo que se le diga (0 a 255)\n",
    "np.clip(wp_gO, 0, 255, out=wp_gO)   # Clip trunca a lo que se le diga (0 a 255)\n",
    "np.clip(wp_bO, 0, 255, out=wp_bO)   # Clip trunca a lo que se le diga (0 a 255)\n",
    "wp_rO=wp_rO.astype('uint8')         # Convierto a 8 bits\n",
    "wp_gO=wp_gO.astype('uint8')         # Convierto a 8 bits\n",
    "wp_bO=wp_bO.astype('uint8')         # Convierto a 8 bits\n",
    "\n",
    "wp_rB=(255/r_maxB)*im_rB\n",
    "wp_gB=(255/g_maxB)*im_gB\n",
    "wp_bB=(255/b_maxB)*im_bB\n",
    "wp_rB=wp_rB.astype('uint8')         # Convierto a 8 bits\n",
    "wp_gB=wp_gB.astype('uint8')         # Convierto a 8 bits\n",
    "wp_bB=wp_bB.astype('uint8')         # Convierto a 8 bits\n",
    "\n",
    "wp_rR=(255/r_maxR)*im_rR\n",
    "wp_gR=(255/g_maxR)*im_gR\n",
    "wp_bR=(255/b_maxR)*im_bR\n",
    "wp_rR=wp_rR.astype('uint8')         # Convierto a 8 bits\n",
    "wp_gR=wp_gR.astype('uint8')         # Convierto a 8 bits\n",
    "wp_bR=wp_bR.astype('uint8')         # Convierto a 8 bits\n",
    "\n",
    "\n",
    "wp_O = cv.merge((wp_rO,wp_gO,wp_bO))\n",
    "wp_R = cv.merge((wp_rR,wp_gR,wp_bR))\n",
    "wp_B = cv.merge((wp_rB,wp_gB,wp_bB))\n",
    "\n",
    "fig2 = plt.figure()\n",
    "ax1=plt.subplot(131)\n",
    "ax1.imshow(wp_O)\n",
    "ax1.set_title('White Patch Verde')\n",
    "ax2=plt.subplot(132)\n",
    "ax2.imshow(wp_B)\n",
    "ax2.set_title('White Patch Azul')\n",
    "ax3=plt.subplot(133)\n",
    "ax3.imshow(wp_R)\n",
    "ax3.set_title('White Patch Roja')\n"
   ]
  },
  {
   "cell_type": "code",
   "execution_count": 58,
   "id": "a9ebe30a",
   "metadata": {},
   "outputs": [
    {
     "data": {
      "text/plain": [
       "Text(0.5, 1.0, 'WP Roja al 70%')"
      ]
     },
     "execution_count": 58,
     "metadata": {},
     "output_type": "execute_result"
    }
   ],
   "source": [
    "# Dado que no alcanzamos a obtener el fondo blanco por la gran saturación de colores,\n",
    "# vamos a probar con el percentil 70.\n",
    "perc = 0.7\n",
    "r_maxO=im_rO.max()*perc\n",
    "g_maxO=im_gO.max()*perc\n",
    "b_maxO=im_bO.max()*perc\n",
    "\n",
    "r_maxB=im_rB.max()*perc\n",
    "g_maxB=im_gB.max()*perc\n",
    "b_maxB=im_bB.max()*perc\n",
    "\n",
    "r_maxR=im_rR.max()*perc\n",
    "g_maxR=im_gR.max()*perc\n",
    "b_maxR=im_bR.max()*perc\n",
    "\n",
    "wp_rO=(255/r_maxO)*im_rO\n",
    "wp_gO=(255/g_maxO)*im_gO\n",
    "wp_bO=(255/b_maxO)*im_bO\n",
    "np.clip(wp_rO, 0, 255, out=wp_rO)   # Clip trunca a lo que se le diga (0 a 255)\n",
    "np.clip(wp_gO, 0, 255, out=wp_gO)   # Clip trunca a lo que se le diga (0 a 255)\n",
    "np.clip(wp_bO, 0, 255, out=wp_bO)   # Clip trunca a lo que se le diga (0 a 255)\n",
    "wp_rO=wp_rO.astype('uint8')         # Convierto a 8 bits\n",
    "wp_gO=wp_gO.astype('uint8')         # Convierto a 8 bits\n",
    "wp_bO=wp_bO.astype('uint8')         # Convierto a 8 bits\n",
    "\n",
    "wp_rB=(255/r_maxB)*im_rB\n",
    "wp_gB=(255/g_maxB)*im_gB\n",
    "wp_bB=(255/b_maxB)*im_bB\n",
    "np.clip(wp_rB, 0, 255, out=wp_rB)   # Clip trunca a lo que se le diga (0 a 255)\n",
    "np.clip(wp_gB, 0, 255, out=wp_gB)   # Clip trunca a lo que se le diga (0 a 255)\n",
    "np.clip(wp_bB, 0, 255, out=wp_bB)   # Clip trunca a lo que se le diga (0 a 255)\n",
    "wp_rB=wp_rB.astype('uint8')         # Convierto a 8 bits\n",
    "wp_gB=wp_gB.astype('uint8')         # Convierto a 8 bits\n",
    "wp_bB=wp_bB.astype('uint8')         # Convierto a 8 bits\n",
    "\n",
    "wp_rR=(255/r_maxR)*im_rR\n",
    "wp_gR=(255/g_maxR)*im_gR\n",
    "wp_bR=(255/b_maxR)*im_bR\n",
    "np.clip(wp_rR, 0, 255, out=wp_rR)   # Clip trunca a lo que se le diga (0 a 255)\n",
    "np.clip(wp_gR, 0, 255, out=wp_gR)   # Clip trunca a lo que se le diga (0 a 255)\n",
    "np.clip(wp_bR, 0, 255, out=wp_bR)   # Clip trunca a lo que se le diga (0 a 255)\n",
    "wp_rR=wp_rR.astype('uint8')         # Convierto a 8 bits\n",
    "wp_gR=wp_gR.astype('uint8')         # Convierto a 8 bits\n",
    "wp_bR=wp_bR.astype('uint8')         # Convierto a 8 bits\n",
    "\n",
    "\n",
    "wp_O = cv.merge((wp_rO,wp_gO,wp_bO))\n",
    "wp_R = cv.merge((wp_rR,wp_gR,wp_bR))\n",
    "wp_B = cv.merge((wp_rB,wp_gB,wp_bB))\n",
    "\n",
    "fig2 = plt.figure()\n",
    "ax1=plt.subplot(131)\n",
    "ax1.imshow(wp_O)\n",
    "ax1.set_title('WP Verde al 70%')\n",
    "ax2=plt.subplot(132)\n",
    "ax2.imshow(wp_B)\n",
    "ax2.set_title('WP Azul al 70%')\n",
    "ax3=plt.subplot(133)\n",
    "ax3.imshow(wp_R)\n",
    "ax3.set_title('WP Roja al 70%')\n"
   ]
  },
  {
   "cell_type": "code",
   "execution_count": 27,
   "id": "d19505a8",
   "metadata": {},
   "outputs": [
    {
     "data": {
      "text/plain": [
       "<matplotlib.image.AxesImage at 0x7f08adba4c50>"
      ]
     },
     "execution_count": 27,
     "metadata": {},
     "output_type": "execute_result"
    }
   ],
   "source": [
    "# Iniciamos algoritmo de coordenadas cromáticas, primero leyendo las imagenes y corrijiendo los canales.\n",
    "ccr1 = cv.imread('CoordCrom_1.png')\n",
    "ccr2 = cv.imread('CoordCrom_2.png')\n",
    "ccr3 = cv.imread('CoordCrom_3.png')\n",
    "ccr1 = cv.cvtColor(ccr1, cv.COLOR_BGR2RGB)\n",
    "ccr2 = cv.cvtColor(ccr2, cv.COLOR_BGR2RGB)\n",
    "ccr3 = cv.cvtColor(ccr3, cv.COLOR_BGR2RGB)\n",
    "\n",
    "fig = plt.figure()\n",
    "ax1=plt.subplot(231)\n",
    "ax1.imshow(ccr1)\n",
    "ax2=plt.subplot(232)\n",
    "ax2.imshow(ccr2)\n",
    "ax3=plt.subplot(233)\n",
    "ax3.imshow(ccr3)\n",
    "\n",
    "# Vectores por cada pixel con suma de los valores de cada canal\n",
    "rgb1 = ccr1.sum(axis=2)[:,:,np.newaxis]\n",
    "rgb2 = ccr2.sum(axis=2)[:,:,np.newaxis]\n",
    "rgb3 = ccr3.sum(axis=2)[:,:,np.newaxis]\n",
    "# En caso de ser cero cambiamos el valor para evitar ivision por 0\n",
    "rgb1[rgb1 == 0] = 1\n",
    "rgb2[rgb2 == 0] = 1\n",
    "rgb3[rgb3 == 0] = 1\n",
    "# Aplicamos algoritmo de coordenadas cromáticas y lo escalamos\n",
    "img1 = (ccr1/rgb1)*255\n",
    "img2 = (ccr2/rgb2)*255\n",
    "img3 = (ccr3/rgb3)*255\n",
    "\n",
    "np.clip(img1, 0, 255, out=img1) #Truncar a 255\n",
    "np.clip(img2, 0, 255, out=img2) #Truncar a 255\n",
    "np.clip(img3, 0, 255, out=img3) #Truncar a 255\n",
    "img1 = img1.astype('uint8')\n",
    "img2 = img2.astype('uint8')\n",
    "img3 = img3.astype('uint8')\n",
    "\n",
    "ax4 = plt.subplot(234)\n",
    "ax4.imshow(img1)\n",
    "ax5 = plt.subplot(235)\n",
    "ax5.imshow(img2)\n",
    "ax6 = plt.subplot(236)\n",
    "ax6.imshow(img3)"
   ]
  },
  {
   "cell_type": "code",
   "execution_count": null,
   "id": "0acb90e2",
   "metadata": {},
   "outputs": [],
   "source": []
  }
 ],
 "metadata": {
  "kernelspec": {
   "display_name": "Python 3",
   "language": "python",
   "name": "python3"
  },
  "language_info": {
   "codemirror_mode": {
    "name": "ipython",
    "version": 3
   },
   "file_extension": ".py",
   "mimetype": "text/x-python",
   "name": "python",
   "nbconvert_exporter": "python",
   "pygments_lexer": "ipython3",
   "version": "3.7.10"
  }
 },
 "nbformat": 4,
 "nbformat_minor": 5
}
