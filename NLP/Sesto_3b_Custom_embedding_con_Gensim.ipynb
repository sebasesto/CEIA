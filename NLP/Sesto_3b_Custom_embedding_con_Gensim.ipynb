{
  "nbformat": 4,
  "nbformat_minor": 0,
  "metadata": {
    "colab": {
      "name": "Sesto-3b - Custom embedding con Gensim",
      "provenance": [],
      "collapsed_sections": [],
      "include_colab_link": true
    },
    "kernelspec": {
      "name": "python3",
      "display_name": "Python 3"
    }
  },
  "cells": [
    {
      "cell_type": "markdown",
      "metadata": {
        "id": "view-in-github",
        "colab_type": "text"
      },
      "source": [
        "<a href=\"https://colab.research.google.com/github/sebasesto/CEIA/blob/master/NLP/Sesto_3b_Custom_embedding_con_Gensim.ipynb\" target=\"_parent\"><img src=\"https://colab.research.google.com/assets/colab-badge.svg\" alt=\"Open In Colab\"/></a>"
      ]
    },
    {
      "cell_type": "markdown",
      "metadata": {
        "id": "sZd5yLnnHOK0"
      },
      "source": [
        "<a href=\"https://www.inove.com.ar\"><img src=\"https://github.com/hernancontigiani/ceia_memorias_especializacion/raw/master/Figures/logoFIUBA.jpg\" width=\"500\" align=\"center\"></a>\n",
        "\n",
        "\n",
        "# Procesamiento de lenguaje natural\n",
        "## Custom embedddings con Gensim\n",
        "\n"
      ]
    },
    {
      "cell_type": "markdown",
      "metadata": {
        "id": "vA7nqkumo9z9"
      },
      "source": [
        "### Objetivo\n",
        "El objetivo es utilizar documentos / corpus para crear embeddings de palabras basado en ese contexto. Se utilizará canciones de bandas para generar los embeddings, es decir, que los vectores tendrán la forma en función de como esa banda haya utilizado las palabras en sus canciones."
      ]
    },
    {
      "cell_type": "code",
      "metadata": {
        "id": "lFToQs5FK5uZ"
      },
      "source": [
        "import pandas as pd\n",
        "import matplotlib.pyplot as plt\n",
        "import seaborn as sns\n",
        "import multiprocessing\n",
        "from gensim.models import Word2Vec\n",
        "from keras.preprocessing.text import text_to_word_sequence\n",
        "from gensim.models.callbacks import CallbackAny2Vec\n",
        "from sklearn.decomposition import IncrementalPCA    \n",
        "from sklearn.manifold import TSNE                   \n",
        "import numpy as np                                  "
      ],
      "execution_count": 1,
      "outputs": []
    },
    {
      "cell_type": "markdown",
      "metadata": {
        "id": "g07zJxG7H9vG"
      },
      "source": [
        "### Datos\n",
        "Utilizaremos como dataset canciones de bandas de habla inglés."
      ]
    },
    {
      "cell_type": "code",
      "metadata": {
        "id": "l7z4CSBfpR3X",
        "colab": {
          "base_uri": "https://localhost:8080/"
        },
        "outputId": "32764d07-45d9-48ca-c821-19d38239e609"
      },
      "source": [
        "# Descargar la carpeta de dataset\n",
        "import os\n",
        "import gdown\n",
        "if os.access('./songs_dataset', os.F_OK) is False:\n",
        "    if os.access('simpsons_dataset.zip', os.F_OK) is False:\n",
        "        url = 'https://drive.google.com/uc?id=1VLVgb3fD02XrF2V5OruKvQTOT91juXcs&export=download'\n",
        "        output = 'songs_dataset.zip'\n",
        "        gdown.download(url, output, quiet=False)\n",
        "    !unzip -q songs_dataset.zip   \n",
        "else:\n",
        "    print(\"El dataset ya se encuentra descargado\")"
      ],
      "execution_count": 2,
      "outputs": [
        {
          "output_type": "stream",
          "name": "stdout",
          "text": [
            "El dataset ya se encuentra descargado\n"
          ]
        }
      ]
    },
    {
      "cell_type": "code",
      "metadata": {
        "id": "mysGrIw9ljC2",
        "colab": {
          "base_uri": "https://localhost:8080/"
        },
        "outputId": "27e002d5-e119-469a-bace-ce03c9846f70"
      },
      "source": [
        "# Posibles bandas\n",
        "os.listdir(\"./songs_dataset/\")"
      ],
      "execution_count": 3,
      "outputs": [
        {
          "output_type": "execute_result",
          "data": {
            "text/plain": [
              "['bjork.txt',\n",
              " 'janisjoplin.txt',\n",
              " 'lil-wayne.txt',\n",
              " 'missy-elliott.txt',\n",
              " 'lin-manuel-miranda.txt',\n",
              " 'bruce-springsteen.txt',\n",
              " 'johnny-cash.txt',\n",
              " 'leonard-cohen.txt',\n",
              " 'bruno-mars.txt',\n",
              " 'rihanna.txt',\n",
              " 'blink-182.txt',\n",
              " 'lady-gaga.txt',\n",
              " 'nicki-minaj.txt',\n",
              " 'disney.txt',\n",
              " 'bieber.txt',\n",
              " 'prince.txt',\n",
              " 'bob-marley.txt',\n",
              " 'kanye-west.txt',\n",
              " 'ludacris.txt',\n",
              " 'patti-smith.txt',\n",
              " 'dolly-parton.txt',\n",
              " 'notorious_big.txt',\n",
              " 'alicia-keys.txt',\n",
              " 'amy-winehouse.txt',\n",
              " 'dr-seuss.txt',\n",
              " 'drake.txt',\n",
              " 'radiohead.txt',\n",
              " 'eminem.txt',\n",
              " 'britney-spears.txt',\n",
              " 'notorious-big.txt',\n",
              " 'Lil_Wayne.txt',\n",
              " 'kanye.txt',\n",
              " 'paul-simon.txt',\n",
              " 'adele.txt',\n",
              " 'dj-khaled.txt',\n",
              " 'nirvana.txt',\n",
              " 'jimi-hendrix.txt',\n",
              " 'nickelback.txt',\n",
              " 'al-green.txt',\n",
              " 'r-kelly.txt',\n",
              " 'bob-dylan.txt',\n",
              " 'cake.txt',\n",
              " 'dickinson.txt',\n",
              " 'beatles.txt',\n",
              " 'michael-jackson.txt',\n",
              " 'nursery_rhymes.txt',\n",
              " 'lorde.txt',\n",
              " 'Kanye_West.txt',\n",
              " 'joni-mitchell.txt']"
            ]
          },
          "metadata": {},
          "execution_count": 3
        }
      ]
    },
    {
      "cell_type": "code",
      "metadata": {
        "colab": {
          "base_uri": "https://localhost:8080/"
        },
        "id": "yDA3Sh9_P7a1",
        "outputId": "3ab04c22-e124-4028-a2ef-dcf23b349549"
      },
      "source": [
        "# !cat songs_dataset/beatles.txt\n",
        "!cat songs_dataset/britney-spears.txt | wc -l"
      ],
      "execution_count": 4,
      "outputs": [
        {
          "output_type": "stream",
          "name": "stdout",
          "text": [
            "3847\n"
          ]
        }
      ]
    },
    {
      "cell_type": "code",
      "metadata": {
        "colab": {
          "base_uri": "https://localhost:8080/",
          "height": 351
        },
        "id": "i1QmFaJXxYTV",
        "outputId": "6e6deacd-3a73-46e4-aab1-eb9980d32225"
      },
      "source": [
        "# Selección de banda y armado del dataset utilizando salto de línea para separar las oraciones/docs\n",
        "df = pd.read_csv('songs_dataset/britney-spears.txt', sep='/n', header=None, engine='python')\n",
        "df.head(10)"
      ],
      "execution_count": 5,
      "outputs": [
        {
          "output_type": "execute_result",
          "data": {
            "text/html": [
              "<div>\n",
              "<style scoped>\n",
              "    .dataframe tbody tr th:only-of-type {\n",
              "        vertical-align: middle;\n",
              "    }\n",
              "\n",
              "    .dataframe tbody tr th {\n",
              "        vertical-align: top;\n",
              "    }\n",
              "\n",
              "    .dataframe thead th {\n",
              "        text-align: right;\n",
              "    }\n",
              "</style>\n",
              "<table border=\"1\" class=\"dataframe\">\n",
              "  <thead>\n",
              "    <tr style=\"text-align: right;\">\n",
              "      <th></th>\n",
              "      <th>0</th>\n",
              "    </tr>\n",
              "  </thead>\n",
              "  <tbody>\n",
              "    <tr>\n",
              "      <th>0</th>\n",
              "      <td>They say get ready for the revolution</td>\n",
              "    </tr>\n",
              "    <tr>\n",
              "      <th>1</th>\n",
              "      <td>I think it's time we find some sorta solution</td>\n",
              "    </tr>\n",
              "    <tr>\n",
              "      <th>2</th>\n",
              "      <td>Somebody's caught up in the endless pollution</td>\n",
              "    </tr>\n",
              "    <tr>\n",
              "      <th>3</th>\n",
              "      <td>They need to wake up, stop living illusions I ...</td>\n",
              "    </tr>\n",
              "    <tr>\n",
              "      <th>4</th>\n",
              "      <td>Why won't somebody feel this</td>\n",
              "    </tr>\n",
              "    <tr>\n",
              "      <th>5</th>\n",
              "      <td>This is my wish that we all feel connected</td>\n",
              "    </tr>\n",
              "    <tr>\n",
              "      <th>6</th>\n",
              "      <td>This is my wish that nobodies neglected Be lik...</td>\n",
              "    </tr>\n",
              "    <tr>\n",
              "      <th>7</th>\n",
              "      <td>Be like a rocket Take off</td>\n",
              "    </tr>\n",
              "    <tr>\n",
              "      <th>8</th>\n",
              "      <td>Just fly, away (ay, ay)</td>\n",
              "    </tr>\n",
              "    <tr>\n",
              "      <th>9</th>\n",
              "      <td>To find your space Take off</td>\n",
              "    </tr>\n",
              "  </tbody>\n",
              "</table>\n",
              "</div>"
            ],
            "text/plain": [
              "                                                   0\n",
              "0              They say get ready for the revolution\n",
              "1      I think it's time we find some sorta solution\n",
              "2      Somebody's caught up in the endless pollution\n",
              "3  They need to wake up, stop living illusions I ...\n",
              "4                       Why won't somebody feel this\n",
              "5         This is my wish that we all feel connected\n",
              "6  This is my wish that nobodies neglected Be lik...\n",
              "7                          Be like a rocket Take off\n",
              "8                            Just fly, away (ay, ay)\n",
              "9                        To find your space Take off"
            ]
          },
          "metadata": {},
          "execution_count": 5
        }
      ]
    },
    {
      "cell_type": "code",
      "metadata": {
        "id": "LEpKubK9XzXN",
        "colab": {
          "base_uri": "https://localhost:8080/"
        },
        "outputId": "e2c059a6-73af-410b-8d2b-ddc72d744393"
      },
      "source": [
        "print(\"Cantidad de documentos:\", df.shape[0])"
      ],
      "execution_count": 6,
      "outputs": [
        {
          "output_type": "stream",
          "name": "stdout",
          "text": [
            "Cantidad de documentos: 3848\n"
          ]
        }
      ]
    },
    {
      "cell_type": "markdown",
      "metadata": {
        "id": "ab94qaFlrA1G"
      },
      "source": [
        "### 1 - Preprocesamiento"
      ]
    },
    {
      "cell_type": "markdown",
      "metadata": {
        "id": "qPJ0R7FByVPi"
      },
      "source": [
        "**Tokenización**"
      ]
    },
    {
      "cell_type": "code",
      "metadata": {
        "id": "rIsmMWmjrDHd"
      },
      "source": [
        "sentence_tokens = []\n",
        "# Recorrer todas las filas y transformar las oraciones\n",
        "# en una secuencia de palabras (esto podría realizarse con NLTK o spaCy también)\n",
        "for _, row in df[:None].iterrows():\n",
        "    sentence_tokens.append(text_to_word_sequence(row[0]))"
      ],
      "execution_count": 7,
      "outputs": []
    },
    {
      "cell_type": "code",
      "metadata": {
        "id": "CHepi_DGrbhq",
        "colab": {
          "base_uri": "https://localhost:8080/"
        },
        "outputId": "249740fb-2d50-429f-f63e-3d8cfae0a06c"
      },
      "source": [
        "# Demos un vistazo\n",
        "sentence_tokens[:3]"
      ],
      "execution_count": 8,
      "outputs": [
        {
          "output_type": "execute_result",
          "data": {
            "text/plain": [
              "[['they', 'say', 'get', 'ready', 'for', 'the', 'revolution'],\n",
              " ['i', 'think', \"it's\", 'time', 'we', 'find', 'some', 'sorta', 'solution'],\n",
              " [\"somebody's\", 'caught', 'up', 'in', 'the', 'endless', 'pollution']]"
            ]
          },
          "metadata": {},
          "execution_count": 8
        }
      ]
    },
    {
      "cell_type": "markdown",
      "metadata": {
        "id": "BaXV6nlHr5Aa"
      },
      "source": [
        "### 2 - Crear los vectores (word2vec)"
      ]
    },
    {
      "cell_type": "code",
      "metadata": {
        "id": "OSb0v7h8r7hK"
      },
      "source": [
        "# Durante el entrenamiento gensim por defecto no informa el \"loss\" en cada época\n",
        "# Sobracargamos el callback para poder tener esta información\n",
        "class callback(CallbackAny2Vec):\n",
        "    \"\"\"\n",
        "    Callback to print loss after each epoch\n",
        "    \"\"\"\n",
        "    def __init__(self):\n",
        "        self.epoch = 0\n",
        "\n",
        "    def on_epoch_end(self, model):\n",
        "        loss = model.get_latest_training_loss()\n",
        "        if self.epoch == 0:\n",
        "            print('Loss after epoch {}: {}'.format(self.epoch, loss))\n",
        "        else:\n",
        "            print('Loss after epoch {}: {}'.format(self.epoch, loss- self.loss_previous_step))\n",
        "        self.epoch += 1\n",
        "        self.loss_previous_step = loss"
      ],
      "execution_count": 9,
      "outputs": []
    },
    {
      "cell_type": "markdown",
      "metadata": {
        "id": "QNEtiFh2yhvx"
      },
      "source": [
        "**Creamos el modelo generador de vectoeres**\n"
      ]
    },
    {
      "cell_type": "code",
      "metadata": {
        "id": "i0wnDdv9sJ47"
      },
      "source": [
        "# En este caso utilizaremos la estructura modelo Skipgram\n",
        "w2v_model = Word2Vec(min_count=3,    # frecuencia mínima de palabra para incluirla en el vocabulario\n",
        "                     window=2,       # cant de palabras antes y desp de la predicha\n",
        "                     size=400,       # dimensionalidad de los vectores \n",
        "                     negative=20,    # cantidad de negative samples... 0 es no se usa\n",
        "                     workers=1,      # si tienen más cores pueden cambiar este valor\n",
        "                     sg=1)           # modelo 0:CBOW  1:skipgram"
      ],
      "execution_count": 10,
      "outputs": []
    },
    {
      "cell_type": "code",
      "metadata": {
        "id": "5lTt8wErsf17"
      },
      "source": [
        "# Buildear el vocabularui con los tokens\n",
        "w2v_model.build_vocab(sentence_tokens)"
      ],
      "execution_count": 11,
      "outputs": []
    },
    {
      "cell_type": "code",
      "metadata": {
        "id": "TNc9qt4os5AT",
        "colab": {
          "base_uri": "https://localhost:8080/"
        },
        "outputId": "d49ea481-ba9c-4249-b0bd-9d2fed08f37b"
      },
      "source": [
        "# Cantidad de filas/docs encontradas en el corpus\n",
        "print(\"Cantidad de docs en el corpus:\", w2v_model.corpus_count)\n",
        "# Cantidad de words encontradas en el corpus\n",
        "print(\"Cantidad de words distintas en el corpus:\", len(w2v_model.wv.vocab))"
      ],
      "execution_count": 12,
      "outputs": [
        {
          "output_type": "stream",
          "name": "stdout",
          "text": [
            "Cantidad de docs en el corpus: 3848\n",
            "Cantidad de words distintas en el corpus: 876\n"
          ]
        }
      ]
    },
    {
      "cell_type": "markdown",
      "metadata": {
        "id": "fC9mZ8DPk-UC"
      },
      "source": [
        "### 3 - Entrenar el modelo generador"
      ]
    },
    {
      "cell_type": "code",
      "metadata": {
        "id": "QSp-x0PAsq56",
        "colab": {
          "base_uri": "https://localhost:8080/"
        },
        "outputId": "445eb7c0-cb5c-4d37-c0c4-e7d154fce8b5"
      },
      "source": [
        "# Entrenamos el modelo generador de vectores\n",
        "# Utilizamos nuestro callback\n",
        "w2v_model.train(sentence_tokens,\n",
        "                 total_examples=w2v_model.corpus_count,\n",
        "                 epochs=200,\n",
        "                 compute_loss = True,\n",
        "                 callbacks=[callback()]\n",
        "                 )"
      ],
      "execution_count": 13,
      "outputs": [
        {
          "output_type": "stream",
          "name": "stdout",
          "text": [
            "Loss after epoch 0: 229064.71875\n",
            "Loss after epoch 1: 143827.03125\n",
            "Loss after epoch 2: 141329.65625\n",
            "Loss after epoch 3: 141808.96875\n",
            "Loss after epoch 4: 139713.3125\n",
            "Loss after epoch 5: 134291.6875\n",
            "Loss after epoch 6: 127147.5\n",
            "Loss after epoch 7: 111784.375\n",
            "Loss after epoch 8: 109088.0\n",
            "Loss after epoch 9: 103402.625\n",
            "Loss after epoch 10: 99643.375\n",
            "Loss after epoch 11: 96536.625\n",
            "Loss after epoch 12: 93284.125\n",
            "Loss after epoch 13: 91902.5\n",
            "Loss after epoch 14: 89015.5\n",
            "Loss after epoch 15: 85550.625\n",
            "Loss after epoch 16: 86388.75\n",
            "Loss after epoch 17: 83217.125\n",
            "Loss after epoch 18: 77814.0\n",
            "Loss after epoch 19: 76658.75\n",
            "Loss after epoch 20: 75684.75\n",
            "Loss after epoch 21: 74920.5\n",
            "Loss after epoch 22: 74307.25\n",
            "Loss after epoch 23: 73994.25\n",
            "Loss after epoch 24: 73362.0\n",
            "Loss after epoch 25: 72535.0\n",
            "Loss after epoch 26: 72065.5\n",
            "Loss after epoch 27: 72415.5\n",
            "Loss after epoch 28: 72016.0\n",
            "Loss after epoch 29: 72260.25\n",
            "Loss after epoch 30: 70878.25\n",
            "Loss after epoch 31: 71424.25\n",
            "Loss after epoch 32: 70788.0\n",
            "Loss after epoch 33: 70966.0\n",
            "Loss after epoch 34: 70052.0\n",
            "Loss after epoch 35: 70889.75\n",
            "Loss after epoch 36: 69921.5\n",
            "Loss after epoch 37: 70501.75\n",
            "Loss after epoch 38: 68995.0\n",
            "Loss after epoch 39: 69314.75\n",
            "Loss after epoch 40: 70820.25\n",
            "Loss after epoch 41: 69843.5\n",
            "Loss after epoch 42: 69627.25\n",
            "Loss after epoch 43: 69995.0\n",
            "Loss after epoch 44: 70334.5\n",
            "Loss after epoch 45: 68954.25\n",
            "Loss after epoch 46: 70472.75\n",
            "Loss after epoch 47: 64382.5\n",
            "Loss after epoch 48: 65147.5\n",
            "Loss after epoch 49: 65344.0\n",
            "Loss after epoch 50: 65005.5\n",
            "Loss after epoch 51: 64776.5\n",
            "Loss after epoch 52: 64537.5\n",
            "Loss after epoch 53: 65611.5\n",
            "Loss after epoch 54: 64829.5\n",
            "Loss after epoch 55: 65022.0\n",
            "Loss after epoch 56: 64897.0\n",
            "Loss after epoch 57: 64617.0\n",
            "Loss after epoch 58: 64897.5\n",
            "Loss after epoch 59: 65536.5\n",
            "Loss after epoch 60: 64803.0\n",
            "Loss after epoch 61: 64194.5\n",
            "Loss after epoch 62: 63442.0\n",
            "Loss after epoch 63: 64881.0\n",
            "Loss after epoch 64: 64500.5\n",
            "Loss after epoch 65: 64595.0\n",
            "Loss after epoch 66: 63684.5\n",
            "Loss after epoch 67: 64456.0\n",
            "Loss after epoch 68: 64692.5\n",
            "Loss after epoch 69: 64260.0\n",
            "Loss after epoch 70: 63921.5\n",
            "Loss after epoch 71: 65109.0\n",
            "Loss after epoch 72: 64246.0\n",
            "Loss after epoch 73: 64737.0\n",
            "Loss after epoch 74: 64373.5\n",
            "Loss after epoch 75: 64382.0\n",
            "Loss after epoch 76: 64701.5\n",
            "Loss after epoch 77: 63395.5\n",
            "Loss after epoch 78: 63309.5\n",
            "Loss after epoch 79: 63414.0\n",
            "Loss after epoch 80: 64416.0\n",
            "Loss after epoch 81: 64744.5\n",
            "Loss after epoch 82: 62930.5\n",
            "Loss after epoch 83: 64008.0\n",
            "Loss after epoch 84: 64238.0\n",
            "Loss after epoch 85: 64127.5\n",
            "Loss after epoch 86: 63826.0\n",
            "Loss after epoch 87: 63082.0\n",
            "Loss after epoch 88: 63834.0\n",
            "Loss after epoch 89: 64226.5\n",
            "Loss after epoch 90: 64353.0\n",
            "Loss after epoch 91: 63846.0\n",
            "Loss after epoch 92: 63084.5\n",
            "Loss after epoch 93: 63893.5\n",
            "Loss after epoch 94: 63025.5\n",
            "Loss after epoch 95: 64365.0\n",
            "Loss after epoch 96: 63433.0\n",
            "Loss after epoch 97: 63054.0\n",
            "Loss after epoch 98: 63676.0\n",
            "Loss after epoch 99: 62722.0\n",
            "Loss after epoch 100: 63007.0\n",
            "Loss after epoch 101: 63925.0\n",
            "Loss after epoch 102: 63296.0\n",
            "Loss after epoch 103: 63614.5\n",
            "Loss after epoch 104: 64495.0\n",
            "Loss after epoch 105: 63288.0\n",
            "Loss after epoch 106: 63733.0\n",
            "Loss after epoch 107: 63263.0\n",
            "Loss after epoch 108: 63471.0\n",
            "Loss after epoch 109: 64305.5\n",
            "Loss after epoch 110: 62891.0\n",
            "Loss after epoch 111: 63326.0\n",
            "Loss after epoch 112: 60356.5\n",
            "Loss after epoch 113: 57604.0\n",
            "Loss after epoch 114: 57743.0\n",
            "Loss after epoch 115: 58368.0\n",
            "Loss after epoch 116: 58235.0\n",
            "Loss after epoch 117: 57862.0\n",
            "Loss after epoch 118: 57352.0\n",
            "Loss after epoch 119: 58123.0\n",
            "Loss after epoch 120: 56729.0\n",
            "Loss after epoch 121: 58577.0\n",
            "Loss after epoch 122: 57161.0\n",
            "Loss after epoch 123: 56998.0\n",
            "Loss after epoch 124: 57855.0\n",
            "Loss after epoch 125: 57096.0\n",
            "Loss after epoch 126: 57189.0\n",
            "Loss after epoch 127: 56951.0\n",
            "Loss after epoch 128: 57139.0\n",
            "Loss after epoch 129: 56829.0\n",
            "Loss after epoch 130: 56405.0\n",
            "Loss after epoch 131: 57903.0\n",
            "Loss after epoch 132: 57104.0\n",
            "Loss after epoch 133: 57697.0\n",
            "Loss after epoch 134: 57663.0\n",
            "Loss after epoch 135: 57385.0\n",
            "Loss after epoch 136: 56591.0\n",
            "Loss after epoch 137: 56596.0\n",
            "Loss after epoch 138: 57535.0\n",
            "Loss after epoch 139: 56417.0\n",
            "Loss after epoch 140: 56604.0\n",
            "Loss after epoch 141: 56467.0\n",
            "Loss after epoch 142: 57317.0\n",
            "Loss after epoch 143: 56248.0\n",
            "Loss after epoch 144: 57495.0\n",
            "Loss after epoch 145: 57001.0\n",
            "Loss after epoch 146: 57129.0\n",
            "Loss after epoch 147: 56618.0\n",
            "Loss after epoch 148: 56535.0\n",
            "Loss after epoch 149: 56682.0\n",
            "Loss after epoch 150: 57119.0\n",
            "Loss after epoch 151: 56681.0\n",
            "Loss after epoch 152: 56207.0\n",
            "Loss after epoch 153: 56773.0\n",
            "Loss after epoch 154: 56722.0\n",
            "Loss after epoch 155: 55965.0\n",
            "Loss after epoch 156: 55772.0\n",
            "Loss after epoch 157: 56755.0\n",
            "Loss after epoch 158: 55610.0\n",
            "Loss after epoch 159: 56224.0\n",
            "Loss after epoch 160: 56703.0\n",
            "Loss after epoch 161: 56346.0\n",
            "Loss after epoch 162: 56031.0\n",
            "Loss after epoch 163: 56636.0\n",
            "Loss after epoch 164: 56270.0\n",
            "Loss after epoch 165: 56332.0\n",
            "Loss after epoch 166: 56047.0\n",
            "Loss after epoch 167: 56268.0\n",
            "Loss after epoch 168: 55583.0\n",
            "Loss after epoch 169: 56290.0\n",
            "Loss after epoch 170: 56458.0\n",
            "Loss after epoch 171: 56711.0\n",
            "Loss after epoch 172: 56360.0\n",
            "Loss after epoch 173: 55901.0\n",
            "Loss after epoch 174: 56083.0\n",
            "Loss after epoch 175: 56178.0\n",
            "Loss after epoch 176: 56168.0\n",
            "Loss after epoch 177: 56226.0\n",
            "Loss after epoch 178: 55054.0\n",
            "Loss after epoch 179: 55649.0\n",
            "Loss after epoch 180: 56288.0\n",
            "Loss after epoch 181: 55661.0\n",
            "Loss after epoch 182: 55827.0\n",
            "Loss after epoch 183: 55059.0\n",
            "Loss after epoch 184: 56299.0\n",
            "Loss after epoch 185: 55587.0\n",
            "Loss after epoch 186: 55721.0\n",
            "Loss after epoch 187: 55851.0\n",
            "Loss after epoch 188: 55375.0\n",
            "Loss after epoch 189: 55456.0\n",
            "Loss after epoch 190: 55754.0\n",
            "Loss after epoch 191: 54939.0\n",
            "Loss after epoch 192: 55837.0\n",
            "Loss after epoch 193: 55275.0\n",
            "Loss after epoch 194: 55570.0\n",
            "Loss after epoch 195: 55219.0\n",
            "Loss after epoch 196: 54768.0\n",
            "Loss after epoch 197: 54932.0\n",
            "Loss after epoch 198: 55111.0\n",
            "Loss after epoch 199: 55027.0\n"
          ]
        },
        {
          "output_type": "execute_result",
          "data": {
            "text/plain": [
              "(3422426, 5614200)"
            ]
          },
          "metadata": {},
          "execution_count": 13
        }
      ]
    },
    {
      "cell_type": "markdown",
      "metadata": {
        "id": "ddT9NVuNlCAe"
      },
      "source": [
        "### 4 - Ensayar"
      ]
    },
    {
      "cell_type": "code",
      "metadata": {
        "id": "6cHN9xGLuPEm",
        "colab": {
          "base_uri": "https://localhost:8080/"
        },
        "outputId": "7a969236-c794-4c21-de04-c507b3f29083"
      },
      "source": [
        "# Palabras que MÁS se relacionan con...:\n",
        "w2v_model.wv.most_similar(positive=[\"heart\"], topn=10)"
      ],
      "execution_count": 14,
      "outputs": [
        {
          "output_type": "execute_result",
          "data": {
            "text/plain": [
              "[('loud', 0.6058056354522705),\n",
              " ('beats', 0.6007773876190186),\n",
              " ('played', 0.5649458169937134),\n",
              " ('broken', 0.5470932722091675),\n",
              " ('supreme', 0.5341468453407288),\n",
              " ('within', 0.5201370716094971),\n",
              " ('lonely', 0.4943247437477112),\n",
              " ('pleasure', 0.4828777313232422),\n",
              " (\"heart's\", 0.4815444350242615),\n",
              " ('cries', 0.4761291444301605)]"
            ]
          },
          "metadata": {},
          "execution_count": 14
        }
      ]
    },
    {
      "cell_type": "code",
      "metadata": {
        "colab": {
          "base_uri": "https://localhost:8080/"
        },
        "id": "FydDWnXk-iCw",
        "outputId": "652decce-9f3b-49fb-9f97-c665abe00ec4"
      },
      "source": [
        "# Palabras que MENOS se relacionan con...:\n",
        "w2v_model.wv.most_similar(negative=[\"again\"], topn=10)"
      ],
      "execution_count": 24,
      "outputs": [
        {
          "output_type": "execute_result",
          "data": {
            "text/plain": [
              "[('the', 0.008150998502969742),\n",
              " ('ahhhh', -0.03777128458023071),\n",
              " ('babe', -0.04839927703142166),\n",
              " ('should', -0.05040828883647919),\n",
              " ('gonna', -0.05301067233085632),\n",
              " ('physical', -0.05491059273481369),\n",
              " ('floor', -0.06445908546447754),\n",
              " ('change', -0.0656035915017128),\n",
              " ('down', -0.06786665320396423),\n",
              " ('taste', -0.07432958483695984)]"
            ]
          },
          "metadata": {},
          "execution_count": 24
        }
      ]
    },
    {
      "cell_type": "code",
      "metadata": {
        "id": "DT4Rvno2mD65",
        "colab": {
          "base_uri": "https://localhost:8080/"
        },
        "outputId": "c2be03b8-fd6c-41b0-a1f7-db3e91790f7e"
      },
      "source": [
        "# Palabras que MÁS se relacionan con...:\n",
        "w2v_model.wv.most_similar(positive=[\"love\"], topn=10)"
      ],
      "execution_count": 22,
      "outputs": [
        {
          "output_type": "execute_result",
          "data": {
            "text/plain": [
              "[('haha', 0.5697326064109802),\n",
              " ('criminal', 0.47140106558799744),\n",
              " ('wings', 0.4637596607208252),\n",
              " ('owh', 0.44797828793525696),\n",
              " ('surprise', 0.442110151052475),\n",
              " ('ohhhh', 0.42615771293640137),\n",
              " ('wo', 0.41629523038864136),\n",
              " ('pink', 0.41216176748275757),\n",
              " ('use', 0.41123485565185547),\n",
              " ('hate', 0.3970568776130676),\n",
              " ('being', 0.394145667552948),\n",
              " ('curiosity', 0.39407360553741455),\n",
              " ('begging', 0.38764744997024536),\n",
              " ('simply', 0.3855835199356079),\n",
              " ('town', 0.3838420510292053)]"
            ]
          },
          "metadata": {},
          "execution_count": 22
        }
      ]
    },
    {
      "cell_type": "code",
      "metadata": {
        "id": "XPLDPgzBmQXt",
        "colab": {
          "base_uri": "https://localhost:8080/"
        },
        "outputId": "2545032e-aa5a-4283-f080-1ed813c8b5a7"
      },
      "source": [
        "# Palabras que MÁS se relacionan con...:\n",
        "w2v_model.wv.most_similar(positive=[\"happy\"], topn=5)"
      ],
      "execution_count": 17,
      "outputs": [
        {
          "output_type": "execute_result",
          "data": {
            "text/plain": [
              "[('born', 0.6264002323150635),\n",
              " ('dreaming', 0.5275756120681763),\n",
              " ('tryna', 0.4986525774002075),\n",
              " ('remember', 0.4666686952114105),\n",
              " ('wo', 0.4631897807121277)]"
            ]
          },
          "metadata": {},
          "execution_count": 17
        }
      ]
    },
    {
      "cell_type": "markdown",
      "metadata": {
        "id": "_g8UVWe6lFmh"
      },
      "source": [
        "### 5 - Visualizar agrupación de vectores"
      ]
    },
    {
      "cell_type": "code",
      "metadata": {
        "id": "pDxEVXAivjr9"
      },
      "source": [
        "def reduce_dimensions(model):\n",
        "    num_dimensions = 2  \n",
        "\n",
        "    vectors = np.asarray(model.wv.vectors)\n",
        "    labels = np.asarray(model.wv.index2word)  \n",
        "\n",
        "    tsne = TSNE(n_components=num_dimensions, random_state=0)\n",
        "    vectors = tsne.fit_transform(vectors)\n",
        "\n",
        "    x_vals = [v[0] for v in vectors]\n",
        "    y_vals = [v[1] for v in vectors]\n",
        "    return x_vals, y_vals, labels"
      ],
      "execution_count": 18,
      "outputs": []
    },
    {
      "cell_type": "code",
      "metadata": {
        "id": "NCCXtDpcugmd",
        "colab": {
          "base_uri": "https://localhost:8080/",
          "height": 542
        },
        "outputId": "314d65ce-55f3-4d56-eb30-de77cd2e8b7f"
      },
      "source": [
        "# Graficar los embedddings en 2D\n",
        "import plotly.graph_objects as go\n",
        "import plotly.express as px\n",
        "\n",
        "x_vals, y_vals, labels = reduce_dimensions(w2v_model)\n",
        "\n",
        "MAX_WORDS=200\n",
        "fig = px.scatter(x=x_vals[:MAX_WORDS], y=y_vals[:MAX_WORDS], text=labels[:MAX_WORDS])\n",
        "fig.show(renderer=\"colab\") # esto para plotly en colab"
      ],
      "execution_count": 19,
      "outputs": [
        {
          "output_type": "display_data",
          "data": {
            "text/html": [
              "<html>\n",
              "<head><meta charset=\"utf-8\" /></head>\n",
              "<body>\n",
              "    <div>\n",
              "            <script src=\"https://cdnjs.cloudflare.com/ajax/libs/mathjax/2.7.5/MathJax.js?config=TeX-AMS-MML_SVG\"></script><script type=\"text/javascript\">if (window.MathJax) {MathJax.Hub.Config({SVG: {font: \"STIX-Web\"}});}</script>\n",
              "                <script type=\"text/javascript\">window.PlotlyConfig = {MathJaxConfig: 'local'};</script>\n",
              "        <script src=\"https://cdn.plot.ly/plotly-latest.min.js\"></script>    \n",
              "            <div id=\"78d942e3-2c06-4dae-a968-a79e4d57cf5f\" class=\"plotly-graph-div\" style=\"height:525px; width:100%;\"></div>\n",
              "            <script type=\"text/javascript\">\n",
              "                \n",
              "                    window.PLOTLYENV=window.PLOTLYENV || {};\n",
              "                    \n",
              "                if (document.getElementById(\"78d942e3-2c06-4dae-a968-a79e4d57cf5f\")) {\n",
              "                    Plotly.newPlot(\n",
              "                        '78d942e3-2c06-4dae-a968-a79e4d57cf5f',\n",
              "                        [{\"hoverlabel\": {\"namelength\": 0}, \"hovertemplate\": \"x=%{x}<br>y=%{y}<br>text=%{text}\", \"legendgroup\": \"\", \"marker\": {\"color\": \"#636efa\", \"symbol\": \"circle\"}, \"mode\": \"markers+text\", \"name\": \"\", \"showlegend\": false, \"text\": [\"you\", \"i\", \"me\", \"the\", \"it\", \"my\", \"and\", \"a\", \"to\", \"oh\", \"baby\", \"i'm\", \"on\", \"in\", \"get\", \"all\", \"just\", \"that\", \"your\", \"like\", \"so\", \"be\", \"don't\", \"know\", \"of\", \"want\", \"what\", \"we\", \"yeah\", \"but\", \"with\", \"is\", \"do\", \"gimme\", \"more\", \"you're\", \"can\", \"up\", \"not\", \"see\", \"now\", \"love\", \"la\", \"got\", \"let\", \"out\", \"go\", \"wanna\", \"it's\", \"when\", \"take\", \"work\", \"this\", \"if\", \"one\", \"make\", \"time\", \"come\", \"girl\", \"are\", \"for\", \"from\", \"need\", \"will\", \"can't\", \"here\", \"down\", \"tell\", \"ooh\", \"feel\", \"dance\", \"no\", \"they\", \"tonight\", \"gonna\", \"bitch\", \"at\", \"way\", \"was\", \"have\", \"alone\", \"'cause\", \"radar\", \"off\", \"ya\", \"heart\", \"crazy\", \"bad\", \"boy\", \"give\", \"keep\", \"look\", \"how\", \"believe\", \"better\", \"world\", \"why\", \"night\", \"people\", \"say\", \"really\", \"only\", \"think\", \"party\", \"mind\", \"little\", \"outrageous\", \"about\", \"show\", \"that's\", \"there\", \"under\", \"eyes\", \"lose\", \"there's\", \"womanizer\", \"right\", \"still\", \"gotta\", \"turn\", \"ah\", \"hold\", \"us\", \"boys\", \"where\", \"never\", \"would\", \"live\", \"said\", \"wo\", \"find\", \"away\", \"floor\", \"too\", \"bring\", \"rock\", \"britney\", \"try\", \"hot\", \"ain't\", \"she\", \"let's\", \"we're\", \"i've\", \"as\", \"wee\", \"fire\", \"over\", \"could\", \"hey\", \"hit\", \"body\", \"cause\", \"life\", \"been\", \"whoa\", \"around\", \"nothing\", \"oops\", \"her\", \"girls\", \"our\", \"call\", \"am\", \"even\", \"selfish\", \"won't\", \"wish\", \"uh\", \"good\", \"sometimes\", \"cry\", \"control\", \"break\", \"breathe\", \"move\", \"alright\", \"beautiful\", \"piece\", \"through\", \"something\", \"higher\", \"he\", \"roll\", \"touch\", \"some\", \"hear\", \"long\", \"must\", \"loneliness\", \"without\", \"she's\", \"put\", \"feels\", \"big\", \"pretty\", \"own\", \"were\", \"naked\", \"drop\"], \"type\": \"scatter\", \"x\": [4.060812950134277, 3.5827736854553223, -0.26454293727874756, -12.8078031539917, 4.534937858581543, -5.0590500831604, 5.798504829406738, 8.932368278503418, 4.836891174316406, -14.879936218261719, 5.313352584838867, -21.50775718688965, 14.847765922546387, 16.463319778442383, -1.4420368671417236, 3.523437261581421, 2.5429275035858154, 4.709136009216309, -5.049877643585205, 8.10977840423584, 4.800656795501709, 17.092514038085938, 2.546464681625366, 2.9643514156341553, -13.486761093139648, 13.39487361907959, 2.2285125255584717, 11.486273765563965, 7.6136345863342285, -0.6050216555595398, 13.495757102966309, -19.01852798461914, 2.004340648651123, -3.0450563430786133, -2.6241347789764404, 17.21389389038086, 8.651361465454102, -2.04392147064209, 7.097310543060303, 2.6246337890625, -16.911264419555664, -4.247638702392578, 7.512145519256592, 23.979093551635742, 1.3978992700576782, -15.436286926269531, 4.676787376403809, 10.304439544677734, 5.390615940093994, 16.167510986328125, 7.9879326820373535, 7.756577968597412, -5.506878852844238, 5.432397365570068, 17.359756469726562, 13.651878356933594, 0.3799179494380951, 15.047453880310059, 25.84693717956543, 2.09199857711792, -11.723838806152344, -17.698734283447266, -16.5842342376709, -10.88545036315918, 2.693582534790039, -4.615636348724365, 18.545825958251953, 0.5155827403068542, 8.013447761535645, 1.104795217514038, -2.6947672367095947, 11.567346572875977, -1.4036883115768433, -6.025821685791016, 6.173784255981445, 8.929255485534668, 25.03644371032715, 8.840184211730957, 13.507819175720215, 3.8861310482025146, 12.753397941589355, 2.604632616043091, -23.758913040161133, -16.93633460998535, 5.53051233291626, 14.48343563079834, 9.755431175231934, 22.434066772460938, 15.725249290466309, -2.0155177116394043, -14.342198371887207, 9.511619567871094, 2.0856149196624756, -2.2385895252227783, 8.436558723449707, 6.861990928649902, 3.3967549800872803, 21.148380279541016, 5.304097652435303, -3.9389853477478027, 3.1734282970428467, 16.166629791259766, 14.430031776428223, 10.61490249633789, -10.165822982788086, 1.7389507293701172, -9.475937843322754, 15.12057113647461, 12.525900840759277, 8.959172248840332, 5.6554646492004395, -20.50459861755371, -7.830128192901611, 1.3634713888168335, 19.513446807861328, -2.207247495651245, 20.707326889038086, -25.45343589782715, -9.319815635681152, 11.473065376281738, 28.783069610595703, 11.258065223693848, 12.82745361328125, -1.167455792427063, -0.1010861024260521, 7.74583101272583, 7.390324115753174, 10.3283052444458, 4.281418323516846, 3.3662219047546387, -0.24823397397994995, -9.081782341003418, 17.673309326171875, 2.8079466819763184, -9.125727653503418, 6.883585453033447, -12.105369567871094, -11.02514362335205, 10.167057991027832, 14.346732139587402, 4.687652587890625, 19.859071731567383, 15.783645629882812, -15.124368667602539, -2.7587242126464844, -14.379108428955078, 12.81527042388916, -5.866461753845215, -3.7159111499786377, 3.9354753494262695, 19.218862533569336, 9.303346633911133, 20.944005966186523, -25.87975311279297, 5.9806294441223145, -7.437443256378174, 13.288131713867188, 18.768644332885742, 3.412322521209717, 19.070558547973633, 24.30919647216797, -2.686436176300049, 23.43535614013672, 23.31362533569336, 6.435303688049316, 3.7067530155181885, 15.566804885864258, -2.205535411834717, -12.614317893981934, 19.96591567993164, 0.5175774097442627, 16.736671447753906, 0.20448167622089386, 28.9267578125, -6.289984703063965, 5.553850173950195, 12.746354103088379, 18.772417068481445, 7.121018886566162, -9.128681182861328, 14.448110580444336, -13.158153533935547, 5.089341163635254, 12.344022750854492, -12.985503196716309, -18.211042404174805, 8.873250007629395, -2.912073850631714, -24.573699951171875, -6.034383773803711, -27.801319122314453, 0.8277539610862732, 8.3914155960083, 5.3550028800964355, 0.50600266456604, 23.125051498413086, -0.7290825843811035, -6.526963233947754, 13.018523216247559, -25.62010383605957], \"xaxis\": \"x\", \"y\": [6.827747344970703, 6.46873140335083, 16.78825569152832, -6.016003131866455, 5.673221111297607, -15.374855041503906, 7.0086469650268555, -13.546180725097656, 6.402539253234863, 9.662090301513672, 8.521842002868652, 6.078311443328857, 13.850566864013672, -23.05982208251953, -0.05552241578698158, 7.769209861755371, 6.281526565551758, 7.6144843101501465, 6.428468704223633, -12.027852058410645, 17.8916015625, 16.078550338745117, 7.293718338012695, 5.372203826904297, 0.6638007760047913, -16.14597511291504, 15.470027923583984, 6.889644622802734, 3.2447774410247803, -1.2076302766799927, 9.854299545288086, 18.865564346313477, 17.552490234375, -12.115967750549316, -12.701985359191895, 3.0179054737091064, 11.848115921020508, -1.6935944557189941, 1.7756556272506714, 8.272415161132812, 20.943443298339844, 19.03122901916504, 18.423568725585938, -0.6930602192878723, 11.65031623840332, 14.561426162719727, 25.712440490722656, 18.15224838256836, -6.488137245178223, 18.015117645263672, 20.509008407592773, -19.315473556518555, -21.436796188354492, 16.28824234008789, -0.7665994167327881, -11.287766456604004, 3.2716963291168213, -10.815899848937988, 7.180639743804932, 14.131118774414062, -18.54463768005371, -5.056369781494141, 9.032963752746582, 13.645867347717285, 10.467716217041016, -5.1296281814575195, -19.715730667114258, 12.957121849060059, 17.583444595336914, 16.132747650146484, -0.37050390243530273, -7.116710662841797, -3.4466006755828857, -24.733495712280273, -2.9931466579437256, -20.01169204711914, 2.2193522453308105, 6.617250442504883, -4.63735294342041, 13.36542797088623, 25.6112003326416, 1.63251793384552, -1.3427187204360962, -17.543617248535156, -23.70281219482422, -1.5466649532318115, -2.9564366340637207, 8.573602676391602, 5.691442966461182, -10.866181373596191, 16.965856552124023, -11.203453063964844, 9.346362113952637, 23.8474063873291, -18.379497528076172, 9.473819732666016, 19.15003776550293, -6.100543022155762, 3.944979190826416, 14.375387191772461, 9.203424453735352, -2.1743993759155273, 16.14727020263672, -9.026342391967773, 8.491530418395996, -18.646787643432617, 1.1386090517044067, 10.45085620880127, 14.999246597290039, -4.579984664916992, -28.50257682800293, 2.4750144481658936, 25.88969612121582, 8.356439590454102, -3.8145174980163574, -16.478137969970703, 17.239749908447266, 11.920666694641113, 20.25058364868164, 8.928400039672852, 3.3435277938842773, -15.616312026977539, 22.629295349121094, 18.495849609375, 14.654842376708984, -3.1284799575805664, 26.124238967895508, 22.691226959228516, 9.105061531066895, 2.1708872318267822, 10.354399681091309, 5.956118106842041, -15.821892738342285, -5.32605504989624, -8.28251838684082, 13.026928901672363, 11.055315971374512, -11.469315528869629, -17.650039672851562, 4.206063747406006, -10.417673110961914, -12.10451889038086, 7.464126110076904, 6.721110820770264, 26.241973876953125, 12.117377281188965, -2.9532365798950195, -0.219956174492836, 10.222000122070312, 15.265871047973633, 7.853821754455566, -16.275535583496094, 12.68919849395752, -13.310262680053711, 19.56247329711914, -1.898991584777832, 1.2240924835205078, -6.147166728973389, 11.961328506469727, -7.882070064544678, 9.111876487731934, -22.47769546508789, -12.315044403076172, 11.802607536315918, 0.9615879654884338, -17.356586456298828, -14.655835151672363, -28.80546760559082, 14.209972381591797, 10.074373245239258, -0.11614208668470383, -8.148327827453613, 8.235682487487793, -8.005158424377441, 3.8564376831054688, 13.248239517211914, 7.566123008728027, 4.918830871582031, -17.13069725036621, 9.361165046691895, -5.894136905670166, 18.576208114624023, -15.238828659057617, 12.88033676147461, -22.071182250976562, -21.02151107788086, 14.864300727844238, 26.552541732788086, 9.507144927978516, -18.756710052490234, 7.997935771942139, -6.700418949127197, -27.16388702392578, -2.4671945571899414, -8.689820289611816, -16.910051345825195, -21.39418601989746, 17.24249267578125, -18.54817771911621, -7.126780986785889], \"yaxis\": \"y\"}],\n",
              "                        {\"legend\": {\"tracegroupgap\": 0}, \"margin\": {\"t\": 60}, \"template\": {\"data\": {\"bar\": [{\"error_x\": {\"color\": \"#2a3f5f\"}, \"error_y\": {\"color\": \"#2a3f5f\"}, \"marker\": {\"line\": {\"color\": \"#E5ECF6\", \"width\": 0.5}}, \"type\": \"bar\"}], \"barpolar\": [{\"marker\": {\"line\": {\"color\": \"#E5ECF6\", \"width\": 0.5}}, \"type\": \"barpolar\"}], \"carpet\": [{\"aaxis\": {\"endlinecolor\": \"#2a3f5f\", \"gridcolor\": \"white\", \"linecolor\": \"white\", \"minorgridcolor\": \"white\", \"startlinecolor\": \"#2a3f5f\"}, \"baxis\": {\"endlinecolor\": \"#2a3f5f\", \"gridcolor\": \"white\", \"linecolor\": \"white\", \"minorgridcolor\": \"white\", \"startlinecolor\": \"#2a3f5f\"}, \"type\": \"carpet\"}], \"choropleth\": [{\"colorbar\": {\"outlinewidth\": 0, \"ticks\": \"\"}, \"type\": \"choropleth\"}], \"contour\": [{\"colorbar\": {\"outlinewidth\": 0, \"ticks\": \"\"}, \"colorscale\": [[0.0, \"#0d0887\"], [0.1111111111111111, \"#46039f\"], [0.2222222222222222, \"#7201a8\"], [0.3333333333333333, \"#9c179e\"], [0.4444444444444444, \"#bd3786\"], [0.5555555555555556, \"#d8576b\"], [0.6666666666666666, \"#ed7953\"], [0.7777777777777778, \"#fb9f3a\"], [0.8888888888888888, \"#fdca26\"], [1.0, \"#f0f921\"]], \"type\": \"contour\"}], \"contourcarpet\": [{\"colorbar\": {\"outlinewidth\": 0, \"ticks\": \"\"}, \"type\": \"contourcarpet\"}], \"heatmap\": [{\"colorbar\": {\"outlinewidth\": 0, \"ticks\": \"\"}, \"colorscale\": [[0.0, \"#0d0887\"], [0.1111111111111111, \"#46039f\"], [0.2222222222222222, \"#7201a8\"], [0.3333333333333333, \"#9c179e\"], [0.4444444444444444, \"#bd3786\"], [0.5555555555555556, \"#d8576b\"], [0.6666666666666666, \"#ed7953\"], [0.7777777777777778, \"#fb9f3a\"], [0.8888888888888888, \"#fdca26\"], [1.0, \"#f0f921\"]], \"type\": \"heatmap\"}], \"heatmapgl\": [{\"colorbar\": {\"outlinewidth\": 0, \"ticks\": \"\"}, \"colorscale\": [[0.0, \"#0d0887\"], [0.1111111111111111, \"#46039f\"], [0.2222222222222222, \"#7201a8\"], [0.3333333333333333, \"#9c179e\"], [0.4444444444444444, \"#bd3786\"], [0.5555555555555556, \"#d8576b\"], [0.6666666666666666, \"#ed7953\"], [0.7777777777777778, \"#fb9f3a\"], [0.8888888888888888, \"#fdca26\"], [1.0, \"#f0f921\"]], \"type\": \"heatmapgl\"}], \"histogram\": [{\"marker\": {\"colorbar\": {\"outlinewidth\": 0, \"ticks\": \"\"}}, \"type\": \"histogram\"}], \"histogram2d\": [{\"colorbar\": {\"outlinewidth\": 0, \"ticks\": \"\"}, \"colorscale\": [[0.0, \"#0d0887\"], [0.1111111111111111, \"#46039f\"], [0.2222222222222222, \"#7201a8\"], [0.3333333333333333, \"#9c179e\"], [0.4444444444444444, \"#bd3786\"], [0.5555555555555556, \"#d8576b\"], [0.6666666666666666, \"#ed7953\"], [0.7777777777777778, \"#fb9f3a\"], [0.8888888888888888, \"#fdca26\"], [1.0, \"#f0f921\"]], \"type\": \"histogram2d\"}], \"histogram2dcontour\": [{\"colorbar\": {\"outlinewidth\": 0, \"ticks\": \"\"}, \"colorscale\": [[0.0, \"#0d0887\"], [0.1111111111111111, \"#46039f\"], [0.2222222222222222, \"#7201a8\"], [0.3333333333333333, \"#9c179e\"], [0.4444444444444444, \"#bd3786\"], [0.5555555555555556, \"#d8576b\"], [0.6666666666666666, \"#ed7953\"], [0.7777777777777778, \"#fb9f3a\"], [0.8888888888888888, \"#fdca26\"], [1.0, \"#f0f921\"]], \"type\": \"histogram2dcontour\"}], \"mesh3d\": [{\"colorbar\": {\"outlinewidth\": 0, \"ticks\": \"\"}, \"type\": \"mesh3d\"}], \"parcoords\": [{\"line\": {\"colorbar\": {\"outlinewidth\": 0, \"ticks\": \"\"}}, \"type\": \"parcoords\"}], \"pie\": [{\"automargin\": true, \"type\": \"pie\"}], \"scatter\": [{\"marker\": {\"colorbar\": {\"outlinewidth\": 0, \"ticks\": \"\"}}, \"type\": \"scatter\"}], \"scatter3d\": [{\"line\": {\"colorbar\": {\"outlinewidth\": 0, \"ticks\": \"\"}}, \"marker\": {\"colorbar\": {\"outlinewidth\": 0, \"ticks\": \"\"}}, \"type\": \"scatter3d\"}], \"scattercarpet\": [{\"marker\": {\"colorbar\": {\"outlinewidth\": 0, \"ticks\": \"\"}}, \"type\": \"scattercarpet\"}], \"scattergeo\": [{\"marker\": {\"colorbar\": {\"outlinewidth\": 0, \"ticks\": \"\"}}, \"type\": \"scattergeo\"}], \"scattergl\": [{\"marker\": {\"colorbar\": {\"outlinewidth\": 0, \"ticks\": \"\"}}, \"type\": \"scattergl\"}], \"scattermapbox\": [{\"marker\": {\"colorbar\": {\"outlinewidth\": 0, \"ticks\": \"\"}}, \"type\": \"scattermapbox\"}], \"scatterpolar\": [{\"marker\": {\"colorbar\": {\"outlinewidth\": 0, \"ticks\": \"\"}}, \"type\": \"scatterpolar\"}], \"scatterpolargl\": [{\"marker\": {\"colorbar\": {\"outlinewidth\": 0, \"ticks\": \"\"}}, \"type\": \"scatterpolargl\"}], \"scatterternary\": [{\"marker\": {\"colorbar\": {\"outlinewidth\": 0, \"ticks\": \"\"}}, \"type\": \"scatterternary\"}], \"surface\": [{\"colorbar\": {\"outlinewidth\": 0, \"ticks\": \"\"}, \"colorscale\": [[0.0, \"#0d0887\"], [0.1111111111111111, \"#46039f\"], [0.2222222222222222, \"#7201a8\"], [0.3333333333333333, \"#9c179e\"], [0.4444444444444444, \"#bd3786\"], [0.5555555555555556, \"#d8576b\"], [0.6666666666666666, \"#ed7953\"], [0.7777777777777778, \"#fb9f3a\"], [0.8888888888888888, \"#fdca26\"], [1.0, \"#f0f921\"]], \"type\": \"surface\"}], \"table\": [{\"cells\": {\"fill\": {\"color\": \"#EBF0F8\"}, \"line\": {\"color\": \"white\"}}, \"header\": {\"fill\": {\"color\": \"#C8D4E3\"}, \"line\": {\"color\": \"white\"}}, \"type\": \"table\"}]}, \"layout\": {\"annotationdefaults\": {\"arrowcolor\": \"#2a3f5f\", \"arrowhead\": 0, \"arrowwidth\": 1}, \"coloraxis\": {\"colorbar\": {\"outlinewidth\": 0, \"ticks\": \"\"}}, \"colorscale\": {\"diverging\": [[0, \"#8e0152\"], [0.1, \"#c51b7d\"], [0.2, \"#de77ae\"], [0.3, \"#f1b6da\"], [0.4, \"#fde0ef\"], [0.5, \"#f7f7f7\"], [0.6, \"#e6f5d0\"], [0.7, \"#b8e186\"], [0.8, \"#7fbc41\"], [0.9, \"#4d9221\"], [1, \"#276419\"]], \"sequential\": [[0.0, \"#0d0887\"], [0.1111111111111111, \"#46039f\"], [0.2222222222222222, \"#7201a8\"], [0.3333333333333333, \"#9c179e\"], [0.4444444444444444, \"#bd3786\"], [0.5555555555555556, \"#d8576b\"], [0.6666666666666666, \"#ed7953\"], [0.7777777777777778, \"#fb9f3a\"], [0.8888888888888888, \"#fdca26\"], [1.0, \"#f0f921\"]], \"sequentialminus\": [[0.0, \"#0d0887\"], [0.1111111111111111, \"#46039f\"], [0.2222222222222222, \"#7201a8\"], [0.3333333333333333, \"#9c179e\"], [0.4444444444444444, \"#bd3786\"], [0.5555555555555556, \"#d8576b\"], [0.6666666666666666, \"#ed7953\"], [0.7777777777777778, \"#fb9f3a\"], [0.8888888888888888, \"#fdca26\"], [1.0, \"#f0f921\"]]}, \"colorway\": [\"#636efa\", \"#EF553B\", \"#00cc96\", \"#ab63fa\", \"#FFA15A\", \"#19d3f3\", \"#FF6692\", \"#B6E880\", \"#FF97FF\", \"#FECB52\"], \"font\": {\"color\": \"#2a3f5f\"}, \"geo\": {\"bgcolor\": \"white\", \"lakecolor\": \"white\", \"landcolor\": \"#E5ECF6\", \"showlakes\": true, \"showland\": true, \"subunitcolor\": \"white\"}, \"hoverlabel\": {\"align\": \"left\"}, \"hovermode\": \"closest\", \"mapbox\": {\"style\": \"light\"}, \"paper_bgcolor\": \"white\", \"plot_bgcolor\": \"#E5ECF6\", \"polar\": {\"angularaxis\": {\"gridcolor\": \"white\", \"linecolor\": \"white\", \"ticks\": \"\"}, \"bgcolor\": \"#E5ECF6\", \"radialaxis\": {\"gridcolor\": \"white\", \"linecolor\": \"white\", \"ticks\": \"\"}}, \"scene\": {\"xaxis\": {\"backgroundcolor\": \"#E5ECF6\", \"gridcolor\": \"white\", \"gridwidth\": 2, \"linecolor\": \"white\", \"showbackground\": true, \"ticks\": \"\", \"zerolinecolor\": \"white\"}, \"yaxis\": {\"backgroundcolor\": \"#E5ECF6\", \"gridcolor\": \"white\", \"gridwidth\": 2, \"linecolor\": \"white\", \"showbackground\": true, \"ticks\": \"\", \"zerolinecolor\": \"white\"}, \"zaxis\": {\"backgroundcolor\": \"#E5ECF6\", \"gridcolor\": \"white\", \"gridwidth\": 2, \"linecolor\": \"white\", \"showbackground\": true, \"ticks\": \"\", \"zerolinecolor\": \"white\"}}, \"shapedefaults\": {\"line\": {\"color\": \"#2a3f5f\"}}, \"ternary\": {\"aaxis\": {\"gridcolor\": \"white\", \"linecolor\": \"white\", \"ticks\": \"\"}, \"baxis\": {\"gridcolor\": \"white\", \"linecolor\": \"white\", \"ticks\": \"\"}, \"bgcolor\": \"#E5ECF6\", \"caxis\": {\"gridcolor\": \"white\", \"linecolor\": \"white\", \"ticks\": \"\"}}, \"title\": {\"x\": 0.05}, \"xaxis\": {\"automargin\": true, \"gridcolor\": \"white\", \"linecolor\": \"white\", \"ticks\": \"\", \"title\": {\"standoff\": 15}, \"zerolinecolor\": \"white\", \"zerolinewidth\": 2}, \"yaxis\": {\"automargin\": true, \"gridcolor\": \"white\", \"linecolor\": \"white\", \"ticks\": \"\", \"title\": {\"standoff\": 15}, \"zerolinecolor\": \"white\", \"zerolinewidth\": 2}}}, \"xaxis\": {\"anchor\": \"y\", \"domain\": [0.0, 1.0], \"title\": {\"text\": \"x\"}}, \"yaxis\": {\"anchor\": \"x\", \"domain\": [0.0, 1.0], \"title\": {\"text\": \"y\"}}},\n",
              "                        {\"responsive\": true}\n",
              "                    ).then(function(){\n",
              "                            \n",
              "var gd = document.getElementById('78d942e3-2c06-4dae-a968-a79e4d57cf5f');\n",
              "var x = new MutationObserver(function (mutations, observer) {{\n",
              "        var display = window.getComputedStyle(gd).display;\n",
              "        if (!display || display === 'none') {{\n",
              "            console.log([gd, 'removed!']);\n",
              "            Plotly.purge(gd);\n",
              "            observer.disconnect();\n",
              "        }}\n",
              "}});\n",
              "\n",
              "// Listen for the removal of the full notebook cells\n",
              "var notebookContainer = gd.closest('#notebook-container');\n",
              "if (notebookContainer) {{\n",
              "    x.observe(notebookContainer, {childList: true});\n",
              "}}\n",
              "\n",
              "// Listen for the clearing of the current output cell\n",
              "var outputEl = gd.closest('.output');\n",
              "if (outputEl) {{\n",
              "    x.observe(outputEl, {childList: true});\n",
              "}}\n",
              "\n",
              "                        })\n",
              "                };\n",
              "                \n",
              "            </script>\n",
              "        </div>\n",
              "</body>\n",
              "</html>"
            ]
          },
          "metadata": {}
        }
      ]
    },
    {
      "cell_type": "markdown",
      "metadata": {
        "id": "clxNTfhX7wZq"
      },
      "source": [
        "## Conclusiones"
      ]
    },
    {
      "cell_type": "markdown",
      "metadata": {
        "id": "Ccx8iQkn70A-"
      },
      "source": [
        "\n",
        "En la sección 4 de ensayar se pueden notar la similitud o cercanía entre algunas de las palabras en el espacio de embeddings.\n",
        "Por ejemplo la palabra **heart** tiene gran cercanía con **broken**, esto puuede deberse a la canción \"From the bottom of my broken heart\", tambien su similitud con **heart's**. Tambien de la canción \"Lucky\" se puede relacionar **lonely** y **cries** por la frase: Cries in her lonely heart.\n",
        "\n",
        "La palabra **again** se puede estar relacionando con **babe** por la canción I did it again en las frases: Oh baby, baby Oops, I did it again. Y tambien con **should** por: you shouldn't have Oops, I did it again to your heart\n",
        "\n",
        "La palabra **love** en la frase But mama I'm in love with a criminal se puede asociar con **criminal**\n",
        "\n",
        "De la palabra **happy** se puede justificar la similitud con **born* por la canción \"Born to make you happy\""
      ]
    },
    {
      "cell_type": "code",
      "metadata": {
        "id": "OHY6C9QdWjBx"
      },
      "source": [
        ""
      ],
      "execution_count": null,
      "outputs": []
    }
  ]
}