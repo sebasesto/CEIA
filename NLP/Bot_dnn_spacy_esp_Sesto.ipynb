{
  "nbformat": 4,
  "nbformat_minor": 0,
  "metadata": {
    "colab": {
      "name": "Bot_dnn_spacy_esp_Sesto.ipynb",
      "provenance": [],
      "collapsed_sections": [],
      "include_colab_link": true
    },
    "kernelspec": {
      "name": "python3",
      "display_name": "Python 3"
    },
    "language_info": {
      "name": "python"
    },
    "widgets": {
      "application/vnd.jupyter.widget-state+json": {
        "f738cfa8e9c5489a943733678ca0d6a1": {
          "model_module": "@jupyter-widgets/controls",
          "model_name": "HBoxModel",
          "model_module_version": "1.5.0",
          "state": {
            "_view_name": "HBoxView",
            "_dom_classes": [],
            "_model_name": "HBoxModel",
            "_view_module": "@jupyter-widgets/controls",
            "_model_module_version": "1.5.0",
            "_view_count": null,
            "_view_module_version": "1.5.0",
            "box_style": "",
            "layout": "IPY_MODEL_c5ca28e637634ce6a46d021e98da8e4a",
            "_model_module": "@jupyter-widgets/controls",
            "children": [
              "IPY_MODEL_4e953de5a90440819e5487dfbbd0313e",
              "IPY_MODEL_40d7e8604a0143f98f7d58ad5d49013c",
              "IPY_MODEL_906986f45bad4d11b8c6404f2457424f"
            ]
          }
        },
        "c5ca28e637634ce6a46d021e98da8e4a": {
          "model_module": "@jupyter-widgets/base",
          "model_name": "LayoutModel",
          "model_module_version": "1.2.0",
          "state": {
            "_view_name": "LayoutView",
            "grid_template_rows": null,
            "right": null,
            "justify_content": null,
            "_view_module": "@jupyter-widgets/base",
            "overflow": null,
            "_model_module_version": "1.2.0",
            "_view_count": null,
            "flex_flow": null,
            "width": null,
            "min_width": null,
            "border": null,
            "align_items": null,
            "bottom": null,
            "_model_module": "@jupyter-widgets/base",
            "top": null,
            "grid_column": null,
            "overflow_y": null,
            "overflow_x": null,
            "grid_auto_flow": null,
            "grid_area": null,
            "grid_template_columns": null,
            "flex": null,
            "_model_name": "LayoutModel",
            "justify_items": null,
            "grid_row": null,
            "max_height": null,
            "align_content": null,
            "visibility": null,
            "align_self": null,
            "height": null,
            "min_height": null,
            "padding": null,
            "grid_auto_rows": null,
            "grid_gap": null,
            "max_width": null,
            "order": null,
            "_view_module_version": "1.2.0",
            "grid_template_areas": null,
            "object_position": null,
            "object_fit": null,
            "grid_auto_columns": null,
            "margin": null,
            "display": null,
            "left": null
          }
        },
        "4e953de5a90440819e5487dfbbd0313e": {
          "model_module": "@jupyter-widgets/controls",
          "model_name": "HTMLModel",
          "model_module_version": "1.5.0",
          "state": {
            "_view_name": "HTMLView",
            "style": "IPY_MODEL_6b5ef6d7e20c4c51b2672cdfb79a63f3",
            "_dom_classes": [],
            "description": "",
            "_model_name": "HTMLModel",
            "placeholder": "​",
            "_view_module": "@jupyter-widgets/controls",
            "_model_module_version": "1.5.0",
            "value": "Downloading https://raw.githubusercontent.com/stanfordnlp/stanza-resources/main/resources_1.2.2.json: ",
            "_view_count": null,
            "_view_module_version": "1.5.0",
            "description_tooltip": null,
            "_model_module": "@jupyter-widgets/controls",
            "layout": "IPY_MODEL_b307f0640da24aba8497e98d1bebb03e"
          }
        },
        "40d7e8604a0143f98f7d58ad5d49013c": {
          "model_module": "@jupyter-widgets/controls",
          "model_name": "FloatProgressModel",
          "model_module_version": "1.5.0",
          "state": {
            "_view_name": "ProgressView",
            "style": "IPY_MODEL_ace23d2df6764277b79a2560d4c9dea1",
            "_dom_classes": [],
            "description": "",
            "_model_name": "FloatProgressModel",
            "bar_style": "success",
            "max": 24144,
            "_view_module": "@jupyter-widgets/controls",
            "_model_module_version": "1.5.0",
            "value": 24144,
            "_view_count": null,
            "_view_module_version": "1.5.0",
            "orientation": "horizontal",
            "min": 0,
            "description_tooltip": null,
            "_model_module": "@jupyter-widgets/controls",
            "layout": "IPY_MODEL_ec47d67175cd4669a21b52af100ed177"
          }
        },
        "906986f45bad4d11b8c6404f2457424f": {
          "model_module": "@jupyter-widgets/controls",
          "model_name": "HTMLModel",
          "model_module_version": "1.5.0",
          "state": {
            "_view_name": "HTMLView",
            "style": "IPY_MODEL_46a059afbe3349288a122aec2aad8920",
            "_dom_classes": [],
            "description": "",
            "_model_name": "HTMLModel",
            "placeholder": "​",
            "_view_module": "@jupyter-widgets/controls",
            "_model_module_version": "1.5.0",
            "value": " 140k/? [00:00&lt;00:00, 2.72MB/s]",
            "_view_count": null,
            "_view_module_version": "1.5.0",
            "description_tooltip": null,
            "_model_module": "@jupyter-widgets/controls",
            "layout": "IPY_MODEL_91c043b572cf4d3aafe956ba6448b333"
          }
        },
        "6b5ef6d7e20c4c51b2672cdfb79a63f3": {
          "model_module": "@jupyter-widgets/controls",
          "model_name": "DescriptionStyleModel",
          "model_module_version": "1.5.0",
          "state": {
            "_view_name": "StyleView",
            "_model_name": "DescriptionStyleModel",
            "description_width": "",
            "_view_module": "@jupyter-widgets/base",
            "_model_module_version": "1.5.0",
            "_view_count": null,
            "_view_module_version": "1.2.0",
            "_model_module": "@jupyter-widgets/controls"
          }
        },
        "b307f0640da24aba8497e98d1bebb03e": {
          "model_module": "@jupyter-widgets/base",
          "model_name": "LayoutModel",
          "model_module_version": "1.2.0",
          "state": {
            "_view_name": "LayoutView",
            "grid_template_rows": null,
            "right": null,
            "justify_content": null,
            "_view_module": "@jupyter-widgets/base",
            "overflow": null,
            "_model_module_version": "1.2.0",
            "_view_count": null,
            "flex_flow": null,
            "width": null,
            "min_width": null,
            "border": null,
            "align_items": null,
            "bottom": null,
            "_model_module": "@jupyter-widgets/base",
            "top": null,
            "grid_column": null,
            "overflow_y": null,
            "overflow_x": null,
            "grid_auto_flow": null,
            "grid_area": null,
            "grid_template_columns": null,
            "flex": null,
            "_model_name": "LayoutModel",
            "justify_items": null,
            "grid_row": null,
            "max_height": null,
            "align_content": null,
            "visibility": null,
            "align_self": null,
            "height": null,
            "min_height": null,
            "padding": null,
            "grid_auto_rows": null,
            "grid_gap": null,
            "max_width": null,
            "order": null,
            "_view_module_version": "1.2.0",
            "grid_template_areas": null,
            "object_position": null,
            "object_fit": null,
            "grid_auto_columns": null,
            "margin": null,
            "display": null,
            "left": null
          }
        },
        "ace23d2df6764277b79a2560d4c9dea1": {
          "model_module": "@jupyter-widgets/controls",
          "model_name": "ProgressStyleModel",
          "model_module_version": "1.5.0",
          "state": {
            "_view_name": "StyleView",
            "_model_name": "ProgressStyleModel",
            "description_width": "",
            "_view_module": "@jupyter-widgets/base",
            "_model_module_version": "1.5.0",
            "_view_count": null,
            "_view_module_version": "1.2.0",
            "bar_color": null,
            "_model_module": "@jupyter-widgets/controls"
          }
        },
        "ec47d67175cd4669a21b52af100ed177": {
          "model_module": "@jupyter-widgets/base",
          "model_name": "LayoutModel",
          "model_module_version": "1.2.0",
          "state": {
            "_view_name": "LayoutView",
            "grid_template_rows": null,
            "right": null,
            "justify_content": null,
            "_view_module": "@jupyter-widgets/base",
            "overflow": null,
            "_model_module_version": "1.2.0",
            "_view_count": null,
            "flex_flow": null,
            "width": null,
            "min_width": null,
            "border": null,
            "align_items": null,
            "bottom": null,
            "_model_module": "@jupyter-widgets/base",
            "top": null,
            "grid_column": null,
            "overflow_y": null,
            "overflow_x": null,
            "grid_auto_flow": null,
            "grid_area": null,
            "grid_template_columns": null,
            "flex": null,
            "_model_name": "LayoutModel",
            "justify_items": null,
            "grid_row": null,
            "max_height": null,
            "align_content": null,
            "visibility": null,
            "align_self": null,
            "height": null,
            "min_height": null,
            "padding": null,
            "grid_auto_rows": null,
            "grid_gap": null,
            "max_width": null,
            "order": null,
            "_view_module_version": "1.2.0",
            "grid_template_areas": null,
            "object_position": null,
            "object_fit": null,
            "grid_auto_columns": null,
            "margin": null,
            "display": null,
            "left": null
          }
        },
        "46a059afbe3349288a122aec2aad8920": {
          "model_module": "@jupyter-widgets/controls",
          "model_name": "DescriptionStyleModel",
          "model_module_version": "1.5.0",
          "state": {
            "_view_name": "StyleView",
            "_model_name": "DescriptionStyleModel",
            "description_width": "",
            "_view_module": "@jupyter-widgets/base",
            "_model_module_version": "1.5.0",
            "_view_count": null,
            "_view_module_version": "1.2.0",
            "_model_module": "@jupyter-widgets/controls"
          }
        },
        "91c043b572cf4d3aafe956ba6448b333": {
          "model_module": "@jupyter-widgets/base",
          "model_name": "LayoutModel",
          "model_module_version": "1.2.0",
          "state": {
            "_view_name": "LayoutView",
            "grid_template_rows": null,
            "right": null,
            "justify_content": null,
            "_view_module": "@jupyter-widgets/base",
            "overflow": null,
            "_model_module_version": "1.2.0",
            "_view_count": null,
            "flex_flow": null,
            "width": null,
            "min_width": null,
            "border": null,
            "align_items": null,
            "bottom": null,
            "_model_module": "@jupyter-widgets/base",
            "top": null,
            "grid_column": null,
            "overflow_y": null,
            "overflow_x": null,
            "grid_auto_flow": null,
            "grid_area": null,
            "grid_template_columns": null,
            "flex": null,
            "_model_name": "LayoutModel",
            "justify_items": null,
            "grid_row": null,
            "max_height": null,
            "align_content": null,
            "visibility": null,
            "align_self": null,
            "height": null,
            "min_height": null,
            "padding": null,
            "grid_auto_rows": null,
            "grid_gap": null,
            "max_width": null,
            "order": null,
            "_view_module_version": "1.2.0",
            "grid_template_areas": null,
            "object_position": null,
            "object_fit": null,
            "grid_auto_columns": null,
            "margin": null,
            "display": null,
            "left": null
          }
        }
      }
    }
  },
  "cells": [
    {
      "cell_type": "markdown",
      "metadata": {
        "id": "view-in-github",
        "colab_type": "text"
      },
      "source": [
        "<a href=\"https://colab.research.google.com/github/sebasesto/CEIA/blob/master/NLP/Bot_dnn_spacy_esp_Sesto.ipynb\" target=\"_parent\"><img src=\"https://colab.research.google.com/assets/colab-badge.svg\" alt=\"Open In Colab\"/></a>"
      ]
    },
    {
      "cell_type": "markdown",
      "metadata": {
        "id": "NV8wZ0MTKjv_"
      },
      "source": [
        "# Trabajo Práctico N°2\n",
        "## Procesamiento de lenguaje natural\n",
        "## Bot basado en reglas con DNN + Spacy"
      ]
    },
    {
      "cell_type": "markdown",
      "metadata": {
        "id": "oCVZakCzAjGN"
      },
      "source": [
        "### 1 - Instalar dependencias\n",
        "Para poder utilizar Spacy en castellano es necesario agregar la librería \"spacy-stanza\" para lematizar palabras en español."
      ]
    },
    {
      "cell_type": "code",
      "metadata": {
        "id": "Zd8NLa4gsSmT",
        "colab": {
          "base_uri": "https://localhost:8080/"
        },
        "outputId": "189c7c02-b15a-4935-84dc-b296c6dc3e23"
      },
      "source": [
        "# La última versión de spacy-stanza (>1.0) es compatible solo con spacy >=3.0\n",
        "# Nota: spacy 3.0 incorpora al pepiline nlp transformers\n",
        "!pip install -U spacy==3.1 --quiet\n",
        "!pip install -U spacy-stanza==1.0.0 --quiet"
      ],
      "execution_count": 3,
      "outputs": [
        {
          "output_type": "stream",
          "name": "stdout",
          "text": [
            "\u001b[K     |████████████████████████████████| 6.4 MB 16.5 MB/s \n",
            "\u001b[K     |████████████████████████████████| 456 kB 48.4 MB/s \n",
            "\u001b[K     |████████████████████████████████| 10.1 MB 39.1 MB/s \n",
            "\u001b[K     |████████████████████████████████| 623 kB 23.9 MB/s \n",
            "\u001b[K     |████████████████████████████████| 42 kB 1.3 MB/s \n",
            "\u001b[K     |████████████████████████████████| 342 kB 35.4 MB/s \n",
            "\u001b[?25h"
          ]
        }
      ]
    },
    {
      "cell_type": "code",
      "metadata": {
        "id": "kzao7XO9NJAq"
      },
      "source": [
        "import json\n",
        "import string\n",
        "import random \n",
        "import numpy as np\n",
        "\n",
        "import tensorflow as tf \n",
        "from tensorflow.keras import Sequential \n",
        "from tensorflow.keras.layers import Dense, Dropout\n",
        "import stanza\n",
        "import spacy_stanza\n",
        "import re\n",
        "import unicodedata\n",
        "import matplotlib.pyplot as plt\n",
        "import seaborn as sns\n",
        "import pickle"
      ],
      "execution_count": 42,
      "outputs": []
    },
    {
      "cell_type": "code",
      "metadata": {
        "id": "Z_ExOb8uvjqK",
        "colab": {
          "base_uri": "https://localhost:8080/",
          "height": 457,
          "referenced_widgets": [
            "f738cfa8e9c5489a943733678ca0d6a1",
            "c5ca28e637634ce6a46d021e98da8e4a",
            "4e953de5a90440819e5487dfbbd0313e",
            "40d7e8604a0143f98f7d58ad5d49013c",
            "906986f45bad4d11b8c6404f2457424f",
            "6b5ef6d7e20c4c51b2672cdfb79a63f3",
            "b307f0640da24aba8497e98d1bebb03e",
            "ace23d2df6764277b79a2560d4c9dea1",
            "ec47d67175cd4669a21b52af100ed177",
            "46a059afbe3349288a122aec2aad8920",
            "91c043b572cf4d3aafe956ba6448b333"
          ]
        },
        "outputId": "db0f1a96-576d-4cce-b147-9cf15f4d9efa"
      },
      "source": [
        "# Descargar el diccionario en español y armar el pipeline de NLP con spacy\n",
        "stanza.download(\"es\")\n",
        "nlp = spacy_stanza.load_pipeline(\"es\")"
      ],
      "execution_count": 43,
      "outputs": [
        {
          "output_type": "display_data",
          "data": {
            "application/vnd.jupyter.widget-view+json": {
              "model_id": "f738cfa8e9c5489a943733678ca0d6a1",
              "version_minor": 0,
              "version_major": 2
            },
            "text/plain": [
              "Downloading https://raw.githubusercontent.com/stanfordnlp/stanza-resources/main/resources_1.2.2.json:   0%|   …"
            ]
          },
          "metadata": {}
        },
        {
          "output_type": "stream",
          "name": "stderr",
          "text": [
            "2021-09-15 18:20:22 INFO: Downloading default packages for language: es (Spanish)...\n",
            "2021-09-15 18:20:24 INFO: File exists: /root/stanza_resources/es/default.zip.\n",
            "2021-09-15 18:20:34 INFO: Finished downloading models and saved to /root/stanza_resources.\n",
            "2021-09-15 18:20:34 INFO: Loading these models for language: es (Spanish):\n",
            "=======================\n",
            "| Processor | Package |\n",
            "-----------------------\n",
            "| tokenize  | ancora  |\n",
            "| mwt       | ancora  |\n",
            "| pos       | ancora  |\n",
            "| lemma     | ancora  |\n",
            "| depparse  | ancora  |\n",
            "| ner       | conll02 |\n",
            "=======================\n",
            "\n",
            "2021-09-15 18:20:34 INFO: Use device: cpu\n",
            "2021-09-15 18:20:34 INFO: Loading: tokenize\n",
            "2021-09-15 18:20:34 INFO: Loading: mwt\n",
            "2021-09-15 18:20:34 INFO: Loading: pos\n",
            "2021-09-15 18:20:35 INFO: Loading: lemma\n",
            "2021-09-15 18:20:35 INFO: Loading: depparse\n",
            "2021-09-15 18:20:36 INFO: Loading: ner\n",
            "2021-09-15 18:20:37 INFO: Done loading processors!\n"
          ]
        }
      ]
    },
    {
      "cell_type": "markdown",
      "metadata": {
        "id": "_wF10RjVMBdV"
      },
      "source": [
        "### 2 - Herramientas de preprocesamiento de datos\n",
        "- Quitar acentos y caracteres especiales\n",
        "- Quitar números\n",
        "- Quitar símbolos de puntuación"
      ]
    },
    {
      "cell_type": "code",
      "metadata": {
        "id": "ZxoD2hEExmuX"
      },
      "source": [
        "# El preprocesamento en castellano requiere más trabajo\n",
        "def preprocess_clean_text(text):    \n",
        "    # sacar tildes de las palabras\n",
        "    text = unicodedata.normalize('NFKD', text).encode('ascii', 'ignore').decode('utf-8', 'ignore')\n",
        "    # quitar caracteres especiales\n",
        "    pattern = r'[^a-zA-z0-9.,!?/:;\\\"\\'\\s]' \n",
        "    text = re.sub(pattern, '', text)\n",
        "    pattern = r'[^a-zA-z.,!?/:;\\\"\\'\\s]' \n",
        "    # quitar números\n",
        "    text = re.sub(pattern, '', text)\n",
        "    # quitar caracteres de puntiación\n",
        "    text = ''.join([c for c in text if c not in string.punctuation])\n",
        "    return text"
      ],
      "execution_count": 44,
      "outputs": []
    },
    {
      "cell_type": "markdown",
      "metadata": {
        "id": "ilRbn0KfMm2r"
      },
      "source": [
        "### 3 - Diccionario de entrada"
      ]
    },
    {
      "cell_type": "code",
      "metadata": {
        "id": "NgIGpjymNEH7"
      },
      "source": [
        "# Dataset en formato JSON que representa las posibles preguntas (patterns)\n",
        "# y las posibles respuestas por categoría (tag)\n",
        "dataset = {\"intents\": [\n",
        "             {\"tag\": \"bienvenida\",\n",
        "              \"patterns\": [\"Hola\", \"¿Cómo estás?\", \"¿Qué tal?\", \"Hola, buenas tardes\", \"Hola, buenos días\", \"Buenos días\", \"Hola! Tengo una consulta\" ],\n",
        "              \"responses\": [\"Hola!\", \"Hola, ¿Cómo estás?\", \"Buenas. En que puedo ayudarle.\"],\n",
        "             },\n",
        "             {\"tag\": \"nombre\",\n",
        "              \"patterns\": [\"¿Quienes son?\",\"¿Quién sos?\", \"¿Con quien me comunico?\"],\n",
        "              \"responses\": [\"Somos grupo Altasur, representantes oficiales de DIAM\", \"Somos grupo Altasur, proveedores de DIAM en sudamérica\",\n",
        "                            \"Somos grupo Altasur y brindamos soluciones enológicas de alta calidad e innovación\",]\n",
        "             },\n",
        "            {\"tag\": \"contacto\",\n",
        "              \"patterns\": [\"contacto\", \"número de contacto\", \"número de teléfono\", \"número de whatsapp\", \"whatsapp\"],\n",
        "              \"responses\": [\"Podes contactarnos al siguiente número +549261672577\", \"Contactos al whatsapp +549261672577\"]\n",
        "             },\n",
        "             {\"tag\": \"asesoramiento\",\n",
        "              \"patterns\": [\"Necesito asesoramiento\", \"Necesito asesoramiento técnico\", \"¿Podrían asesorarme con los corchos?\",\n",
        "                           \"¿Podrían indicarme el corcho ideal.\", \"¿Cuál es el mejor corcho para un vino de guarda?\", \"Necesito información técnica.\"],\n",
        "              \"responses\": [\"Por asesoramiento profesional por favor comunicarse por whatsapp al +549261672577\", \"Para asesorarte necesitaría que envíes un whatsapp al +549261672577\"]\n",
        "             },\n",
        "            {\"tag\": \"envios\",\n",
        "              \"patterns\": [\"¿Realizan envios?\", \"¿Cómo me llega la mercadería?\", \"¿Quien se encarrg de la entrega?\", \"Como entregan?\"],\n",
        "              \"responses\": [\"Tu compra es entregada directamente en la bodega.\", \"Todos los pedidos son entregado en las instalaciones que tú solicites\", \"Tenemos diferentes formas de envios según la zona.\"]\n",
        "             },\n",
        "             {\"tag\": \"ubicación\",\n",
        "              \"patterns\": [\"¿Donde los encuentro?\", \"¿Donde están ubicados?\", \"¿donde se encuentra la oficina?\",\n",
        "                           \"puedo concertar una visita a su planta\", \"Puedo visitar la fábrica?\", \"puedo concertar una visita a su planta\"],\n",
        "              \"responses\": [\"Puedes encontrarnos en <dirección>\", \"Visita nuestra web https://grupoaltasur.com/ para conocer las oficinas más cercanas\"]                 \n",
        "             },\n",
        "             {\"tag\": \"insumos\",\n",
        "              \"patterns\":[\"¿Que insumos ofrecen?\",\"Lista de insumos\", \"¿Tienen una lista de productos?\", \"¿Cuales son los productos disponibles?\",\n",
        "                          \"Sólo venden corchos?\", \"¿Que corchos tienen?\",\"¿Que tipos decorchos tienen?\"],\n",
        "              \"responses\": [\"Tenemos 8 tipos distintos de corchos, puedes ver las especificaciones en https://grupoaltasur.com/productos-y-servicios/\",\n",
        "                            \"Nuestra gama de productos la podés ver en https://grupoaltasur.com/productos-y-servicios/\",\n",
        "                            \"Te invito a ver la sección de productos en https://grupoaltasur.com/productos-y-servicios/\"]\n",
        "             }, \n",
        "            {\"tag\": \"precios\",\n",
        "              \"patterns\": [\"precio\", \"Me podrás pasar los precios\", \"¿Cuánto vale?\", \"¿Cuánto sale?\"],\n",
        "              \"responses\": [\"Para brindarte precios deberías consultarnos al +549261672577\"]\n",
        "             },\n",
        "            {\"tag\": \"stock\",\n",
        "              \"patterns\": [\"Esto está disponible\", \"¿Tenes stock?\", \"¿Hay stock?\"],\n",
        "              \"responses\": [\"Los productos publicados están en stock\", \"Tenemos stock y se renueva constantemente\"]\n",
        "             },\n",
        "            {\"tag\": \"agradecimientos\",\n",
        "              \"patterns\": [ \"Muchas gracias\", \"Gracias\", \"Gracias por tu atención.\"],\n",
        "              \"responses\": [\"De nada\", \"No es nada, ¿necesitas algo más?\",\"Por nada!, cualquier otra consulta podes escribirme\"]\n",
        "             },\n",
        "             {\"tag\": \"despedida\",\n",
        "              \"patterns\": [ \"Chau\", \"Hasta luego!\"],\n",
        "              \"responses\": [\"Hasta luego!\", \"Hablamos luego!\"]\n",
        "             }\n",
        "]}"
      ],
      "execution_count": 70,
      "outputs": []
    },
    {
      "cell_type": "markdown",
      "metadata": {
        "id": "19PEDmIDfLRu"
      },
      "source": [
        "### 4 - Preprocesamiento y armado del dataset"
      ]
    },
    {
      "cell_type": "code",
      "metadata": {
        "id": "b3HP8abHNRk3"
      },
      "source": [
        "# Datos que necesitaremos, las palabras o vocabilario\n",
        "words = []  # todas las palabras posibles\n",
        "classes = [] # tags\n",
        "doc_X = [] # entradas en tokens\n",
        "doc_y = [] # salidas en tokens\n",
        "\n",
        "# Por cada intención (intents) debemos tomar los patrones que la caracterízan\n",
        "# a esa intención y transformarla a tokens para lamacenar en doc_X\n",
        "# El tag de cada intención se almacena como doc_Y (la clase a predecir)\n",
        "for intent in dataset[\"intents\"]:\n",
        "    for pattern in intent[\"patterns\"]:\n",
        "        # trasformar el patron a tokens\n",
        "        tokens = nlp(preprocess_clean_text(pattern.lower()))\n",
        "        # lematizar los tokens\n",
        "        for token in tokens:            \n",
        "            words.append(token.lemma_)\n",
        "        \n",
        "        doc_X.append(pattern)\n",
        "        doc_y.append(intent[\"tag\"])\n",
        "    \n",
        "    # Agregar el tag a las clases\n",
        "    if intent[\"tag\"] not in classes:\n",
        "        classes.append(intent[\"tag\"])\n",
        "\n",
        "# Elminar duplicados con \"set\" y ordenar el vocubulario y las clases por orden alfabético\n",
        "words = sorted(set(words))\n",
        "classes = sorted(set(classes))"
      ],
      "execution_count": 71,
      "outputs": []
    },
    {
      "cell_type": "code",
      "metadata": {
        "colab": {
          "base_uri": "https://localhost:8080/"
        },
        "id": "_nPqQu1EWvqq",
        "outputId": "c6297730-edd8-4b46-a262-7b351d6ce51d"
      },
      "source": [
        "# Se puede ver como a cada patron de docX se le asignó un tag\n",
        "for dx, dy in zip(doc_X, doc_y):\n",
        "  print([dx,dy])"
      ],
      "execution_count": 72,
      "outputs": [
        {
          "output_type": "stream",
          "name": "stdout",
          "text": [
            "['Hola', 'bienvenida']\n",
            "['¿Cómo estás?', 'bienvenida']\n",
            "['¿Qué tal?', 'bienvenida']\n",
            "['Hola, buenas tardes', 'bienvenida']\n",
            "['Hola, buenos días', 'bienvenida']\n",
            "['Buenos días', 'bienvenida']\n",
            "['Hola! Tengo una consulta', 'bienvenida']\n",
            "['¿Quienes son?', 'nombre']\n",
            "['¿Quién sos?', 'nombre']\n",
            "['¿Con quien me comunico?', 'nombre']\n",
            "['contacto', 'contacto']\n",
            "['número de contacto', 'contacto']\n",
            "['número de teléfono', 'contacto']\n",
            "['número de whatsapp', 'contacto']\n",
            "['whatsapp', 'contacto']\n",
            "['Necesito asesoramiento', 'asesoramiento']\n",
            "['Necesito asesoramiento técnico', 'asesoramiento']\n",
            "['¿Podrían asesorarme con los corchos?', 'asesoramiento']\n",
            "['¿Podrían indicarme el corcho ideal.', 'asesoramiento']\n",
            "['¿Cuál es el mejor corcho para un vino de guarda?', 'asesoramiento']\n",
            "['Necesito información técnica.', 'asesoramiento']\n",
            "['¿Realizan envios?', 'envios']\n",
            "['¿Cómo me llega la mercadería?', 'envios']\n",
            "['¿Quien se encarrg de la entrega?', 'envios']\n",
            "['Como entregan?', 'envios']\n",
            "['¿Donde los encuentro?', 'ubicación']\n",
            "['¿Donde están ubicados?', 'ubicación']\n",
            "['¿donde se encuentra la oficina?', 'ubicación']\n",
            "['puedo concertar una visita a su planta', 'ubicación']\n",
            "['Puedo visitar la fábrica?', 'ubicación']\n",
            "['puedo concertar una visita a su planta', 'ubicación']\n",
            "['¿Que insumos ofrecen?', 'insumos']\n",
            "['Lista de insumos', 'insumos']\n",
            "['¿Tienen una lista de productos?', 'insumos']\n",
            "['¿Cuales son los productos disponibles?', 'insumos']\n",
            "['Sólo venden corchos?', 'insumos']\n",
            "['¿Que corchos tienen?', 'insumos']\n",
            "['¿Que tipos decorchos tienen?', 'insumos']\n",
            "['precio', 'precios']\n",
            "['Me podrás pasar los precios', 'precios']\n",
            "['¿Cuánto vale?', 'precios']\n",
            "['¿Cuánto sale?', 'precios']\n",
            "['Esto está disponible', 'stock']\n",
            "['¿Tenes stock?', 'stock']\n",
            "['¿Hay stock?', 'stock']\n",
            "['Muchas gracias', 'agradecimientos']\n",
            "['Gracias', 'agradecimientos']\n",
            "['Gracias por tu atención.', 'agradecimientos']\n",
            "['Chau', 'despedida']\n",
            "['Hasta luego!', 'despedida']\n"
          ]
        }
      ]
    },
    {
      "cell_type": "code",
      "metadata": {
        "id": "Acy-gcugNbMH",
        "colab": {
          "base_uri": "https://localhost:8080/"
        },
        "outputId": "574fc0f7-4f8a-44e0-a26e-c559af61b13c"
      },
      "source": [
        "print(\"words:\",len(words), words)\n",
        "print(\"Tags o classes:\", len(classes), classes)\n",
        "print(\"doc_X:\", len(doc_X), doc_X)\n",
        "print(\"doc_y:\", len(doc_X), doc_y)"
      ],
      "execution_count": 73,
      "outputs": [
        {
          "output_type": "stream",
          "name": "stdout",
          "text": [
            "words: 81 ['a', 'asesoramiento', 'asesorar', 'atencion', 'buen', 'chau', 'como', 'comunicar', 'con', 'concertar', 'consulta', 'contacto', 'corcho', 'cual', 'cuanto', 'de', 'decorcho', 'dia', 'disponible', 'donde', 'el', 'encarrar', 'encontrar', 'encuentro', 'entrega', 'entregar', 'envio', 'estar', 'este', 'fabricar', 'gracias', 'guarda', 'haber', 'hasta', 'holar', 'ideal', 'indicar', 'informacion', 'insumo', 'lista', 'llegar', 'luego', 'mejor', 'mercaderia', 'mucho', 'necesitar', 'numero', 'oficina', 'ofrecer', 'para', 'pasar', 'planta', 'poder', 'por', 'precio', 'producto', 'que', 'quien', 'realizar', 'salir', 'ser', 'solo', 'stock', 'su', 'tal', 'tarde', 'tecnico', 'telefono', 'tener', 'tipo', 'tu', 'ubicado', 'uno', 'valer', 'vender', 'vino', 'visita', 'visitar', 'whatsapp', 'yo', 'él']\n",
            "Tags o classes: 11 ['agradecimientos', 'asesoramiento', 'bienvenida', 'contacto', 'despedida', 'envios', 'insumos', 'nombre', 'precios', 'stock', 'ubicación']\n",
            "doc_X: 50 ['Hola', '¿Cómo estás?', '¿Qué tal?', 'Hola, buenas tardes', 'Hola, buenos días', 'Buenos días', 'Hola! Tengo una consulta', '¿Quienes son?', '¿Quién sos?', '¿Con quien me comunico?', 'contacto', 'número de contacto', 'número de teléfono', 'número de whatsapp', 'whatsapp', 'Necesito asesoramiento', 'Necesito asesoramiento técnico', '¿Podrían asesorarme con los corchos?', '¿Podrían indicarme el corcho ideal.', '¿Cuál es el mejor corcho para un vino de guarda?', 'Necesito información técnica.', '¿Realizan envios?', '¿Cómo me llega la mercadería?', '¿Quien se encarrg de la entrega?', 'Como entregan?', '¿Donde los encuentro?', '¿Donde están ubicados?', '¿donde se encuentra la oficina?', 'puedo concertar una visita a su planta', 'Puedo visitar la fábrica?', 'puedo concertar una visita a su planta', '¿Que insumos ofrecen?', 'Lista de insumos', '¿Tienen una lista de productos?', '¿Cuales son los productos disponibles?', 'Sólo venden corchos?', '¿Que corchos tienen?', '¿Que tipos decorchos tienen?', 'precio', 'Me podrás pasar los precios', '¿Cuánto vale?', '¿Cuánto sale?', 'Esto está disponible', '¿Tenes stock?', '¿Hay stock?', 'Muchas gracias', 'Gracias', 'Gracias por tu atención.', 'Chau', 'Hasta luego!']\n",
            "doc_y: 50 ['bienvenida', 'bienvenida', 'bienvenida', 'bienvenida', 'bienvenida', 'bienvenida', 'bienvenida', 'nombre', 'nombre', 'nombre', 'contacto', 'contacto', 'contacto', 'contacto', 'contacto', 'asesoramiento', 'asesoramiento', 'asesoramiento', 'asesoramiento', 'asesoramiento', 'asesoramiento', 'envios', 'envios', 'envios', 'envios', 'ubicación', 'ubicación', 'ubicación', 'ubicación', 'ubicación', 'ubicación', 'insumos', 'insumos', 'insumos', 'insumos', 'insumos', 'insumos', 'insumos', 'precios', 'precios', 'precios', 'precios', 'stock', 'stock', 'stock', 'agradecimientos', 'agradecimientos', 'agradecimientos', 'despedida', 'despedida']\n"
          ]
        }
      ]
    },
    {
      "cell_type": "code",
      "metadata": {
        "id": "vpbJ0guPN2Uq"
      },
      "source": [
        "# Transformar doc_X en bag of words por oneHotEncoding\n",
        "# Transformar doc_Y en un vector de clases multicategórico con oneHotEncoding\n",
        "\n",
        "training = []\n",
        "out_empty = [0] * len(classes)\n",
        "\n",
        "for idx, doc in enumerate(doc_X):\n",
        "    # Transformar la pregunta (input) en tokens y lematizar\n",
        "    text = []\n",
        "    tokens = nlp(preprocess_clean_text(doc.lower()))\n",
        "    for token in tokens:\n",
        "        text.append(token.lemma_)\n",
        "\n",
        "    # Transformar los tokens en \"Bag of words\" (arrays de 1 y 0)\n",
        "    bow = []\n",
        "    for word in words:\n",
        "        bow.append(1) if word in text else bow.append(0)\n",
        "    \n",
        "    # Crear el array de salida (class output) correspondiente\n",
        "    output_row = list(out_empty)\n",
        "    output_row[classes.index(doc_y[idx])] = 1\n",
        "\n",
        "    #print(\"X:\", bow, \"y:\", output_row)\n",
        "    training.append([bow, output_row])\n",
        "\n",
        "# Mezclar los datos\n",
        "random.shuffle(training)\n",
        "training = np.array(training, dtype=object)\n",
        "# Dividir en datos de entrada y salida\n",
        "train_X = np.array(list(training[:, 0]))\n",
        "train_y = np.array(list(training[:, 1]))"
      ],
      "execution_count": 74,
      "outputs": []
    },
    {
      "cell_type": "markdown",
      "metadata": {
        "id": "a_Hr8QaDfRf3"
      },
      "source": [
        "### 5 - Entrenamiento del modelo"
      ]
    },
    {
      "cell_type": "code",
      "metadata": {
        "id": "fopb3NqcAGTz",
        "colab": {
          "base_uri": "https://localhost:8080/"
        },
        "outputId": "a48205ee-440e-401a-dc2e-167ddeb8f25e"
      },
      "source": [
        "# Shape de entrada y salida\n",
        "input_shape = (train_X.shape[1],)\n",
        "output_shape = train_y.shape[1]\n",
        "print(\"input:\", input_shape, \"output:\", output_shape)"
      ],
      "execution_count": 75,
      "outputs": [
        {
          "output_type": "stream",
          "name": "stdout",
          "text": [
            "input: (81,) output: 11\n"
          ]
        }
      ]
    },
    {
      "cell_type": "code",
      "metadata": {
        "id": "xy7tzkwdOZx9",
        "colab": {
          "base_uri": "https://localhost:8080/"
        },
        "outputId": "6a308513-080e-4be2-de52-c018bea69cde"
      },
      "source": [
        "# Entrenamiento del modelo DNN\n",
        "# - Modelo secuencial\n",
        "# - Con regularización\n",
        "# - softmax y optimizador Adam\n",
        "model = Sequential()\n",
        "model.add(Dense(256, input_shape=input_shape, activation=\"relu\"))\n",
        "model.add(Dropout(0.5))\n",
        "model.add(Dense(128, activation=\"relu\"))\n",
        "model.add(Dropout(0.5))\n",
        "model.add(Dense(64, activation=\"relu\"))\n",
        "model.add(Dropout(0.5))\n",
        "model.add(Dense(output_shape, activation = \"softmax\"))\n",
        "\n",
        "model.compile(loss='categorical_crossentropy',\n",
        "              optimizer=\"Adam\",\n",
        "              metrics=[\"accuracy\"])\n",
        "print(model.summary())"
      ],
      "execution_count": 76,
      "outputs": [
        {
          "output_type": "stream",
          "name": "stdout",
          "text": [
            "Model: \"sequential_4\"\n",
            "_________________________________________________________________\n",
            "Layer (type)                 Output Shape              Param #   \n",
            "=================================================================\n",
            "dense_16 (Dense)             (None, 256)               20992     \n",
            "_________________________________________________________________\n",
            "dropout_12 (Dropout)         (None, 256)               0         \n",
            "_________________________________________________________________\n",
            "dense_17 (Dense)             (None, 128)               32896     \n",
            "_________________________________________________________________\n",
            "dropout_13 (Dropout)         (None, 128)               0         \n",
            "_________________________________________________________________\n",
            "dense_18 (Dense)             (None, 64)                8256      \n",
            "_________________________________________________________________\n",
            "dropout_14 (Dropout)         (None, 64)                0         \n",
            "_________________________________________________________________\n",
            "dense_19 (Dense)             (None, 11)                715       \n",
            "=================================================================\n",
            "Total params: 62,859\n",
            "Trainable params: 62,859\n",
            "Non-trainable params: 0\n",
            "_________________________________________________________________\n",
            "None\n"
          ]
        }
      ]
    },
    {
      "cell_type": "code",
      "metadata": {
        "id": "r6hi4EcdOghm",
        "colab": {
          "base_uri": "https://localhost:8080/"
        },
        "outputId": "5e823f74-96cf-42db-ff2d-20cf2bd32562"
      },
      "source": [
        "# Entrenamiento del modelo,\n",
        "hist = model.fit(x=train_X, y=train_y, epochs=150)"
      ],
      "execution_count": 77,
      "outputs": [
        {
          "output_type": "stream",
          "name": "stdout",
          "text": [
            "Epoch 1/150\n",
            "2/2 [==============================] - 0s 7ms/step - loss: 2.4535 - accuracy: 0.0400\n",
            "Epoch 2/150\n",
            "2/2 [==============================] - 0s 7ms/step - loss: 2.4244 - accuracy: 0.0800\n",
            "Epoch 3/150\n",
            "2/2 [==============================] - 0s 7ms/step - loss: 2.4485 - accuracy: 0.0400\n",
            "Epoch 4/150\n",
            "2/2 [==============================] - 0s 6ms/step - loss: 2.4066 - accuracy: 0.0400\n",
            "Epoch 5/150\n",
            "2/2 [==============================] - 0s 11ms/step - loss: 2.3304 - accuracy: 0.1600\n",
            "Epoch 6/150\n",
            "2/2 [==============================] - 0s 6ms/step - loss: 2.3593 - accuracy: 0.0600\n",
            "Epoch 7/150\n",
            "2/2 [==============================] - 0s 6ms/step - loss: 2.3386 - accuracy: 0.1600\n",
            "Epoch 8/150\n",
            "2/2 [==============================] - 0s 6ms/step - loss: 2.3224 - accuracy: 0.1600\n",
            "Epoch 9/150\n",
            "2/2 [==============================] - 0s 6ms/step - loss: 2.3433 - accuracy: 0.1000\n",
            "Epoch 10/150\n",
            "2/2 [==============================] - 0s 8ms/step - loss: 2.3148 - accuracy: 0.1800\n",
            "Epoch 11/150\n",
            "2/2 [==============================] - 0s 9ms/step - loss: 2.3017 - accuracy: 0.1800\n",
            "Epoch 12/150\n",
            "2/2 [==============================] - 0s 6ms/step - loss: 2.3063 - accuracy: 0.2200\n",
            "Epoch 13/150\n",
            "2/2 [==============================] - 0s 7ms/step - loss: 2.2898 - accuracy: 0.1600\n",
            "Epoch 14/150\n",
            "2/2 [==============================] - 0s 6ms/step - loss: 2.2517 - accuracy: 0.2400\n",
            "Epoch 15/150\n",
            "2/2 [==============================] - 0s 13ms/step - loss: 2.2210 - accuracy: 0.2600\n",
            "Epoch 16/150\n",
            "2/2 [==============================] - 0s 7ms/step - loss: 2.1834 - accuracy: 0.3200\n",
            "Epoch 17/150\n",
            "2/2 [==============================] - 0s 6ms/step - loss: 2.2599 - accuracy: 0.1000\n",
            "Epoch 18/150\n",
            "2/2 [==============================] - 0s 9ms/step - loss: 2.1968 - accuracy: 0.2000\n",
            "Epoch 19/150\n",
            "2/2 [==============================] - 0s 8ms/step - loss: 2.2154 - accuracy: 0.2200\n",
            "Epoch 20/150\n",
            "2/2 [==============================] - 0s 10ms/step - loss: 2.2224 - accuracy: 0.2800\n",
            "Epoch 21/150\n",
            "2/2 [==============================] - 0s 7ms/step - loss: 2.1207 - accuracy: 0.2600\n",
            "Epoch 22/150\n",
            "2/2 [==============================] - 0s 7ms/step - loss: 2.1248 - accuracy: 0.2600\n",
            "Epoch 23/150\n",
            "2/2 [==============================] - 0s 6ms/step - loss: 2.1087 - accuracy: 0.3400\n",
            "Epoch 24/150\n",
            "2/2 [==============================] - 0s 6ms/step - loss: 2.1558 - accuracy: 0.2000\n",
            "Epoch 25/150\n",
            "2/2 [==============================] - 0s 8ms/step - loss: 2.1288 - accuracy: 0.3200\n",
            "Epoch 26/150\n",
            "2/2 [==============================] - 0s 17ms/step - loss: 2.0815 - accuracy: 0.3000\n",
            "Epoch 27/150\n",
            "2/2 [==============================] - 0s 12ms/step - loss: 1.9791 - accuracy: 0.4600\n",
            "Epoch 28/150\n",
            "2/2 [==============================] - 0s 7ms/step - loss: 2.0248 - accuracy: 0.3200\n",
            "Epoch 29/150\n",
            "2/2 [==============================] - 0s 6ms/step - loss: 1.8301 - accuracy: 0.5200\n",
            "Epoch 30/150\n",
            "2/2 [==============================] - 0s 6ms/step - loss: 2.0216 - accuracy: 0.3000\n",
            "Epoch 31/150\n",
            "2/2 [==============================] - 0s 9ms/step - loss: 2.0328 - accuracy: 0.2200\n",
            "Epoch 32/150\n",
            "2/2 [==============================] - 0s 7ms/step - loss: 1.9169 - accuracy: 0.4200\n",
            "Epoch 33/150\n",
            "2/2 [==============================] - 0s 8ms/step - loss: 1.9016 - accuracy: 0.3600\n",
            "Epoch 34/150\n",
            "2/2 [==============================] - 0s 7ms/step - loss: 1.7992 - accuracy: 0.5000\n",
            "Epoch 35/150\n",
            "2/2 [==============================] - 0s 6ms/step - loss: 1.8659 - accuracy: 0.4200\n",
            "Epoch 36/150\n",
            "2/2 [==============================] - 0s 9ms/step - loss: 1.8026 - accuracy: 0.4800\n",
            "Epoch 37/150\n",
            "2/2 [==============================] - 0s 7ms/step - loss: 1.8527 - accuracy: 0.4200\n",
            "Epoch 38/150\n",
            "2/2 [==============================] - 0s 16ms/step - loss: 1.8377 - accuracy: 0.3600\n",
            "Epoch 39/150\n",
            "2/2 [==============================] - 0s 6ms/step - loss: 1.7518 - accuracy: 0.3800\n",
            "Epoch 40/150\n",
            "2/2 [==============================] - 0s 6ms/step - loss: 1.7324 - accuracy: 0.4600\n",
            "Epoch 41/150\n",
            "2/2 [==============================] - 0s 8ms/step - loss: 1.7124 - accuracy: 0.4400\n",
            "Epoch 42/150\n",
            "2/2 [==============================] - 0s 6ms/step - loss: 1.6042 - accuracy: 0.4800\n",
            "Epoch 43/150\n",
            "2/2 [==============================] - 0s 7ms/step - loss: 1.6611 - accuracy: 0.4400\n",
            "Epoch 44/150\n",
            "2/2 [==============================] - 0s 8ms/step - loss: 1.5572 - accuracy: 0.5800\n",
            "Epoch 45/150\n",
            "2/2 [==============================] - 0s 8ms/step - loss: 1.5214 - accuracy: 0.5400\n",
            "Epoch 46/150\n",
            "2/2 [==============================] - 0s 6ms/step - loss: 1.4848 - accuracy: 0.5400\n",
            "Epoch 47/150\n",
            "2/2 [==============================] - 0s 10ms/step - loss: 1.3036 - accuracy: 0.6400\n",
            "Epoch 48/150\n",
            "2/2 [==============================] - 0s 6ms/step - loss: 1.4394 - accuracy: 0.5200\n",
            "Epoch 49/150\n",
            "2/2 [==============================] - 0s 8ms/step - loss: 1.2676 - accuracy: 0.6200\n",
            "Epoch 50/150\n",
            "2/2 [==============================] - 0s 6ms/step - loss: 1.3595 - accuracy: 0.6000\n",
            "Epoch 51/150\n",
            "2/2 [==============================] - 0s 9ms/step - loss: 1.2149 - accuracy: 0.6800\n",
            "Epoch 52/150\n",
            "2/2 [==============================] - 0s 7ms/step - loss: 1.3751 - accuracy: 0.5600\n",
            "Epoch 53/150\n",
            "2/2 [==============================] - 0s 10ms/step - loss: 1.1726 - accuracy: 0.7000\n",
            "Epoch 54/150\n",
            "2/2 [==============================] - 0s 7ms/step - loss: 1.1003 - accuracy: 0.7400\n",
            "Epoch 55/150\n",
            "2/2 [==============================] - 0s 7ms/step - loss: 1.1340 - accuracy: 0.6200\n",
            "Epoch 56/150\n",
            "2/2 [==============================] - 0s 5ms/step - loss: 1.0696 - accuracy: 0.7800\n",
            "Epoch 57/150\n",
            "2/2 [==============================] - 0s 6ms/step - loss: 1.1728 - accuracy: 0.7000\n",
            "Epoch 58/150\n",
            "2/2 [==============================] - 0s 7ms/step - loss: 1.0182 - accuracy: 0.7600\n",
            "Epoch 59/150\n",
            "2/2 [==============================] - 0s 7ms/step - loss: 0.8855 - accuracy: 0.7600\n",
            "Epoch 60/150\n",
            "2/2 [==============================] - 0s 6ms/step - loss: 0.9322 - accuracy: 0.7400\n",
            "Epoch 61/150\n",
            "2/2 [==============================] - 0s 10ms/step - loss: 0.9641 - accuracy: 0.7200\n",
            "Epoch 62/150\n",
            "2/2 [==============================] - 0s 6ms/step - loss: 0.9461 - accuracy: 0.7200\n",
            "Epoch 63/150\n",
            "2/2 [==============================] - 0s 7ms/step - loss: 0.8213 - accuracy: 0.7400\n",
            "Epoch 64/150\n",
            "2/2 [==============================] - 0s 8ms/step - loss: 0.7959 - accuracy: 0.8200\n",
            "Epoch 65/150\n",
            "2/2 [==============================] - 0s 5ms/step - loss: 0.9670 - accuracy: 0.7000\n",
            "Epoch 66/150\n",
            "2/2 [==============================] - 0s 6ms/step - loss: 0.8623 - accuracy: 0.7000\n",
            "Epoch 67/150\n",
            "2/2 [==============================] - 0s 7ms/step - loss: 0.7740 - accuracy: 0.8200\n",
            "Epoch 68/150\n",
            "2/2 [==============================] - 0s 9ms/step - loss: 0.6473 - accuracy: 0.8000\n",
            "Epoch 69/150\n",
            "2/2 [==============================] - 0s 13ms/step - loss: 0.7829 - accuracy: 0.7400\n",
            "Epoch 70/150\n",
            "2/2 [==============================] - 0s 7ms/step - loss: 0.7492 - accuracy: 0.8000\n",
            "Epoch 71/150\n",
            "2/2 [==============================] - 0s 8ms/step - loss: 0.6231 - accuracy: 0.8600\n",
            "Epoch 72/150\n",
            "2/2 [==============================] - 0s 7ms/step - loss: 0.6223 - accuracy: 0.9000\n",
            "Epoch 73/150\n",
            "2/2 [==============================] - 0s 6ms/step - loss: 0.6313 - accuracy: 0.9000\n",
            "Epoch 74/150\n",
            "2/2 [==============================] - 0s 6ms/step - loss: 0.6871 - accuracy: 0.7800\n",
            "Epoch 75/150\n",
            "2/2 [==============================] - 0s 11ms/step - loss: 0.7013 - accuracy: 0.8000\n",
            "Epoch 76/150\n",
            "2/2 [==============================] - 0s 5ms/step - loss: 0.5740 - accuracy: 0.8200\n",
            "Epoch 77/150\n",
            "2/2 [==============================] - 0s 7ms/step - loss: 0.5749 - accuracy: 0.8400\n",
            "Epoch 78/150\n",
            "2/2 [==============================] - 0s 12ms/step - loss: 0.6260 - accuracy: 0.8400\n",
            "Epoch 79/150\n",
            "2/2 [==============================] - 0s 9ms/step - loss: 0.4532 - accuracy: 0.8600\n",
            "Epoch 80/150\n",
            "2/2 [==============================] - 0s 10ms/step - loss: 0.5398 - accuracy: 0.8800\n",
            "Epoch 81/150\n",
            "2/2 [==============================] - 0s 8ms/step - loss: 0.6214 - accuracy: 0.8800\n",
            "Epoch 82/150\n",
            "2/2 [==============================] - 0s 6ms/step - loss: 0.5239 - accuracy: 0.8200\n",
            "Epoch 83/150\n",
            "2/2 [==============================] - 0s 7ms/step - loss: 0.5266 - accuracy: 0.8800\n",
            "Epoch 84/150\n",
            "2/2 [==============================] - 0s 8ms/step - loss: 0.4411 - accuracy: 0.9000\n",
            "Epoch 85/150\n",
            "2/2 [==============================] - 0s 6ms/step - loss: 0.3926 - accuracy: 0.9400\n",
            "Epoch 86/150\n",
            "2/2 [==============================] - 0s 5ms/step - loss: 0.5653 - accuracy: 0.8000\n",
            "Epoch 87/150\n",
            "2/2 [==============================] - 0s 7ms/step - loss: 0.4882 - accuracy: 0.8800\n",
            "Epoch 88/150\n",
            "2/2 [==============================] - 0s 8ms/step - loss: 0.4678 - accuracy: 0.8800\n",
            "Epoch 89/150\n",
            "2/2 [==============================] - 0s 6ms/step - loss: 0.3730 - accuracy: 0.9000\n",
            "Epoch 90/150\n",
            "2/2 [==============================] - 0s 8ms/step - loss: 0.5673 - accuracy: 0.8000\n",
            "Epoch 91/150\n",
            "2/2 [==============================] - 0s 6ms/step - loss: 0.3237 - accuracy: 0.9200\n",
            "Epoch 92/150\n",
            "2/2 [==============================] - 0s 9ms/step - loss: 0.4706 - accuracy: 0.8200\n",
            "Epoch 93/150\n",
            "2/2 [==============================] - 0s 7ms/step - loss: 0.3619 - accuracy: 0.8800\n",
            "Epoch 94/150\n",
            "2/2 [==============================] - 0s 7ms/step - loss: 0.4047 - accuracy: 0.8800\n",
            "Epoch 95/150\n",
            "2/2 [==============================] - 0s 8ms/step - loss: 0.2649 - accuracy: 0.9400\n",
            "Epoch 96/150\n",
            "2/2 [==============================] - 0s 7ms/step - loss: 0.3316 - accuracy: 0.9400\n",
            "Epoch 97/150\n",
            "2/2 [==============================] - 0s 7ms/step - loss: 0.4014 - accuracy: 0.9000\n",
            "Epoch 98/150\n",
            "2/2 [==============================] - 0s 8ms/step - loss: 0.4423 - accuracy: 0.9000\n",
            "Epoch 99/150\n",
            "2/2 [==============================] - 0s 10ms/step - loss: 0.2995 - accuracy: 0.9400\n",
            "Epoch 100/150\n",
            "2/2 [==============================] - 0s 10ms/step - loss: 0.2951 - accuracy: 0.9600\n",
            "Epoch 101/150\n",
            "2/2 [==============================] - 0s 6ms/step - loss: 0.2489 - accuracy: 0.9400\n",
            "Epoch 102/150\n",
            "2/2 [==============================] - 0s 6ms/step - loss: 0.2682 - accuracy: 0.9200\n",
            "Epoch 103/150\n",
            "2/2 [==============================] - 0s 7ms/step - loss: 0.2187 - accuracy: 0.9400\n",
            "Epoch 104/150\n",
            "2/2 [==============================] - 0s 6ms/step - loss: 0.2307 - accuracy: 0.9600\n",
            "Epoch 105/150\n",
            "2/2 [==============================] - 0s 7ms/step - loss: 0.2438 - accuracy: 0.9800\n",
            "Epoch 106/150\n",
            "2/2 [==============================] - 0s 6ms/step - loss: 0.3257 - accuracy: 0.9200\n",
            "Epoch 107/150\n",
            "2/2 [==============================] - 0s 12ms/step - loss: 0.2684 - accuracy: 0.9000\n",
            "Epoch 108/150\n",
            "2/2 [==============================] - 0s 7ms/step - loss: 0.3570 - accuracy: 0.9000\n",
            "Epoch 109/150\n",
            "2/2 [==============================] - 0s 9ms/step - loss: 0.2973 - accuracy: 0.9200\n",
            "Epoch 110/150\n",
            "2/2 [==============================] - 0s 7ms/step - loss: 0.1696 - accuracy: 0.9800\n",
            "Epoch 111/150\n",
            "2/2 [==============================] - 0s 9ms/step - loss: 0.2285 - accuracy: 0.9600\n",
            "Epoch 112/150\n",
            "2/2 [==============================] - 0s 8ms/step - loss: 0.2580 - accuracy: 0.9200\n",
            "Epoch 113/150\n",
            "2/2 [==============================] - 0s 6ms/step - loss: 0.2468 - accuracy: 0.9400\n",
            "Epoch 114/150\n",
            "2/2 [==============================] - 0s 7ms/step - loss: 0.2402 - accuracy: 0.9400\n",
            "Epoch 115/150\n",
            "2/2 [==============================] - 0s 7ms/step - loss: 0.1846 - accuracy: 0.9800\n",
            "Epoch 116/150\n",
            "2/2 [==============================] - 0s 6ms/step - loss: 0.2554 - accuracy: 0.9600\n",
            "Epoch 117/150\n",
            "2/2 [==============================] - 0s 6ms/step - loss: 0.2290 - accuracy: 0.9600\n",
            "Epoch 118/150\n",
            "2/2 [==============================] - 0s 11ms/step - loss: 0.3488 - accuracy: 0.9200\n",
            "Epoch 119/150\n",
            "2/2 [==============================] - 0s 7ms/step - loss: 0.1755 - accuracy: 0.9600\n",
            "Epoch 120/150\n",
            "2/2 [==============================] - 0s 7ms/step - loss: 0.1605 - accuracy: 0.9600\n",
            "Epoch 121/150\n",
            "2/2 [==============================] - 0s 7ms/step - loss: 0.1362 - accuracy: 0.9600\n",
            "Epoch 122/150\n",
            "2/2 [==============================] - 0s 12ms/step - loss: 0.1171 - accuracy: 1.0000\n",
            "Epoch 123/150\n",
            "2/2 [==============================] - 0s 16ms/step - loss: 0.2376 - accuracy: 0.9200\n",
            "Epoch 124/150\n",
            "2/2 [==============================] - 0s 6ms/step - loss: 0.2489 - accuracy: 0.9400\n",
            "Epoch 125/150\n",
            "2/2 [==============================] - 0s 6ms/step - loss: 0.1867 - accuracy: 0.9600\n",
            "Epoch 126/150\n",
            "2/2 [==============================] - 0s 8ms/step - loss: 0.2140 - accuracy: 0.9200\n",
            "Epoch 127/150\n",
            "2/2 [==============================] - 0s 8ms/step - loss: 0.2679 - accuracy: 0.9400\n",
            "Epoch 128/150\n",
            "2/2 [==============================] - 0s 10ms/step - loss: 0.1850 - accuracy: 1.0000\n",
            "Epoch 129/150\n",
            "2/2 [==============================] - 0s 9ms/step - loss: 0.2115 - accuracy: 0.9400\n",
            "Epoch 130/150\n",
            "2/2 [==============================] - 0s 8ms/step - loss: 0.1457 - accuracy: 0.9400\n",
            "Epoch 131/150\n",
            "2/2 [==============================] - 0s 10ms/step - loss: 0.1240 - accuracy: 0.9600\n",
            "Epoch 132/150\n",
            "2/2 [==============================] - 0s 14ms/step - loss: 0.1857 - accuracy: 0.9600\n",
            "Epoch 133/150\n",
            "2/2 [==============================] - 0s 9ms/step - loss: 0.1696 - accuracy: 0.9400\n",
            "Epoch 134/150\n",
            "2/2 [==============================] - 0s 13ms/step - loss: 0.0990 - accuracy: 0.9800\n",
            "Epoch 135/150\n",
            "2/2 [==============================] - 0s 5ms/step - loss: 0.1406 - accuracy: 0.9600\n",
            "Epoch 136/150\n",
            "2/2 [==============================] - 0s 10ms/step - loss: 0.1680 - accuracy: 0.9800\n",
            "Epoch 137/150\n",
            "2/2 [==============================] - 0s 7ms/step - loss: 0.1376 - accuracy: 0.9800\n",
            "Epoch 138/150\n",
            "2/2 [==============================] - 0s 12ms/step - loss: 0.1956 - accuracy: 0.9400\n",
            "Epoch 139/150\n",
            "2/2 [==============================] - 0s 8ms/step - loss: 0.1345 - accuracy: 0.9800\n",
            "Epoch 140/150\n",
            "2/2 [==============================] - 0s 9ms/step - loss: 0.2222 - accuracy: 0.9400\n",
            "Epoch 141/150\n",
            "2/2 [==============================] - 0s 8ms/step - loss: 0.0883 - accuracy: 0.9800\n",
            "Epoch 142/150\n",
            "2/2 [==============================] - 0s 8ms/step - loss: 0.2030 - accuracy: 0.9200\n",
            "Epoch 143/150\n",
            "2/2 [==============================] - 0s 8ms/step - loss: 0.2407 - accuracy: 0.9200\n",
            "Epoch 144/150\n",
            "2/2 [==============================] - 0s 9ms/step - loss: 0.1336 - accuracy: 0.9600\n",
            "Epoch 145/150\n",
            "2/2 [==============================] - 0s 8ms/step - loss: 0.1775 - accuracy: 0.9600\n",
            "Epoch 146/150\n",
            "2/2 [==============================] - 0s 12ms/step - loss: 0.1656 - accuracy: 0.9600\n",
            "Epoch 147/150\n",
            "2/2 [==============================] - 0s 8ms/step - loss: 0.1906 - accuracy: 0.9200\n",
            "Epoch 148/150\n",
            "2/2 [==============================] - 0s 16ms/step - loss: 0.1184 - accuracy: 0.9800\n",
            "Epoch 149/150\n",
            "2/2 [==============================] - 0s 8ms/step - loss: 0.0629 - accuracy: 1.0000\n",
            "Epoch 150/150\n",
            "2/2 [==============================] - 0s 8ms/step - loss: 0.1343 - accuracy: 0.9800\n"
          ]
        }
      ]
    },
    {
      "cell_type": "code",
      "metadata": {
        "id": "Pb1GZDjGRP6Q",
        "colab": {
          "base_uri": "https://localhost:8080/",
          "height": 264
        },
        "outputId": "db2865c9-dd0e-4f78-e31f-a37f2d2f8735"
      },
      "source": [
        "# Entrenamiento\n",
        "epoch_count = range(1, len(hist.history['accuracy']) + 1)\n",
        "sns.lineplot(x=epoch_count,  y=hist.history['accuracy'], label='train')\n",
        "plt.show()"
      ],
      "execution_count": 78,
      "outputs": [
        {
          "output_type": "display_data",
          "data": {
            "image/png": "[encoded data removed]",
            "text/plain": [
              "<Figure size 432x288 with 1 Axes>"
            ]
          },
          "metadata": {
            "needs_background": "light"
          }
        }
      ]
    },
    {
      "cell_type": "code",
      "metadata": {
        "id": "eTVDnrV0mDRf"
      },
      "source": [
        "# Guardar lo necesario para poder re-utilizar este modelo en el futuro\n",
        "# el vocabulario utilizado (words)\n",
        "# las posibles clases\n",
        "# el modelo\n",
        "pickle.dump(words, open('words.pkl','wb'))\n",
        "pickle.dump(classes, open('classes.pkl','wb'))\n",
        "model.save('chatbot_model.h5')"
      ],
      "execution_count": 79,
      "outputs": []
    },
    {
      "cell_type": "markdown",
      "metadata": {
        "id": "TnD1WvhBfVYR"
      },
      "source": [
        "### 6 - Testing y validación"
      ]
    },
    {
      "cell_type": "code",
      "metadata": {
        "id": "kqBdSGt8Orkm"
      },
      "source": [
        "def text_to_tokens(text): \n",
        "    lemma_tokens = []\n",
        "    tokens = nlp(preprocess_clean_text(text.lower()))\n",
        "    for token in tokens:\n",
        "        lemma_tokens.append(token.lemma_)\n",
        "    #print(lemma_tokens)\n",
        "    return lemma_tokens\n",
        "\n",
        "def bag_of_words(text, vocab): \n",
        "    tokens = text_to_tokens(text)\n",
        "    bow = [0] * len(vocab)\n",
        "    for w in tokens: \n",
        "        for idx, word in enumerate(vocab):\n",
        "            if word == w: \n",
        "                bow[idx] = 1\n",
        "    #print(bow)\n",
        "    return np.array(bow)\n",
        "\n",
        "def pred_class(text, vocab, labels): \n",
        "    bow = bag_of_words(text, vocab)\n",
        "    words_recognized = sum(bow)\n",
        "\n",
        "    return_list = []\n",
        "    if words_recognized > 0:\n",
        "        result = model.predict(np.array([bow]))[0]\n",
        "        thresh = 0.2\n",
        "        y_pred = [[idx, res] for idx, res in enumerate(result) if res > thresh]\n",
        "        y_pred.sort(key=lambda x: x[1], reverse=True)\n",
        "    \n",
        "        for r in y_pred:\n",
        "            return_list.append(labels[r[0]])\n",
        "            #print(labels[r[0]], r[1])\n",
        "\n",
        "    return return_list\n",
        "\n",
        "def get_response(intents_list, intents_json):\n",
        "    tag = intents_list[0]\n",
        "    list_of_intents = intents_json[\"intents\"]\n",
        "    for i in list_of_intents: \n",
        "        if i[\"tag\"] == tag:\n",
        "            result = \"ALTASUR: \" + random.choice(i[\"responses\"])\n",
        "            break\n",
        "    return result"
      ],
      "execution_count": 80,
      "outputs": []
    },
    {
      "cell_type": "code",
      "metadata": {
        "id": "Xp1vXQwdOvl7",
        "colab": {
          "base_uri": "https://localhost:8080/",
          "height": 867
        },
        "outputId": "cafcee4a-a9ca-4d71-81a1-c948f2d9d6e3"
      },
      "source": [
        "while True:\n",
        "    message = input(\"\")\n",
        "    intents = pred_class(message, words, classes)\n",
        "    if len(intents) > 0:\n",
        "        result = get_response(intents, dataset)\n",
        "        print(result)\n",
        "    else:\n",
        "        print(\"Perdón, no comprendo la pregunta.\")\n",
        "    "
      ],
      "execution_count": 81,
      "outputs": [
        {
          "output_type": "stream",
          "name": "stdout",
          "text": [
            "Buenas\n",
            "ALTASUR: Hola!\n",
            "Que corchos tienen\n",
            "ALTASUR: Tenemos 8 tipos distintos de corchos, puedes ver las especificaciones en https://grupoaltasur.com/productos-y-servicios/\n",
            "Podrias indicarme los precios\n",
            "ALTASUR: Para brindarte precios deberías consultarnos al +549261672577\n",
            "Envian a bodega?\n",
            "ALTASUR: Puedes encontrarnos en <dirección>\n",
            "Llevan  la bodega\n",
            "ALTASUR: Visita nuestra web https://grupoaltasur.com/ para conocer las oficinas más cercanas\n",
            "Como entregan el pedido\n",
            "ALTASUR: Todos los pedidos son entregado en las instalaciones que tú solicites\n",
            "Me podes asesorar\n",
            "ALTASUR: Por asesoramiento profesional por favor comunicarse por whatsapp al +549261672577\n",
            "Donde estan\n",
            "ALTASUR: Visita nuestra web https://grupoaltasur.com/ para conocer las oficinas más cercanas\n",
            "muchisimas gracias\n",
            "ALTASUR: De nada\n"
          ]
        },
        {
          "output_type": "error",
          "ename": "KeyboardInterrupt",
          "evalue": "ignored",
          "traceback": [
            "\u001b[0;31m---------------------------------------------------------------------------\u001b[0m",
            "\u001b[0;31mKeyboardInterrupt\u001b[0m                         Traceback (most recent call last)",
            "\u001b[0;32m/usr/local/lib/python3.7/dist-packages/ipykernel/kernelbase.py\u001b[0m in \u001b[0;36m_input_request\u001b[0;34m(self, prompt, ident, parent, password)\u001b[0m\n\u001b[1;32m    728\u001b[0m             \u001b[0;32mtry\u001b[0m\u001b[0;34m:\u001b[0m\u001b[0;34m\u001b[0m\u001b[0;34m\u001b[0m\u001b[0m\n\u001b[0;32m--> 729\u001b[0;31m                 \u001b[0mident\u001b[0m\u001b[0;34m,\u001b[0m \u001b[0mreply\u001b[0m \u001b[0;34m=\u001b[0m \u001b[0mself\u001b[0m\u001b[0;34m.\u001b[0m\u001b[0msession\u001b[0m\u001b[0;34m.\u001b[0m\u001b[0mrecv\u001b[0m\u001b[0;34m(\u001b[0m\u001b[0mself\u001b[0m\u001b[0;34m.\u001b[0m\u001b[0mstdin_socket\u001b[0m\u001b[0;34m,\u001b[0m \u001b[0;36m0\u001b[0m\u001b[0;34m)\u001b[0m\u001b[0;34m\u001b[0m\u001b[0;34m\u001b[0m\u001b[0m\n\u001b[0m\u001b[1;32m    730\u001b[0m             \u001b[0;32mexcept\u001b[0m \u001b[0mException\u001b[0m\u001b[0;34m:\u001b[0m\u001b[0;34m\u001b[0m\u001b[0;34m\u001b[0m\u001b[0m\n",
            "\u001b[0;32m/usr/local/lib/python3.7/dist-packages/jupyter_client/session.py\u001b[0m in \u001b[0;36mrecv\u001b[0;34m(self, socket, mode, content, copy)\u001b[0m\n\u001b[1;32m    802\u001b[0m         \u001b[0;32mtry\u001b[0m\u001b[0;34m:\u001b[0m\u001b[0;34m\u001b[0m\u001b[0;34m\u001b[0m\u001b[0m\n\u001b[0;32m--> 803\u001b[0;31m             \u001b[0mmsg_list\u001b[0m \u001b[0;34m=\u001b[0m \u001b[0msocket\u001b[0m\u001b[0;34m.\u001b[0m\u001b[0mrecv_multipart\u001b[0m\u001b[0;34m(\u001b[0m\u001b[0mmode\u001b[0m\u001b[0;34m,\u001b[0m \u001b[0mcopy\u001b[0m\u001b[0;34m=\u001b[0m\u001b[0mcopy\u001b[0m\u001b[0;34m)\u001b[0m\u001b[0;34m\u001b[0m\u001b[0;34m\u001b[0m\u001b[0m\n\u001b[0m\u001b[1;32m    804\u001b[0m         \u001b[0;32mexcept\u001b[0m \u001b[0mzmq\u001b[0m\u001b[0;34m.\u001b[0m\u001b[0mZMQError\u001b[0m \u001b[0;32mas\u001b[0m \u001b[0me\u001b[0m\u001b[0;34m:\u001b[0m\u001b[0;34m\u001b[0m\u001b[0;34m\u001b[0m\u001b[0m\n",
            "\u001b[0;32m/usr/local/lib/python3.7/dist-packages/zmq/sugar/socket.py\u001b[0m in \u001b[0;36mrecv_multipart\u001b[0;34m(self, flags, copy, track)\u001b[0m\n\u001b[1;32m    618\u001b[0m         \"\"\"\n\u001b[0;32m--> 619\u001b[0;31m         \u001b[0mparts\u001b[0m \u001b[0;34m=\u001b[0m \u001b[0;34m[\u001b[0m\u001b[0mself\u001b[0m\u001b[0;34m.\u001b[0m\u001b[0mrecv\u001b[0m\u001b[0;34m(\u001b[0m\u001b[0mflags\u001b[0m\u001b[0;34m,\u001b[0m \u001b[0mcopy\u001b[0m\u001b[0;34m=\u001b[0m\u001b[0mcopy\u001b[0m\u001b[0;34m,\u001b[0m \u001b[0mtrack\u001b[0m\u001b[0;34m=\u001b[0m\u001b[0mtrack\u001b[0m\u001b[0;34m)\u001b[0m\u001b[0;34m]\u001b[0m\u001b[0;34m\u001b[0m\u001b[0;34m\u001b[0m\u001b[0m\n\u001b[0m\u001b[1;32m    620\u001b[0m         \u001b[0;31m# have first part already, only loop while more to receive\u001b[0m\u001b[0;34m\u001b[0m\u001b[0;34m\u001b[0m\u001b[0;34m\u001b[0m\u001b[0m\n",
            "\u001b[0;32mzmq/backend/cython/socket.pyx\u001b[0m in \u001b[0;36mzmq.backend.cython.socket.Socket.recv\u001b[0;34m()\u001b[0m\n",
            "\u001b[0;32mzmq/backend/cython/socket.pyx\u001b[0m in \u001b[0;36mzmq.backend.cython.socket.Socket.recv\u001b[0;34m()\u001b[0m\n",
            "\u001b[0;32mzmq/backend/cython/socket.pyx\u001b[0m in \u001b[0;36mzmq.backend.cython.socket._recv_copy\u001b[0;34m()\u001b[0m\n",
            "\u001b[0;32m/usr/local/lib/python3.7/dist-packages/zmq/backend/cython/checkrc.pxd\u001b[0m in \u001b[0;36mzmq.backend.cython.checkrc._check_rc\u001b[0;34m()\u001b[0m\n",
            "\u001b[0;31mKeyboardInterrupt\u001b[0m: ",
            "\nDuring handling of the above exception, another exception occurred:\n",
            "\u001b[0;31mKeyboardInterrupt\u001b[0m                         Traceback (most recent call last)",
            "\u001b[0;32m<ipython-input-81-cf5f658f278f>\u001b[0m in \u001b[0;36m<module>\u001b[0;34m()\u001b[0m\n\u001b[1;32m      1\u001b[0m \u001b[0;32mwhile\u001b[0m \u001b[0;32mTrue\u001b[0m\u001b[0;34m:\u001b[0m\u001b[0;34m\u001b[0m\u001b[0;34m\u001b[0m\u001b[0m\n\u001b[0;32m----> 2\u001b[0;31m     \u001b[0mmessage\u001b[0m \u001b[0;34m=\u001b[0m \u001b[0minput\u001b[0m\u001b[0;34m(\u001b[0m\u001b[0;34m\"\"\u001b[0m\u001b[0;34m)\u001b[0m\u001b[0;34m\u001b[0m\u001b[0;34m\u001b[0m\u001b[0m\n\u001b[0m\u001b[1;32m      3\u001b[0m     \u001b[0mintents\u001b[0m \u001b[0;34m=\u001b[0m \u001b[0mpred_class\u001b[0m\u001b[0;34m(\u001b[0m\u001b[0mmessage\u001b[0m\u001b[0;34m,\u001b[0m \u001b[0mwords\u001b[0m\u001b[0;34m,\u001b[0m \u001b[0mclasses\u001b[0m\u001b[0;34m)\u001b[0m\u001b[0;34m\u001b[0m\u001b[0;34m\u001b[0m\u001b[0m\n\u001b[1;32m      4\u001b[0m     \u001b[0;32mif\u001b[0m \u001b[0mlen\u001b[0m\u001b[0;34m(\u001b[0m\u001b[0mintents\u001b[0m\u001b[0;34m)\u001b[0m \u001b[0;34m>\u001b[0m \u001b[0;36m0\u001b[0m\u001b[0;34m:\u001b[0m\u001b[0;34m\u001b[0m\u001b[0;34m\u001b[0m\u001b[0m\n\u001b[1;32m      5\u001b[0m         \u001b[0mresult\u001b[0m \u001b[0;34m=\u001b[0m \u001b[0mget_response\u001b[0m\u001b[0;34m(\u001b[0m\u001b[0mintents\u001b[0m\u001b[0;34m,\u001b[0m \u001b[0mdataset\u001b[0m\u001b[0;34m)\u001b[0m\u001b[0;34m\u001b[0m\u001b[0;34m\u001b[0m\u001b[0m\n",
            "\u001b[0;32m/usr/local/lib/python3.7/dist-packages/ipykernel/kernelbase.py\u001b[0m in \u001b[0;36mraw_input\u001b[0;34m(self, prompt)\u001b[0m\n\u001b[1;32m    702\u001b[0m             \u001b[0mself\u001b[0m\u001b[0;34m.\u001b[0m\u001b[0m_parent_ident\u001b[0m\u001b[0;34m,\u001b[0m\u001b[0;34m\u001b[0m\u001b[0;34m\u001b[0m\u001b[0m\n\u001b[1;32m    703\u001b[0m             \u001b[0mself\u001b[0m\u001b[0;34m.\u001b[0m\u001b[0m_parent_header\u001b[0m\u001b[0;34m,\u001b[0m\u001b[0;34m\u001b[0m\u001b[0;34m\u001b[0m\u001b[0m\n\u001b[0;32m--> 704\u001b[0;31m             \u001b[0mpassword\u001b[0m\u001b[0;34m=\u001b[0m\u001b[0;32mFalse\u001b[0m\u001b[0;34m,\u001b[0m\u001b[0;34m\u001b[0m\u001b[0;34m\u001b[0m\u001b[0m\n\u001b[0m\u001b[1;32m    705\u001b[0m         )\n\u001b[1;32m    706\u001b[0m \u001b[0;34m\u001b[0m\u001b[0m\n",
            "\u001b[0;32m/usr/local/lib/python3.7/dist-packages/ipykernel/kernelbase.py\u001b[0m in \u001b[0;36m_input_request\u001b[0;34m(self, prompt, ident, parent, password)\u001b[0m\n\u001b[1;32m    732\u001b[0m             \u001b[0;32mexcept\u001b[0m \u001b[0mKeyboardInterrupt\u001b[0m\u001b[0;34m:\u001b[0m\u001b[0;34m\u001b[0m\u001b[0;34m\u001b[0m\u001b[0m\n\u001b[1;32m    733\u001b[0m                 \u001b[0;31m# re-raise KeyboardInterrupt, to truncate traceback\u001b[0m\u001b[0;34m\u001b[0m\u001b[0;34m\u001b[0m\u001b[0;34m\u001b[0m\u001b[0m\n\u001b[0;32m--> 734\u001b[0;31m                 \u001b[0;32mraise\u001b[0m \u001b[0mKeyboardInterrupt\u001b[0m\u001b[0;34m\u001b[0m\u001b[0;34m\u001b[0m\u001b[0m\n\u001b[0m\u001b[1;32m    735\u001b[0m             \u001b[0;32melse\u001b[0m\u001b[0;34m:\u001b[0m\u001b[0;34m\u001b[0m\u001b[0;34m\u001b[0m\u001b[0m\n\u001b[1;32m    736\u001b[0m                 \u001b[0;32mbreak\u001b[0m\u001b[0;34m\u001b[0m\u001b[0;34m\u001b[0m\u001b[0m\n",
            "\u001b[0;31mKeyboardInterrupt\u001b[0m: "
          ]
        }
      ]
    },
    {
      "cell_type": "markdown",
      "metadata": {
        "id": "ayatkwp4fYQx"
      },
      "source": [
        "### 7 - Conclusiones\n",
        "Inicialmente se probó con 2 capas densas y luego al agregar la tercera capa el número de epoch se redujo a 150 o incluso puede ser menor.\n",
        "Se puede apreciar como no importan los signos de puntuación y/o mayúsculas"
      ]
    },
    {
      "cell_type": "code",
      "metadata": {
        "id": "mb2V59qUsuet"
      },
      "source": [
        ""
      ],
      "execution_count": null,
      "outputs": []
    }
  ]
}